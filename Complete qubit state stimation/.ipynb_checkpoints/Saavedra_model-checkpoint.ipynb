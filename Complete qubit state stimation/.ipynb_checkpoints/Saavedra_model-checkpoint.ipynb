{
 "cells": [
  {
   "cell_type": "markdown",
   "id": "tight-mason",
   "metadata": {},
   "source": [
    "## Optimization and quantum simulation of a model for partial and complete qubit state estimation\n",
    "\n",
    "This Jupyter notebook has a brief but also complete application of the method proposed by Saavedra and Romero [Saavedra](https://doi.org/10.1103/PhysRevA.99.042130) for doing complete qubit state tomography.\n",
    "\n",
    "First we are setting up the problem. Here we want to estimate the three components of the Bloch vector that describes the initial state of a qubit $S$ without measuring the qubit itself. This can be done by using two auxiliary qubits, which we are going to call meters $A$ and $B$. These two meters interact with the qubit of interest in a way that, when we measure them, we can estimate the three components of the Bloch vector that describes the initial state of the qubit $S$.\n",
    "\n",
    "for practical purposes of this notebook, the interaction between the qubits $S$, $A$ and $B$ is not going to be developed in detail. The main result is that the interaction can be written in terms of a Hamiltonian\n",
    "\n",
    "$$H  = \\left(\\lambda_A\\Pi^S_1 \\otimes \\Pi^A_1 \\otimes I^B + \\lambda_B \\Pi^S_{+} \\otimes I^A \\otimes \\Pi^B_1 \\right),$$\n",
    "\n",
    "where $\\Pi_k^M = |k^M\\rangle\\langle k^M|$, with $k=1,+$ and $M=A,B$; $I_A$ and $I_B$ are identity operators associated to the Hilbert spaces of meters $A$ and $B$, respectively; and $\\lambda_A$, $\\lambda_B$ are constants. \n",
    "Here, $|{+}\\rangle$ and $|{-}\\rangle$ are the eigenstates of $\\sigma_x.$\n",
    "The corresponding time evolution operator, at time $T$, \n",
    "\n",
    "$$\tU(\\theta_A,\\theta_B) = e^{-iHT/\\hbar} =  \\exp\\left[-\\frac{i}{\\hbar}\\int_{0}^{T} H(t) dt\\right]=\\exp\\left(-i\\theta_A\\Pi^S_0 \\otimes \\Pi^A_0 \\otimes I^B - i\\theta_B \\Pi^S_{+} \\otimes I^A \\otimes \\Pi^B_0\\right)$$\n",
    "\n",
    "depends on the parameters $\\theta_A =(\\lambda_A T/\\hbar)$ and $\\theta_B = (\\lambda_B T/\\hbar)$.\n",
    "With this in mind. We have enough tools for starting the implementation of this model in a quantum computer in order to see its performance in real quantum devices.\n",
    "\n",
    "We first start by importing some libraries that we are going to use for the development of this project.\n"
   ]
  },
  {
   "cell_type": "code",
   "execution_count": 9,
   "id": "bored-dryer",
   "metadata": {},
   "outputs": [
    {
     "name": "stderr",
     "output_type": "stream",
     "text": [
      "ibmqfactory.load_account:WARNING:2022-03-14 18:03:25,184: Credentials are already in use. The existing account in the session will be replaced.\n"
     ]
    }
   ],
   "source": [
    "## Imports can be seen in the imports.ipynb file\n",
    "%run imports.ipynb\n",
    "IBMQ.load_account()\n",
    "pi = np.pi"
   ]
  },
  {
   "cell_type": "markdown",
   "id": "returning-broadcasting",
   "metadata": {},
   "source": [
    "### Qubits initialization\n",
    "\n",
    "For this simulation, first, we have to initialize the qubits that we are going to use. In this case the $A$ and $B$ meters have to be initialized in the state $|+\\rangle = \\frac{1}{\\sqrt{2}}\\left(|0\\rangle + |1\\rangle\\right)$. On the other hand, the qubit $S$ is initialized in an arbitrary state. This state can be parametrized in terms of the angles of a $U$ gate,\n",
    "$$U_{gate}(\\theta,\\phi,\\lambda) = \\begin{pmatrix}\n",
    "\\cos(\\theta/2) & -e^{i\\lambda}\\sin(\\theta/2) \\\\\n",
    "e^{i\\phi}\\sin(\\theta/2) & e^{i\\lambda + i\\phi}\\cos(\\theta/2) \n",
    "\\end{pmatrix} .$$\n",
    "So we define the initialization function."
   ]
  },
  {
   "cell_type": "code",
   "execution_count": 2,
   "id": "certified-queen",
   "metadata": {},
   "outputs": [],
   "source": [
    "def Initialization(angles = [0,0,0]):\n",
    "    \n",
    "    qr = QuantumRegister(3)\n",
    "    qc = QuantumCircuit(qr)\n",
    "\n",
    "    #Initialice qubits\n",
    "    qc.h(qr[0])                                    #A meter\n",
    "    qc.h(qr[2])                                    #B meter\n",
    "    qc.u(angles[0],angles[1],angles[2],[qr[1]])    #System\n",
    "    \n",
    "    Init_gate = qc.to_gate()\n",
    "    Init_gate.name= \"Initialization\"\n",
    "    \n",
    "    return Init_gate"
   ]
  },
  {
   "cell_type": "markdown",
   "id": "explicit-arrival",
   "metadata": {},
   "source": [
    "### Evolution operator\n",
    "\n",
    "Now we have to implement the evolution operator. Since we are using qiskit for this simulation. We are going to use the qiskit `HamiltonianGate` class for defining a set of quantum gates that represent the time evolution operator."
   ]
  },
  {
   "cell_type": "code",
   "execution_count": 3,
   "id": "outer-biodiversity",
   "metadata": {},
   "outputs": [],
   "source": [
    "def U_operator(thA,thB):\n",
    "\n",
    "    qr = QuantumRegister(3)\n",
    "    qc = QuantumCircuit(qr)\n",
    "    \n",
    "    #####==================================#####\n",
    "    #####=========== Hamiltonian ==========#####\n",
    "    #####==================================#####\n",
    "    \n",
    "    ## H is A x S x B\n",
    "    \n",
    "    HA=np.matrix([[0,0,0,0,0,0,0,0],[0,0,0,0,0,0,0,0],[0,0,0,0,0,0,0,0],[0,0,0,0,0,0,0,0],[0,0,0,0,0,0,0,0],[0,0,0,0,0,0,0,0],[0,0,0,0,0,0,thA,0],[0,0,0,0,0,0,0,thA]])\n",
    "    HB=np.matrix([[0,0,0,0,0,0,0,0],[0,thB,0,thB,0,0,0,0],[0,0,0,0,0,0,0,0],[0,thB,0,thB,0,0,0,0],[0,0,0,0,0,0,0,0],[0,0,0,0,0,thB,0,thB],[0,0,0,0,0,0,0,0],[0,0,0,0,0,thB,0,thB]])\n",
    "\n",
    "    H=HA+HB\n",
    "    \n",
    "    ## We take T = 1 so then the interaction parameters are actually the angles \\theta_{A} and \\theta_{B}\n",
    "    U=Operator(qiskit.extensions.HamiltonianGate(H, 1))\n",
    "    \n",
    "    qc.append(U,[0,1,2])\n",
    "    \n",
    "    U_gate=qc.to_gate()\n",
    "    U_gate.name=\"U Operator\"\n",
    "\n",
    "    return U_gate    "
   ]
  },
  {
   "cell_type": "markdown",
   "id": "canadian-plane",
   "metadata": {},
   "source": [
    "### Qubit state estimation\n",
    "Now we have to do the estimation of the Bloch vector that describes the initial state of the qubit $S$. For this we are going to introduce the theoretical model briefly. First we have to change the basis where we are going to measure the meters $A$ and $B$.\n",
    "After measuring we will find a set of counts of the four possible states, whose probabilities are going to be saved in a vector $\\textbf{P} = (p_{00},p_{01},p_{10},p_{11})^T$. Then, whith this results, we now have to decompose the evolution operator in order to build the measurement matrix which will allows us to do the state estimation. We can use the completeness relation to decompose the evolution operator acting over the three qubits by \n",
    "$$\\begin{aligned} |\\Psi(T)\\rangle &= U |\\psi_0^S\\rangle\\otimes |+^A\\rangle \\otimes |+^B\\rangle \\\\\n",
    "&= \\frac{1}{2}\\sum_{ij=0,1}U_{ij} |\\psi_0^S\\rangle |i^A j^B\\rangle .\\end{aligned}$$\n",
    "\n",
    "Here $i$ and $j$ are related to the results obtained for the measurement of the meter $A$ and $B$ respectively.\n",
    "Now we have to define three operators that we called $A$, $B$, and $C$. This operators will be important for the definition of the measurement matrix. they have the form\n",
    "\n",
    "$$A = \\frac{1}{16}\\sum_{ij}U_{ij}^\\dagger U_{-ij}$$\n",
    "$$B = \\frac{1}{16}\\sum_{ij}U_{ij}^\\dagger U_{i -j}$$\n",
    "$$C = \\frac{1}{16}\\sum_{ij}U_{ij}^\\dagger U_{-i-j}$$\n",
    "\n",
    "The minus sign indicates a negation of the result, so, if $i = 0$ then $ -i = 1$.\n",
    "\n",
    "With this we can define some auxiliary vectors \n",
    "$$a_\\mu = \\frac{1}{2}Tr[A\\sigma_\\mu],$$\n",
    "$$b_\\mu = \\frac{1}{2}Tr[B\\sigma_\\mu],$$\n",
    "$$c_\\mu = \\frac{1}{2}Tr[C\\sigma_\\mu].$$\n",
    "Where $\\sigma_\\mu = (1,\\sigma_x,\\sigma_y,\\sigma_z).$\n",
    "\n",
    "The probability $p_{kl}$ that meters A and B are detected in states $|k^A\\rangle$ and $|{l^A}\\rangle$, respectively, $k,l=\\pm = \\{0,1\\},$ here $0$ represents the $-$ state and 1 represents the $+$ state, is\n",
    "$$p_{kl} =  \\frac{1}{4}s_0+\\sum_{\\mu = 1}^{3}\\left(a_\\mu k + b_\\mu l + c_\\mu kl\\right) s_\\mu.$$\n",
    "\n",
    "This relation can be written in the form $\\textbf{P}^T = \\mathbb{T}\\textbf{S}$. With $\\textbf{S} = (s_0,s_x,s_y,s_z)$, here $s_x, s_y, s_z$ are the components of the Bloch vector that represents the initial state od the qubit $S$.\n",
    "\n",
    "Inverting this relation we can estimate the initial state of the qubit $S$ by\n",
    "\n",
    "$$\\textbf{S} = \\mathbb{T}^{-1}\\textbf{P}. $$\n",
    "\n",
    "The matrix $\\mathbb{T}$ is known as the measurement matrix. If the determinant of this matrix is different from $0$, then we can do the state tomography. So we have to be sure that this condition is satisfied befor doing the estimation. Now we are going to define this matrix and do the qubit state estimation.\n",
    "\n"
   ]
  },
  {
   "cell_type": "code",
   "execution_count": 6,
   "id": "pharmaceutical-messaging",
   "metadata": {},
   "outputs": [],
   "source": [
    "def U_matrix(thA,thB):\n",
    "    ## Definimos los qubits sobre los que actúa la compuerta\n",
    "    A = QuantumRegister(1,'a')\n",
    "    S = QuantumRegister(1,'s')\n",
    "    B = QuantumRegister(1,'b')\n",
    "    cr = ClassicalRegister(3)\n",
    "\n",
    "    ## Ejecutamos la compuerta sobre estos regitros\n",
    "    qc = QuantumCircuit(A,S,B, cr)\n",
    "    qc.append(U_operator(thA,thB),[A,S,B])\n",
    "\n",
    "    ## Usamos el simulador de IBM para obtener la matriz asociada al operador\n",
    "    backend = BasicAer.get_backend('unitary_simulator')\n",
    "    job = execute(qc, backend)\n",
    "    U = job.result().get_unitary(qc)\n",
    "    return U\n",
    "\n",
    "def T_matrix(U):\n",
    "    \n",
    "    ## we define the U_{ij} operators\n",
    "    U_00 = np.matrix(np.array([[U[0,0],U[0,2]],[U[2,0],U[2,2]]]) + np.array([[U[0,1],U[0,3]],[U[2,1],U[2,3]]]) + np.array([[U[0,4],U[0,6]],[U[2,4],U[2,6]]]) + np.array([[U[0,5],U[0,7]],[U[2,5],U[2,7]]]))\n",
    "    U_01 = np.matrix(np.array([[U[1,0],U[1,2]],[U[3,0],U[3,2]]]) + np.array([[U[1,1],U[1,3]],[U[3,1],U[3,3]]]) + np.array([[U[1,4],U[1,6]],[U[3,4],U[3,6]]]) + np.array([[U[1,5],U[1,7]],[U[3,5],U[3,7]]]))\n",
    "    U_10 = np.matrix(np.array([[U[4,0],U[4,2]],[U[6,0],U[6,2]]]) + np.array([[U[4,1],U[4,3]],[U[6,1],U[6,3]]]) + np.array([[U[4,4],U[4,6]],[U[6,4],U[6,6]]]) + np.array([[U[4,5],U[4,7]],[U[6,5],U[6,7]]]))\n",
    "    U_11 = np.matrix(np.array([[U[5,0],U[5,2]],[U[7,0],U[7,2]]]) + np.array([[U[5,1],U[5,3]],[U[7,1],U[7,3]]]) + np.array([[U[5,4],U[5,6]],[U[7,4],U[7,6]]]) + np.array([[U[5,5],U[5,7]],[U[7,5],U[7,7]]]))\n",
    "\n",
    "    ## and theyr adjoints\n",
    "    U_00d = U_00.getH()\n",
    "    U_01d = U_01.getH()\n",
    "    U_10d = U_10.getH()\n",
    "    U_11d = U_11.getH()\n",
    "        \n",
    "    ## The auxiliary operators A and B\n",
    "    A = 1/16*(np.matmul(U_00d,U_10) + np.matmul(U_01d,U_11) + np.matmul(U_10d,U_00) + np.matmul(U_11d,U_01))\n",
    "    B = 1/16*(np.matmul(U_00d,U_01) + np.matmul(U_01d,U_00) + np.matmul(U_10d,U_11) + np.matmul(U_11d,U_10))\n",
    "    C = 1/16*(np.matmul(U_00d,U_11) + np.matmul(U_01d,U_10) + np.matmul(U_10d,U_01) + np.matmul(U_11d,U_00))\n",
    "    \n",
    "    ## We define the Pauli matrices and the identiry\n",
    "    X = np.matrix([[0,1],[1,0]])\n",
    "    Y = np.matrix([[0,-complex(0,1)],[complex(0,1),0]])\n",
    "    Z = np.matrix([[1,0],[0,-1]])\n",
    "    I = np.matrix([[1,0],[0,1]])\n",
    "\n",
    "    ## We evaluate the components of the a_\\mu, b_\\mu and c_\\mu vectors\n",
    "    a0 = 0.5*np.trace(np.matmul(A,I))\n",
    "    a1 = 0.5*np.trace(np.matmul(A,X))\n",
    "    a2 = 0.5*np.trace(np.matmul(A,Y))\n",
    "    a3 = 0.5*np.trace(np.matmul(A,Z))\n",
    "\n",
    "    b0 = 0.5*np.trace(np.matmul(B,I))\n",
    "    b1 = 0.5*np.trace(np.matmul(B,X))\n",
    "    b2 = 0.5*np.trace(np.matmul(B,Y))\n",
    "    b3 = 0.5*np.trace(np.matmul(B,Z))\n",
    "\n",
    "    c0 = 0.5*np.trace(np.matmul(C,I))\n",
    "    c1 = 0.5*np.trace(np.matmul(C,X))\n",
    "    c2 = 0.5*np.trace(np.matmul(C,Y))\n",
    "    c3 = 0.5*np.trace(np.matmul(C,Z))\n",
    "    \n",
    "    T = np.matrix([[0.25+a0+b0+c0, a1+b1+c1, a2+b2+c2, a3+b3+c3],[0.25+a0-b0-c0, a1-b1-c1, a2-b2-c2, a3-b3-c3],[0.25-a0+b0-c0, -a1+b1-c1, -a2+b2-c2, -a3+b3-c3],[0.25-a0-b0+c0, -a1-b1+c1, -a2-b2+c2, -a3-b3+c3]])\n",
    "    return T\n"
   ]
  },
  {
   "cell_type": "markdown",
   "id": "rising-torture",
   "metadata": {},
   "source": [
    "Now, given a set of parameters $\\theta_A$ and $\\theta_B$ we can evaluate if it is possible or note to do the qubit state tomography"
   ]
  },
  {
   "cell_type": "code",
   "execution_count": 11,
   "id": "everyday-guinea",
   "metadata": {},
   "outputs": [
    {
     "name": "stdout",
     "output_type": "stream",
     "text": [
      "It is possible to do qubit state tomography\n"
     ]
    }
   ],
   "source": [
    "thA = pi\n",
    "thB = pi/2\n",
    "U = U_matrix(thA,thB)\n",
    "T = T_matrix(U)\n",
    "T_det = np.abs(np.linalg.det(T))\n",
    "if (T_det == 0):\n",
    "    print('It is not possible to do complete qubit state tomography')\n",
    "else:\n",
    "    print('It is possible to do qubit state tomography!')"
   ]
  },
  {
   "cell_type": "markdown",
   "id": "paperback-header",
   "metadata": {},
   "source": [
    "## Implementation of the model and performance in a quantum computer\n",
    "\n",
    "We have already set up all the necessary tools for implementing this model in a quantum circuit using qiskit and even test its performance in a real quantum device. We first define the circuit of this problem.\n"
   ]
  },
  {
   "cell_type": "code",
   "execution_count": 22,
   "id": "breathing-cause",
   "metadata": {},
   "outputs": [],
   "source": [
    "## Definition of the evolution operator parameters\n",
    "thA, thB = np.random.uniform(-2*pi,2*pi),np.random.uniform(-2*pi,2*pi) \n",
    "\n",
    "## Initial angles of the rotation that defines the initial state of the qubit S\n",
    "angle_i=[pi/2,0,0]\n",
    "\n",
    "## Quantum registers of the A, B and S qubits\n",
    "A = QuantumRegister(1,'a')\n",
    "S = QuantumRegister(1,'s')\n",
    "B = QuantumRegister(1,'b')\n",
    "cr = ClassicalRegister(3)\n",
    "\n",
    "## Circuit initialization\n",
    "tomography_circuit = QuantumCircuit(A,S,B, cr)\n",
    "\n",
    "## We initialize our qubits\n",
    "tomography_circuit.append(Initialization(angle_i),[A,S,B])\n",
    "tomography_circuit.barrier()\n",
    "\n",
    "## Apply the evolution operator\n",
    "tomography_circuit.append(U_operator(thA,thB),[A,S,B])\n",
    "tomography_circuit.barrier()\n",
    "\n",
    "## Change the measurement basis\n",
    "tomography_circuit.h(A)                     #A\n",
    "tomography_circuit.h(B)                     #B\n",
    "tomography_circuit.barrier()\n",
    "\n",
    "## Measurement of the A and B meters\n",
    "tomography_circuit.measure(A,cr[0])         #A\n",
    "tomography_circuit.measure(B,cr[2])         #B\n",
    " \n",
    "\n",
    "base_tomography_circuit = transpile(tomography_circuit,basis_gates=['rz','cx','id','sx','x','h','u','cp'],optimization_level=0) #gates CX, ID, RZ, SX, X\n",
    "transpile_tomography_circuit = transpile(tomography_circuit,basis_gates=['cx','id','rz','sx','x'],optimization_level=3)\n",
    "circuit = base_tomography_circuit.draw(output='mpl')\n",
    "tomography_circuit.draw(output='latex').save('tomography_circuit.png')"
   ]
  },
  {
   "cell_type": "markdown",
   "id": "nasty-preparation",
   "metadata": {},
   "source": [
    "The circuit used for the quantum state tomography can visualized as follows\n",
    "<img src=\"tomography_circuit.png\" width = 600px>\n",
    "\n",
    "As you can see each part is divided by a barrier, the four parts of the circuit are essentially\n",
    "1. Qubits initialization.\n",
    "2. Application of the evolution operator.\n",
    "3. Change of the measurement basis of the qubits $A$ and $B$.\n",
    "4. Measurement of the meters.\n",
    "\n",
    "Now we execute the circuit in a local simulator to see if the model works for doing qubit state tomography."
   ]
  },
  {
   "cell_type": "code",
   "execution_count": 25,
   "id": "extended-segment",
   "metadata": {},
   "outputs": [
    {
     "data": {
      "image/png": "[encoded data removed]",
      "text/plain": [
       "<Figure size 504x360 with 1 Axes>"
      ]
     },
     "execution_count": 25,
     "metadata": {},
     "output_type": "execute_result"
    }
   ],
   "source": [
    "## Simulation of the circuit\n",
    "simulator = Aer.get_backend('qasm_simulator')\n",
    "\n",
    "shots = 2048\n",
    "\n",
    "Sim_result_tomography_circuit=execute(tomography_circuit, backend=simulator,shots=shots).result()\n",
    "\n",
    "Sim_result_counts_tomography_circuit=Sim_result_tomography_circuit.get_counts(tomography_circuit)\n",
    "\n",
    "plt = plot_histogram(Sim_result_counts_tomography_circuit)\n",
    "plt.savefig('test_circuit.png',dpi=1200)\n",
    "plt"
   ]
  },
  {
   "cell_type": "code",
   "execution_count": 32,
   "id": "commercial-nowhere",
   "metadata": {},
   "outputs": [
    {
     "name": "stdout",
     "output_type": "stream",
     "text": [
      "[0.8589000896914534, -0.04223539616823646, -0.05770397712652464]\n"
     ]
    }
   ],
   "source": [
    "## We build the vector P\n",
    "p00_test = Sim_result_counts_tomography_circuit['000']/shots\n",
    "p01_test = Sim_result_counts_tomography_circuit['001']/shots\n",
    "p10_test = Sim_result_counts_tomography_circuit['100']/shots\n",
    "p11_test = Sim_result_counts_tomography_circuit['101']/shots\n",
    "\n",
    "p_test = [p00_test,p01_test,p10_test,p11_test]\n",
    "\n",
    "U = U_matrix(thA, thB)\n",
    "T = T_matrix(U)\n",
    "s = np.array(np.matmul(np.linalg.inv(T),p_sim))\n",
    "\n",
    "s1=s[0,1].real\n",
    "s2=s[0,2].real\n",
    "s3=s[0,3].real\n",
    "\n",
    "s_test = [s1,s2,s3]\n",
    "\n",
    "print(s_test)"
   ]
  },
  {
   "cell_type": "markdown",
   "id": "normal-knock",
   "metadata": {},
   "source": [
    "For comparing the estimation with the initial state of the qubit $S$ we will calculate the fidelity between this quantum states and we are going to graph them in the bloch sphere. The fidelity will be defined as $\\mathcal{F} (\\rho_0^S,\\rho_e^S) = Tr[\\sqrt{\\sqrt{\\rho_0^S} \\rho_e^S \\sqrt{\\rho_0^S}}]^2$, if the states are pure it can be reduced to $\\mathcal{F}(\\rho_0^S,\\rho_e^S) = |\\langle{\\psi_0^S|\\psi_e^S}\\rangle|^2.$\n",
    "First we have to transform the bloch vector into a qubit state of the form $|\\psi\\rangle = \\alpha|0\\rangle + \\beta |1\\rangle. $"
   ]
  },
  {
   "cell_type": "code",
   "execution_count": 45,
   "id": "modular-noise",
   "metadata": {},
   "outputs": [],
   "source": [
    "def bloch_vector_to_state(s):\n",
    "    ## We transform the bloch vector into a qubit state\n",
    "    s1 = s[0]\n",
    "    s2 = s[1]\n",
    "    s3 = s[2]\n",
    "    \n",
    "    if (s3>0):\n",
    "        th=np.arctan(np.sqrt(s1*s1 + s2*s2)/s3)\n",
    "    elif (s3 == 0):\n",
    "        th = pi/2\n",
    "    elif (s3 < 0):\n",
    "        th=np.arctan(np.sqrt(s1*s1 + s2*s2)/s3) + pi\n",
    "\n",
    "    if (s1>0 and s2>0):\n",
    "        phi = np.arctan(s2/s1)\n",
    "    elif (s1>0 and s2<0):\n",
    "        phi = np.arctan(s2/s1) + 2*pi\n",
    "    elif (s1 == 0):\n",
    "        phi = pi/2*np.sign(s2)\n",
    "    elif (s1<0):\n",
    "        phi = np.arctan(s2/s1) + pi\n",
    "\n",
    "    ## We write the alpha and beta amplitudes\n",
    "    alpha = np.cos(th/2)\n",
    "    beta = (np.cos(phi) + complex(0,1)*np.sin(phi))*np.sin(th/2)\n",
    "    \n",
    "    state = [alpha,beta]\n",
    "    return state\n",
    "\n",
    "def init_ang_to_bloch_vector(angles):\n",
    "    \n",
    "    th, phi, lam = angles\n",
    "    \n",
    "    s = np.array([np.sin(th)*np.cos(phi), np.sin(th)*np.sin(phi), np.cos(th)])\n",
    "    \n",
    "    return s\n",
    "\n",
    "estim_state = bloch_vector_to_state(s_test)\n",
    "\n",
    "plot_est_test = plot_bloch_vector(s_test, title=\"Estimated state\")\n",
    "plot_est_test.savefig('estimation_test.png')"
   ]
  },
  {
   "cell_type": "markdown",
   "id": "arranged-element",
   "metadata": {},
   "source": [
    "Now we find the $\\alpha$ and $\\beta$ component of the initial state of the qubit $S$ from its initialization"
   ]
  },
  {
   "cell_type": "code",
   "execution_count": 46,
   "id": "genetic-applicant",
   "metadata": {},
   "outputs": [
    {
     "name": "stdout",
     "output_type": "stream",
     "text": [
      "The fidelity betwee the initial state and its estimation is:  0.9982760331431557\n"
     ]
    }
   ],
   "source": [
    "## Initialize a 1 qubit circuit\n",
    "qr = QuantumRegister(1)\n",
    "cr = ClassicalRegister(1)\n",
    "\n",
    "qc_i = QuantumCircuit(qr,cr)\n",
    "\n",
    "## Use the U rotation that we used for initializing the qubit S\n",
    "qc_i.u(angle_i[0],angle_i[1],angle_i[2],qr[0])\n",
    "\n",
    "backend = BasicAer.get_backend('statevector_simulator') \n",
    "result = execute(qc_i, backend).result()\n",
    "\n",
    "## Take the statevector\n",
    "initial_state  = result.get_statevector(qc_i)\n",
    "\n",
    "## Calculate the fidelity\n",
    "\n",
    "fidelity = quantum_info.state_fidelity(initial_state,estim_state)\n",
    "\n",
    "ideal_plot = plot_bloch_multivector(initial_state,title=\"Initial S state\")\n",
    "\n",
    "ideal_plot.savefig('initial_test.png')\n",
    "\n",
    "print('The fidelity betwee the initial state and its estimation is: ',fidelity)"
   ]
  },
  {
   "cell_type": "markdown",
   "id": "arctic-indicator",
   "metadata": {},
   "source": [
    "We now print the bloch spheres of these states\n",
    "<div class=\"row\">\n",
    "  <div class=\"column\">\n",
    "    <img src=\"estimation_test.png\" alt=\"Snow\" width=\"200px\">\n",
    "  </div>\n",
    "  <div class=\"column\">\n",
    "    <img src=\"initial_test.png\" alt=\"Forest\" width=\"200px\">\n",
    "  </div>\n",
    "</div>"
   ]
  },
  {
   "cell_type": "code",
   "execution_count": 49,
   "id": "designed-sending",
   "metadata": {},
   "outputs": [],
   "source": [
    "plot_bloch_vector(s_test, title=\"Estimated state\").savefig(\"estimation.png\")"
   ]
  },
  {
   "cell_type": "markdown",
   "id": "embedded-overhead",
   "metadata": {},
   "source": [
    "<img src=\"estimation.png\">"
   ]
  },
  {
   "cell_type": "code",
   "execution_count": null,
   "id": "pressing-surfing",
   "metadata": {},
   "outputs": [],
   "source": []
  }
 ],
 "metadata": {
  "kernelspec": {
   "display_name": "Python 3",
   "language": "python",
   "name": "python3"
  },
  "language_info": {
   "codemirror_mode": {
    "name": "ipython",
    "version": 3
   },
   "file_extension": ".py",
   "mimetype": "text/x-python",
   "name": "python",
   "nbconvert_exporter": "python",
   "pygments_lexer": "ipython3",
   "version": "3.8.10"
  }
 },
 "nbformat": 4,
 "nbformat_minor": 5
}
