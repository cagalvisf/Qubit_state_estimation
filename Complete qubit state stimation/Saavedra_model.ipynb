{
 "cells": [
  {
   "cell_type": "markdown",
   "id": "tight-mason",
   "metadata": {},
   "source": [
    "## Optimization and quantum simulation of a model for partial and complete qubit state estimation\n",
    "\n",
    "This Jupyter notebook has a brief but also complete application of the method proposed by [Saavedra and Romero](https://doi.org/10.1103/PhysRevA.99.042130) for doing complete qubit state tomography.\n",
    "\n",
    "First we are setting up the problem. Here we want to estimate the three components of the Bloch vector that describes the initial state of a qubit $S$ without measuring the qubit itself. This can be done by using two auxiliary qubits, which we are going to call meters $A$ and $B$. These two meters interact with the qubit of interest in a way that, when we measure them, we can estimate the three components of the Bloch vector that describes the initial state of the qubit $S$.\n",
    "\n",
    "For practical purposes of this notebook, the interaction between the qubits $S$, $A$ and $B$ is not going to be developed in detail. The main result is that the interaction can be written in terms of a Hamiltonian\n",
    "\n",
    "$$H  = \\left(\\lambda_A\\Pi^S_1 \\otimes \\Pi^A_1 \\otimes I^B + \\lambda_B \\Pi^S_{+} \\otimes I^A \\otimes \\Pi^B_1 \\right),$$\n",
    "\n",
    "where $\\Pi_k^M = |k^M\\rangle\\langle k^M|$, with $k=1,+$ and $M=A,B$; $I_A$ and $I_B$ are identity operators associated to the Hilbert spaces of meters $A$ and $B$, respectively; and $\\lambda_A$, $\\lambda_B$ are constants. \n",
    "Here, $|{+}\\rangle$ and $|{-}\\rangle$ are the eigenstates of $\\sigma_x.$\n",
    "The corresponding time evolution operator, at time $T$, \n",
    "\n",
    "$$\tU(\\theta_A,\\theta_B) = e^{-iHT/\\hbar} =  \\exp\\left[-\\frac{i}{\\hbar}\\int_{0}^{T} H(t) dt\\right]=\\exp\\left(-i\\theta_A\\Pi^S_0 \\otimes \\Pi^A_0 \\otimes I^B - i\\theta_B \\Pi^S_{+} \\otimes I^A \\otimes \\Pi^B_0\\right)$$\n",
    "\n",
    "depends on the parameters $\\theta_A =(\\lambda_A T/\\hbar)$ and $\\theta_B = (\\lambda_B T/\\hbar)$.\n",
    "With this in mind. We have enough tools for starting the implementation of this model in a quantum computer in order to see its performance in real quantum devices.\n",
    "\n",
    "We first start by importing some libraries that we are going to use for the development of this project.\n"
   ]
  },
  {
   "cell_type": "code",
   "execution_count": 45,
   "id": "bored-dryer",
   "metadata": {},
   "outputs": [
    {
     "name": "stderr",
     "output_type": "stream",
     "text": [
      "ibmqfactory.load_account:WARNING:2022-03-22 20:02:41,124: Credentials are already in use. The existing account in the session will be replaced.\n"
     ]
    }
   ],
   "source": [
    "## Imports can be seen in the imports.ipynb file\n",
    "%run imports.ipynb\n",
    "IBMQ.load_account()\n",
    "pi = np.pi\n",
    "j = complex(0,1)"
   ]
  },
  {
   "cell_type": "markdown",
   "id": "returning-broadcasting",
   "metadata": {},
   "source": [
    "### Qubits initialization\n",
    "\n",
    "For this simulation, first, we have to initialize the qubits that we are going to use. In this case the $A$ and $B$ meters have to be initialized in the state $|+\\rangle = \\frac{1}{\\sqrt{2}}\\left(|0\\rangle + |1\\rangle\\right)$. On the other hand, the qubit $S$ is initialized in an arbitrary state $|\\psi^S\\rangle = c_0|0\\rangle + c_1 |1\\rangle$. This state can be parametrized in terms of the angles of a $U$ gate,\n",
    "$$U_{gate}(\\theta,\\phi,\\lambda) = \\begin{pmatrix}\n",
    "\\cos(\\theta/2) & -e^{i\\lambda}\\sin(\\theta/2) \\\\\n",
    "e^{i\\phi}\\sin(\\theta/2) & e^{i\\lambda + i\\phi}\\cos(\\theta/2) \n",
    "\\end{pmatrix} .$$\n",
    "So we define the initialization function."
   ]
  },
  {
   "cell_type": "code",
   "execution_count": 2,
   "id": "certified-queen",
   "metadata": {},
   "outputs": [],
   "source": [
    "def Initialization(angles = [0,0,0]):\n",
    "    \n",
    "    qr = QuantumRegister(3)\n",
    "    qc = QuantumCircuit(qr)\n",
    "\n",
    "    #Initialice qubits\n",
    "    qc.h(qr[0])                                    #A meter\n",
    "    qc.h(qr[2])                                    #B meter\n",
    "    qc.u(angles[0],angles[1],angles[2],[qr[1]])    #System\n",
    "    \n",
    "    Init_gate = qc.to_gate()\n",
    "    Init_gate.name= \"Initialization\"\n",
    "    \n",
    "    return Init_gate"
   ]
  },
  {
   "cell_type": "markdown",
   "id": "explicit-arrival",
   "metadata": {},
   "source": [
    "### Evolution operator\n",
    "\n",
    "Now we have to implement the evolution operator. Since we are using qiskit for this simulation. We are going to use the qiskit `HamiltonianGate` class for defining a set of quantum gates that represent the time evolution operator."
   ]
  },
  {
   "cell_type": "code",
   "execution_count": 3,
   "id": "outer-biodiversity",
   "metadata": {},
   "outputs": [],
   "source": [
    "def U_operator(th_A,th_B):\n",
    "\n",
    "    qr = QuantumRegister(3)\n",
    "    qc = QuantumCircuit(qr)\n",
    "    \n",
    "    #####==================================#####\n",
    "    #####=========== Hamiltonian ==========#####\n",
    "    #####==================================#####\n",
    "    \n",
    "    ## H is A x S x B\n",
    "    \n",
    "    HA=np.matrix([[0,0,0,0,0,0,0,0],[0,0,0,0,0,0,0,0],[0,0,0,0,0,0,0,0],[0,0,0,0,0,0,0,0],[0,0,0,0,0,0,0,0],[0,0,0,0,0,0,0,0],[0,0,0,0,0,0,th_A,0],[0,0,0,0,0,0,0,th_A]])\n",
    "    HB=np.matrix([[0,0,0,0,0,0,0,0],[0,th_B,0,th_B,0,0,0,0],[0,0,0,0,0,0,0,0],[0,th_B,0,th_B,0,0,0,0],[0,0,0,0,0,0,0,0],[0,0,0,0,0,th_B,0,th_B],[0,0,0,0,0,0,0,0],[0,0,0,0,0,th_B,0,th_B]])\n",
    "\n",
    "    H=HA+HB\n",
    "    \n",
    "    ## We take T = 1 so then the interaction parameters are actually the angles \\theta_{A} and \\theta_{B}\n",
    "    U=Operator(qiskit.extensions.HamiltonianGate(H, 1))\n",
    "    \n",
    "    qc.append(U,[0,1,2])\n",
    "    \n",
    "    U_gate=qc.to_gate()\n",
    "    U_gate.name=\"U Operator\"\n",
    "\n",
    "    return U_gate    "
   ]
  },
  {
   "cell_type": "markdown",
   "id": "canadian-plane",
   "metadata": {},
   "source": [
    "### Qubit state estimation\n",
    "Now we have to do the estimation of the Bloch vector that describes the initial state of the qubit $S$. For this we are going to introduce the theoretical model briefly. First we have to change the basis where we are going to measure the meters $A$ and $B$.\n",
    "After measuring we will find a set of counts of the four possible states, whose probabilities are going to be saved in a vector $\\textbf{P} = (p_{00},p_{01},p_{10},p_{11})^T$. Then, whith this results, we now have to decompose the evolution operator in order to build the measurement matrix which will allows us to do the state estimation. We can use the completeness relation to decompose the evolution operator acting over the three qubits by \n",
    "$$\\begin{aligned} |\\Psi(T)\\rangle &= U |\\psi_0^S\\rangle\\otimes |+^A\\rangle \\otimes |+^B\\rangle \\\\\n",
    "&= \\frac{1}{2}\\sum_{ij=0,1}U_{ij} |\\psi_0^S\\rangle |i^A j^B\\rangle .\\end{aligned}$$\n",
    "\n",
    "Here $i$ and $j$ are related to the results obtained for the measurement of the meter $A$ and $B$ respectively.\n",
    "Now we have to define three operators that we called $A$, $B$, and $C$. This operators will be important for the definition of the measurement matrix. they have the form\n",
    "\n",
    "$$A = \\frac{1}{16}\\sum_{ij}U_{ij}^\\dagger U_{-ij}$$\n",
    "$$B = \\frac{1}{16}\\sum_{ij}U_{ij}^\\dagger U_{i -j}$$\n",
    "$$C = \\frac{1}{16}\\sum_{ij}U_{ij}^\\dagger U_{-i-j}$$\n",
    "\n",
    "The minus sign indicates a negation of the result, so, if $i = 0$ then $ -i = 1$.\n",
    "\n",
    "With this we can define some auxiliary vectors \n",
    "$$a_\\mu = \\frac{1}{2}Tr[A\\sigma_\\mu],$$\n",
    "$$b_\\mu = \\frac{1}{2}Tr[B\\sigma_\\mu],$$\n",
    "$$c_\\mu = \\frac{1}{2}Tr[C\\sigma_\\mu].$$\n",
    "Where $\\sigma_\\mu = (1,\\sigma_x,\\sigma_y,\\sigma_z).$ This vectors will be important for the definition of the measurement matrix which will be important later.\n",
    "\n",
    "The probability $p_{kl}$ that meters A and B are detected in states $|k^A\\rangle$ and $|{l^A}\\rangle$, respectively, $k,l=\\pm = \\{0,1\\},$ here $0$ represents the $-$ state and 1 represents the $+$ state, is\n",
    "$$p_{kl} =  \\frac{1}{4}s_0+\\sum_{\\mu = 1}^{3}\\left(a_\\mu k + b_\\mu l + c_\\mu kl\\right) s_\\mu.$$\n",
    "\n",
    "This relation can be written in the form $\\textbf{P}^T = \\mathbb{T}\\textbf{S}$. With $\\textbf{S} = (s_0,s_x,s_y,s_z)$, here $s_x, s_y, s_z$ are the components of the Bloch vector that represents the initial state od the qubit $S$.\n",
    "\n",
    "Inverting this relation we can estimate the initial state of the qubit $S$ by\n",
    "\n",
    "$$\\textbf{S} = \\mathbb{T}^{-1}\\textbf{P}. $$\n",
    "\n",
    "The matrix $\\mathbb{T}$ is an implicity defined matriz from the relation mentioned before. If the determinant of this matrix is different from $0$, then we can do the state tomography. So we have to be sure that this condition is satisfied befor doing the estimation. Now we are going to define this matrix and do the qubit state estimation.\n",
    "\n"
   ]
  },
  {
   "cell_type": "code",
   "execution_count": 4,
   "id": "opposed-point",
   "metadata": {},
   "outputs": [],
   "source": [
    "def U_matrix(th_A,th_B):\n",
    "    ## Definimos los qubits sobre los que actúa la compuerta\n",
    "    A = QuantumRegister(1,'a')\n",
    "    S = QuantumRegister(1,'s')\n",
    "    B = QuantumRegister(1,'b')\n",
    "    cr = ClassicalRegister(3)\n",
    "\n",
    "    ## Ejecutamos la compuerta sobre estos regitros\n",
    "    qc = QuantumCircuit(A,S,B, cr)\n",
    "    qc.append(U_operator(th_A,th_B),[A,S,B])\n",
    "\n",
    "    ## Usamos el simulador de IBM para obtener la matriz asociada al operador\n",
    "    backend = BasicAer.get_backend('unitary_simulator')\n",
    "    job = execute(qc, backend)\n",
    "    U = job.result().get_unitary(qc)\n",
    "    return U\n",
    "\n",
    "def T_matrix(U):\n",
    "    \n",
    "    ## we define the U_{ij} operators\n",
    "    U_00 = np.matrix(np.array([[U[0,0],U[0,2]],[U[2,0],U[2,2]]]) + np.array([[U[0,1],U[0,3]],[U[2,1],U[2,3]]]) + np.array([[U[0,4],U[0,6]],[U[2,4],U[2,6]]]) + np.array([[U[0,5],U[0,7]],[U[2,5],U[2,7]]]))\n",
    "    U_01 = np.matrix(np.array([[U[1,0],U[1,2]],[U[3,0],U[3,2]]]) + np.array([[U[1,1],U[1,3]],[U[3,1],U[3,3]]]) + np.array([[U[1,4],U[1,6]],[U[3,4],U[3,6]]]) + np.array([[U[1,5],U[1,7]],[U[3,5],U[3,7]]]))\n",
    "    U_10 = np.matrix(np.array([[U[4,0],U[4,2]],[U[6,0],U[6,2]]]) + np.array([[U[4,1],U[4,3]],[U[6,1],U[6,3]]]) + np.array([[U[4,4],U[4,6]],[U[6,4],U[6,6]]]) + np.array([[U[4,5],U[4,7]],[U[6,5],U[6,7]]]))\n",
    "    U_11 = np.matrix(np.array([[U[5,0],U[5,2]],[U[7,0],U[7,2]]]) + np.array([[U[5,1],U[5,3]],[U[7,1],U[7,3]]]) + np.array([[U[5,4],U[5,6]],[U[7,4],U[7,6]]]) + np.array([[U[5,5],U[5,7]],[U[7,5],U[7,7]]]))\n",
    "\n",
    "    ## and theyr adjoints\n",
    "    U_00d = U_00.getH()\n",
    "    U_01d = U_01.getH()\n",
    "    U_10d = U_10.getH()\n",
    "    U_11d = U_11.getH()\n",
    "        \n",
    "    ## The auxiliary operators A and B\n",
    "    A = 1/16*(np.matmul(U_00d,U_10) + np.matmul(U_01d,U_11) + np.matmul(U_10d,U_00) + np.matmul(U_11d,U_01))\n",
    "    B = 1/16*(np.matmul(U_00d,U_01) + np.matmul(U_01d,U_00) + np.matmul(U_10d,U_11) + np.matmul(U_11d,U_10))\n",
    "    C = 1/16*(np.matmul(U_00d,U_11) + np.matmul(U_01d,U_10) + np.matmul(U_10d,U_01) + np.matmul(U_11d,U_00))\n",
    "    \n",
    "    ## We define the Pauli matrices and the identiry\n",
    "    X = np.matrix([[0,1],[1,0]])\n",
    "    Y = np.matrix([[0,-j],[j,0]])\n",
    "    Z = np.matrix([[1,0],[0,-1]])\n",
    "    I = np.matrix([[1,0],[0,1]])\n",
    "\n",
    "    ## We evaluate the components of the a_\\mu, b_\\mu and c_\\mu vectors\n",
    "    a0 = 0.5*np.trace(np.matmul(A,I))\n",
    "    a1 = 0.5*np.trace(np.matmul(A,X))\n",
    "    a2 = 0.5*np.trace(np.matmul(A,Y))\n",
    "    a3 = 0.5*np.trace(np.matmul(A,Z))\n",
    "\n",
    "    b0 = 0.5*np.trace(np.matmul(B,I))\n",
    "    b1 = 0.5*np.trace(np.matmul(B,X))\n",
    "    b2 = 0.5*np.trace(np.matmul(B,Y))\n",
    "    b3 = 0.5*np.trace(np.matmul(B,Z))\n",
    "\n",
    "    c0 = 0.5*np.trace(np.matmul(C,I))\n",
    "    c1 = 0.5*np.trace(np.matmul(C,X))\n",
    "    c2 = 0.5*np.trace(np.matmul(C,Y))\n",
    "    c3 = 0.5*np.trace(np.matmul(C,Z))\n",
    "    \n",
    "    T = np.matrix([[0.25+a0+b0+c0, a1+b1+c1, a2+b2+c2, a3+b3+c3],[0.25+a0-b0-c0, a1-b1-c1, a2-b2-c2, a3-b3-c3],[0.25-a0+b0-c0, -a1+b1-c1, -a2+b2-c2, -a3+b3-c3],[0.25-a0-b0+c0, -a1-b1+c1, -a2-b2+c2, -a3-b3+c3]])\n",
    "    return T\n"
   ]
  },
  {
   "cell_type": "markdown",
   "id": "certified-combat",
   "metadata": {},
   "source": [
    "Now, given a set of parameters $\\theta_A$ and $\\theta_B$ we can evaluate if it is possible or note to do the qubit state tomography."
   ]
  },
  {
   "cell_type": "code",
   "execution_count": 5,
   "id": "polish-operation",
   "metadata": {},
   "outputs": [
    {
     "name": "stdout",
     "output_type": "stream",
     "text": [
      "It is possible to do qubit state tomography!\n"
     ]
    }
   ],
   "source": [
    "## Definition of the evolution operator parameters\n",
    "th_A, th_B = np.random.uniform(-2*pi,2*pi),np.random.uniform(-2*pi,2*pi) \n",
    "U = U_matrix(th_A,th_B)\n",
    "T = T_matrix(U)\n",
    "T_det = np.abs(np.linalg.det(T))\n",
    "if (T_det == 0):\n",
    "    print('It is not possible to do complete qubit state tomography')\n",
    "else:\n",
    "    print('It is possible to do qubit state tomography!')"
   ]
  },
  {
   "cell_type": "markdown",
   "id": "touched-coach",
   "metadata": {},
   "source": [
    "## Implementation of the model and performance in a quantum computer\n",
    "\n",
    "We have already set up all the necessary tools for implementing this model in a quantum circuit using qiskit and even test its performance in a real quantum device. We first define the circuit of this problem.\n"
   ]
  },
  {
   "cell_type": "code",
   "execution_count": 6,
   "id": "floral-aging",
   "metadata": {},
   "outputs": [],
   "source": [
    "## Initial angles of the rotation that defines the initial state of the qubit S\n",
    "angle_i=[pi/2,0,0]\n",
    "\n",
    "## Quantum registers of the A, B and S qubits\n",
    "A = QuantumRegister(1,'a')\n",
    "S = QuantumRegister(1,'s')\n",
    "B = QuantumRegister(1,'b')\n",
    "cr = ClassicalRegister(3)\n",
    "\n",
    "## Circuit initialization\n",
    "tomography_circuit = QuantumCircuit(A,S,B, cr)\n",
    "\n",
    "## We initialize our qubits\n",
    "tomography_circuit.append(Initialization(angle_i),[A,S,B])\n",
    "tomography_circuit.barrier()\n",
    "\n",
    "## Apply the evolution operator\n",
    "tomography_circuit.append(U_operator(th_A,th_B),[A,S,B])\n",
    "tomography_circuit.barrier()\n",
    "\n",
    "## Change the measurement basis\n",
    "tomography_circuit.h(A)                     #A\n",
    "tomography_circuit.h(B)                     #B\n",
    "tomography_circuit.barrier()\n",
    "\n",
    "## Measurement of the A and B meters\n",
    "tomography_circuit.measure(A,cr[0])         #A\n",
    "tomography_circuit.measure(B,cr[2])         #B\n",
    " \n",
    "\n",
    "base_tomography_circuit = transpile(tomography_circuit,basis_gates=['rz','cx','id','sx','x','h','u','cp'],optimization_level=0) #gates CX, ID, RZ, SX, X\n",
    "transpile_tomography_circuit = transpile(tomography_circuit,basis_gates=['cx','id','rz','sx','x'],optimization_level=3)\n",
    "circuit = base_tomography_circuit.draw(output='mpl')\n",
    "tomography_circuit.draw(output='latex').save('tomography_circuit.png')"
   ]
  },
  {
   "cell_type": "markdown",
   "id": "yellow-hierarchy",
   "metadata": {},
   "source": [
    "The circuit used for the quantum state tomography can visualized as follows\n",
    "<img src=\"tomography_circuit.png\" width = 600px>\n",
    "\n",
    "As you can see each part is divided by a barrier, the four parts of the circuit are essentially\n",
    "1. Qubits initialization.\n",
    "2. Application of the evolution operator.\n",
    "3. Change of the measurement basis of the qubits $A$ and $B$.\n",
    "4. Measurement of the meters.\n",
    "\n",
    "Now we execute the circuit in a local simulator to see if the model works for doing qubit state tomography."
   ]
  },
  {
   "cell_type": "code",
   "execution_count": 20,
   "id": "funny-taste",
   "metadata": {},
   "outputs": [
    {
     "data": {
      "image/png": "[encoded data removed]",
      "text/plain": [
       "<Figure size 504x360 with 1 Axes>"
      ]
     },
     "execution_count": 20,
     "metadata": {},
     "output_type": "execute_result"
    }
   ],
   "source": [
    "## Simulation of the circuit\n",
    "simulator = Aer.get_backend('qasm_simulator')\n",
    "\n",
    "shots = 1024\n",
    "\n",
    "Sim_result_tomography_circuit=execute(tomography_circuit, backend=simulator,shots=shots).result()\n",
    "\n",
    "Sim_result_counts_tomography_circuit=Sim_result_tomography_circuit.get_counts(tomography_circuit)\n",
    "\n",
    "plot_histogram(Sim_result_counts_tomography_circuit).savefig('test_circuit.png',dpi=1200)\n",
    "\n",
    "plot_histogram(Sim_result_counts_tomography_circuit)"
   ]
  },
  {
   "cell_type": "code",
   "execution_count": 8,
   "id": "hybrid-capacity",
   "metadata": {},
   "outputs": [],
   "source": [
    "## We build the vector P\n",
    "p00_test = Sim_result_counts_tomography_circuit['000']/shots\n",
    "p01_test = Sim_result_counts_tomography_circuit['001']/shots\n",
    "p10_test = Sim_result_counts_tomography_circuit['100']/shots\n",
    "p11_test = Sim_result_counts_tomography_circuit['101']/shots\n",
    "\n",
    "p_test = [p00_test,p01_test,p10_test,p11_test]\n",
    "\n",
    "U = U_matrix(th_A, th_B)\n",
    "T = T_matrix(U)\n",
    "s = np.array(np.matmul(np.linalg.inv(T),p_test))\n",
    "\n",
    "s1=s[0,1].real\n",
    "s2=s[0,2].real\n",
    "s3=s[0,3].real\n",
    "\n",
    "s_test = [s1,s2,s3]\n"
   ]
  },
  {
   "cell_type": "markdown",
   "id": "threatened-associate",
   "metadata": {},
   "source": [
    "For comparing the estimation with the initial state of the qubit $S$ we will calculate the fidelity between this quantum states and we are going to graph them in the bloch sphere. The fidelity will be defined as $\\mathcal{F} (\\rho_0^S,\\rho_e^S) = Tr[\\sqrt{\\sqrt{\\rho_0^S} \\rho_e^S \\sqrt{\\rho_0^S}}]^2$, if the states are pure it can be reduced to $\\mathcal{F}(\\rho_0^S,\\rho_e^S) = |\\langle{\\psi_0^S|\\psi_e^S}\\rangle|^2.$\n",
    "First we have to transform the bloch vector into a qubit state of the form $|\\psi\\rangle = c_0|0\\rangle + c_1 |1\\rangle. $"
   ]
  },
  {
   "cell_type": "code",
   "execution_count": 9,
   "id": "biological-macedonia",
   "metadata": {},
   "outputs": [
    {
     "data": {
      "text/plain": [
       "array([1.000000e+00, 0.000000e+00, 6.123234e-17])"
      ]
     },
     "execution_count": 9,
     "metadata": {},
     "output_type": "execute_result"
    }
   ],
   "source": [
    "def bloch_vector_to_state(s):\n",
    "    ## We transform the bloch vector into a qubit state\n",
    "    s1 = s[0]\n",
    "    s2 = s[1]\n",
    "    s3 = s[2]\n",
    "    \n",
    "    if (s3>0):\n",
    "        th=np.arctan(np.sqrt(s1*s1 + s2*s2)/s3)\n",
    "    elif (s3 == 0):\n",
    "        th = pi/2\n",
    "    elif (s3 < 0):\n",
    "        th=np.arctan(np.sqrt(s1*s1 + s2*s2)/s3) + pi\n",
    "\n",
    "    if (s1>0 and s2>0):\n",
    "        phi = np.arctan(s2/s1)\n",
    "    elif (s1>0 and s2<0):\n",
    "        phi = np.arctan(s2/s1) + 2*pi\n",
    "    elif (s1 == 0):\n",
    "        phi = pi/2*np.sign(s2)\n",
    "    elif (s1<0):\n",
    "        phi = np.arctan(s2/s1) + pi\n",
    "\n",
    "    ## We write the alpha and beta amplitudes\n",
    "    c_0 = np.cos(th/2)\n",
    "    c_1 = (np.cos(phi) + complex(0,1)*np.sin(phi))*np.sin(th/2)\n",
    "    \n",
    "    state = np.array([c_0,c_1])\n",
    "    return state\n",
    "\n",
    "def init_ang_to_bloch_vector(angles):\n",
    "    \n",
    "    th, phi, lam = angles\n",
    "    \n",
    "    s = np.array([np.sin(th)*np.cos(phi), np.sin(th)*np.sin(phi), np.cos(th)])\n",
    "    \n",
    "    return s\n",
    "\n",
    "s_ideal = init_ang_to_bloch_vector(angle_i)\n",
    "s_ideal"
   ]
  },
  {
   "cell_type": "markdown",
   "id": "suburban-height",
   "metadata": {},
   "source": [
    "Now we find the $c_0$ and $c_1$ component of the initial state of the qubit $S$ from its initialization"
   ]
  },
  {
   "cell_type": "code",
   "execution_count": 10,
   "id": "agreed-conflict",
   "metadata": {},
   "outputs": [
    {
     "name": "stdout",
     "output_type": "stream",
     "text": [
      "[0.70710678+0.j 0.70710678+0.j] [0.73786509+0.j         0.64226941-0.20747316j]\n",
      "The fidelity betwee the initial state and its estimation is:  0.9739081778656794\n"
     ]
    }
   ],
   "source": [
    "## Initialize a 1 qubit circuit\n",
    "qr = QuantumRegister(1)\n",
    "cr = ClassicalRegister(1)\n",
    "\n",
    "qc_i = QuantumCircuit(qr,cr)\n",
    "\n",
    "## Use the U rotation that we used for initializing the qubit S\n",
    "qc_i.u(angle_i[0],angle_i[1],angle_i[2],qr[0])\n",
    "\n",
    "backend = BasicAer.get_backend('statevector_simulator') \n",
    "result = execute(qc_i, backend).result()\n",
    "\n",
    "## Take the statevector\n",
    "initial_state  = result.get_statevector(qc_i)\n",
    "estim_state = bloch_vector_to_state(s_test)\n",
    "\n",
    "print(initial_state,estim_state)\n",
    "## Calculate the fidelity\n",
    "fidelity = quantum_info.state_fidelity(initial_state,estim_state)\n",
    "\n",
    "print('The fidelity betwee the initial state and its estimation is: ',fidelity)\n",
    "\n",
    "## Save the plots for visualzation\n",
    "plot_bloch_vector(s_test, title=\"Estimated state\").savefig(\"estimation_test.png\")\n",
    "plot_bloch_vector(s_ideal, title=\"Initial state\").savefig(\"initial_test.png\")"
   ]
  },
  {
   "cell_type": "markdown",
   "id": "national-times",
   "metadata": {},
   "source": [
    "We now print the bloch spheres of these states\n",
    "<table>\n",
    "     <tr>\n",
    "        <th style=\"text-align:center\" >\n",
    "            Initial state\n",
    "        </th>\n",
    "        <th style=\"text-align:center\">\n",
    "            Estimation\n",
    "        </th>\n",
    "     </tr> \n",
    "     <tr>\n",
    "         <td><img width=350px src='initial_test.png'></td>\n",
    "         <td><img width=350px src='estimation_test.png'></td>\n",
    "    </tr>\n",
    "</table>\n",
    "\n",
    "As you can see, the estimation model works pretty good even for random values of the parameters $\\theta_A$ and $\\theta_B$. However, we are interested in finding the best set of parameters for the estimation. Then, we are going to introduce the Fisher error parameter which will be the criteria for finding the best set up for doing qubit state estimation."
   ]
  },
  {
   "cell_type": "markdown",
   "id": "arabic-tuner",
   "metadata": {},
   "source": [
    "## Fisher error\n",
    "The Fisher information matrix can be defined in different ways. for the purposes of this model we define its components as \n",
    "$$F_{\\mu\\nu}(\\mathbf{s}) =  \\sum_{j=0}^{3}\\frac{1}{p_j} \\frac{\\partial p_j}{\\partial s_\\mu} \\frac{\\partial p_j}{\\partial s_\\nu}.$$\n",
    "The Fisher information matrix for this model can be written as\n",
    "$$\\mathbb{F} = \\mathbb{D}^T\\left(\\mathbb{V}\\mathbb{P}^{-1}\\mathbb{V}^T\\right)\\mathbb{D},$$\n",
    "\n",
    "this depends on the measurement matrix $\\mathbb{D}$, and the auxiliary matrices $\\mathbb{V}$ and  $\\mathbb{P}$\n",
    "$$\n",
    "\t\t\\mathbb{D} = \\begin{pmatrix}\n",
    "\t\t\ta_1&b_1&c_1\\\\\n",
    "\t\t\ta_2&b_2&c_2\\\\\n",
    "\t\t\ta_3&b_3&c_3\n",
    "\t\t\\end{pmatrix}, \\quad\n",
    "\t\t\\mathbb{V} = \\begin{pmatrix}\n",
    "\t\t\t1 & 1 & -1 & -1\\\\\n",
    "\t\t\t1 & -1 & 1 & -1\\\\\n",
    "\t\t\t1 & -1 & -1 & 1\n",
    "\t\t\\end{pmatrix}, \\quad \n",
    "\t\t\\mathbb{P} =  \\begin{pmatrix}\n",
    "\t\t\tp_{00} & 0 & 0 & 0 \\\\\n",
    "\t\t\t0 & p_{01} & 0 & 0 \\\\\n",
    "\t\t\t0 & 0 & p_{10} & 0 \\\\\n",
    "\t\t\t0 & 0 & 0 & p_{11}\n",
    "\t\t\\end{pmatrix}.\n",
    "$$\n",
    "\n",
    "To study the dependence of the error on the initial state of qubit $S$, we write $c_0= e^{i\\alpha_2}\\cos\\alpha_1$ and $c_1  = e^{- i\\alpha_2}\\sin\\alpha_1$, where $\\alpha_1\\in [0,\\pi/2],$ and $\\alpha_2\\in [0,\\pi]$.\n",
    "\n",
    "We define the error measure as the trace of the inverse of the Fisher information matrix\n",
    "$$\\Delta (\\alpha_1,\\alpha_2,\\theta_A,\\theta_B)=  \\operatorname{Tr}(\\mathbb{F}^{-1}).$$\n",
    "\n",
    "Now that we have parametrized the error of this model, we calculate the mean error over all the possible states, this is \n",
    "$$\\frac{1}{V}\\int^{\\frac{\\pi}{2}}_{0}\\int^{\\pi}_0 \\Delta (\\alpha_1,\\alpha_2,\\theta_A,\\theta_B)\\sin2\\alpha_1d\\alpha_1 d\\alpha_2.$$\n",
    "\n",
    "Here the integration Volume is $V = \\pi$. Now that we have the mean error in terms of the angles $\\theta_A$ and $\\theta_B$, we can optimize this in order to find the best set of parameters that minimize the mean error of the estimation model.\n",
    "To do so we define the objective function to ve optimized."
   ]
  },
  {
   "cell_type": "code",
   "execution_count": 11,
   "id": "negative-employer",
   "metadata": {},
   "outputs": [],
   "source": [
    "## We have to parametrized the tomography to find p_ij\n",
    "def tomography_parametrized(alpha_params, U):\n",
    "    \n",
    "    \n",
    "    c_0 = np.exp(( alpha_params[1])*j)*np.cos(alpha_params[0])\n",
    "    c_1 =  np.exp((-alpha_params[1])*j)*np.sin(alpha_params[0])\n",
    "    initial_state = c_0, c_1\n",
    "\n",
    "    ## Definition of U_{ij}\n",
    "    U_00 = np.matrix(np.array([[U[0,0],U[0,2]],[U[2,0],U[2,2]]]) + np.array([[U[0,1],U[0,3]],[U[2,1],U[2,3]]]) + np.array([[U[0,4],U[0,6]],[U[2,4],U[2,6]]]) + np.array([[U[0,5],U[0,7]],[U[2,5],U[2,7]]]))\n",
    "    U_01 = np.matrix(np.array([[U[1,0],U[1,2]],[U[3,0],U[3,2]]]) + np.array([[U[1,1],U[1,3]],[U[3,1],U[3,3]]]) + np.array([[U[1,4],U[1,6]],[U[3,4],U[3,6]]]) + np.array([[U[1,5],U[1,7]],[U[3,5],U[3,7]]]))\n",
    "    U_10 = np.matrix(np.array([[U[4,0],U[4,2]],[U[6,0],U[6,2]]]) + np.array([[U[4,1],U[4,3]],[U[6,1],U[6,3]]]) + np.array([[U[4,4],U[4,6]],[U[6,4],U[6,6]]]) + np.array([[U[4,5],U[4,7]],[U[6,5],U[6,7]]]))\n",
    "    U_11 = np.matrix(np.array([[U[5,0],U[5,2]],[U[7,0],U[7,2]]]) + np.array([[U[5,1],U[5,3]],[U[7,1],U[7,3]]]) + np.array([[U[5,4],U[5,6]],[U[7,4],U[7,6]]]) + np.array([[U[5,5],U[5,7]],[U[7,5],U[7,7]]]))\n",
    "\n",
    "    ## Their adjoints\n",
    "    \n",
    "    U_00d = U_00.getH()\n",
    "    U_01d = U_01.getH()\n",
    "    U_10d = U_10.getH()\n",
    "    U_11d = U_11.getH()\n",
    "    \n",
    "    ## We define the Kraus operators\n",
    "    E_00 = (U_00 + U_01 + U_10 + U_11)/4\n",
    "    E_01 = (U_00 - U_01 + U_10 - U_11)/4\n",
    "    E_10 = (U_00 + U_01 - U_10 - U_11)/4\n",
    "    E_11 = (U_00 - U_01 - U_10 + U_11)/4\n",
    "\n",
    "    ## And their adjoints\n",
    "    E_00d = (U_00d + U_01d + U_10d + U_11d)/4\n",
    "    E_01d = (U_00d - U_01d + U_10d - U_11d)/4\n",
    "    E_10d = (U_00d + U_01d - U_10d - U_11d)/4\n",
    "    E_11d = (U_00d - U_01d - U_10d + U_11d)/4\n",
    "\n",
    "\n",
    "    ## The final states of the system are\n",
    "    d_00 = np.matmul(E_00,initial_state)\n",
    "    d_01 = np.matmul(E_01,initial_state)\n",
    "    d_10 = np.matmul(E_10,initial_state)\n",
    "    d_11 = np.matmul(E_11,initial_state)\n",
    "\n",
    "    ## So the probabilities p_ij are\n",
    "    P_00_teo =  d_00[0,0]*d_00[0,0].conjugate() + d_00[0,1]*d_00[0,1].conjugate()\n",
    "    P_01_teo =  d_01[0,0]*d_01[0,0].conjugate() + d_01[0,1]*d_01[0,1].conjugate()\n",
    "    P_10_teo =  d_10[0,0]*d_10[0,0].conjugate() + d_10[0,1]*d_10[0,1].conjugate()\n",
    "    P_11_teo =  d_11[0,0]*d_11[0,0].conjugate() + d_11[0,1]*d_11[0,1].conjugate()\n",
    "\n",
    "    p_teo = [P_00_teo.real,P_01_teo.real,P_10_teo.real,P_11_teo.real]\n",
    "\n",
    "\n",
    "    return p_teo\n",
    "\n",
    "## Definition of the measurement matrix\n",
    "def D_matrix(U):\n",
    "    \n",
    "    ## Definition of U_{ij}\n",
    "    U_00 = np.matrix(np.array([[U[0,0],U[0,2]],[U[2,0],U[2,2]]]) + np.array([[U[0,1],U[0,3]],[U[2,1],U[2,3]]]) + np.array([[U[0,4],U[0,6]],[U[2,4],U[2,6]]]) + np.array([[U[0,5],U[0,7]],[U[2,5],U[2,7]]]))\n",
    "    U_01 = np.matrix(np.array([[U[1,0],U[1,2]],[U[3,0],U[3,2]]]) + np.array([[U[1,1],U[1,3]],[U[3,1],U[3,3]]]) + np.array([[U[1,4],U[1,6]],[U[3,4],U[3,6]]]) + np.array([[U[1,5],U[1,7]],[U[3,5],U[3,7]]]))\n",
    "    U_10 = np.matrix(np.array([[U[4,0],U[4,2]],[U[6,0],U[6,2]]]) + np.array([[U[4,1],U[4,3]],[U[6,1],U[6,3]]]) + np.array([[U[4,4],U[4,6]],[U[6,4],U[6,6]]]) + np.array([[U[4,5],U[4,7]],[U[6,5],U[6,7]]]))\n",
    "    U_11 = np.matrix(np.array([[U[5,0],U[5,2]],[U[7,0],U[7,2]]]) + np.array([[U[5,1],U[5,3]],[U[7,1],U[7,3]]]) + np.array([[U[5,4],U[5,6]],[U[7,4],U[7,6]]]) + np.array([[U[5,5],U[5,7]],[U[7,5],U[7,7]]]))\n",
    "\n",
    "    ## Their adjoints\n",
    "    U_00d = U_00.getH()\n",
    "    U_01d = U_01.getH()\n",
    "    U_10d = U_10.getH()\n",
    "    U_11d = U_11.getH()\n",
    "    \n",
    "    A = 1/16*(np.matmul(U_00d,U_10) + np.matmul(U_01d,U_11) + np.matmul(U_10d,U_00) + np.matmul(U_11d,U_01))\n",
    "    B = 1/16*(np.matmul(U_00d,U_01) + np.matmul(U_01d,U_00) + np.matmul(U_10d,U_11) + np.matmul(U_11d,U_10))\n",
    "    C = 1/16*(np.matmul(U_00d,U_11) + np.matmul(U_01d,U_10) + np.matmul(U_10d,U_01) + np.matmul(U_11d,U_00))\n",
    "    \n",
    "    ## Pauli Matricez\n",
    "    X = np.matrix([[0,1],[1,0]])\n",
    "    Y = np.matrix([[0,-complex(0,1)],[complex(0,1),0]])\n",
    "    Z = np.matrix([[1,0],[0,-1]])\n",
    "    I = np.matrix([[1,0],[0,1]])\n",
    "\n",
    "    ## D matrix components\n",
    "    a0 = 0.5*np.trace(np.matmul(A,I))\n",
    "    a1 = 0.5*np.trace(np.matmul(A,X))\n",
    "    a2 = 0.5*np.trace(np.matmul(A,Y))\n",
    "    a3 = 0.5*np.trace(np.matmul(A,Z))\n",
    "\n",
    "    b0 = 0.5*np.trace(np.matmul(B,I))\n",
    "    b1 = 0.5*np.trace(np.matmul(B,X))\n",
    "    b2 = 0.5*np.trace(np.matmul(B,Y))\n",
    "    b3 = 0.5*np.trace(np.matmul(B,Z))\n",
    "\n",
    "    c0 = 0.5*np.trace(np.matmul(C,I))\n",
    "    c1 = 0.5*np.trace(np.matmul(C,X))\n",
    "    c2 = 0.5*np.trace(np.matmul(C,Y))\n",
    "    c3 = 0.5*np.trace(np.matmul(C,Z))\n",
    "\n",
    "    ## Definition of the D matrix\n",
    "    D =np.matrix([[a1,a2,a3],[b1,b2,b3],[c1,c2,c3]])\n",
    "    \n",
    "    return D\n",
    "\n",
    "## We now define the fisher error parameter\n",
    "def error_parameter(D,p):\n",
    "    \n",
    "    ## Definition od the auxiliary matrix V\n",
    "    V = np.matrix([[1,1,-1,-1],[1,-1,1,-1],[1,-1,-1,1]])\n",
    "\n",
    "    ## Definition od the matrix P\n",
    "    P = np.matrix([[p[0],0,0,0],[0,p[1],0,0],[0,0,p[2],0],[0,0,0,p[3]]])\n",
    "    \n",
    "    ## The Fisher information Matrix\n",
    "    F = np.matmul(np.matmul(D.transpose(),(np.matmul(np.matmul(V,np.linalg.inv(P)),V.transpose()))),D)\n",
    "    \n",
    "    Error = np.abs(np.trace(np.linalg.inv(F)))\n",
    "    return Error\n",
    "\n",
    "## Definition of the integrand\n",
    "def error_integrand(alpha_1,alpha_2,args):\n",
    "    \n",
    "    alpha_params = [alpha_1,alpha_2]\n",
    "    th_A, th_B = args[0],args[1]\n",
    "\n",
    "    U = U_matrix(th_A, th_B)\n",
    "    D = D_matrix(U)\n",
    "    deter = np.linalg.det(D)\n",
    "    \n",
    "    p = tomography_parametrized(alpha_params, U)\n",
    "    error = error_parameter(D,p)*np.sin(2*alpha_1)\n",
    "    \n",
    "    return error.real\n",
    "\n",
    "## Definition of the objective function\n",
    "def obj_fn(params):\n",
    "    \n",
    "    bounds_1 = [0,pi/2]\n",
    "    bounds_2 = [0,pi]\n",
    "    \n",
    "    I = nquad(error_integrand,[bounds_1,bounds_2],args=[params])\n",
    "\n",
    "    return I[0]/pi"
   ]
  },
  {
   "cell_type": "code",
   "execution_count": 12,
   "id": "continent-clock",
   "metadata": {},
   "outputs": [
    {
     "name": "stdout",
     "output_type": "stream",
     "text": [
      "17.001938899655535\n",
      "322256.39916885295\n"
     ]
    }
   ],
   "source": [
    "print(obj_fn([3.44819693, -8.4194307]))\n",
    "print(obj_fn([2*pi/3,pi/4]))"
   ]
  },
  {
   "cell_type": "code",
   "execution_count": 13,
   "id": "closed-emission",
   "metadata": {},
   "outputs": [],
   "source": [
    "def optimization(obj_fn, rep):\n",
    "    \n",
    "    results=[]\n",
    "    params = []\n",
    "    \n",
    "    for i in range(rep):\n",
    "        th_A = np.random.uniform(0,2*pi)\n",
    "\n",
    "        th_B = np.random.uniform(0,2*pi)\n",
    "        \n",
    "        init = np.array([th_A, th_B])\n",
    "        \n",
    "        res = minimize(obj_fn,init,method='nelder-mead', options={'xatol':1e-4, 'disp': True})\n",
    "        \n",
    "        results.append(res.fun)\n",
    "        params.append(res.x)\n",
    "    best = min(results)\n",
    "    best_idx = results.index(best)\n",
    "    print('results: ',results)\n",
    "    print('parameters: ',params)\n",
    "    \n",
    "    print('best result: ', best)\n",
    "    print('parameters best result: ',params[best_idx])\n",
    "    return results, params"
   ]
  },
  {
   "cell_type": "code",
   "execution_count": 14,
   "id": "flexible-wednesday",
   "metadata": {},
   "outputs": [
    {
     "name": "stdout",
     "output_type": "stream",
     "text": [
      "Optimization terminated successfully.\n",
      "         Current function value: 19.870210\n",
      "         Iterations: 56\n",
      "         Function evaluations: 108\n",
      "Optimization terminated successfully.\n",
      "         Current function value: 36.766481\n",
      "         Iterations: 33\n",
      "         Function evaluations: 65\n",
      "Optimization terminated successfully.\n",
      "         Current function value: 19.870210\n",
      "         Iterations: 41\n",
      "         Function evaluations: 79\n",
      "Optimization terminated successfully.\n",
      "         Current function value: 19.870210\n",
      "         Iterations: 44\n",
      "         Function evaluations: 84\n",
      "Optimization terminated successfully.\n",
      "         Current function value: 528.041141\n",
      "         Iterations: 32\n",
      "         Function evaluations: 62\n",
      "results:  [19.870209522960938, 36.76648073781168, 19.87020953671662, 19.87020951904503, 528.0411413342864]\n",
      "parameters:  [array([2.97060867, 3.96073592]), array([4.38599506, 1.18439415]), array([2.97064938, 3.96072591]), array([2.97064063, 3.96075441]), array([5.38730152, 2.18776591])]\n",
      "best result:  19.87020951904503\n",
      "parameters best result:  [2.97064063 3.96075441]\n"
     ]
    },
    {
     "data": {
      "text/plain": [
       "([19.870209522960938,\n",
       "  36.76648073781168,\n",
       "  19.87020953671662,\n",
       "  19.87020951904503,\n",
       "  528.0411413342864],\n",
       " [array([2.97060867, 3.96073592]),\n",
       "  array([4.38599506, 1.18439415]),\n",
       "  array([2.97064938, 3.96072591]),\n",
       "  array([2.97064063, 3.96075441]),\n",
       "  array([5.38730152, 2.18776591])])"
      ]
     },
     "execution_count": 14,
     "metadata": {},
     "output_type": "execute_result"
    }
   ],
   "source": [
    "optimization(obj_fn, 5)"
   ]
  },
  {
   "cell_type": "markdown",
   "id": "numeric-particular",
   "metadata": {},
   "source": [
    "The code above can be used to find the optimal parameters, it has to be taken into account that it is not an easy task since each evaluation of the cost function implies the evaluation of an integral, and also, you will find out that there ir a big ammount of local minimums. The best minimum that we found is located approximately at $\\theta_A = 3.45$ and $\\theta_B = -8.42$. This minimum does not have a big error dispersion for all the initial states. The exact value is shown in the code below. "
   ]
  },
  {
   "cell_type": "code",
   "execution_count": 15,
   "id": "manual-million",
   "metadata": {},
   "outputs": [
    {
     "name": "stdout",
     "output_type": "stream",
     "text": [
      "Optimization terminated successfully.\n",
      "         Current function value: 16.993293\n",
      "         Iterations: 28\n",
      "         Function evaluations: 56\n"
     ]
    },
    {
     "data": {
      "text/plain": [
       " final_simplex: (array([[ 3.41968803, -8.41648194],\n",
       "       [ 3.41963129, -8.4164514 ],\n",
       "       [ 3.41975718, -8.41644286]]), array([16.99329319, 16.99329327, 16.99329332]))\n",
       "           fun: 16.99329319225016\n",
       "       message: 'Optimization terminated successfully.'\n",
       "          nfev: 56\n",
       "           nit: 28\n",
       "        status: 0\n",
       "       success: True\n",
       "             x: array([ 3.41968803, -8.41648194])"
      ]
     },
     "execution_count": 15,
     "metadata": {},
     "output_type": "execute_result"
    }
   ],
   "source": [
    "init = [3.45, -8.42]\n",
    "minimize(obj_fn,init,method='nelder-mead', options={'xatol':1e-4, 'disp': True})"
   ]
  },
  {
   "cell_type": "markdown",
   "id": "arbitrary-interval",
   "metadata": {},
   "source": [
    "With the optimal values of the system we are now interested in the variation of the error for different initial states with the evolution operator parameters fixed. The plot that shows this behaviour is shown bellow."
   ]
  },
  {
   "cell_type": "code",
   "execution_count": 16,
   "id": "local-swaziland",
   "metadata": {},
   "outputs": [],
   "source": [
    "def error_graph(alpha_1,alpha_2,args):\n",
    "    \n",
    "    alpha_params = [alpha_1,alpha_2]\n",
    "    th_A, th_B = args[0],args[1]\n",
    "\n",
    "    U = U_matrix(th_A, th_B)\n",
    "    D = D_matrix(U)\n",
    "    deter = np.linalg.det(D)\n",
    "    \n",
    "    p = tomography_parametrized(alpha_params, U)\n",
    "    error = error_parameter(D,p)\n",
    "    \n",
    "    return error.real\n",
    "\n",
    "alpha_1_range = np.linspace(0, pi/2, 40)\n",
    "alpha_2_range = np.linspace(0, pi, 40)\n",
    "\n",
    "\n",
    "th_A,th_B = 3.44819693, -8.4194307\n",
    "params = [th_A,th_B]\n",
    "\n",
    "Error = np.zeros((alpha_1_range.size, alpha_2_range.size))\n",
    "\n",
    "x_i=-1\n",
    "y_i=-1\n",
    "\n",
    "for alpha_1 in alpha_1_range:\n",
    "    x_i +=1\n",
    "    y_i =-1\n",
    "    for alpha_2 in alpha_2_range:\n",
    "        y_i+=1\n",
    "        error = error_graph(alpha_1,alpha_2, params)\n",
    "\n",
    "        Error[y_i][x_i] = error"
   ]
  },
  {
   "cell_type": "code",
   "execution_count": 23,
   "id": "departmental-country",
   "metadata": {},
   "outputs": [
    {
     "data": {
      "image/png": "[encoded data removed]",
      "text/plain": [
       "<Figure size 432x288 with 2 Axes>"
      ]
     },
     "metadata": {
      "needs_background": "light"
     },
     "output_type": "display_data"
    }
   ],
   "source": [
    "X, Y = np.meshgrid(alpha_1_range, alpha_2_range)\n",
    "\n",
    "cmap = matplotlib.colors.LinearSegmentedColormap.from_list(\"\", [\"#10002b\",\"cyan\"])\n",
    "\n",
    "plt.contourf(X, Y, Error, 10,linestyles='solid', cmap=cmap)\n",
    "plt.xlabel(r'$\\alpha_1$')\n",
    "plt.ylabel(r'$\\alpha_2$')\n",
    "#plt.plot(th_a,th_b,'bo',color='white') \n",
    "\n",
    "plt.colorbar()\n",
    "\n",
    "plt.savefig('error_v_init.png')"
   ]
  },
  {
   "cell_type": "markdown",
   "id": "located-problem",
   "metadata": {},
   "source": [
    "### Simulation in a quantum device\n",
    "Now that we have found the best set of parameters $\\theta_A = 3.41968803$ and $\\theta_B = -8.41648194$. For this set of values, the mean error takes an approximate value of $\\Delta \\approx 17.$ We are going to execute the model in a local simulator for the six eigenstates of the Pauli matrices, this is,  $X= \\left\\{|{\\psi_{z_0}}\\rangle,|{\\psi_{z_1}}\\rangle,|{\\psi_{x_0}}\\rangle,|{\\psi_{x_1}}\\rangle,|{\\psi_{y_0}}\\rangle,|{\\psi_{y_1}}\\rangle\\right\\} = \\left\\{|0\\rangle, |1\\rangle, \\frac{|0\\rangle+|1\\rangle}{\\sqrt{2}}, \\frac{|0\\rangle-|1\\rangle}{\\sqrt{2}}, \\frac{|0\\rangle+i|1\\rangle}{\\sqrt{2}}, \\frac{|0\\rangle-i|1\\rangle}{\\sqrt{2}}\\right\\}.$ \n",
    "\n",
    "After this, we are going to compare the performance of the model in a real quantum computer, in this case we are going to use the `ibmq_lima` Quantum procesing unit (QPU)."
   ]
  },
  {
   "cell_type": "code",
   "execution_count": 38,
   "id": "surprised-mother",
   "metadata": {},
   "outputs": [],
   "source": [
    "def tg_circuit(angles_i):\n",
    "    ## We define the tomography circuit as a function\n",
    "    A = QuantumRegister(1,'a')\n",
    "    S = QuantumRegister(1,'s')\n",
    "    B = QuantumRegister(1,'b')\n",
    "    cr = ClassicalRegister(3)\n",
    "    \n",
    "    ## We use the best values of \\theta_A and \\theta_B\n",
    "    thA, thB = 3.44819693, -8.4194307\n",
    "    \n",
    "    tomography_circuit = QuantumCircuit(A,S,B, cr)\n",
    "\n",
    "    tomography_circuit.append(Initialization(angles_i),[A,S,B])\n",
    "    tomography_circuit.barrier()\n",
    "\n",
    "    tomography_circuit.append(U_operator(thA,thB),[A,S,B])\n",
    "    tomography_circuit.barrier()\n",
    "\n",
    "    tomography_circuit.h(A)                     #A\n",
    "    tomography_circuit.h(B)                     #B\n",
    "    tomography_circuit.barrier()\n",
    "\n",
    "    tomography_circuit.measure(A,cr[0])         #A\n",
    "    tomography_circuit.measure(B,cr[2])         #B\n",
    "    \n",
    "    tomography_circuit=transpile(tomography_circuit, basis_gates=['cx','id','rz','sx','x'], optimization_level=3)\n",
    "    \n",
    "    return tomography_circuit\n",
    "\n",
    "def IBM_sim_probs(angles_i, device=0):\n",
    "    circuit = tg_circuit(angles_i)\n",
    "    \n",
    "    shots = 1024\n",
    "    ## Local simulator\n",
    "    simulator = Aer.get_backend('qasm_simulator')\n",
    "    \n",
    "    ## Quantum simulator\n",
    "    qcom = provider.get_backend('ibmq_lima') #ibmqx2\n",
    "\n",
    "    %qiskit_job_watcher\n",
    "    if device == 0:\n",
    "        job=execute(circuit, backend=simulator,shots = shots)\n",
    "    else:\n",
    "        job=execute(circuit, backend=qcom)\n",
    "\n",
    "    job_monitor(job)\n",
    "    sim_result=job.result()\n",
    "    \n",
    "    sim_result_counts = sim_result.get_counts(circuit)\n",
    "    \n",
    "    if '000' in sim_result_counts:\n",
    "        p00 = sim_result_counts['000']/shots\n",
    "    else:\n",
    "        p00 = 0\n",
    "\n",
    "    if '001' in sim_result_counts:\n",
    "        p01 = sim_result_counts['001']/shots\n",
    "    else:\n",
    "        p01 = 0\n",
    "    if '100' in sim_result_counts:\n",
    "        p10 = sim_result_counts['100']/shots\n",
    "    else:\n",
    "        p10 = 0\n",
    "    if '101' in sim_result_counts:\n",
    "        p11 = sim_result_counts['101']/shots\n",
    "    else:\n",
    "        p11 = 0\n",
    "\n",
    "\n",
    "    p = [p00,p01,p10,p11]\n",
    "\n",
    "    return p\n",
    "\n",
    "def ideal_prob(angles_i):\n",
    "    \n",
    "    ## Here we calculate the ideal probabilities of the experiment\n",
    "    qr = QuantumRegister(1)\n",
    "    cr = ClassicalRegister(1)\n",
    "\n",
    "    qc_i = QuantumCircuit(qr,cr)\n",
    "    \n",
    "    qc_i.u(angles_i[0],angles_i[1],angles_i[2],qr[0])\n",
    "    \n",
    "    backend = BasicAer.get_backend('statevector_simulator') \n",
    "    result = execute(qc_i, backend).result()\n",
    "    \n",
    "    thA, thB = 3.44819693, -8.4194307\n",
    "    \n",
    "    U = U_matrix(thA, thB)\n",
    "    \n",
    "    ## Tomamos el estado asociado\n",
    "    initial_state  = result.get_statevector(qc_i)\n",
    "    alpha,beta = initial_state[0],initial_state[1]\n",
    "\n",
    "    ## Se definen los operadores U_{ij}\n",
    "    U_00 = np.matrix(np.array([[U[0,0],U[0,2]],[U[2,0],U[2,2]]]) + np.array([[U[0,1],U[0,3]],[U[2,1],U[2,3]]]) + np.array([[U[0,4],U[0,6]],[U[2,4],U[2,6]]]) + np.array([[U[0,5],U[0,7]],[U[2,5],U[2,7]]]))\n",
    "    U_01 = np.matrix(np.array([[U[1,0],U[1,2]],[U[3,0],U[3,2]]]) + np.array([[U[1,1],U[1,3]],[U[3,1],U[3,3]]]) + np.array([[U[1,4],U[1,6]],[U[3,4],U[3,6]]]) + np.array([[U[1,5],U[1,7]],[U[3,5],U[3,7]]]))\n",
    "    U_10 = np.matrix(np.array([[U[4,0],U[4,2]],[U[6,0],U[6,2]]]) + np.array([[U[4,1],U[4,3]],[U[6,1],U[6,3]]]) + np.array([[U[4,4],U[4,6]],[U[6,4],U[6,6]]]) + np.array([[U[4,5],U[4,7]],[U[6,5],U[6,7]]]))\n",
    "    U_11 = np.matrix(np.array([[U[5,0],U[5,2]],[U[7,0],U[7,2]]]) + np.array([[U[5,1],U[5,3]],[U[7,1],U[7,3]]]) + np.array([[U[5,4],U[5,6]],[U[7,4],U[7,6]]]) + np.array([[U[5,5],U[5,7]],[U[7,5],U[7,7]]]))\n",
    "\n",
    "    ## Y sus adjuntos dado que los necesitaremos luego\n",
    "    U_00d = U_00.getH()\n",
    "    U_01d = U_01.getH()\n",
    "    U_10d = U_10.getH()\n",
    "    U_11d = U_11.getH()\n",
    "    \n",
    "    ## Definimos los operadores de Kraus\n",
    "    E_00 = (U_00 + U_01 + U_10 + U_11)/4\n",
    "    E_01 = (U_00 - U_01 + U_10 - U_11)/4\n",
    "    E_10 = (U_00 + U_01 - U_10 - U_11)/4\n",
    "    E_11 = (U_00 - U_01 - U_10 + U_11)/4\n",
    "\n",
    "    ## Y sus conjugados\n",
    "    E_00d = (U_00d + U_01d + U_10d + U_11d)/4\n",
    "    E_01d = (U_00d - U_01d + U_10d - U_11d)/4\n",
    "    E_10d = (U_00d + U_01d - U_10d - U_11d)/4\n",
    "    E_11d = (U_00d - U_01d - U_10d + U_11d)/4\n",
    "\n",
    "\n",
    "    ## Los estados finales del sistema son\n",
    "    d_00 = np.matmul(E_00,initial_state)\n",
    "    d_01 = np.matmul(E_01,initial_state)\n",
    "    d_10 = np.matmul(E_10,initial_state)\n",
    "    d_11 = np.matmul(E_11,initial_state)\n",
    "\n",
    "\n",
    "    P_00_teo =  d_00[0,0]*d_00[0,0].conjugate() + d_00[0,1]*d_00[0,1].conjugate()\n",
    "    P_01_teo =  d_01[0,0]*d_01[0,0].conjugate() + d_01[0,1]*d_01[0,1].conjugate()\n",
    "    P_10_teo =  d_10[0,0]*d_10[0,0].conjugate() + d_10[0,1]*d_10[0,1].conjugate()\n",
    "    P_11_teo =  d_11[0,0]*d_11[0,0].conjugate() + d_11[0,1]*d_11[0,1].conjugate()\n",
    "\n",
    "    p_teo = [P_00_teo.real,P_01_teo.real,P_10_teo.real,P_11_teo.real]\n",
    "\n",
    "\n",
    "    return p_teo \n",
    "\n",
    "def bloch_vector_from_prob(p):\n",
    "    ## best angles\n",
    "    thA, thB = 3.44819693, -8.4194307\n",
    "    U = U_matrix(thA, thB)\n",
    "    T = T_matrix(U)\n",
    "    s = np.array(np.matmul(np.linalg.inv(T),p))\n",
    "    \n",
    "    s1=s[0,1].real\n",
    "    s2=s[0,2].real\n",
    "    s3=s[0,3].real\n",
    "\n",
    "    s = [s1,s2,s3]\n",
    "    \n",
    "    return s"
   ]
  },
  {
   "cell_type": "code",
   "execution_count": 77,
   "id": "musical-girlfriend",
   "metadata": {},
   "outputs": [],
   "source": [
    "## Initial angles for Pauli matrices eigenstates \n",
    "ang_z0 = [0,0,0]\n",
    "ang_z1 = [pi,0,0]\n",
    "ang_x0 = [pi/2,0,0]\n",
    "ang_x1 = [-pi/2,0,0]\n",
    "ang_y0 = [-pi/2,-pi/2,pi/2]\n",
    "ang_y1 = [pi/2,-pi/2,pi/2]\n",
    "\n",
    "## We recalculate the T matrix\n",
    "thA, thB = 3.44819693, -8.4194307\n",
    "U = U_matrix(thA, thB)\n",
    "T = np.array(T_matrix(U))"
   ]
  },
  {
   "cell_type": "code",
   "execution_count": 42,
   "id": "infrared-operations",
   "metadata": {},
   "outputs": [
    {
     "data": {
      "application/vnd.jupyter.widget-view+json": {
       "model_id": "",
       "version_major": 2,
       "version_minor": 0
      },
      "text/plain": [
       "Accordion(children=(VBox(layout=Layout(max_width='710px', min_width='710px')),), layout=Layout(max_height='500…"
      ]
     },
     "metadata": {},
     "output_type": "display_data"
    },
    {
     "data": {
      "application/javascript": [
       "\n",
       "        const isLab = window['Jupyter'] === undefined;\n",
       "        const notebook = document.querySelector( isLab ? 'div.jp-Notebook' : '#site');\n",
       "        const jobWidget = document.querySelector('div.job_widget');\n",
       "        notebook.prepend(jobWidget);\n",
       "        jobWidget.style.zIndex = '999';\n",
       "        jobWidget.style.position = isLab ? 'sticky' : 'fixed';\n",
       "        jobWidget.style.boxShadow = '5px 5px 5px -3px black';\n",
       "        jobWidget.style.opacity = '0.95';\n",
       "        if (isLab) {\n",
       "            jobWidget.style.top = '0';\n",
       "            jobWidget.style.left = '0';\n",
       "        }\n",
       "        "
      ],
      "text/plain": [
       "<IPython.core.display.Javascript object>"
      ]
     },
     "metadata": {},
     "output_type": "display_data"
    },
    {
     "name": "stdout",
     "output_type": "stream",
     "text": [
      "Job Status: job has successfully run\n",
      "s ideal:  [2.220446049250313e-16, -1.1102230246251565e-16, 0.9999999999999999]\n",
      "s simulation:  [0.073697819745566, -0.08681039562301876, 1.0562828813577725]\n",
      "Local simulation fidelity:  0.9971195040550281\n",
      "State:  z0 run:  1  Finished.\n"
     ]
    },
    {
     "data": {
      "application/vnd.jupyter.widget-view+json": {
       "model_id": "",
       "version_major": 2,
       "version_minor": 0
      },
      "text/plain": [
       "Accordion(children=(VBox(layout=Layout(max_width='710px', min_width='710px')),), layout=Layout(max_height='500…"
      ]
     },
     "metadata": {},
     "output_type": "display_data"
    },
    {
     "data": {
      "application/javascript": [
       "\n",
       "        const isLab = window['Jupyter'] === undefined;\n",
       "        const notebook = document.querySelector( isLab ? 'div.jp-Notebook' : '#site');\n",
       "        const jobWidget = document.querySelector('div.job_widget');\n",
       "        notebook.prepend(jobWidget);\n",
       "        jobWidget.style.zIndex = '999';\n",
       "        jobWidget.style.position = isLab ? 'sticky' : 'fixed';\n",
       "        jobWidget.style.boxShadow = '5px 5px 5px -3px black';\n",
       "        jobWidget.style.opacity = '0.95';\n",
       "        if (isLab) {\n",
       "            jobWidget.style.top = '0';\n",
       "            jobWidget.style.left = '0';\n",
       "        }\n",
       "        "
      ],
      "text/plain": [
       "<IPython.core.display.Javascript object>"
      ]
     },
     "metadata": {},
     "output_type": "display_data"
    },
    {
     "name": "stdout",
     "output_type": "stream",
     "text": [
      "Job Status: job has successfully run\n",
      "s ideal:  [2.220446049250313e-16, -1.1102230246251565e-16, 0.9999999999999999]\n",
      "s simulation:  [-0.04158503522810597, 0.06363957170012535, 0.8913133871524821]\n",
      "Local simulation fidelity:  0.9981911877083263\n",
      "State:  z0 run:  2  Finished.\n"
     ]
    },
    {
     "data": {
      "application/vnd.jupyter.widget-view+json": {
       "model_id": "",
       "version_major": 2,
       "version_minor": 0
      },
      "text/plain": [
       "Accordion(children=(VBox(layout=Layout(max_width='710px', min_width='710px')),), layout=Layout(max_height='500…"
      ]
     },
     "metadata": {},
     "output_type": "display_data"
    },
    {
     "data": {
      "application/javascript": [
       "\n",
       "        const isLab = window['Jupyter'] === undefined;\n",
       "        const notebook = document.querySelector( isLab ? 'div.jp-Notebook' : '#site');\n",
       "        const jobWidget = document.querySelector('div.job_widget');\n",
       "        notebook.prepend(jobWidget);\n",
       "        jobWidget.style.zIndex = '999';\n",
       "        jobWidget.style.position = isLab ? 'sticky' : 'fixed';\n",
       "        jobWidget.style.boxShadow = '5px 5px 5px -3px black';\n",
       "        jobWidget.style.opacity = '0.95';\n",
       "        if (isLab) {\n",
       "            jobWidget.style.top = '0';\n",
       "            jobWidget.style.left = '0';\n",
       "        }\n",
       "        "
      ],
      "text/plain": [
       "<IPython.core.display.Javascript object>"
      ]
     },
     "metadata": {},
     "output_type": "display_data"
    },
    {
     "name": "stdout",
     "output_type": "stream",
     "text": [
      "Job Status: job has successfully run\n",
      "s ideal:  [2.220446049250313e-16, -1.1102230246251565e-16, 0.9999999999999999]\n",
      "s simulation:  [-0.10848882090645318, -0.18099494360236998, 1.0667314902169824]\n",
      "Local simulation fidelity:  0.990495055050126\n",
      "State:  z0 run:  3  Finished.\n"
     ]
    },
    {
     "data": {
      "application/vnd.jupyter.widget-view+json": {
       "model_id": "",
       "version_major": 2,
       "version_minor": 0
      },
      "text/plain": [
       "Accordion(children=(VBox(layout=Layout(max_width='710px', min_width='710px')),), layout=Layout(max_height='500…"
      ]
     },
     "metadata": {},
     "output_type": "display_data"
    },
    {
     "data": {
      "application/javascript": [
       "\n",
       "        const isLab = window['Jupyter'] === undefined;\n",
       "        const notebook = document.querySelector( isLab ? 'div.jp-Notebook' : '#site');\n",
       "        const jobWidget = document.querySelector('div.job_widget');\n",
       "        notebook.prepend(jobWidget);\n",
       "        jobWidget.style.zIndex = '999';\n",
       "        jobWidget.style.position = isLab ? 'sticky' : 'fixed';\n",
       "        jobWidget.style.boxShadow = '5px 5px 5px -3px black';\n",
       "        jobWidget.style.opacity = '0.95';\n",
       "        if (isLab) {\n",
       "            jobWidget.style.top = '0';\n",
       "            jobWidget.style.left = '0';\n",
       "        }\n",
       "        "
      ],
      "text/plain": [
       "<IPython.core.display.Javascript object>"
      ]
     },
     "metadata": {},
     "output_type": "display_data"
    },
    {
     "name": "stdout",
     "output_type": "stream",
     "text": [
      "Job Status: job has successfully run\n",
      "s ideal:  [2.220446049250313e-16, -1.1102230246251565e-16, 0.9999999999999999]\n",
      "s simulation:  [-0.006634629522759505, 0.03929108252433777, 0.9288056571888137]\n",
      "Local simulation fidelity:  0.9995404961592339\n",
      "State:  z0 run:  4  Finished.\n"
     ]
    },
    {
     "data": {
      "application/vnd.jupyter.widget-view+json": {
       "model_id": "",
       "version_major": 2,
       "version_minor": 0
      },
      "text/plain": [
       "Accordion(children=(VBox(layout=Layout(max_width='710px', min_width='710px')),), layout=Layout(max_height='500…"
      ]
     },
     "metadata": {},
     "output_type": "display_data"
    },
    {
     "data": {
      "application/javascript": [
       "\n",
       "        const isLab = window['Jupyter'] === undefined;\n",
       "        const notebook = document.querySelector( isLab ? 'div.jp-Notebook' : '#site');\n",
       "        const jobWidget = document.querySelector('div.job_widget');\n",
       "        notebook.prepend(jobWidget);\n",
       "        jobWidget.style.zIndex = '999';\n",
       "        jobWidget.style.position = isLab ? 'sticky' : 'fixed';\n",
       "        jobWidget.style.boxShadow = '5px 5px 5px -3px black';\n",
       "        jobWidget.style.opacity = '0.95';\n",
       "        if (isLab) {\n",
       "            jobWidget.style.top = '0';\n",
       "            jobWidget.style.left = '0';\n",
       "        }\n",
       "        "
      ],
      "text/plain": [
       "<IPython.core.display.Javascript object>"
      ]
     },
     "metadata": {},
     "output_type": "display_data"
    },
    {
     "name": "stdout",
     "output_type": "stream",
     "text": [
      "Job Status: job has successfully run\n",
      "s ideal:  [2.220446049250313e-16, -1.1102230246251565e-16, 0.9999999999999999]\n",
      "s simulation:  [0.06160972288914901, -0.06286164623513296, 0.9141398887667208]\n",
      "Local simulation fidelity:  0.997698237290995\n",
      "State:  z0 run:  5  Finished.\n"
     ]
    },
    {
     "data": {
      "application/vnd.jupyter.widget-view+json": {
       "model_id": "",
       "version_major": 2,
       "version_minor": 0
      },
      "text/plain": [
       "Accordion(children=(VBox(layout=Layout(max_width='710px', min_width='710px')),), layout=Layout(max_height='500…"
      ]
     },
     "metadata": {},
     "output_type": "display_data"
    },
    {
     "data": {
      "application/javascript": [
       "\n",
       "        const isLab = window['Jupyter'] === undefined;\n",
       "        const notebook = document.querySelector( isLab ? 'div.jp-Notebook' : '#site');\n",
       "        const jobWidget = document.querySelector('div.job_widget');\n",
       "        notebook.prepend(jobWidget);\n",
       "        jobWidget.style.zIndex = '999';\n",
       "        jobWidget.style.position = isLab ? 'sticky' : 'fixed';\n",
       "        jobWidget.style.boxShadow = '5px 5px 5px -3px black';\n",
       "        jobWidget.style.opacity = '0.95';\n",
       "        if (isLab) {\n",
       "            jobWidget.style.top = '0';\n",
       "            jobWidget.style.left = '0';\n",
       "        }\n",
       "        "
      ],
      "text/plain": [
       "<IPython.core.display.Javascript object>"
      ]
     },
     "metadata": {},
     "output_type": "display_data"
    },
    {
     "name": "stdout",
     "output_type": "stream",
     "text": [
      "Job Status: job has successfully run\n",
      "s ideal:  [5.551115123125783e-16, 2.220446049250313e-16, -0.9999999999999999]\n",
      "s simulation:  [0.15030758691709512, 0.014548837815117066, -0.954217565323326]\n",
      "Local simulation fidelity:  0.9938540142540514\n",
      "State:  z1 run:  1  Finished.\n"
     ]
    },
    {
     "data": {
      "application/vnd.jupyter.widget-view+json": {
       "model_id": "",
       "version_major": 2,
       "version_minor": 0
      },
      "text/plain": [
       "Accordion(children=(VBox(layout=Layout(max_width='710px', min_width='710px')),), layout=Layout(max_height='500…"
      ]
     },
     "metadata": {},
     "output_type": "display_data"
    },
    {
     "data": {
      "application/javascript": [
       "\n",
       "        const isLab = window['Jupyter'] === undefined;\n",
       "        const notebook = document.querySelector( isLab ? 'div.jp-Notebook' : '#site');\n",
       "        const jobWidget = document.querySelector('div.job_widget');\n",
       "        notebook.prepend(jobWidget);\n",
       "        jobWidget.style.zIndex = '999';\n",
       "        jobWidget.style.position = isLab ? 'sticky' : 'fixed';\n",
       "        jobWidget.style.boxShadow = '5px 5px 5px -3px black';\n",
       "        jobWidget.style.opacity = '0.95';\n",
       "        if (isLab) {\n",
       "            jobWidget.style.top = '0';\n",
       "            jobWidget.style.left = '0';\n",
       "        }\n",
       "        "
      ],
      "text/plain": [
       "<IPython.core.display.Javascript object>"
      ]
     },
     "metadata": {},
     "output_type": "display_data"
    },
    {
     "name": "stdout",
     "output_type": "stream",
     "text": [
      "Job Status: job has successfully run\n",
      "s ideal:  [5.551115123125783e-16, 2.220446049250313e-16, -0.9999999999999999]\n",
      "s simulation:  [0.013470123232119213, -0.00893011685394507, -0.9518113437830188]\n",
      "Local simulation fidelity:  0.9999279385639762\n",
      "State:  z1 run:  2  Finished.\n"
     ]
    },
    {
     "data": {
      "application/vnd.jupyter.widget-view+json": {
       "model_id": "",
       "version_major": 2,
       "version_minor": 0
      },
      "text/plain": [
       "Accordion(children=(VBox(layout=Layout(max_width='710px', min_width='710px')),), layout=Layout(max_height='500…"
      ]
     },
     "metadata": {},
     "output_type": "display_data"
    },
    {
     "data": {
      "application/javascript": [
       "\n",
       "        const isLab = window['Jupyter'] === undefined;\n",
       "        const notebook = document.querySelector( isLab ? 'div.jp-Notebook' : '#site');\n",
       "        const jobWidget = document.querySelector('div.job_widget');\n",
       "        notebook.prepend(jobWidget);\n",
       "        jobWidget.style.zIndex = '999';\n",
       "        jobWidget.style.position = isLab ? 'sticky' : 'fixed';\n",
       "        jobWidget.style.boxShadow = '5px 5px 5px -3px black';\n",
       "        jobWidget.style.opacity = '0.95';\n",
       "        if (isLab) {\n",
       "            jobWidget.style.top = '0';\n",
       "            jobWidget.style.left = '0';\n",
       "        }\n",
       "        "
      ],
      "text/plain": [
       "<IPython.core.display.Javascript object>"
      ]
     },
     "metadata": {},
     "output_type": "display_data"
    },
    {
     "name": "stdout",
     "output_type": "stream",
     "text": [
      "Job Status: job has successfully run\n",
      "s ideal:  [5.551115123125783e-16, 2.220446049250313e-16, -0.9999999999999999]\n",
      "s simulation:  [-0.04231069159255707, -0.0022312103684527518, -0.9962616405604116]\n",
      "Local simulation fidelity:  0.9995484448018688\n",
      "State:  z1 run:  3  Finished.\n"
     ]
    },
    {
     "data": {
      "application/vnd.jupyter.widget-view+json": {
       "model_id": "",
       "version_major": 2,
       "version_minor": 0
      },
      "text/plain": [
       "Accordion(children=(VBox(layout=Layout(max_width='710px', min_width='710px')),), layout=Layout(max_height='500…"
      ]
     },
     "metadata": {},
     "output_type": "display_data"
    },
    {
     "data": {
      "application/javascript": [
       "\n",
       "        const isLab = window['Jupyter'] === undefined;\n",
       "        const notebook = document.querySelector( isLab ? 'div.jp-Notebook' : '#site');\n",
       "        const jobWidget = document.querySelector('div.job_widget');\n",
       "        notebook.prepend(jobWidget);\n",
       "        jobWidget.style.zIndex = '999';\n",
       "        jobWidget.style.position = isLab ? 'sticky' : 'fixed';\n",
       "        jobWidget.style.boxShadow = '5px 5px 5px -3px black';\n",
       "        jobWidget.style.opacity = '0.95';\n",
       "        if (isLab) {\n",
       "            jobWidget.style.top = '0';\n",
       "            jobWidget.style.left = '0';\n",
       "        }\n",
       "        "
      ],
      "text/plain": [
       "<IPython.core.display.Javascript object>"
      ]
     },
     "metadata": {},
     "output_type": "display_data"
    },
    {
     "name": "stdout",
     "output_type": "stream",
     "text": [
      "Job Status: job has successfully run\n",
      "s ideal:  [5.551115123125783e-16, 2.220446049250313e-16, -0.9999999999999999]\n",
      "s simulation:  [-0.010865021056819024, -0.03409349647758886, -0.989543195383579]\n",
      "Local simulation fidelity:  0.9996734154410237\n",
      "State:  z1 run:  4  Finished.\n"
     ]
    },
    {
     "data": {
      "application/vnd.jupyter.widget-view+json": {
       "model_id": "",
       "version_major": 2,
       "version_minor": 0
      },
      "text/plain": [
       "Accordion(children=(VBox(layout=Layout(max_width='710px', min_width='710px')),), layout=Layout(max_height='500…"
      ]
     },
     "metadata": {},
     "output_type": "display_data"
    },
    {
     "data": {
      "application/javascript": [
       "\n",
       "        const isLab = window['Jupyter'] === undefined;\n",
       "        const notebook = document.querySelector( isLab ? 'div.jp-Notebook' : '#site');\n",
       "        const jobWidget = document.querySelector('div.job_widget');\n",
       "        notebook.prepend(jobWidget);\n",
       "        jobWidget.style.zIndex = '999';\n",
       "        jobWidget.style.position = isLab ? 'sticky' : 'fixed';\n",
       "        jobWidget.style.boxShadow = '5px 5px 5px -3px black';\n",
       "        jobWidget.style.opacity = '0.95';\n",
       "        if (isLab) {\n",
       "            jobWidget.style.top = '0';\n",
       "            jobWidget.style.left = '0';\n",
       "        }\n",
       "        "
      ],
      "text/plain": [
       "<IPython.core.display.Javascript object>"
      ]
     },
     "metadata": {},
     "output_type": "display_data"
    },
    {
     "name": "stdout",
     "output_type": "stream",
     "text": [
      "Job Status: job has successfully run\n",
      "s ideal:  [5.551115123125783e-16, 2.220446049250313e-16, -0.9999999999999999]\n",
      "s simulation:  [0.004439047806429841, -0.05061720355895616, -0.9383455643616727]\n",
      "Local simulation fidelity:  0.9992685506294028\n",
      "State:  z1 run:  5  Finished.\n"
     ]
    },
    {
     "data": {
      "application/vnd.jupyter.widget-view+json": {
       "model_id": "",
       "version_major": 2,
       "version_minor": 0
      },
      "text/plain": [
       "Accordion(children=(VBox(layout=Layout(max_width='710px', min_width='710px')),), layout=Layout(max_height='500…"
      ]
     },
     "metadata": {},
     "output_type": "display_data"
    },
    {
     "data": {
      "application/javascript": [
       "\n",
       "        const isLab = window['Jupyter'] === undefined;\n",
       "        const notebook = document.querySelector( isLab ? 'div.jp-Notebook' : '#site');\n",
       "        const jobWidget = document.querySelector('div.job_widget');\n",
       "        notebook.prepend(jobWidget);\n",
       "        jobWidget.style.zIndex = '999';\n",
       "        jobWidget.style.position = isLab ? 'sticky' : 'fixed';\n",
       "        jobWidget.style.boxShadow = '5px 5px 5px -3px black';\n",
       "        jobWidget.style.opacity = '0.95';\n",
       "        if (isLab) {\n",
       "            jobWidget.style.top = '0';\n",
       "            jobWidget.style.left = '0';\n",
       "        }\n",
       "        "
      ],
      "text/plain": [
       "<IPython.core.display.Javascript object>"
      ]
     },
     "metadata": {},
     "output_type": "display_data"
    },
    {
     "name": "stdout",
     "output_type": "stream",
     "text": [
      "Job Status: job has successfully run\n",
      "s ideal:  [1.0, 1.6653345369377348e-16, -5.551115123125783e-17]\n",
      "s simulation:  [1.008268912519323, -0.020254890028121864, 0.06087332391367084]\n",
      "Local simulation fidelity:  0.99899091538804\n",
      "State:  x0 run:  1  Finished.\n"
     ]
    },
    {
     "data": {
      "application/vnd.jupyter.widget-view+json": {
       "model_id": "",
       "version_major": 2,
       "version_minor": 0
      },
      "text/plain": [
       "Accordion(children=(VBox(layout=Layout(max_width='710px', min_width='710px')),), layout=Layout(max_height='500…"
      ]
     },
     "metadata": {},
     "output_type": "display_data"
    },
    {
     "data": {
      "application/javascript": [
       "\n",
       "        const isLab = window['Jupyter'] === undefined;\n",
       "        const notebook = document.querySelector( isLab ? 'div.jp-Notebook' : '#site');\n",
       "        const jobWidget = document.querySelector('div.job_widget');\n",
       "        notebook.prepend(jobWidget);\n",
       "        jobWidget.style.zIndex = '999';\n",
       "        jobWidget.style.position = isLab ? 'sticky' : 'fixed';\n",
       "        jobWidget.style.boxShadow = '5px 5px 5px -3px black';\n",
       "        jobWidget.style.opacity = '0.95';\n",
       "        if (isLab) {\n",
       "            jobWidget.style.top = '0';\n",
       "            jobWidget.style.left = '0';\n",
       "        }\n",
       "        "
      ],
      "text/plain": [
       "<IPython.core.display.Javascript object>"
      ]
     },
     "metadata": {},
     "output_type": "display_data"
    },
    {
     "name": "stdout",
     "output_type": "stream",
     "text": [
      "Job Status: job has successfully run\n",
      "s ideal:  [1.0, 1.6653345369377348e-16, -5.551115123125783e-17]\n",
      "s simulation:  [0.9551884033775604, 0.06214141484447305, -0.056327180893291584]\n",
      "Local simulation fidelity:  0.9980836235895267\n",
      "State:  x0 run:  2  Finished.\n"
     ]
    },
    {
     "data": {
      "application/vnd.jupyter.widget-view+json": {
       "model_id": "",
       "version_major": 2,
       "version_minor": 0
      },
      "text/plain": [
       "Accordion(children=(VBox(layout=Layout(max_width='710px', min_width='710px')),), layout=Layout(max_height='500…"
      ]
     },
     "metadata": {},
     "output_type": "display_data"
    },
    {
     "data": {
      "application/javascript": [
       "\n",
       "        const isLab = window['Jupyter'] === undefined;\n",
       "        const notebook = document.querySelector( isLab ? 'div.jp-Notebook' : '#site');\n",
       "        const jobWidget = document.querySelector('div.job_widget');\n",
       "        notebook.prepend(jobWidget);\n",
       "        jobWidget.style.zIndex = '999';\n",
       "        jobWidget.style.position = isLab ? 'sticky' : 'fixed';\n",
       "        jobWidget.style.boxShadow = '5px 5px 5px -3px black';\n",
       "        jobWidget.style.opacity = '0.95';\n",
       "        if (isLab) {\n",
       "            jobWidget.style.top = '0';\n",
       "            jobWidget.style.left = '0';\n",
       "        }\n",
       "        "
      ],
      "text/plain": [
       "<IPython.core.display.Javascript object>"
      ]
     },
     "metadata": {},
     "output_type": "display_data"
    },
    {
     "name": "stdout",
     "output_type": "stream",
     "text": [
      "Job Status: job has successfully run\n",
      "s ideal:  [1.0, 1.6653345369377348e-16, -5.551115123125783e-17]\n",
      "s simulation:  [0.9838883875981563, -0.031746047510282926, 0.051124340306754834]\n",
      "Local simulation fidelity:  0.9990673439190135\n",
      "State:  x0 run:  3  Finished.\n"
     ]
    },
    {
     "data": {
      "application/vnd.jupyter.widget-view+json": {
       "model_id": "",
       "version_major": 2,
       "version_minor": 0
      },
      "text/plain": [
       "Accordion(children=(VBox(layout=Layout(max_width='710px', min_width='710px')),), layout=Layout(max_height='500…"
      ]
     },
     "metadata": {},
     "output_type": "display_data"
    },
    {
     "data": {
      "application/javascript": [
       "\n",
       "        const isLab = window['Jupyter'] === undefined;\n",
       "        const notebook = document.querySelector( isLab ? 'div.jp-Notebook' : '#site');\n",
       "        const jobWidget = document.querySelector('div.job_widget');\n",
       "        notebook.prepend(jobWidget);\n",
       "        jobWidget.style.zIndex = '999';\n",
       "        jobWidget.style.position = isLab ? 'sticky' : 'fixed';\n",
       "        jobWidget.style.boxShadow = '5px 5px 5px -3px black';\n",
       "        jobWidget.style.opacity = '0.95';\n",
       "        if (isLab) {\n",
       "            jobWidget.style.top = '0';\n",
       "            jobWidget.style.left = '0';\n",
       "        }\n",
       "        "
      ],
      "text/plain": [
       "<IPython.core.display.Javascript object>"
      ]
     },
     "metadata": {},
     "output_type": "display_data"
    },
    {
     "name": "stdout",
     "output_type": "stream",
     "text": [
      "Job Status: job has successfully run\n",
      "s ideal:  [1.0, 1.6653345369377348e-16, -5.551115123125783e-17]\n",
      "s simulation:  [1.0448716935270355, -0.03539701202597095, -0.07899660578713508]\n",
      "Local simulation fidelity:  0.998292875957542\n",
      "State:  x0 run:  4  Finished.\n"
     ]
    },
    {
     "data": {
      "application/vnd.jupyter.widget-view+json": {
       "model_id": "",
       "version_major": 2,
       "version_minor": 0
      },
      "text/plain": [
       "Accordion(children=(VBox(layout=Layout(max_width='710px', min_width='710px')),), layout=Layout(max_height='500…"
      ]
     },
     "metadata": {},
     "output_type": "display_data"
    },
    {
     "data": {
      "application/javascript": [
       "\n",
       "        const isLab = window['Jupyter'] === undefined;\n",
       "        const notebook = document.querySelector( isLab ? 'div.jp-Notebook' : '#site');\n",
       "        const jobWidget = document.querySelector('div.job_widget');\n",
       "        notebook.prepend(jobWidget);\n",
       "        jobWidget.style.zIndex = '999';\n",
       "        jobWidget.style.position = isLab ? 'sticky' : 'fixed';\n",
       "        jobWidget.style.boxShadow = '5px 5px 5px -3px black';\n",
       "        jobWidget.style.opacity = '0.95';\n",
       "        if (isLab) {\n",
       "            jobWidget.style.top = '0';\n",
       "            jobWidget.style.left = '0';\n",
       "        }\n",
       "        "
      ],
      "text/plain": [
       "<IPython.core.display.Javascript object>"
      ]
     },
     "metadata": {},
     "output_type": "display_data"
    },
    {
     "name": "stdout",
     "output_type": "stream",
     "text": [
      "Job Status: job has successfully run\n",
      "s ideal:  [1.0, 1.6653345369377348e-16, -5.551115123125783e-17]\n",
      "s simulation:  [1.0101749649953633, -0.04199636139838181, -0.0033821415566154256]\n",
      "Local simulation fidelity:  0.9995656782205725\n",
      "State:  x0 run:  5  Finished.\n"
     ]
    },
    {
     "data": {
      "application/vnd.jupyter.widget-view+json": {
       "model_id": "",
       "version_major": 2,
       "version_minor": 0
      },
      "text/plain": [
       "Accordion(children=(VBox(layout=Layout(max_width='710px', min_width='710px')),), layout=Layout(max_height='500…"
      ]
     },
     "metadata": {},
     "output_type": "display_data"
    },
    {
     "data": {
      "application/javascript": [
       "\n",
       "        const isLab = window['Jupyter'] === undefined;\n",
       "        const notebook = document.querySelector( isLab ? 'div.jp-Notebook' : '#site');\n",
       "        const jobWidget = document.querySelector('div.job_widget');\n",
       "        notebook.prepend(jobWidget);\n",
       "        jobWidget.style.zIndex = '999';\n",
       "        jobWidget.style.position = isLab ? 'sticky' : 'fixed';\n",
       "        jobWidget.style.boxShadow = '5px 5px 5px -3px black';\n",
       "        jobWidget.style.opacity = '0.95';\n",
       "        if (isLab) {\n",
       "            jobWidget.style.top = '0';\n",
       "            jobWidget.style.left = '0';\n",
       "        }\n",
       "        "
      ],
      "text/plain": [
       "<IPython.core.display.Javascript object>"
      ]
     },
     "metadata": {},
     "output_type": "display_data"
    },
    {
     "name": "stdout",
     "output_type": "stream",
     "text": [
      "Job Status: job has successfully run\n",
      "s ideal:  [-0.9999999999999997, -3.3306690738754696e-16, -9.020562075079397e-17]\n",
      "s simulation:  [-1.1223685796565799, 0.04228672846332793, -0.008641521003037165]\n",
      "Local simulation fidelity:  0.9996307130297003\n",
      "State:  x1 run:  1  Finished.\n"
     ]
    },
    {
     "data": {
      "application/vnd.jupyter.widget-view+json": {
       "model_id": "",
       "version_major": 2,
       "version_minor": 0
      },
      "text/plain": [
       "Accordion(children=(VBox(layout=Layout(max_width='710px', min_width='710px')),), layout=Layout(max_height='500…"
      ]
     },
     "metadata": {},
     "output_type": "display_data"
    },
    {
     "data": {
      "application/javascript": [
       "\n",
       "        const isLab = window['Jupyter'] === undefined;\n",
       "        const notebook = document.querySelector( isLab ? 'div.jp-Notebook' : '#site');\n",
       "        const jobWidget = document.querySelector('div.job_widget');\n",
       "        notebook.prepend(jobWidget);\n",
       "        jobWidget.style.zIndex = '999';\n",
       "        jobWidget.style.position = isLab ? 'sticky' : 'fixed';\n",
       "        jobWidget.style.boxShadow = '5px 5px 5px -3px black';\n",
       "        jobWidget.style.opacity = '0.95';\n",
       "        if (isLab) {\n",
       "            jobWidget.style.top = '0';\n",
       "            jobWidget.style.left = '0';\n",
       "        }\n",
       "        "
      ],
      "text/plain": [
       "<IPython.core.display.Javascript object>"
      ]
     },
     "metadata": {},
     "output_type": "display_data"
    },
    {
     "name": "stdout",
     "output_type": "stream",
     "text": [
      "Job Status: job has successfully run\n",
      "s ideal:  [-0.9999999999999997, -3.3306690738754696e-16, -9.020562075079397e-17]\n",
      "s simulation:  [-1.1171970908450615, 0.05854746048806059, 0.07518729219578082]\n",
      "Local simulation fidelity:  0.9981909566357683\n",
      "State:  x1 run:  2  Finished.\n"
     ]
    },
    {
     "data": {
      "application/vnd.jupyter.widget-view+json": {
       "model_id": "",
       "version_major": 2,
       "version_minor": 0
      },
      "text/plain": [
       "Accordion(children=(VBox(layout=Layout(max_width='710px', min_width='710px')),), layout=Layout(max_height='500…"
      ]
     },
     "metadata": {},
     "output_type": "display_data"
    },
    {
     "data": {
      "application/javascript": [
       "\n",
       "        const isLab = window['Jupyter'] === undefined;\n",
       "        const notebook = document.querySelector( isLab ? 'div.jp-Notebook' : '#site');\n",
       "        const jobWidget = document.querySelector('div.job_widget');\n",
       "        notebook.prepend(jobWidget);\n",
       "        jobWidget.style.zIndex = '999';\n",
       "        jobWidget.style.position = isLab ? 'sticky' : 'fixed';\n",
       "        jobWidget.style.boxShadow = '5px 5px 5px -3px black';\n",
       "        jobWidget.style.opacity = '0.95';\n",
       "        if (isLab) {\n",
       "            jobWidget.style.top = '0';\n",
       "            jobWidget.style.left = '0';\n",
       "        }\n",
       "        "
      ],
      "text/plain": [
       "<IPython.core.display.Javascript object>"
      ]
     },
     "metadata": {},
     "output_type": "display_data"
    },
    {
     "name": "stdout",
     "output_type": "stream",
     "text": [
      "Job Status: job has successfully run\n",
      "s ideal:  [-0.9999999999999997, -3.3306690738754696e-16, -9.020562075079397e-17]\n",
      "s simulation:  [-1.0329802636165897, 0.03361774551252228, 0.1505776960618058]\n",
      "Local simulation fidelity:  0.9945145884289379\n",
      "State:  x1 run:  3  Finished.\n"
     ]
    },
    {
     "data": {
      "application/vnd.jupyter.widget-view+json": {
       "model_id": "",
       "version_major": 2,
       "version_minor": 0
      },
      "text/plain": [
       "Accordion(children=(VBox(layout=Layout(max_width='710px', min_width='710px')),), layout=Layout(max_height='500…"
      ]
     },
     "metadata": {},
     "output_type": "display_data"
    },
    {
     "data": {
      "application/javascript": [
       "\n",
       "        const isLab = window['Jupyter'] === undefined;\n",
       "        const notebook = document.querySelector( isLab ? 'div.jp-Notebook' : '#site');\n",
       "        const jobWidget = document.querySelector('div.job_widget');\n",
       "        notebook.prepend(jobWidget);\n",
       "        jobWidget.style.zIndex = '999';\n",
       "        jobWidget.style.position = isLab ? 'sticky' : 'fixed';\n",
       "        jobWidget.style.boxShadow = '5px 5px 5px -3px black';\n",
       "        jobWidget.style.opacity = '0.95';\n",
       "        if (isLab) {\n",
       "            jobWidget.style.top = '0';\n",
       "            jobWidget.style.left = '0';\n",
       "        }\n",
       "        "
      ],
      "text/plain": [
       "<IPython.core.display.Javascript object>"
      ]
     },
     "metadata": {},
     "output_type": "display_data"
    },
    {
     "name": "stdout",
     "output_type": "stream",
     "text": [
      "Job Status: job has successfully run\n",
      "s ideal:  [-0.9999999999999997, -3.3306690738754696e-16, -9.020562075079397e-17]\n",
      "s simulation:  [-0.9807412526171799, 0.026700585250977293, -0.05217158609993494]\n",
      "Local simulation fidelity:  0.9991096294831258\n",
      "State:  x1 run:  4  Finished.\n"
     ]
    },
    {
     "data": {
      "application/vnd.jupyter.widget-view+json": {
       "model_id": "",
       "version_major": 2,
       "version_minor": 0
      },
      "text/plain": [
       "Accordion(children=(VBox(layout=Layout(max_width='710px', min_width='710px')),), layout=Layout(max_height='500…"
      ]
     },
     "metadata": {},
     "output_type": "display_data"
    },
    {
     "data": {
      "application/javascript": [
       "\n",
       "        const isLab = window['Jupyter'] === undefined;\n",
       "        const notebook = document.querySelector( isLab ? 'div.jp-Notebook' : '#site');\n",
       "        const jobWidget = document.querySelector('div.job_widget');\n",
       "        notebook.prepend(jobWidget);\n",
       "        jobWidget.style.zIndex = '999';\n",
       "        jobWidget.style.position = isLab ? 'sticky' : 'fixed';\n",
       "        jobWidget.style.boxShadow = '5px 5px 5px -3px black';\n",
       "        jobWidget.style.opacity = '0.95';\n",
       "        if (isLab) {\n",
       "            jobWidget.style.top = '0';\n",
       "            jobWidget.style.left = '0';\n",
       "        }\n",
       "        "
      ],
      "text/plain": [
       "<IPython.core.display.Javascript object>"
      ]
     },
     "metadata": {},
     "output_type": "display_data"
    },
    {
     "name": "stdout",
     "output_type": "stream",
     "text": [
      "Job Status: job has successfully run\n",
      "s ideal:  [-0.9999999999999997, -3.3306690738754696e-16, -9.020562075079397e-17]\n",
      "s simulation:  [-1.119160919626318, 0.05608844975403349, 0.14482173950109595]\n",
      "Local simulation fidelity:  0.9952542903012157\n",
      "State:  x1 run:  5  Finished.\n"
     ]
    },
    {
     "data": {
      "application/vnd.jupyter.widget-view+json": {
       "model_id": "",
       "version_major": 2,
       "version_minor": 0
      },
      "text/plain": [
       "Accordion(children=(VBox(layout=Layout(max_width='710px', min_width='710px')),), layout=Layout(max_height='500…"
      ]
     },
     "metadata": {},
     "output_type": "display_data"
    },
    {
     "data": {
      "application/javascript": [
       "\n",
       "        const isLab = window['Jupyter'] === undefined;\n",
       "        const notebook = document.querySelector( isLab ? 'div.jp-Notebook' : '#site');\n",
       "        const jobWidget = document.querySelector('div.job_widget');\n",
       "        notebook.prepend(jobWidget);\n",
       "        jobWidget.style.zIndex = '999';\n",
       "        jobWidget.style.position = isLab ? 'sticky' : 'fixed';\n",
       "        jobWidget.style.boxShadow = '5px 5px 5px -3px black';\n",
       "        jobWidget.style.opacity = '0.95';\n",
       "        if (isLab) {\n",
       "            jobWidget.style.top = '0';\n",
       "            jobWidget.style.left = '0';\n",
       "        }\n",
       "        "
      ],
      "text/plain": [
       "<IPython.core.display.Javascript object>"
      ]
     },
     "metadata": {},
     "output_type": "display_data"
    },
    {
     "name": "stdout",
     "output_type": "stream",
     "text": [
      "Job Status: job has successfully run\n",
      "s ideal:  [2.220446049250313e-16, 0.9999999999999998, -4.371503159461554e-16]\n",
      "s simulation:  [-0.08567715673002152, 0.8885449844545221, 0.10475869921292424]\n",
      "Local simulation fidelity:  0.9942995346800895\n",
      "State:  y0 run:  1  Finished.\n"
     ]
    },
    {
     "data": {
      "application/vnd.jupyter.widget-view+json": {
       "model_id": "",
       "version_major": 2,
       "version_minor": 0
      },
      "text/plain": [
       "Accordion(children=(VBox(layout=Layout(max_width='710px', min_width='710px')),), layout=Layout(max_height='500…"
      ]
     },
     "metadata": {},
     "output_type": "display_data"
    },
    {
     "data": {
      "application/javascript": [
       "\n",
       "        const isLab = window['Jupyter'] === undefined;\n",
       "        const notebook = document.querySelector( isLab ? 'div.jp-Notebook' : '#site');\n",
       "        const jobWidget = document.querySelector('div.job_widget');\n",
       "        notebook.prepend(jobWidget);\n",
       "        jobWidget.style.zIndex = '999';\n",
       "        jobWidget.style.position = isLab ? 'sticky' : 'fixed';\n",
       "        jobWidget.style.boxShadow = '5px 5px 5px -3px black';\n",
       "        jobWidget.style.opacity = '0.95';\n",
       "        if (isLab) {\n",
       "            jobWidget.style.top = '0';\n",
       "            jobWidget.style.left = '0';\n",
       "        }\n",
       "        "
      ],
      "text/plain": [
       "<IPython.core.display.Javascript object>"
      ]
     },
     "metadata": {},
     "output_type": "display_data"
    },
    {
     "name": "stdout",
     "output_type": "stream",
     "text": [
      "Job Status: job has successfully run\n",
      "s ideal:  [2.220446049250313e-16, 0.9999999999999998, -4.371503159461554e-16]\n",
      "s simulation:  [0.04847251530833352, 0.9951129008768568, 0.04909247625701278]\n",
      "Local simulation fidelity:  0.9988026842036696\n",
      "State:  y0 run:  2  Finished.\n"
     ]
    },
    {
     "data": {
      "application/vnd.jupyter.widget-view+json": {
       "model_id": "",
       "version_major": 2,
       "version_minor": 0
      },
      "text/plain": [
       "Accordion(children=(VBox(layout=Layout(max_width='710px', min_width='710px')),), layout=Layout(max_height='500…"
      ]
     },
     "metadata": {},
     "output_type": "display_data"
    },
    {
     "data": {
      "application/javascript": [
       "\n",
       "        const isLab = window['Jupyter'] === undefined;\n",
       "        const notebook = document.querySelector( isLab ? 'div.jp-Notebook' : '#site');\n",
       "        const jobWidget = document.querySelector('div.job_widget');\n",
       "        notebook.prepend(jobWidget);\n",
       "        jobWidget.style.zIndex = '999';\n",
       "        jobWidget.style.position = isLab ? 'sticky' : 'fixed';\n",
       "        jobWidget.style.boxShadow = '5px 5px 5px -3px black';\n",
       "        jobWidget.style.opacity = '0.95';\n",
       "        if (isLab) {\n",
       "            jobWidget.style.top = '0';\n",
       "            jobWidget.style.left = '0';\n",
       "        }\n",
       "        "
      ],
      "text/plain": [
       "<IPython.core.display.Javascript object>"
      ]
     },
     "metadata": {},
     "output_type": "display_data"
    },
    {
     "name": "stdout",
     "output_type": "stream",
     "text": [
      "Job Status: job has successfully run\n",
      "s ideal:  [2.220446049250313e-16, 0.9999999999999998, -4.371503159461554e-16]\n",
      "s simulation:  [-0.020578485983436035, 0.9619540556331951, 0.04964910107977394]\n",
      "Local simulation fidelity:  0.9992214445801978\n",
      "State:  y0 run:  3  Finished.\n"
     ]
    },
    {
     "data": {
      "application/vnd.jupyter.widget-view+json": {
       "model_id": "",
       "version_major": 2,
       "version_minor": 0
      },
      "text/plain": [
       "Accordion(children=(VBox(layout=Layout(max_width='710px', min_width='710px')),), layout=Layout(max_height='500…"
      ]
     },
     "metadata": {},
     "output_type": "display_data"
    },
    {
     "data": {
      "application/javascript": [
       "\n",
       "        const isLab = window['Jupyter'] === undefined;\n",
       "        const notebook = document.querySelector( isLab ? 'div.jp-Notebook' : '#site');\n",
       "        const jobWidget = document.querySelector('div.job_widget');\n",
       "        notebook.prepend(jobWidget);\n",
       "        jobWidget.style.zIndex = '999';\n",
       "        jobWidget.style.position = isLab ? 'sticky' : 'fixed';\n",
       "        jobWidget.style.boxShadow = '5px 5px 5px -3px black';\n",
       "        jobWidget.style.opacity = '0.95';\n",
       "        if (isLab) {\n",
       "            jobWidget.style.top = '0';\n",
       "            jobWidget.style.left = '0';\n",
       "        }\n",
       "        "
      ],
      "text/plain": [
       "<IPython.core.display.Javascript object>"
      ]
     },
     "metadata": {},
     "output_type": "display_data"
    },
    {
     "name": "stdout",
     "output_type": "stream",
     "text": [
      "Job Status: job has successfully run\n",
      "s ideal:  [2.220446049250313e-16, 0.9999999999999998, -4.371503159461554e-16]\n",
      "s simulation:  [-0.03431673874905283, 1.1801916133000288, -0.004546581063877033]\n",
      "Local simulation fidelity:  0.9997850566504961\n",
      "State:  y0 run:  4  Finished.\n"
     ]
    },
    {
     "data": {
      "application/vnd.jupyter.widget-view+json": {
       "model_id": "",
       "version_major": 2,
       "version_minor": 0
      },
      "text/plain": [
       "Accordion(children=(VBox(layout=Layout(max_width='710px', min_width='710px')),), layout=Layout(max_height='500…"
      ]
     },
     "metadata": {},
     "output_type": "display_data"
    },
    {
     "data": {
      "application/javascript": [
       "\n",
       "        const isLab = window['Jupyter'] === undefined;\n",
       "        const notebook = document.querySelector( isLab ? 'div.jp-Notebook' : '#site');\n",
       "        const jobWidget = document.querySelector('div.job_widget');\n",
       "        notebook.prepend(jobWidget);\n",
       "        jobWidget.style.zIndex = '999';\n",
       "        jobWidget.style.position = isLab ? 'sticky' : 'fixed';\n",
       "        jobWidget.style.boxShadow = '5px 5px 5px -3px black';\n",
       "        jobWidget.style.opacity = '0.95';\n",
       "        if (isLab) {\n",
       "            jobWidget.style.top = '0';\n",
       "            jobWidget.style.left = '0';\n",
       "        }\n",
       "        "
      ],
      "text/plain": [
       "<IPython.core.display.Javascript object>"
      ]
     },
     "metadata": {},
     "output_type": "display_data"
    },
    {
     "name": "stdout",
     "output_type": "stream",
     "text": [
      "Job Status: job has successfully run\n",
      "s ideal:  [2.220446049250313e-16, 0.9999999999999998, -4.371503159461554e-16]\n",
      "s simulation:  [-0.009907549291673146, 0.8540611493757697, -0.015168668633535748]\n",
      "Local simulation fidelity:  0.9998875349267626\n",
      "State:  y0 run:  5  Finished.\n"
     ]
    },
    {
     "data": {
      "application/vnd.jupyter.widget-view+json": {
       "model_id": "",
       "version_major": 2,
       "version_minor": 0
      },
      "text/plain": [
       "Accordion(children=(VBox(layout=Layout(max_width='710px', min_width='710px')),), layout=Layout(max_height='500…"
      ]
     },
     "metadata": {},
     "output_type": "display_data"
    },
    {
     "data": {
      "application/javascript": [
       "\n",
       "        const isLab = window['Jupyter'] === undefined;\n",
       "        const notebook = document.querySelector( isLab ? 'div.jp-Notebook' : '#site');\n",
       "        const jobWidget = document.querySelector('div.job_widget');\n",
       "        notebook.prepend(jobWidget);\n",
       "        jobWidget.style.zIndex = '999';\n",
       "        jobWidget.style.position = isLab ? 'sticky' : 'fixed';\n",
       "        jobWidget.style.boxShadow = '5px 5px 5px -3px black';\n",
       "        jobWidget.style.opacity = '0.95';\n",
       "        if (isLab) {\n",
       "            jobWidget.style.top = '0';\n",
       "            jobWidget.style.left = '0';\n",
       "        }\n",
       "        "
      ],
      "text/plain": [
       "<IPython.core.display.Javascript object>"
      ]
     },
     "metadata": {},
     "output_type": "display_data"
    },
    {
     "name": "stdout",
     "output_type": "stream",
     "text": [
      "Job Status: job has successfully run\n",
      "s ideal:  [3.3306690738754696e-16, -0.9999999999999996, 1.6653345369377348e-16]\n",
      "s simulation:  [-0.07316117608948614, -0.9885861564631979, 0.1483671097216418]\n",
      "Local simulation fidelity:  0.9931434349033156\n",
      "State:  y1 run:  1  Finished.\n"
     ]
    },
    {
     "data": {
      "application/vnd.jupyter.widget-view+json": {
       "model_id": "",
       "version_major": 2,
       "version_minor": 0
      },
      "text/plain": [
       "Accordion(children=(VBox(layout=Layout(max_width='710px', min_width='710px')),), layout=Layout(max_height='500…"
      ]
     },
     "metadata": {},
     "output_type": "display_data"
    },
    {
     "data": {
      "application/javascript": [
       "\n",
       "        const isLab = window['Jupyter'] === undefined;\n",
       "        const notebook = document.querySelector( isLab ? 'div.jp-Notebook' : '#site');\n",
       "        const jobWidget = document.querySelector('div.job_widget');\n",
       "        notebook.prepend(jobWidget);\n",
       "        jobWidget.style.zIndex = '999';\n",
       "        jobWidget.style.position = isLab ? 'sticky' : 'fixed';\n",
       "        jobWidget.style.boxShadow = '5px 5px 5px -3px black';\n",
       "        jobWidget.style.opacity = '0.95';\n",
       "        if (isLab) {\n",
       "            jobWidget.style.top = '0';\n",
       "            jobWidget.style.left = '0';\n",
       "        }\n",
       "        "
      ],
      "text/plain": [
       "<IPython.core.display.Javascript object>"
      ]
     },
     "metadata": {},
     "output_type": "display_data"
    },
    {
     "name": "stdout",
     "output_type": "stream",
     "text": [
      "Job Status: job has successfully run\n",
      "s ideal:  [3.3306690738754696e-16, -0.9999999999999996, 1.6653345369377348e-16]\n",
      "s simulation:  [0.20924156684052975, -1.0204841388549435, -0.07343339168163043]\n",
      "Local simulation fidelity:  0.988597238889968\n",
      "State:  y1 run:  2  Finished.\n"
     ]
    },
    {
     "data": {
      "application/vnd.jupyter.widget-view+json": {
       "model_id": "",
       "version_major": 2,
       "version_minor": 0
      },
      "text/plain": [
       "Accordion(children=(VBox(layout=Layout(max_width='710px', min_width='710px')),), layout=Layout(max_height='500…"
      ]
     },
     "metadata": {},
     "output_type": "display_data"
    },
    {
     "data": {
      "application/javascript": [
       "\n",
       "        const isLab = window['Jupyter'] === undefined;\n",
       "        const notebook = document.querySelector( isLab ? 'div.jp-Notebook' : '#site');\n",
       "        const jobWidget = document.querySelector('div.job_widget');\n",
       "        notebook.prepend(jobWidget);\n",
       "        jobWidget.style.zIndex = '999';\n",
       "        jobWidget.style.position = isLab ? 'sticky' : 'fixed';\n",
       "        jobWidget.style.boxShadow = '5px 5px 5px -3px black';\n",
       "        jobWidget.style.opacity = '0.95';\n",
       "        if (isLab) {\n",
       "            jobWidget.style.top = '0';\n",
       "            jobWidget.style.left = '0';\n",
       "        }\n",
       "        "
      ],
      "text/plain": [
       "<IPython.core.display.Javascript object>"
      ]
     },
     "metadata": {},
     "output_type": "display_data"
    },
    {
     "name": "stdout",
     "output_type": "stream",
     "text": [
      "Job Status: job has successfully run\n",
      "s ideal:  [3.3306690738754696e-16, -0.9999999999999996, 1.6653345369377348e-16]\n",
      "s simulation:  [0.16203381905953562, -1.0005389633741744, 0.03008079942796682]\n",
      "Local simulation fidelity:  0.9933523245349991\n",
      "State:  y1 run:  3  Finished.\n"
     ]
    },
    {
     "data": {
      "application/vnd.jupyter.widget-view+json": {
       "model_id": "",
       "version_major": 2,
       "version_minor": 0
      },
      "text/plain": [
       "Accordion(children=(VBox(layout=Layout(max_width='710px', min_width='710px')),), layout=Layout(max_height='500…"
      ]
     },
     "metadata": {},
     "output_type": "display_data"
    },
    {
     "data": {
      "application/javascript": [
       "\n",
       "        const isLab = window['Jupyter'] === undefined;\n",
       "        const notebook = document.querySelector( isLab ? 'div.jp-Notebook' : '#site');\n",
       "        const jobWidget = document.querySelector('div.job_widget');\n",
       "        notebook.prepend(jobWidget);\n",
       "        jobWidget.style.zIndex = '999';\n",
       "        jobWidget.style.position = isLab ? 'sticky' : 'fixed';\n",
       "        jobWidget.style.boxShadow = '5px 5px 5px -3px black';\n",
       "        jobWidget.style.opacity = '0.95';\n",
       "        if (isLab) {\n",
       "            jobWidget.style.top = '0';\n",
       "            jobWidget.style.left = '0';\n",
       "        }\n",
       "        "
      ],
      "text/plain": [
       "<IPython.core.display.Javascript object>"
      ]
     },
     "metadata": {},
     "output_type": "display_data"
    },
    {
     "name": "stdout",
     "output_type": "stream",
     "text": [
      "Job Status: job has successfully run\n",
      "s ideal:  [3.3306690738754696e-16, -0.9999999999999996, 1.6653345369377348e-16]\n",
      "s simulation:  [-0.05676787990987897, -0.996540437706841, 0.009181356225578141]\n",
      "Local simulation fidelity:  0.9991696008889039\n",
      "State:  y1 run:  4  Finished.\n"
     ]
    },
    {
     "data": {
      "application/vnd.jupyter.widget-view+json": {
       "model_id": "",
       "version_major": 2,
       "version_minor": 0
      },
      "text/plain": [
       "Accordion(children=(VBox(layout=Layout(max_width='710px', min_width='710px')),), layout=Layout(max_height='500…"
      ]
     },
     "metadata": {},
     "output_type": "display_data"
    },
    {
     "data": {
      "application/javascript": [
       "\n",
       "        const isLab = window['Jupyter'] === undefined;\n",
       "        const notebook = document.querySelector( isLab ? 'div.jp-Notebook' : '#site');\n",
       "        const jobWidget = document.querySelector('div.job_widget');\n",
       "        notebook.prepend(jobWidget);\n",
       "        jobWidget.style.zIndex = '999';\n",
       "        jobWidget.style.position = isLab ? 'sticky' : 'fixed';\n",
       "        jobWidget.style.boxShadow = '5px 5px 5px -3px black';\n",
       "        jobWidget.style.opacity = '0.95';\n",
       "        if (isLab) {\n",
       "            jobWidget.style.top = '0';\n",
       "            jobWidget.style.left = '0';\n",
       "        }\n",
       "        "
      ],
      "text/plain": [
       "<IPython.core.display.Javascript object>"
      ]
     },
     "metadata": {},
     "output_type": "display_data"
    },
    {
     "name": "stdout",
     "output_type": "stream",
     "text": [
      "Job Status: job has successfully run\n",
      "s ideal:  [3.3306690738754696e-16, -0.9999999999999996, 1.6653345369377348e-16]\n",
      "s simulation:  [-0.008213143942434664, -0.9946146426681275, 0.09540302309675636]\n",
      "Local simulation fidelity:  0.9976987959604863\n",
      "State:  y1 run:  5  Finished.\n"
     ]
    }
   ],
   "source": [
    "## File where the results will be stored\n",
    "file = open(\"data_s_sim.txt\",\"a\")\n",
    "\n",
    "## IBMQ provider\n",
    "provider=IBMQ.get_provider('ibm-q')\n",
    "\n",
    "angles = [ang_z0,ang_z1,ang_x0,ang_x1,ang_y0,ang_y1]\n",
    "states=['z0','z1','x0','x1','y0','y1']\n",
    "\n",
    "state = 0\n",
    "for a_i in angles:\n",
    "    \n",
    "    for n in range(5):\n",
    "        \n",
    "        p_ideal = ideal_prob(a_i)\n",
    "        p_IBM = IBM_sim_probs(a_i,0)\n",
    "\n",
    "        s_real = bloch_vector_from_prob(p_ideal)\n",
    "        s_IBM = bloch_vector_from_prob(p_IBM)\n",
    "        \n",
    "        ideal_state = bloch_vector_to_state(s_real)\n",
    "        rec_IBM_state = bloch_vector_to_state(s_IBM)\n",
    "        \n",
    "        fidelity_ibm = quantum_info.state_fidelity(ideal_state,rec_IBM_state)\n",
    "        \n",
    "        file.write(\"%s, %s, %s, %s, %s, %s, %s, %s, %s, %s, %s, %s, %s, %s, %s, %s  \\n\" % (states[state], p_ideal[0], p_ideal[1],p_ideal[2], p_ideal[3],  p_IBM[0], p_IBM[1],p_IBM[2], p_IBM[3], s_real[0],s_real[1],s_real[2], s_IBM[0],s_IBM[1],s_IBM[2], fidelity_ibm))\n",
    "        \n",
    "        print('s ideal: ', s_real)\n",
    "        print('s simulation: ', s_IBM)\n",
    "        print('Local simulation fidelity: ',fidelity_ibm)\n",
    "        \n",
    "        print('State: ', states[state], 'run: ',n+1,' Finished.')\n",
    "    state += 1\n",
    "file.close()    "
   ]
  },
  {
   "cell_type": "code",
   "execution_count": 43,
   "id": "nuclear-tamil",
   "metadata": {},
   "outputs": [
    {
     "data": {
      "application/vnd.jupyter.widget-view+json": {
       "model_id": "",
       "version_major": 2,
       "version_minor": 0
      },
      "text/plain": [
       "Accordion(children=(VBox(layout=Layout(max_width='710px', min_width='710px')),), layout=Layout(max_height='500…"
      ]
     },
     "metadata": {},
     "output_type": "display_data"
    },
    {
     "data": {
      "application/javascript": [
       "\n",
       "        const isLab = window['Jupyter'] === undefined;\n",
       "        const notebook = document.querySelector( isLab ? 'div.jp-Notebook' : '#site');\n",
       "        const jobWidget = document.querySelector('div.job_widget');\n",
       "        notebook.prepend(jobWidget);\n",
       "        jobWidget.style.zIndex = '999';\n",
       "        jobWidget.style.position = isLab ? 'sticky' : 'fixed';\n",
       "        jobWidget.style.boxShadow = '5px 5px 5px -3px black';\n",
       "        jobWidget.style.opacity = '0.95';\n",
       "        if (isLab) {\n",
       "            jobWidget.style.top = '0';\n",
       "            jobWidget.style.left = '0';\n",
       "        }\n",
       "        "
      ],
      "text/plain": [
       "<IPython.core.display.Javascript object>"
      ]
     },
     "metadata": {},
     "output_type": "display_data"
    },
    {
     "name": "stdout",
     "output_type": "stream",
     "text": [
      "Job Status: job has successfully run\n",
      "s ideal:  [2.220446049250313e-16, -1.1102230246251565e-16, 0.9999999999999999]\n",
      "s simulation:  [-0.18161728981713599, 0.5478862235645489, 0.16840385193211455]\n",
      "QPU simulation fidelity:  0.640040435214382\n",
      "State:  z0 run:  1  Finished.\n"
     ]
    },
    {
     "data": {
      "application/vnd.jupyter.widget-view+json": {
       "model_id": "",
       "version_major": 2,
       "version_minor": 0
      },
      "text/plain": [
       "Accordion(children=(VBox(layout=Layout(max_width='710px', min_width='710px')),), layout=Layout(max_height='500…"
      ]
     },
     "metadata": {},
     "output_type": "display_data"
    },
    {
     "data": {
      "application/javascript": [
       "\n",
       "        const isLab = window['Jupyter'] === undefined;\n",
       "        const notebook = document.querySelector( isLab ? 'div.jp-Notebook' : '#site');\n",
       "        const jobWidget = document.querySelector('div.job_widget');\n",
       "        notebook.prepend(jobWidget);\n",
       "        jobWidget.style.zIndex = '999';\n",
       "        jobWidget.style.position = isLab ? 'sticky' : 'fixed';\n",
       "        jobWidget.style.boxShadow = '5px 5px 5px -3px black';\n",
       "        jobWidget.style.opacity = '0.95';\n",
       "        if (isLab) {\n",
       "            jobWidget.style.top = '0';\n",
       "            jobWidget.style.left = '0';\n",
       "        }\n",
       "        "
      ],
      "text/plain": [
       "<IPython.core.display.Javascript object>"
      ]
     },
     "metadata": {},
     "output_type": "display_data"
    },
    {
     "name": "stdout",
     "output_type": "stream",
     "text": [
      "Job Status: job has successfully run\n",
      "s ideal:  [2.220446049250313e-16, -1.1102230246251565e-16, 0.9999999999999999]\n",
      "s simulation:  [-0.11029709884862327, 0.7866285775393999, 0.3609342650194026]\n",
      "QPU simulation fidelity:  0.7068435679878246\n",
      "State:  z0 run:  2  Finished.\n"
     ]
    },
    {
     "data": {
      "application/vnd.jupyter.widget-view+json": {
       "model_id": "",
       "version_major": 2,
       "version_minor": 0
      },
      "text/plain": [
       "Accordion(children=(VBox(layout=Layout(max_width='710px', min_width='710px')),), layout=Layout(max_height='500…"
      ]
     },
     "metadata": {},
     "output_type": "display_data"
    },
    {
     "data": {
      "application/javascript": [
       "\n",
       "        const isLab = window['Jupyter'] === undefined;\n",
       "        const notebook = document.querySelector( isLab ? 'div.jp-Notebook' : '#site');\n",
       "        const jobWidget = document.querySelector('div.job_widget');\n",
       "        notebook.prepend(jobWidget);\n",
       "        jobWidget.style.zIndex = '999';\n",
       "        jobWidget.style.position = isLab ? 'sticky' : 'fixed';\n",
       "        jobWidget.style.boxShadow = '5px 5px 5px -3px black';\n",
       "        jobWidget.style.opacity = '0.95';\n",
       "        if (isLab) {\n",
       "            jobWidget.style.top = '0';\n",
       "            jobWidget.style.left = '0';\n",
       "        }\n",
       "        "
      ],
      "text/plain": [
       "<IPython.core.display.Javascript object>"
      ]
     },
     "metadata": {},
     "output_type": "display_data"
    },
    {
     "name": "stdout",
     "output_type": "stream",
     "text": [
      "Job Status: job has successfully run\n",
      "s ideal:  [2.220446049250313e-16, -1.1102230246251565e-16, 0.9999999999999999]\n",
      "s simulation:  [0.12747995652649347, 0.11482240577164404, 0.8645269820711092]\n",
      "QPU simulation fidelity:  0.9904357771331298\n",
      "State:  z0 run:  3  Finished.\n"
     ]
    },
    {
     "data": {
      "application/vnd.jupyter.widget-view+json": {
       "model_id": "",
       "version_major": 2,
       "version_minor": 0
      },
      "text/plain": [
       "Accordion(children=(VBox(layout=Layout(max_width='710px', min_width='710px')),), layout=Layout(max_height='500…"
      ]
     },
     "metadata": {},
     "output_type": "display_data"
    },
    {
     "data": {
      "application/javascript": [
       "\n",
       "        const isLab = window['Jupyter'] === undefined;\n",
       "        const notebook = document.querySelector( isLab ? 'div.jp-Notebook' : '#site');\n",
       "        const jobWidget = document.querySelector('div.job_widget');\n",
       "        notebook.prepend(jobWidget);\n",
       "        jobWidget.style.zIndex = '999';\n",
       "        jobWidget.style.position = isLab ? 'sticky' : 'fixed';\n",
       "        jobWidget.style.boxShadow = '5px 5px 5px -3px black';\n",
       "        jobWidget.style.opacity = '0.95';\n",
       "        if (isLab) {\n",
       "            jobWidget.style.top = '0';\n",
       "            jobWidget.style.left = '0';\n",
       "        }\n",
       "        "
      ],
      "text/plain": [
       "<IPython.core.display.Javascript object>"
      ]
     },
     "metadata": {},
     "output_type": "display_data"
    },
    {
     "name": "stdout",
     "output_type": "stream",
     "text": [
      "Job Status: job has successfully run\n",
      "s ideal:  [2.220446049250313e-16, -1.1102230246251565e-16, 0.9999999999999999]\n",
      "s simulation:  [-0.2553034321673776, 0.6774794168158598, 0.4749513170350954]\n",
      "QPU simulation fidelity:  0.7742613701214976\n",
      "State:  z0 run:  4  Finished.\n"
     ]
    },
    {
     "data": {
      "application/vnd.jupyter.widget-view+json": {
       "model_id": "",
       "version_major": 2,
       "version_minor": 0
      },
      "text/plain": [
       "Accordion(children=(VBox(layout=Layout(max_width='710px', min_width='710px')),), layout=Layout(max_height='500…"
      ]
     },
     "metadata": {},
     "output_type": "display_data"
    },
    {
     "data": {
      "application/javascript": [
       "\n",
       "        const isLab = window['Jupyter'] === undefined;\n",
       "        const notebook = document.querySelector( isLab ? 'div.jp-Notebook' : '#site');\n",
       "        const jobWidget = document.querySelector('div.job_widget');\n",
       "        notebook.prepend(jobWidget);\n",
       "        jobWidget.style.zIndex = '999';\n",
       "        jobWidget.style.position = isLab ? 'sticky' : 'fixed';\n",
       "        jobWidget.style.boxShadow = '5px 5px 5px -3px black';\n",
       "        jobWidget.style.opacity = '0.95';\n",
       "        if (isLab) {\n",
       "            jobWidget.style.top = '0';\n",
       "            jobWidget.style.left = '0';\n",
       "        }\n",
       "        "
      ],
      "text/plain": [
       "<IPython.core.display.Javascript object>"
      ]
     },
     "metadata": {},
     "output_type": "display_data"
    },
    {
     "name": "stdout",
     "output_type": "stream",
     "text": [
      "Job Status: job has successfully run\n",
      "s ideal:  [2.220446049250313e-16, -1.1102230246251565e-16, 0.9999999999999999]\n",
      "s simulation:  [0.22996116478481565, 0.15007400090177953, 0.579249619205202]\n",
      "QPU simulation fidelity:  0.951803382606078\n",
      "State:  z0 run:  5  Finished.\n"
     ]
    },
    {
     "data": {
      "application/vnd.jupyter.widget-view+json": {
       "model_id": "",
       "version_major": 2,
       "version_minor": 0
      },
      "text/plain": [
       "Accordion(children=(VBox(layout=Layout(max_width='710px', min_width='710px')),), layout=Layout(max_height='500…"
      ]
     },
     "metadata": {},
     "output_type": "display_data"
    },
    {
     "data": {
      "application/javascript": [
       "\n",
       "        const isLab = window['Jupyter'] === undefined;\n",
       "        const notebook = document.querySelector( isLab ? 'div.jp-Notebook' : '#site');\n",
       "        const jobWidget = document.querySelector('div.job_widget');\n",
       "        notebook.prepend(jobWidget);\n",
       "        jobWidget.style.zIndex = '999';\n",
       "        jobWidget.style.position = isLab ? 'sticky' : 'fixed';\n",
       "        jobWidget.style.boxShadow = '5px 5px 5px -3px black';\n",
       "        jobWidget.style.opacity = '0.95';\n",
       "        if (isLab) {\n",
       "            jobWidget.style.top = '0';\n",
       "            jobWidget.style.left = '0';\n",
       "        }\n",
       "        "
      ],
      "text/plain": [
       "<IPython.core.display.Javascript object>"
      ]
     },
     "metadata": {},
     "output_type": "display_data"
    },
    {
     "name": "stdout",
     "output_type": "stream",
     "text": [
      "Job Status: job has successfully run\n",
      "s ideal:  [5.551115123125783e-16, 2.220446049250313e-16, -0.9999999999999999]\n",
      "s simulation:  [-0.13155890040274937, -0.11124316650674404, -0.8238028577705039]\n",
      "QPU simulation fidelity:  0.9894116175103376\n",
      "State:  z1 run:  1  Finished.\n"
     ]
    },
    {
     "data": {
      "application/vnd.jupyter.widget-view+json": {
       "model_id": "",
       "version_major": 2,
       "version_minor": 0
      },
      "text/plain": [
       "Accordion(children=(VBox(layout=Layout(max_width='710px', min_width='710px')),), layout=Layout(max_height='500…"
      ]
     },
     "metadata": {},
     "output_type": "display_data"
    },
    {
     "data": {
      "application/javascript": [
       "\n",
       "        const isLab = window['Jupyter'] === undefined;\n",
       "        const notebook = document.querySelector( isLab ? 'div.jp-Notebook' : '#site');\n",
       "        const jobWidget = document.querySelector('div.job_widget');\n",
       "        notebook.prepend(jobWidget);\n",
       "        jobWidget.style.zIndex = '999';\n",
       "        jobWidget.style.position = isLab ? 'sticky' : 'fixed';\n",
       "        jobWidget.style.boxShadow = '5px 5px 5px -3px black';\n",
       "        jobWidget.style.opacity = '0.95';\n",
       "        if (isLab) {\n",
       "            jobWidget.style.top = '0';\n",
       "            jobWidget.style.left = '0';\n",
       "        }\n",
       "        "
      ],
      "text/plain": [
       "<IPython.core.display.Javascript object>"
      ]
     },
     "metadata": {},
     "output_type": "display_data"
    },
    {
     "name": "stdout",
     "output_type": "stream",
     "text": [
      "Job Status: job has successfully run\n",
      "s ideal:  [5.551115123125783e-16, 2.220446049250313e-16, -0.9999999999999999]\n",
      "s simulation:  [-1.4003258055274275, 0.4301146530381367, 0.5960995858935692]\n",
      "QPU simulation fidelity:  0.3115437055075888\n",
      "State:  z1 run:  2  Finished.\n"
     ]
    },
    {
     "data": {
      "application/vnd.jupyter.widget-view+json": {
       "model_id": "",
       "version_major": 2,
       "version_minor": 0
      },
      "text/plain": [
       "Accordion(children=(VBox(layout=Layout(max_width='710px', min_width='710px')),), layout=Layout(max_height='500…"
      ]
     },
     "metadata": {},
     "output_type": "display_data"
    },
    {
     "data": {
      "application/javascript": [
       "\n",
       "        const isLab = window['Jupyter'] === undefined;\n",
       "        const notebook = document.querySelector( isLab ? 'div.jp-Notebook' : '#site');\n",
       "        const jobWidget = document.querySelector('div.job_widget');\n",
       "        notebook.prepend(jobWidget);\n",
       "        jobWidget.style.zIndex = '999';\n",
       "        jobWidget.style.position = isLab ? 'sticky' : 'fixed';\n",
       "        jobWidget.style.boxShadow = '5px 5px 5px -3px black';\n",
       "        jobWidget.style.opacity = '0.95';\n",
       "        if (isLab) {\n",
       "            jobWidget.style.top = '0';\n",
       "            jobWidget.style.left = '0';\n",
       "        }\n",
       "        "
      ],
      "text/plain": [
       "<IPython.core.display.Javascript object>"
      ]
     },
     "metadata": {},
     "output_type": "display_data"
    },
    {
     "name": "stdout",
     "output_type": "stream",
     "text": [
      "Job Status: job has successfully run\n",
      "s ideal:  [5.551115123125783e-16, 2.220446049250313e-16, -0.9999999999999999]\n",
      "s simulation:  [-2.2105968727881473, 0.7389103224900823, 0.9181392876300021]\n",
      "QPU simulation fidelity:  0.3167486195473613\n",
      "State:  z1 run:  3  Finished.\n"
     ]
    },
    {
     "data": {
      "application/vnd.jupyter.widget-view+json": {
       "model_id": "",
       "version_major": 2,
       "version_minor": 0
      },
      "text/plain": [
       "Accordion(children=(VBox(layout=Layout(max_width='710px', min_width='710px')),), layout=Layout(max_height='500…"
      ]
     },
     "metadata": {},
     "output_type": "display_data"
    },
    {
     "data": {
      "application/javascript": [
       "\n",
       "        const isLab = window['Jupyter'] === undefined;\n",
       "        const notebook = document.querySelector( isLab ? 'div.jp-Notebook' : '#site');\n",
       "        const jobWidget = document.querySelector('div.job_widget');\n",
       "        notebook.prepend(jobWidget);\n",
       "        jobWidget.style.zIndex = '999';\n",
       "        jobWidget.style.position = isLab ? 'sticky' : 'fixed';\n",
       "        jobWidget.style.boxShadow = '5px 5px 5px -3px black';\n",
       "        jobWidget.style.opacity = '0.95';\n",
       "        if (isLab) {\n",
       "            jobWidget.style.top = '0';\n",
       "            jobWidget.style.left = '0';\n",
       "        }\n",
       "        "
      ],
      "text/plain": [
       "<IPython.core.display.Javascript object>"
      ]
     },
     "metadata": {},
     "output_type": "display_data"
    },
    {
     "name": "stdout",
     "output_type": "stream",
     "text": [
      "Job Status: job has successfully run\n",
      "s ideal:  [5.551115123125783e-16, 2.220446049250313e-16, -0.9999999999999999]\n",
      "s simulation:  [-1.1628185516054754, 0.06987520002666847, 0.251126887476548]\n",
      "QPU simulation fidelity:  0.3946329951196825\n",
      "State:  z1 run:  4  Finished.\n"
     ]
    },
    {
     "data": {
      "application/vnd.jupyter.widget-view+json": {
       "model_id": "",
       "version_major": 2,
       "version_minor": 0
      },
      "text/plain": [
       "Accordion(children=(VBox(layout=Layout(max_width='710px', min_width='710px')),), layout=Layout(max_height='500…"
      ]
     },
     "metadata": {},
     "output_type": "display_data"
    },
    {
     "data": {
      "application/javascript": [
       "\n",
       "        const isLab = window['Jupyter'] === undefined;\n",
       "        const notebook = document.querySelector( isLab ? 'div.jp-Notebook' : '#site');\n",
       "        const jobWidget = document.querySelector('div.job_widget');\n",
       "        notebook.prepend(jobWidget);\n",
       "        jobWidget.style.zIndex = '999';\n",
       "        jobWidget.style.position = isLab ? 'sticky' : 'fixed';\n",
       "        jobWidget.style.boxShadow = '5px 5px 5px -3px black';\n",
       "        jobWidget.style.opacity = '0.95';\n",
       "        if (isLab) {\n",
       "            jobWidget.style.top = '0';\n",
       "            jobWidget.style.left = '0';\n",
       "        }\n",
       "        "
      ],
      "text/plain": [
       "<IPython.core.display.Javascript object>"
      ]
     },
     "metadata": {},
     "output_type": "display_data"
    },
    {
     "name": "stdout",
     "output_type": "stream",
     "text": [
      "Job Status: job has successfully run\n",
      "s ideal:  [5.551115123125783e-16, 2.220446049250313e-16, -0.9999999999999999]\n",
      "s simulation:  [-2.5879126444375933, 0.3442308940448308, 1.6786157649784854]\n",
      "QPU simulation fidelity:  0.22958647943768679\n",
      "State:  z1 run:  5  Finished.\n"
     ]
    },
    {
     "data": {
      "application/vnd.jupyter.widget-view+json": {
       "model_id": "",
       "version_major": 2,
       "version_minor": 0
      },
      "text/plain": [
       "Accordion(children=(VBox(layout=Layout(max_width='710px', min_width='710px')),), layout=Layout(max_height='500…"
      ]
     },
     "metadata": {},
     "output_type": "display_data"
    },
    {
     "data": {
      "application/javascript": [
       "\n",
       "        const isLab = window['Jupyter'] === undefined;\n",
       "        const notebook = document.querySelector( isLab ? 'div.jp-Notebook' : '#site');\n",
       "        const jobWidget = document.querySelector('div.job_widget');\n",
       "        notebook.prepend(jobWidget);\n",
       "        jobWidget.style.zIndex = '999';\n",
       "        jobWidget.style.position = isLab ? 'sticky' : 'fixed';\n",
       "        jobWidget.style.boxShadow = '5px 5px 5px -3px black';\n",
       "        jobWidget.style.opacity = '0.95';\n",
       "        if (isLab) {\n",
       "            jobWidget.style.top = '0';\n",
       "            jobWidget.style.left = '0';\n",
       "        }\n",
       "        "
      ],
      "text/plain": [
       "<IPython.core.display.Javascript object>"
      ]
     },
     "metadata": {},
     "output_type": "display_data"
    },
    {
     "name": "stdout",
     "output_type": "stream",
     "text": [
      "Job Status: job has successfully run\n",
      "s ideal:  [1.0, 1.6653345369377348e-16, -5.551115123125783e-17]\n",
      "s simulation:  [-0.05118919819301504, 0.42876532665522726, 0.4825110151370656]\n",
      "QPU simulation fidelity:  0.46047263595269344\n",
      "State:  x0 run:  1  Finished.\n"
     ]
    },
    {
     "data": {
      "application/vnd.jupyter.widget-view+json": {
       "model_id": "",
       "version_major": 2,
       "version_minor": 0
      },
      "text/plain": [
       "Accordion(children=(VBox(layout=Layout(max_width='710px', min_width='710px')),), layout=Layout(max_height='500…"
      ]
     },
     "metadata": {},
     "output_type": "display_data"
    },
    {
     "data": {
      "application/javascript": [
       "\n",
       "        const isLab = window['Jupyter'] === undefined;\n",
       "        const notebook = document.querySelector( isLab ? 'div.jp-Notebook' : '#site');\n",
       "        const jobWidget = document.querySelector('div.job_widget');\n",
       "        notebook.prepend(jobWidget);\n",
       "        jobWidget.style.zIndex = '999';\n",
       "        jobWidget.style.position = isLab ? 'sticky' : 'fixed';\n",
       "        jobWidget.style.boxShadow = '5px 5px 5px -3px black';\n",
       "        jobWidget.style.opacity = '0.95';\n",
       "        if (isLab) {\n",
       "            jobWidget.style.top = '0';\n",
       "            jobWidget.style.left = '0';\n",
       "        }\n",
       "        "
      ],
      "text/plain": [
       "<IPython.core.display.Javascript object>"
      ]
     },
     "metadata": {},
     "output_type": "display_data"
    },
    {
     "name": "stdout",
     "output_type": "stream",
     "text": [
      "Job Status: job has successfully run\n",
      "s ideal:  [1.0, 1.6653345369377348e-16, -5.551115123125783e-17]\n",
      "s simulation:  [0.24643306328250147, 0.31872988291861165, 0.06426605235565674]\n",
      "QPU simulation fidelity:  0.8020157103561977\n",
      "State:  x0 run:  2  Finished.\n"
     ]
    },
    {
     "data": {
      "application/vnd.jupyter.widget-view+json": {
       "model_id": "",
       "version_major": 2,
       "version_minor": 0
      },
      "text/plain": [
       "Accordion(children=(VBox(layout=Layout(max_width='710px', min_width='710px')),), layout=Layout(max_height='500…"
      ]
     },
     "metadata": {},
     "output_type": "display_data"
    },
    {
     "data": {
      "application/javascript": [
       "\n",
       "        const isLab = window['Jupyter'] === undefined;\n",
       "        const notebook = document.querySelector( isLab ? 'div.jp-Notebook' : '#site');\n",
       "        const jobWidget = document.querySelector('div.job_widget');\n",
       "        notebook.prepend(jobWidget);\n",
       "        jobWidget.style.zIndex = '999';\n",
       "        jobWidget.style.position = isLab ? 'sticky' : 'fixed';\n",
       "        jobWidget.style.boxShadow = '5px 5px 5px -3px black';\n",
       "        jobWidget.style.opacity = '0.95';\n",
       "        if (isLab) {\n",
       "            jobWidget.style.top = '0';\n",
       "            jobWidget.style.left = '0';\n",
       "        }\n",
       "        "
      ],
      "text/plain": [
       "<IPython.core.display.Javascript object>"
      ]
     },
     "metadata": {},
     "output_type": "display_data"
    },
    {
     "name": "stdout",
     "output_type": "stream",
     "text": [
      "Job Status: job has successfully run\n",
      "s ideal:  [1.0, 1.6653345369377348e-16, -5.551115123125783e-17]\n",
      "s simulation:  [-0.07186896871281068, 0.49055330134853453, 0.4734074768877397]\n",
      "QPU simulation fidelity:  0.44757983587529787\n",
      "State:  x0 run:  3  Finished.\n"
     ]
    },
    {
     "data": {
      "application/vnd.jupyter.widget-view+json": {
       "model_id": "",
       "version_major": 2,
       "version_minor": 0
      },
      "text/plain": [
       "Accordion(children=(VBox(layout=Layout(max_width='710px', min_width='710px')),), layout=Layout(max_height='500…"
      ]
     },
     "metadata": {},
     "output_type": "display_data"
    },
    {
     "data": {
      "application/javascript": [
       "\n",
       "        const isLab = window['Jupyter'] === undefined;\n",
       "        const notebook = document.querySelector( isLab ? 'div.jp-Notebook' : '#site');\n",
       "        const jobWidget = document.querySelector('div.job_widget');\n",
       "        notebook.prepend(jobWidget);\n",
       "        jobWidget.style.zIndex = '999';\n",
       "        jobWidget.style.position = isLab ? 'sticky' : 'fixed';\n",
       "        jobWidget.style.boxShadow = '5px 5px 5px -3px black';\n",
       "        jobWidget.style.opacity = '0.95';\n",
       "        if (isLab) {\n",
       "            jobWidget.style.top = '0';\n",
       "            jobWidget.style.left = '0';\n",
       "        }\n",
       "        "
      ],
      "text/plain": [
       "<IPython.core.display.Javascript object>"
      ]
     },
     "metadata": {},
     "output_type": "display_data"
    },
    {
     "name": "stdout",
     "output_type": "stream",
     "text": [
      "Job Status: job has successfully run\n",
      "s ideal:  [1.0, 1.6653345369377348e-16, -5.551115123125783e-17]\n",
      "s simulation:  [0.33490548092178274, 0.3740929204429429, 0.3977317084333829]\n",
      "QPU simulation fidelity:  0.7614223503534766\n",
      "State:  x0 run:  4  Finished.\n"
     ]
    },
    {
     "data": {
      "application/vnd.jupyter.widget-view+json": {
       "model_id": "",
       "version_major": 2,
       "version_minor": 0
      },
      "text/plain": [
       "Accordion(children=(VBox(layout=Layout(max_width='710px', min_width='710px')),), layout=Layout(max_height='500…"
      ]
     },
     "metadata": {},
     "output_type": "display_data"
    },
    {
     "data": {
      "application/javascript": [
       "\n",
       "        const isLab = window['Jupyter'] === undefined;\n",
       "        const notebook = document.querySelector( isLab ? 'div.jp-Notebook' : '#site');\n",
       "        const jobWidget = document.querySelector('div.job_widget');\n",
       "        notebook.prepend(jobWidget);\n",
       "        jobWidget.style.zIndex = '999';\n",
       "        jobWidget.style.position = isLab ? 'sticky' : 'fixed';\n",
       "        jobWidget.style.boxShadow = '5px 5px 5px -3px black';\n",
       "        jobWidget.style.opacity = '0.95';\n",
       "        if (isLab) {\n",
       "            jobWidget.style.top = '0';\n",
       "            jobWidget.style.left = '0';\n",
       "        }\n",
       "        "
      ],
      "text/plain": [
       "<IPython.core.display.Javascript object>"
      ]
     },
     "metadata": {},
     "output_type": "display_data"
    },
    {
     "name": "stdout",
     "output_type": "stream",
     "text": [
      "Job Status: job has successfully run\n",
      "s ideal:  [1.0, 1.6653345369377348e-16, -5.551115123125783e-17]\n",
      "s simulation:  [0.10113983110422231, 0.050246175341311816, 0.41299131546433576]\n",
      "QPU simulation fidelity:  0.6181115351977571\n",
      "State:  x0 run:  5  Finished.\n"
     ]
    },
    {
     "data": {
      "application/vnd.jupyter.widget-view+json": {
       "model_id": "",
       "version_major": 2,
       "version_minor": 0
      },
      "text/plain": [
       "Accordion(children=(VBox(layout=Layout(max_width='710px', min_width='710px')),), layout=Layout(max_height='500…"
      ]
     },
     "metadata": {},
     "output_type": "display_data"
    },
    {
     "data": {
      "application/javascript": [
       "\n",
       "        const isLab = window['Jupyter'] === undefined;\n",
       "        const notebook = document.querySelector( isLab ? 'div.jp-Notebook' : '#site');\n",
       "        const jobWidget = document.querySelector('div.job_widget');\n",
       "        notebook.prepend(jobWidget);\n",
       "        jobWidget.style.zIndex = '999';\n",
       "        jobWidget.style.position = isLab ? 'sticky' : 'fixed';\n",
       "        jobWidget.style.boxShadow = '5px 5px 5px -3px black';\n",
       "        jobWidget.style.opacity = '0.95';\n",
       "        if (isLab) {\n",
       "            jobWidget.style.top = '0';\n",
       "            jobWidget.style.left = '0';\n",
       "        }\n",
       "        "
      ],
      "text/plain": [
       "<IPython.core.display.Javascript object>"
      ]
     },
     "metadata": {},
     "output_type": "display_data"
    },
    {
     "name": "stdout",
     "output_type": "stream",
     "text": [
      "Job Status: job has successfully run\n",
      "s ideal:  [-0.9999999999999997, -3.3306690738754696e-16, -9.020562075079397e-17]\n",
      "s simulation:  [-1.6270449163501128, 0.11399995864590684, 0.8893325967231547]\n",
      "QPU simulation fidelity:  0.9379106561557334\n",
      "State:  x1 run:  1  Finished.\n"
     ]
    },
    {
     "data": {
      "application/vnd.jupyter.widget-view+json": {
       "model_id": "",
       "version_major": 2,
       "version_minor": 0
      },
      "text/plain": [
       "Accordion(children=(VBox(layout=Layout(max_width='710px', min_width='710px')),), layout=Layout(max_height='500…"
      ]
     },
     "metadata": {},
     "output_type": "display_data"
    },
    {
     "data": {
      "application/javascript": [
       "\n",
       "        const isLab = window['Jupyter'] === undefined;\n",
       "        const notebook = document.querySelector( isLab ? 'div.jp-Notebook' : '#site');\n",
       "        const jobWidget = document.querySelector('div.job_widget');\n",
       "        notebook.prepend(jobWidget);\n",
       "        jobWidget.style.zIndex = '999';\n",
       "        jobWidget.style.position = isLab ? 'sticky' : 'fixed';\n",
       "        jobWidget.style.boxShadow = '5px 5px 5px -3px black';\n",
       "        jobWidget.style.opacity = '0.95';\n",
       "        if (isLab) {\n",
       "            jobWidget.style.top = '0';\n",
       "            jobWidget.style.left = '0';\n",
       "        }\n",
       "        "
      ],
      "text/plain": [
       "<IPython.core.display.Javascript object>"
      ]
     },
     "metadata": {},
     "output_type": "display_data"
    },
    {
     "name": "stdout",
     "output_type": "stream",
     "text": [
      "Job Status: job has successfully run\n",
      "s ideal:  [-0.9999999999999997, -3.3306690738754696e-16, -9.020562075079397e-17]\n",
      "s simulation:  [-1.2887149220556087, -0.01032241197229089, 0.5914384679609057]\n",
      "QPU simulation fidelity:  0.9544164754535474\n",
      "State:  x1 run:  2  Finished.\n"
     ]
    },
    {
     "data": {
      "application/vnd.jupyter.widget-view+json": {
       "model_id": "",
       "version_major": 2,
       "version_minor": 0
      },
      "text/plain": [
       "Accordion(children=(VBox(layout=Layout(max_width='710px', min_width='710px')),), layout=Layout(max_height='500…"
      ]
     },
     "metadata": {},
     "output_type": "display_data"
    },
    {
     "data": {
      "application/javascript": [
       "\n",
       "        const isLab = window['Jupyter'] === undefined;\n",
       "        const notebook = document.querySelector( isLab ? 'div.jp-Notebook' : '#site');\n",
       "        const jobWidget = document.querySelector('div.job_widget');\n",
       "        notebook.prepend(jobWidget);\n",
       "        jobWidget.style.zIndex = '999';\n",
       "        jobWidget.style.position = isLab ? 'sticky' : 'fixed';\n",
       "        jobWidget.style.boxShadow = '5px 5px 5px -3px black';\n",
       "        jobWidget.style.opacity = '0.95';\n",
       "        if (isLab) {\n",
       "            jobWidget.style.top = '0';\n",
       "            jobWidget.style.left = '0';\n",
       "        }\n",
       "        "
      ],
      "text/plain": [
       "<IPython.core.display.Javascript object>"
      ]
     },
     "metadata": {},
     "output_type": "display_data"
    },
    {
     "name": "stdout",
     "output_type": "stream",
     "text": [
      "Job Status: job has successfully run\n",
      "s ideal:  [-0.9999999999999997, -3.3306690738754696e-16, -9.020562075079397e-17]\n",
      "s simulation:  [-1.6477042159469606, -0.03454335318841384, 0.9556525137667434]\n",
      "QPU simulation fidelity:  0.9324463039442533\n",
      "State:  x1 run:  3  Finished.\n"
     ]
    },
    {
     "data": {
      "application/vnd.jupyter.widget-view+json": {
       "model_id": "",
       "version_major": 2,
       "version_minor": 0
      },
      "text/plain": [
       "Accordion(children=(VBox(layout=Layout(max_width='710px', min_width='710px')),), layout=Layout(max_height='500…"
      ]
     },
     "metadata": {},
     "output_type": "display_data"
    },
    {
     "data": {
      "application/javascript": [
       "\n",
       "        const isLab = window['Jupyter'] === undefined;\n",
       "        const notebook = document.querySelector( isLab ? 'div.jp-Notebook' : '#site');\n",
       "        const jobWidget = document.querySelector('div.job_widget');\n",
       "        notebook.prepend(jobWidget);\n",
       "        jobWidget.style.zIndex = '999';\n",
       "        jobWidget.style.position = isLab ? 'sticky' : 'fixed';\n",
       "        jobWidget.style.boxShadow = '5px 5px 5px -3px black';\n",
       "        jobWidget.style.opacity = '0.95';\n",
       "        if (isLab) {\n",
       "            jobWidget.style.top = '0';\n",
       "            jobWidget.style.left = '0';\n",
       "        }\n",
       "        "
      ],
      "text/plain": [
       "<IPython.core.display.Javascript object>"
      ]
     },
     "metadata": {},
     "output_type": "display_data"
    },
    {
     "name": "stdout",
     "output_type": "stream",
     "text": [
      "Job Status: job has successfully run\n",
      "s ideal:  [-0.9999999999999997, -3.3306690738754696e-16, -9.020562075079397e-17]\n",
      "s simulation:  [-1.6994046335797277, 0.13909265171101637, 0.8289870171845078]\n",
      "QPU simulation fidelity:  0.9481722889812281\n",
      "State:  x1 run:  4  Finished.\n"
     ]
    },
    {
     "data": {
      "application/vnd.jupyter.widget-view+json": {
       "model_id": "",
       "version_major": 2,
       "version_minor": 0
      },
      "text/plain": [
       "Accordion(children=(VBox(layout=Layout(max_width='710px', min_width='710px')),), layout=Layout(max_height='500…"
      ]
     },
     "metadata": {},
     "output_type": "display_data"
    },
    {
     "data": {
      "application/javascript": [
       "\n",
       "        const isLab = window['Jupyter'] === undefined;\n",
       "        const notebook = document.querySelector( isLab ? 'div.jp-Notebook' : '#site');\n",
       "        const jobWidget = document.querySelector('div.job_widget');\n",
       "        notebook.prepend(jobWidget);\n",
       "        jobWidget.style.zIndex = '999';\n",
       "        jobWidget.style.position = isLab ? 'sticky' : 'fixed';\n",
       "        jobWidget.style.boxShadow = '5px 5px 5px -3px black';\n",
       "        jobWidget.style.opacity = '0.95';\n",
       "        if (isLab) {\n",
       "            jobWidget.style.top = '0';\n",
       "            jobWidget.style.left = '0';\n",
       "        }\n",
       "        "
      ],
      "text/plain": [
       "<IPython.core.display.Javascript object>"
      ]
     },
     "metadata": {},
     "output_type": "display_data"
    },
    {
     "name": "stdout",
     "output_type": "stream",
     "text": [
      "Job Status: job has successfully run\n",
      "s ideal:  [-0.9999999999999997, -3.3306690738754696e-16, -9.020562075079397e-17]\n",
      "s simulation:  [-1.6158414788751108, 0.3826977514674401, 0.6500937810494104]\n",
      "QPU simulation fidelity:  0.9530578022972089\n",
      "State:  x1 run:  5  Finished.\n"
     ]
    },
    {
     "data": {
      "application/vnd.jupyter.widget-view+json": {
       "model_id": "",
       "version_major": 2,
       "version_minor": 0
      },
      "text/plain": [
       "Accordion(children=(VBox(layout=Layout(max_width='710px', min_width='710px')),), layout=Layout(max_height='500…"
      ]
     },
     "metadata": {},
     "output_type": "display_data"
    },
    {
     "data": {
      "application/javascript": [
       "\n",
       "        const isLab = window['Jupyter'] === undefined;\n",
       "        const notebook = document.querySelector( isLab ? 'div.jp-Notebook' : '#site');\n",
       "        const jobWidget = document.querySelector('div.job_widget');\n",
       "        notebook.prepend(jobWidget);\n",
       "        jobWidget.style.zIndex = '999';\n",
       "        jobWidget.style.position = isLab ? 'sticky' : 'fixed';\n",
       "        jobWidget.style.boxShadow = '5px 5px 5px -3px black';\n",
       "        jobWidget.style.opacity = '0.95';\n",
       "        if (isLab) {\n",
       "            jobWidget.style.top = '0';\n",
       "            jobWidget.style.left = '0';\n",
       "        }\n",
       "        "
      ],
      "text/plain": [
       "<IPython.core.display.Javascript object>"
      ]
     },
     "metadata": {},
     "output_type": "display_data"
    },
    {
     "name": "stdout",
     "output_type": "stream",
     "text": [
      "Job Status: job has successfully run\n",
      "s ideal:  [2.220446049250313e-16, 0.9999999999999998, -4.371503159461554e-16]\n",
      "s simulation:  [-0.3569593849261423, 0.7264539013881581, 0.4933338812716184]\n",
      "QPU simulation fidelity:  0.8831871227137672\n",
      "State:  y0 run:  1  Finished.\n"
     ]
    },
    {
     "data": {
      "application/vnd.jupyter.widget-view+json": {
       "model_id": "",
       "version_major": 2,
       "version_minor": 0
      },
      "text/plain": [
       "Accordion(children=(VBox(layout=Layout(max_width='710px', min_width='710px')),), layout=Layout(max_height='500…"
      ]
     },
     "metadata": {},
     "output_type": "display_data"
    },
    {
     "data": {
      "application/javascript": [
       "\n",
       "        const isLab = window['Jupyter'] === undefined;\n",
       "        const notebook = document.querySelector( isLab ? 'div.jp-Notebook' : '#site');\n",
       "        const jobWidget = document.querySelector('div.job_widget');\n",
       "        notebook.prepend(jobWidget);\n",
       "        jobWidget.style.zIndex = '999';\n",
       "        jobWidget.style.position = isLab ? 'sticky' : 'fixed';\n",
       "        jobWidget.style.boxShadow = '5px 5px 5px -3px black';\n",
       "        jobWidget.style.opacity = '0.95';\n",
       "        if (isLab) {\n",
       "            jobWidget.style.top = '0';\n",
       "            jobWidget.style.left = '0';\n",
       "        }\n",
       "        "
      ],
      "text/plain": [
       "<IPython.core.display.Javascript object>"
      ]
     },
     "metadata": {},
     "output_type": "display_data"
    },
    {
     "name": "stdout",
     "output_type": "stream",
     "text": [
      "Job Status: job has successfully run\n",
      "s ideal:  [2.220446049250313e-16, 0.9999999999999998, -4.371503159461554e-16]\n",
      "s simulation:  [-0.6731120740577415, 0.5535940679828222, 0.5067164474262157]\n",
      "QPU simulation fidelity:  0.7745672915641195\n",
      "State:  y0 run:  2  Finished.\n"
     ]
    },
    {
     "data": {
      "application/vnd.jupyter.widget-view+json": {
       "model_id": "",
       "version_major": 2,
       "version_minor": 0
      },
      "text/plain": [
       "Accordion(children=(VBox(layout=Layout(max_width='710px', min_width='710px')),), layout=Layout(max_height='500…"
      ]
     },
     "metadata": {},
     "output_type": "display_data"
    },
    {
     "data": {
      "application/javascript": [
       "\n",
       "        const isLab = window['Jupyter'] === undefined;\n",
       "        const notebook = document.querySelector( isLab ? 'div.jp-Notebook' : '#site');\n",
       "        const jobWidget = document.querySelector('div.job_widget');\n",
       "        notebook.prepend(jobWidget);\n",
       "        jobWidget.style.zIndex = '999';\n",
       "        jobWidget.style.position = isLab ? 'sticky' : 'fixed';\n",
       "        jobWidget.style.boxShadow = '5px 5px 5px -3px black';\n",
       "        jobWidget.style.opacity = '0.95';\n",
       "        if (isLab) {\n",
       "            jobWidget.style.top = '0';\n",
       "            jobWidget.style.left = '0';\n",
       "        }\n",
       "        "
      ],
      "text/plain": [
       "<IPython.core.display.Javascript object>"
      ]
     },
     "metadata": {},
     "output_type": "display_data"
    },
    {
     "name": "stdout",
     "output_type": "stream",
     "text": [
      "Job Status: job has successfully run\n",
      "s ideal:  [2.220446049250313e-16, 0.9999999999999998, -4.371503159461554e-16]\n",
      "s simulation:  [-0.3111606036965371, 0.49527423415905686, 0.0870644013881702]\n",
      "QPU simulation fidelity:  0.9187640125688897\n",
      "State:  y0 run:  3  Finished.\n"
     ]
    },
    {
     "data": {
      "application/vnd.jupyter.widget-view+json": {
       "model_id": "",
       "version_major": 2,
       "version_minor": 0
      },
      "text/plain": [
       "Accordion(children=(VBox(layout=Layout(max_width='710px', min_width='710px')),), layout=Layout(max_height='500…"
      ]
     },
     "metadata": {},
     "output_type": "display_data"
    },
    {
     "data": {
      "application/javascript": [
       "\n",
       "        const isLab = window['Jupyter'] === undefined;\n",
       "        const notebook = document.querySelector( isLab ? 'div.jp-Notebook' : '#site');\n",
       "        const jobWidget = document.querySelector('div.job_widget');\n",
       "        notebook.prepend(jobWidget);\n",
       "        jobWidget.style.zIndex = '999';\n",
       "        jobWidget.style.position = isLab ? 'sticky' : 'fixed';\n",
       "        jobWidget.style.boxShadow = '5px 5px 5px -3px black';\n",
       "        jobWidget.style.opacity = '0.95';\n",
       "        if (isLab) {\n",
       "            jobWidget.style.top = '0';\n",
       "            jobWidget.style.left = '0';\n",
       "        }\n",
       "        "
      ],
      "text/plain": [
       "<IPython.core.display.Javascript object>"
      ]
     },
     "metadata": {},
     "output_type": "display_data"
    },
    {
     "name": "stdout",
     "output_type": "stream",
     "text": [
      "Job Status: job has successfully run\n",
      "s ideal:  [2.220446049250313e-16, 0.9999999999999998, -4.371503159461554e-16]\n",
      "s simulation:  [-0.713751972654996, 0.3055453498629692, 0.6416195026241678]\n",
      "QPU simulation fidelity:  0.6516788115793383\n",
      "State:  y0 run:  4  Finished.\n"
     ]
    },
    {
     "data": {
      "application/vnd.jupyter.widget-view+json": {
       "model_id": "",
       "version_major": 2,
       "version_minor": 0
      },
      "text/plain": [
       "Accordion(children=(VBox(layout=Layout(max_width='710px', min_width='710px')),), layout=Layout(max_height='500…"
      ]
     },
     "metadata": {},
     "output_type": "display_data"
    },
    {
     "data": {
      "application/javascript": [
       "\n",
       "        const isLab = window['Jupyter'] === undefined;\n",
       "        const notebook = document.querySelector( isLab ? 'div.jp-Notebook' : '#site');\n",
       "        const jobWidget = document.querySelector('div.job_widget');\n",
       "        notebook.prepend(jobWidget);\n",
       "        jobWidget.style.zIndex = '999';\n",
       "        jobWidget.style.position = isLab ? 'sticky' : 'fixed';\n",
       "        jobWidget.style.boxShadow = '5px 5px 5px -3px black';\n",
       "        jobWidget.style.opacity = '0.95';\n",
       "        if (isLab) {\n",
       "            jobWidget.style.top = '0';\n",
       "            jobWidget.style.left = '0';\n",
       "        }\n",
       "        "
      ],
      "text/plain": [
       "<IPython.core.display.Javascript object>"
      ]
     },
     "metadata": {},
     "output_type": "display_data"
    },
    {
     "name": "stdout",
     "output_type": "stream",
     "text": [
      "Job Status: job has successfully run\n",
      "s ideal:  [2.220446049250313e-16, 0.9999999999999998, -4.371503159461554e-16]\n",
      "s simulation:  [-0.4787441191650722, 1.041807909537419, 0.19580201467345443]\n",
      "QPU simulation fidelity:  0.9478423028252736\n",
      "State:  y0 run:  5  Finished.\n"
     ]
    },
    {
     "data": {
      "application/vnd.jupyter.widget-view+json": {
       "model_id": "",
       "version_major": 2,
       "version_minor": 0
      },
      "text/plain": [
       "Accordion(children=(VBox(layout=Layout(max_width='710px', min_width='710px')),), layout=Layout(max_height='500…"
      ]
     },
     "metadata": {},
     "output_type": "display_data"
    },
    {
     "data": {
      "application/javascript": [
       "\n",
       "        const isLab = window['Jupyter'] === undefined;\n",
       "        const notebook = document.querySelector( isLab ? 'div.jp-Notebook' : '#site');\n",
       "        const jobWidget = document.querySelector('div.job_widget');\n",
       "        notebook.prepend(jobWidget);\n",
       "        jobWidget.style.zIndex = '999';\n",
       "        jobWidget.style.position = isLab ? 'sticky' : 'fixed';\n",
       "        jobWidget.style.boxShadow = '5px 5px 5px -3px black';\n",
       "        jobWidget.style.opacity = '0.95';\n",
       "        if (isLab) {\n",
       "            jobWidget.style.top = '0';\n",
       "            jobWidget.style.left = '0';\n",
       "        }\n",
       "        "
      ],
      "text/plain": [
       "<IPython.core.display.Javascript object>"
      ]
     },
     "metadata": {},
     "output_type": "display_data"
    },
    {
     "name": "stdout",
     "output_type": "stream",
     "text": [
      "Job Status: job has successfully run\n",
      "s ideal:  [3.3306690738754696e-16, -0.9999999999999996, 1.6653345369377348e-16]\n",
      "s simulation:  [-0.8252891398278581, -0.18384149769702884, 0.4139494252647028]\n",
      "QPU simulation fidelity:  0.5976415022790793\n",
      "State:  y1 run:  1  Finished.\n"
     ]
    },
    {
     "data": {
      "application/vnd.jupyter.widget-view+json": {
       "model_id": "",
       "version_major": 2,
       "version_minor": 0
      },
      "text/plain": [
       "Accordion(children=(VBox(layout=Layout(max_width='710px', min_width='710px')),), layout=Layout(max_height='500…"
      ]
     },
     "metadata": {},
     "output_type": "display_data"
    },
    {
     "data": {
      "application/javascript": [
       "\n",
       "        const isLab = window['Jupyter'] === undefined;\n",
       "        const notebook = document.querySelector( isLab ? 'div.jp-Notebook' : '#site');\n",
       "        const jobWidget = document.querySelector('div.job_widget');\n",
       "        notebook.prepend(jobWidget);\n",
       "        jobWidget.style.zIndex = '999';\n",
       "        jobWidget.style.position = isLab ? 'sticky' : 'fixed';\n",
       "        jobWidget.style.boxShadow = '5px 5px 5px -3px black';\n",
       "        jobWidget.style.opacity = '0.95';\n",
       "        if (isLab) {\n",
       "            jobWidget.style.top = '0';\n",
       "            jobWidget.style.left = '0';\n",
       "        }\n",
       "        "
      ],
      "text/plain": [
       "<IPython.core.display.Javascript object>"
      ]
     },
     "metadata": {},
     "output_type": "display_data"
    },
    {
     "name": "stdout",
     "output_type": "stream",
     "text": [
      "Job Status: job has successfully run\n",
      "s ideal:  [3.3306690738754696e-16, -0.9999999999999996, 1.6653345369377348e-16]\n",
      "s simulation:  [-1.121704638710028, -0.05516780024643897, 0.8388663417759252]\n",
      "QPU simulation fidelity:  0.5196778953422427\n",
      "State:  y1 run:  2  Finished.\n"
     ]
    },
    {
     "data": {
      "application/vnd.jupyter.widget-view+json": {
       "model_id": "",
       "version_major": 2,
       "version_minor": 0
      },
      "text/plain": [
       "Accordion(children=(VBox(layout=Layout(max_width='710px', min_width='710px')),), layout=Layout(max_height='500…"
      ]
     },
     "metadata": {},
     "output_type": "display_data"
    },
    {
     "data": {
      "application/javascript": [
       "\n",
       "        const isLab = window['Jupyter'] === undefined;\n",
       "        const notebook = document.querySelector( isLab ? 'div.jp-Notebook' : '#site');\n",
       "        const jobWidget = document.querySelector('div.job_widget');\n",
       "        notebook.prepend(jobWidget);\n",
       "        jobWidget.style.zIndex = '999';\n",
       "        jobWidget.style.position = isLab ? 'sticky' : 'fixed';\n",
       "        jobWidget.style.boxShadow = '5px 5px 5px -3px black';\n",
       "        jobWidget.style.opacity = '0.95';\n",
       "        if (isLab) {\n",
       "            jobWidget.style.top = '0';\n",
       "            jobWidget.style.left = '0';\n",
       "        }\n",
       "        "
      ],
      "text/plain": [
       "<IPython.core.display.Javascript object>"
      ]
     },
     "metadata": {},
     "output_type": "display_data"
    },
    {
     "name": "stdout",
     "output_type": "stream",
     "text": [
      "Job Status: job has successfully run\n",
      "s ideal:  [3.3306690738754696e-16, -0.9999999999999996, 1.6653345369377348e-16]\n",
      "s simulation:  [-1.1908605690996183, 0.3970936440073363, 0.9975628662352168]\n",
      "QPU simulation fidelity:  0.37617311490045513\n",
      "State:  y1 run:  3  Finished.\n"
     ]
    },
    {
     "data": {
      "application/vnd.jupyter.widget-view+json": {
       "model_id": "",
       "version_major": 2,
       "version_minor": 0
      },
      "text/plain": [
       "Accordion(children=(VBox(layout=Layout(max_width='710px', min_width='710px')),), layout=Layout(max_height='500…"
      ]
     },
     "metadata": {},
     "output_type": "display_data"
    },
    {
     "data": {
      "application/javascript": [
       "\n",
       "        const isLab = window['Jupyter'] === undefined;\n",
       "        const notebook = document.querySelector( isLab ? 'div.jp-Notebook' : '#site');\n",
       "        const jobWidget = document.querySelector('div.job_widget');\n",
       "        notebook.prepend(jobWidget);\n",
       "        jobWidget.style.zIndex = '999';\n",
       "        jobWidget.style.position = isLab ? 'sticky' : 'fixed';\n",
       "        jobWidget.style.boxShadow = '5px 5px 5px -3px black';\n",
       "        jobWidget.style.opacity = '0.95';\n",
       "        if (isLab) {\n",
       "            jobWidget.style.top = '0';\n",
       "            jobWidget.style.left = '0';\n",
       "        }\n",
       "        "
      ],
      "text/plain": [
       "<IPython.core.display.Javascript object>"
      ]
     },
     "metadata": {},
     "output_type": "display_data"
    },
    {
     "name": "stdout",
     "output_type": "stream",
     "text": [
      "Job Status: job has successfully run\n",
      "s ideal:  [3.3306690738754696e-16, -0.9999999999999996, 1.6653345369377348e-16]\n",
      "s simulation:  [-0.3800244633292086, -0.2860999776700311, 0.4151522038679697]\n",
      "QPU simulation fidelity:  0.7265721751795237\n",
      "State:  y1 run:  4  Finished.\n"
     ]
    },
    {
     "data": {
      "application/vnd.jupyter.widget-view+json": {
       "model_id": "5d0bf71e4bf345f5926defb7a35cefd3",
       "version_major": 2,
       "version_minor": 0
      },
      "text/plain": [
       "Accordion(children=(VBox(layout=Layout(max_width='710px', min_width='710px')),), layout=Layout(max_height='500…"
      ]
     },
     "metadata": {},
     "output_type": "display_data"
    },
    {
     "data": {
      "application/javascript": [
       "\n",
       "        const isLab = window['Jupyter'] === undefined;\n",
       "        const notebook = document.querySelector( isLab ? 'div.jp-Notebook' : '#site');\n",
       "        const jobWidget = document.querySelector('div.job_widget');\n",
       "        notebook.prepend(jobWidget);\n",
       "        jobWidget.style.zIndex = '999';\n",
       "        jobWidget.style.position = isLab ? 'sticky' : 'fixed';\n",
       "        jobWidget.style.boxShadow = '5px 5px 5px -3px black';\n",
       "        jobWidget.style.opacity = '0.95';\n",
       "        if (isLab) {\n",
       "            jobWidget.style.top = '0';\n",
       "            jobWidget.style.left = '0';\n",
       "        }\n",
       "        "
      ],
      "text/plain": [
       "<IPython.core.display.Javascript object>"
      ]
     },
     "metadata": {},
     "output_type": "display_data"
    },
    {
     "name": "stdout",
     "output_type": "stream",
     "text": [
      "Job Status: job has successfully run\n",
      "s ideal:  [3.3306690738754696e-16, -0.9999999999999996, 1.6653345369377348e-16]\n",
      "s simulation:  [-0.13198022143944277, -0.29393139371888355, 0.6297149933621113]\n",
      "QPU simulation fidelity:  0.7077670511005475\n",
      "State:  y1 run:  5  Finished.\n"
     ]
    }
   ],
   "source": [
    "## File where the results will be stored\n",
    "file = open(\"data_s_qpu.txt\",\"a\")\n",
    "\n",
    "## IBMQ provider\n",
    "provider=IBMQ.get_provider('ibm-q')\n",
    "\n",
    "angles = [ang_z0,ang_z1,ang_x0,ang_x1,ang_y0,ang_y1]\n",
    "states=['z0','z1','x0','x1','y0','y1']\n",
    "\n",
    "state = 0\n",
    "for a_i in angles:\n",
    "    \n",
    "    for n in range(5):\n",
    "        \n",
    "        p_ideal = ideal_prob(a_i)\n",
    "        p_IBM = IBM_sim_probs(a_i, 1)\n",
    "\n",
    "        s_real = bloch_vector_from_prob(p_ideal)\n",
    "        s_IBM = bloch_vector_from_prob(p_IBM)\n",
    "        \n",
    "        ideal_state = bloch_vector_to_state(s_real)\n",
    "        rec_IBM_state = bloch_vector_to_state(s_IBM)\n",
    "        \n",
    "        fidelity_ibm = quantum_info.state_fidelity(ideal_state,rec_IBM_state)\n",
    "        \n",
    "        file.write(\"%s, %s, %s, %s, %s, %s, %s, %s, %s, %s, %s, %s, %s, %s, %s, %s  \\n\" % (states[state], p_ideal[0], p_ideal[1],p_ideal[2], p_ideal[3],  p_IBM[0], p_IBM[1],p_IBM[2], p_IBM[3], s_real[0],s_real[1],s_real[2], s_IBM[0],s_IBM[1],s_IBM[2], fidelity_ibm))\n",
    "        \n",
    "        print('s ideal: ', s_real)\n",
    "        print('s simulation: ', s_IBM)\n",
    "        print('QPU simulation fidelity: ',fidelity_ibm)\n",
    "        \n",
    "        print('State: ', states[state], 'run: ',n+1,' Finished.')\n",
    "    state += 1\n",
    "file.close() "
   ]
  },
  {
   "cell_type": "markdown",
   "id": "rocky-steal",
   "metadata": {},
   "source": [
    "As you can see, the estimated states does not make any sense. This is due to the depth of the circuit needed to do this simulation. Moreover, it requiere a great ammount of CNOT gates, so, when the system is simulated in a quantum computer, all of this errors get accumulated and give a really noisy result. Due to this reason, before analizing the results, we are going to use another estimation method called maximum-likelihood estimation [REFERENCE MLE]."
   ]
  },
  {
   "cell_type": "code",
   "execution_count": 78,
   "id": "maritime-guyana",
   "metadata": {},
   "outputs": [],
   "source": [
    "## Function for maximun-likeihood estimation\n",
    "def disc_ML_est(mm,freq):\n",
    "    ## mm = measurement matrix\n",
    "    ## freq = probabilities from the experiment\n",
    "    se = np.array([1.0,0.0,0.0,0.0])\n",
    "    nint = 10000\n",
    "    for k in range(1,nint):\n",
    "        pe = np.dot(mm,se)\n",
    "        \n",
    "        re = np.dot(np.transpose(mm),(freq/pe))\n",
    "\n",
    "        ge = re[1]**2 + re[2]**2 + re[3]**2 - re[0]**2 \n",
    "        se[1] = (2*re[1]-se[1]*ge)/(2*re[0]+ge)\n",
    "        se[2] = (2*re[2]-se[2]*ge)/(2*re[0]+ge)\n",
    "        se[3] = (2*re[3]-se[3]*ge)/(2*re[0]+ge)\n",
    "    return se\n",
    "\n",
    "## dataframes for local and qpu simulations respectively\n",
    "df_sim = pd.read_csv('data_s_sim.txt', delimiter = \",\",names=['state','p_00_ideal','p_01_ideal','p_10_ideal','p_11_ideal','p_00_qpu','p_01_qpu','p_10_qpu','p_11_qpu','s1_ideal','s2_ideal','s3_ideal','s1_qpu_le','s2_qpu_le','s3_qpu_le','fidelity_le'])\n",
    "df = pd.read_csv('data_s_qpu.txt', delimiter = \",\",names=['state','p_00_ideal','p_01_ideal','p_10_ideal','p_11_ideal','p_00_qpu','p_01_qpu','p_10_qpu','p_11_qpu','s1_ideal','s2_ideal','s3_ideal','s1_qpu_le','s2_qpu_le','s3_qpu_le','fidelity_le'])"
   ]
  },
  {
   "cell_type": "code",
   "execution_count": 79,
   "id": "varied-forth",
   "metadata": {},
   "outputs": [
    {
     "name": "stderr",
     "output_type": "stream",
     "text": [
      "<ipython-input-78-c559a7369ece>:13: ComplexWarning: Casting complex values to real discards the imaginary part\n",
      "  se[1] = (2*re[1]-se[1]*ge)/(2*re[0]+ge)\n",
      "<ipython-input-78-c559a7369ece>:14: ComplexWarning: Casting complex values to real discards the imaginary part\n",
      "  se[2] = (2*re[2]-se[2]*ge)/(2*re[0]+ge)\n",
      "<ipython-input-78-c559a7369ece>:15: ComplexWarning: Casting complex values to real discards the imaginary part\n",
      "  se[3] = (2*re[3]-se[3]*ge)/(2*re[0]+ge)\n"
     ]
    }
   ],
   "source": [
    "## Implementation of maximum-likelihood estimation algorithm\n",
    "def s_from_df_qpu(row,i):\n",
    "    freq = np.array([row['p_00_qpu'],row['p_01_qpu'],row['p_10_qpu'],row['p_11_qpu']])\n",
    "    return disc_ML_est(np.array(T),freq)[i]\n",
    "\n",
    "df['s0_qpu_ml'] = df.apply(lambda x: s_from_df_qpu(x,0),axis=1)\n",
    "df['s1_qpu_ml'] = df.apply(lambda x: s_from_df_qpu(x,1),axis=1)\n",
    "df['s2_qpu_ml'] = df.apply(lambda x: s_from_df_qpu(x,2),axis=1)\n",
    "df['s3_qpu_ml'] = df.apply(lambda x: s_from_df_qpu(x,3),axis=1)\n",
    "\n",
    "\n",
    "df_sim['s0_sim_ml'] = df_sim.apply(lambda x: s_from_df_qpu(x,0),axis=1)\n",
    "df_sim['s1_sim_ml'] = df_sim.apply(lambda x: s_from_df_qpu(x,1),axis=1)\n",
    "df_sim['s2_sim_ml'] = df_sim.apply(lambda x: s_from_df_qpu(x,2),axis=1)\n",
    "df_sim['s3_sim_ml'] = df_sim.apply(lambda x: s_from_df_qpu(x,3),axis=1)\n"
   ]
  },
  {
   "cell_type": "code",
   "execution_count": 84,
   "id": "front-rough",
   "metadata": {},
   "outputs": [],
   "source": [
    "## Fidelities of the new estimated states\n",
    "def fidelity_qpu_ml(row):\n",
    "    s_ideal = [row['s1_ideal'],row['s2_ideal'],row['s3_ideal']]\n",
    "    s_IBM = [row['s1_qpu_ml'],row['s2_qpu_ml'],row['s3_qpu_ml']]\n",
    "    ideal_state = bloch_vector_to_state(s_ideal)\n",
    "    rec_IBM_state = bloch_vector_to_state(s_IBM)\n",
    "    return quantum_info.state_fidelity(ideal_state,rec_IBM_state)\n",
    "\n",
    "def fidelity_sim_ml(row):\n",
    "    s_ideal = [row['s1_ideal'],row['s2_ideal'],row['s3_ideal']]\n",
    "    s_IBM = [row['s1_sim_ml'],row['s2_sim_ml'],row['s3_sim_ml']]\n",
    "    ideal_state = bloch_vector_to_state(s_ideal)\n",
    "    rec_IBM_state = bloch_vector_to_state(s_IBM)\n",
    "\n",
    "    return quantum_info.state_fidelity(ideal_state,rec_IBM_state)\n",
    "\n",
    "df['fidelity_qpu_ml'] = df.apply(fidelity_qpu_ml, axis=1)\n",
    "df_sim['fidelity_sim_ml'] = df_sim.apply(fidelity_sim_ml, axis=1)\n",
    "\n",
    "grouped_df = df.groupby(['state'],sort=False).mean()\n",
    "grouped_df_sim = df_sim.groupby(['state'],sort=False).mean()"
   ]
  },
  {
   "cell_type": "code",
   "execution_count": 85,
   "id": "occasional-apparel",
   "metadata": {},
   "outputs": [
    {
     "data": {
      "text/html": [
       "<div>\n",
       "<style scoped>\n",
       "    .dataframe tbody tr th:only-of-type {\n",
       "        vertical-align: middle;\n",
       "    }\n",
       "\n",
       "    .dataframe tbody tr th {\n",
       "        vertical-align: top;\n",
       "    }\n",
       "\n",
       "    .dataframe thead th {\n",
       "        text-align: right;\n",
       "    }\n",
       "</style>\n",
       "<table border=\"1\" class=\"dataframe\">\n",
       "  <thead>\n",
       "    <tr style=\"text-align: right;\">\n",
       "      <th></th>\n",
       "      <th>s1_ideal</th>\n",
       "      <th>s1_sim_ml</th>\n",
       "      <th>s2_ideal</th>\n",
       "      <th>s2_sim_ml</th>\n",
       "      <th>s3_ideal</th>\n",
       "      <th>s3_sim_ml</th>\n",
       "      <th>fidelity_sim_ml</th>\n",
       "    </tr>\n",
       "    <tr>\n",
       "      <th>state</th>\n",
       "      <th></th>\n",
       "      <th></th>\n",
       "      <th></th>\n",
       "      <th></th>\n",
       "      <th></th>\n",
       "      <th></th>\n",
       "      <th></th>\n",
       "    </tr>\n",
       "  </thead>\n",
       "  <tbody>\n",
       "    <tr>\n",
       "      <th>z0</th>\n",
       "      <td>0.0</td>\n",
       "      <td>0.009</td>\n",
       "      <td>-0.0</td>\n",
       "      <td>-0.031</td>\n",
       "      <td>1.0</td>\n",
       "      <td>0.943</td>\n",
       "      <td>0.997</td>\n",
       "    </tr>\n",
       "    <tr>\n",
       "      <th>z1</th>\n",
       "      <td>0.0</td>\n",
       "      <td>0.023</td>\n",
       "      <td>0.0</td>\n",
       "      <td>-0.016</td>\n",
       "      <td>-1.0</td>\n",
       "      <td>-0.966</td>\n",
       "      <td>0.998</td>\n",
       "    </tr>\n",
       "    <tr>\n",
       "      <th>x0</th>\n",
       "      <td>1.0</td>\n",
       "      <td>0.986</td>\n",
       "      <td>0.0</td>\n",
       "      <td>-0.009</td>\n",
       "      <td>-0.0</td>\n",
       "      <td>-0.008</td>\n",
       "      <td>0.999</td>\n",
       "    </tr>\n",
       "    <tr>\n",
       "      <th>x1</th>\n",
       "      <td>-1.0</td>\n",
       "      <td>-0.993</td>\n",
       "      <td>-0.0</td>\n",
       "      <td>0.040</td>\n",
       "      <td>-0.0</td>\n",
       "      <td>0.022</td>\n",
       "      <td>0.998</td>\n",
       "    </tr>\n",
       "    <tr>\n",
       "      <th>y0</th>\n",
       "      <td>0.0</td>\n",
       "      <td>-0.014</td>\n",
       "      <td>1.0</td>\n",
       "      <td>0.940</td>\n",
       "      <td>-0.0</td>\n",
       "      <td>0.046</td>\n",
       "      <td>0.998</td>\n",
       "    </tr>\n",
       "    <tr>\n",
       "      <th>y1</th>\n",
       "      <td>0.0</td>\n",
       "      <td>0.012</td>\n",
       "      <td>-1.0</td>\n",
       "      <td>-0.994</td>\n",
       "      <td>0.0</td>\n",
       "      <td>0.054</td>\n",
       "      <td>0.997</td>\n",
       "    </tr>\n",
       "  </tbody>\n",
       "</table>\n",
       "</div>"
      ],
      "text/plain": [
       "       s1_ideal  s1_sim_ml  s2_ideal  s2_sim_ml  s3_ideal  s3_sim_ml  \\\n",
       "state                                                                  \n",
       "z0          0.0      0.009      -0.0     -0.031       1.0      0.943   \n",
       "z1          0.0      0.023       0.0     -0.016      -1.0     -0.966   \n",
       "x0          1.0      0.986       0.0     -0.009      -0.0     -0.008   \n",
       "x1         -1.0     -0.993      -0.0      0.040      -0.0      0.022   \n",
       "y0          0.0     -0.014       1.0      0.940      -0.0      0.046   \n",
       "y1          0.0      0.012      -1.0     -0.994       0.0      0.054   \n",
       "\n",
       "       fidelity_sim_ml  \n",
       "state                   \n",
       "z0               0.997  \n",
       "z1               0.998  \n",
       "x0               0.999  \n",
       "x1               0.998  \n",
       "y0               0.998  \n",
       "y1               0.997  "
      ]
     },
     "execution_count": 85,
     "metadata": {},
     "output_type": "execute_result"
    }
   ],
   "source": [
    "grouped_df_sim = grouped_df_sim.round(3)\n",
    "grouped_df_sim[['s1_ideal','s1_sim_ml','s2_ideal', 's2_sim_ml','s3_ideal', 's3_sim_ml','fidelity_sim_ml']]"
   ]
  },
  {
   "cell_type": "markdown",
   "id": "medium-basics",
   "metadata": {},
   "source": []
  },
  {
   "cell_type": "code",
   "execution_count": 86,
   "id": "indian-brazilian",
   "metadata": {},
   "outputs": [
    {
     "data": {
      "text/html": [
       "<div>\n",
       "<style scoped>\n",
       "    .dataframe tbody tr th:only-of-type {\n",
       "        vertical-align: middle;\n",
       "    }\n",
       "\n",
       "    .dataframe tbody tr th {\n",
       "        vertical-align: top;\n",
       "    }\n",
       "\n",
       "    .dataframe thead th {\n",
       "        text-align: right;\n",
       "    }\n",
       "</style>\n",
       "<table border=\"1\" class=\"dataframe\">\n",
       "  <thead>\n",
       "    <tr style=\"text-align: right;\">\n",
       "      <th></th>\n",
       "      <th>s1_ideal</th>\n",
       "      <th>s1_qpu_ml</th>\n",
       "      <th>s2_ideal</th>\n",
       "      <th>s2_qpu_ml</th>\n",
       "      <th>s3_ideal</th>\n",
       "      <th>s3_qpu_ml</th>\n",
       "      <th>fidelity_qpu_ml</th>\n",
       "    </tr>\n",
       "    <tr>\n",
       "      <th>state</th>\n",
       "      <th></th>\n",
       "      <th></th>\n",
       "      <th></th>\n",
       "      <th></th>\n",
       "      <th></th>\n",
       "      <th></th>\n",
       "      <th></th>\n",
       "    </tr>\n",
       "  </thead>\n",
       "  <tbody>\n",
       "    <tr>\n",
       "      <th>z0</th>\n",
       "      <td>0.0</td>\n",
       "      <td>-0.038</td>\n",
       "      <td>-0.0</td>\n",
       "      <td>0.455</td>\n",
       "      <td>1.0</td>\n",
       "      <td>0.490</td>\n",
       "      <td>0.813</td>\n",
       "    </tr>\n",
       "    <tr>\n",
       "      <th>z1</th>\n",
       "      <td>0.0</td>\n",
       "      <td>-0.707</td>\n",
       "      <td>0.0</td>\n",
       "      <td>0.190</td>\n",
       "      <td>-1.0</td>\n",
       "      <td>0.138</td>\n",
       "      <td>0.447</td>\n",
       "    </tr>\n",
       "    <tr>\n",
       "      <th>x0</th>\n",
       "      <td>1.0</td>\n",
       "      <td>0.112</td>\n",
       "      <td>0.0</td>\n",
       "      <td>0.332</td>\n",
       "      <td>-0.0</td>\n",
       "      <td>0.366</td>\n",
       "      <td>0.618</td>\n",
       "    </tr>\n",
       "    <tr>\n",
       "      <th>x1</th>\n",
       "      <td>-1.0</td>\n",
       "      <td>-0.892</td>\n",
       "      <td>-0.0</td>\n",
       "      <td>0.097</td>\n",
       "      <td>-0.0</td>\n",
       "      <td>0.422</td>\n",
       "      <td>0.946</td>\n",
       "    </tr>\n",
       "    <tr>\n",
       "      <th>y0</th>\n",
       "      <td>0.0</td>\n",
       "      <td>-0.486</td>\n",
       "      <td>1.0</td>\n",
       "      <td>0.595</td>\n",
       "      <td>-0.0</td>\n",
       "      <td>0.385</td>\n",
       "      <td>0.836</td>\n",
       "    </tr>\n",
       "    <tr>\n",
       "      <th>y1</th>\n",
       "      <td>0.0</td>\n",
       "      <td>-0.546</td>\n",
       "      <td>-1.0</td>\n",
       "      <td>-0.092</td>\n",
       "      <td>0.0</td>\n",
       "      <td>0.561</td>\n",
       "      <td>0.576</td>\n",
       "    </tr>\n",
       "  </tbody>\n",
       "</table>\n",
       "</div>"
      ],
      "text/plain": [
       "       s1_ideal  s1_qpu_ml  s2_ideal  s2_qpu_ml  s3_ideal  s3_qpu_ml  \\\n",
       "state                                                                  \n",
       "z0          0.0     -0.038      -0.0      0.455       1.0      0.490   \n",
       "z1          0.0     -0.707       0.0      0.190      -1.0      0.138   \n",
       "x0          1.0      0.112       0.0      0.332      -0.0      0.366   \n",
       "x1         -1.0     -0.892      -0.0      0.097      -0.0      0.422   \n",
       "y0          0.0     -0.486       1.0      0.595      -0.0      0.385   \n",
       "y1          0.0     -0.546      -1.0     -0.092       0.0      0.561   \n",
       "\n",
       "       fidelity_qpu_ml  \n",
       "state                   \n",
       "z0               0.813  \n",
       "z1               0.447  \n",
       "x0               0.618  \n",
       "x1               0.946  \n",
       "y0               0.836  \n",
       "y1               0.576  "
      ]
     },
     "execution_count": 86,
     "metadata": {},
     "output_type": "execute_result"
    }
   ],
   "source": [
    "grouped_df = grouped_df.round(3)\n",
    "grouped_df[['s1_ideal','s1_qpu_ml','s2_ideal', 's2_qpu_ml','s3_ideal', 's3_qpu_ml','fidelity_qpu_ml']]"
   ]
  },
  {
   "cell_type": "code",
   "execution_count": 98,
   "id": "prescription-choice",
   "metadata": {},
   "outputs": [],
   "source": [
    "## qttf error from data\n",
    "def qttf_s(df):\n",
    "    \n",
    "    df_mean = df.groupby(['state'],sort=False).mean()\n",
    "    \n",
    "    v_x = []\n",
    "    v_y = []\n",
    "    v_z = []\n",
    "    for i in range(6):\n",
    "        p_00 = df_mean['p_00_qpu'][i]\n",
    "        p_01 = df_mean['p_01_qpu'][i]\n",
    "        p_10 = df_mean['p_10_qpu'][i]\n",
    "        p_11 = df_mean['p_11_qpu'][i]\n",
    "        \n",
    "        if 's1_qpu_ml' in df_mean:\n",
    "            se_x = df_mean['s1_qpu_ml'][i]\n",
    "            se_y = df_mean['s2_qpu_ml'][i]\n",
    "            se_z = df_mean['s3_qpu_ml'][i]\n",
    "        else: \n",
    "            se_x = df_mean['s1_sim_ml'][i]\n",
    "            se_y = df_mean['s2_sim_ml'][i]\n",
    "            se_z = df_mean['s3_sim_ml'][i]\n",
    " \n",
    "        \n",
    "        s_t00,s_x00,s_y00,s_z00 = np.array(np.matmul(np.linalg.inv(T),[1,0,0,0]))\n",
    "        s_t01,s_x01,s_y01,s_z01 = np.array(np.matmul(np.linalg.inv(T),[0,1,0,0]))\n",
    "        s_t10,s_x10,s_y10,s_z10 = np.array(np.matmul(np.linalg.inv(T),[0,0,1,0]))\n",
    "        s_t11,s_x11,s_y11,s_z11 = np.array(np.matmul(np.linalg.inv(T),[0,0,0,1]))\n",
    "        \n",
    "        \n",
    "        v_x.append((p_00*(s_x00-se_x)*(s_x00-se_x)) + (p_01*(s_x01-se_x)*(s_x01-se_x))\n",
    "                  +(p_10*(s_x10-se_x)*(s_x10-se_x)) + (p_11*(s_x11-se_x)*(s_x11-se_x)))\n",
    "        \n",
    "        v_y.append((p_00*(s_y00-se_y)*(s_y00-se_y)) + (p_01*(s_y01-se_y)*(s_y01-se_y))\n",
    "                  +(p_10*(s_y10-se_y)*(s_y10-se_y)) + (p_11*(s_y11-se_y)*(s_y11-se_y)))\n",
    "        \n",
    "        v_z.append((p_00*(s_z00-se_z)*(s_z00-se_z)) + (p_01*(s_z01-se_z)*(s_z01-se_z))\n",
    "                  +(p_10*(s_z10-se_z)*(s_z10-se_z)) + (p_11*(s_z11-se_z)*(s_z11-se_z)))\n",
    "                   \n",
    "    \n",
    "    v_x=np.array(v_x)\n",
    "    v_y=np.array(v_y)\n",
    "    v_z=np.array(v_z)\n",
    "    \n",
    "    print('var_x: ', v_x.mean())\n",
    "    print('var_y: ', v_y.mean())\n",
    "    print('var_z: ', v_z.mean())\n",
    "    \n",
    "    print('var: ', v_x.mean() + v_y.mean() + v_z.mean())\n",
    "    return (v_x.mean() + v_y.mean() + v_z.mean())"
   ]
  },
  {
   "cell_type": "code",
   "execution_count": 99,
   "id": "adult-senator",
   "metadata": {},
   "outputs": [
    {
     "name": "stdout",
     "output_type": "stream",
     "text": [
      "var_x:  (10.026797477768788-6.327521640415947e-17j)\n",
      "var_y:  (5.979246206625582+3.2838726409692244e-16j)\n",
      "var_z:  (5.1849020811254665-8.278471964375567e-17j)\n",
      "var:  (21.190945765519835+1.823273280490073e-16j)\n"
     ]
    },
    {
     "data": {
      "text/plain": [
       "(21.190945765519835+1.823273280490073e-16j)"
      ]
     },
     "execution_count": 99,
     "metadata": {},
     "output_type": "execute_result"
    }
   ],
   "source": [
    "qttf_s(df)"
   ]
  },
  {
   "cell_type": "code",
   "execution_count": 100,
   "id": "arctic-vocabulary",
   "metadata": {},
   "outputs": [
    {
     "name": "stdout",
     "output_type": "stream",
     "text": [
      "var_x:  (7.64355020781521+1.1370200162750403e-17j)\n",
      "var_y:  (4.905087121239143+2.5742467570648824e-16j)\n",
      "var_z:  (4.5247419683226-6.202982655143867e-17j)\n",
      "var:  (17.073379297376952+2.067650493178e-16j)\n"
     ]
    },
    {
     "data": {
      "text/plain": [
       "(17.073379297376952+2.067650493178e-16j)"
      ]
     },
     "execution_count": 100,
     "metadata": {},
     "output_type": "execute_result"
    }
   ],
   "source": [
    "qttf_s(df_sim)"
   ]
  },
  {
   "cell_type": "markdown",
   "id": "helpful-efficiency",
   "metadata": {},
   "source": []
  },
  {
   "cell_type": "markdown",
   "id": "grand-stockholm",
   "metadata": {},
   "source": [
    "### References\n",
    "\n",
    "* Daniel Saavedra and K. M. Fonseca-Romero, **Complete and incomplete state estimation via the simultaneous unsharp measurement of two incompatible qubit operators**, Phys. Rev. A 99, 042130, 2019.\n",
    "* Javier Martínez-Cifuentes and K. M. Fonseca-Romero, **Spin-state estimation using the Stern-Gerlach experiment**, Phys. Rev. A 103, 042202, 2021.\n",
    "* Yong Siah Teo. **Introduction to Quantum-State Estimation**. WORLD SCIENTIFIC, 2015.\n",
    "* Jaroslav Rehacek, Zdenek Hradil, E. Knill, and A. I. Lvovsky. **Diluted maximum-likelihood algorithm for quantum tomography**. Phys. Rev. A, 75:042108, 2007."
   ]
  },
  {
   "cell_type": "code",
   "execution_count": null,
   "id": "operating-response",
   "metadata": {},
   "outputs": [],
   "source": []
  }
 ],
 "metadata": {
  "kernelspec": {
   "display_name": "Python 3",
   "language": "python",
   "name": "python3"
  },
  "language_info": {
   "codemirror_mode": {
    "name": "ipython",
    "version": 3
   },
   "file_extension": ".py",
   "mimetype": "text/x-python",
   "name": "python",
   "nbconvert_exporter": "python",
   "pygments_lexer": "ipython3",
   "version": "3.8.10"
  }
 },
 "nbformat": 4,
 "nbformat_minor": 5
}
