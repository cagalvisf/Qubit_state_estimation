{
 "cells": [
  {
   "cell_type": "markdown",
   "id": "tight-mason",
   "metadata": {},
   "source": [
    "## Optimized algorithm for complete qubit estate tomography in NISQ quantum computers.\n",
    "\n",
    "This Jupyter notebook has a brief demonstration of a new algorithm for doing indirect qubit state estimation using auxiliary qubits. Before abording this notebook I recommend first to follow the <a href=\"Saavedra_model.ipynb\" target=\"_blank\">notebook</a> about the theoretical model that we are using for doing the tomography process.\n",
    "\n",
    "We already know that we are going to estimate the inital state of a qubit $S$ using two auxiliary qubits $A$ and $B$ as in the following figure.\n",
    "\n",
    "\n",
    "<center>\n",
    "    <img src=\"figures/System.png\" width=200px>\n",
    "</center>\n",
    "\n",
    "In this notebook we will suggest a new evolution operator for doing the state tomography. So we will move forward to the design of the circuit and we will see its performance in a quantum computer."
   ]
  },
  {
   "cell_type": "code",
   "execution_count": 40,
   "id": "bored-dryer",
   "metadata": {},
   "outputs": [
    {
     "name": "stderr",
     "output_type": "stream",
     "text": [
      "ibmqfactory.load_account:WARNING:2022-03-28 12:36:40,481: Credentials are already in use. The existing account in the session will be replaced.\n"
     ]
    }
   ],
   "source": [
    "## Imports can be seen in the imports.ipynb file\n",
    "%run imports.ipynb\n",
    "IBMQ.load_account()\n",
    "pi = np.pi\n",
    "j = complex(0,1)"
   ]
  },
  {
   "cell_type": "markdown",
   "id": "returning-broadcasting",
   "metadata": {},
   "source": [
    "### Qubits initialization\n",
    "\n",
    "For this simulation, first, we have to initialize the qubits that we are going to use. In this case the $A$ and $B$ meters have to be initialized in the state $|+\\rangle = \\frac{1}{\\sqrt{2}}\\left(|0\\rangle + |1\\rangle\\right)$. On the other hand, the qubit $S$ is initialized in an arbitrary state $|\\psi^S\\rangle = c_0|0\\rangle + c_1 |1\\rangle$. This state can be parametrized in terms of the angles of a $U$ gate,\n",
    "$$U_{gate}(\\theta,\\phi,\\lambda) = \\begin{pmatrix}\n",
    "\\cos(\\theta/2) & -e^{i\\lambda}\\sin(\\theta/2) \\\\\n",
    "e^{i\\phi}\\sin(\\theta/2) & e^{i\\lambda + i\\phi}\\cos(\\theta/2) \n",
    "\\end{pmatrix} .$$\n",
    "So we define the initialization function."
   ]
  },
  {
   "cell_type": "code",
   "execution_count": 41,
   "id": "certified-queen",
   "metadata": {},
   "outputs": [],
   "source": [
    "def Initialization(angles = [0,0,0]):\n",
    "    \n",
    "    qr = QuantumRegister(3)\n",
    "    qc = QuantumCircuit(qr)\n",
    "\n",
    "    #Initialice qubits\n",
    "    qc.h(qr[0])                                    #A meter\n",
    "    qc.h(qr[2])                                    #B meter\n",
    "    qc.u(angles[0],angles[1],angles[2],[qr[1]])    #System\n",
    "    \n",
    "    Init_gate = qc.to_gate()\n",
    "    Init_gate.name= \"Initialization\"\n",
    "    \n",
    "    return Init_gate"
   ]
  },
  {
   "cell_type": "markdown",
   "id": "explicit-arrival",
   "metadata": {},
   "source": [
    "### Evolution operator\n",
    "\n",
    "Now we have to implement the evolution operator. In this case we are going to propose a new evolution operator that just needs 2 CNOT gates for doing optimal qubit state estimation. But, it has a total of $12$ free parameters, which are the angles of the $4$ general rotations that we are implementing, two in the meter $A$ and two in the meter $B$."
   ]
  },
  {
   "cell_type": "code",
   "execution_count": 42,
   "id": "outer-biodiversity",
   "metadata": {},
   "outputs": [],
   "source": [
    "def U_operator(A=[0,0,0,0,0,0],B=[0,0,0,0,0,0]):\n",
    "    \n",
    "    ## A y B are vectors with the rotation angles of the meters A y B\n",
    "    qr = QuantumRegister(3)\n",
    "    qc = QuantumCircuit(qr)\n",
    "    \n",
    "    #####==================================#####\n",
    "    #####======= Evolution operator =======#####\n",
    "    #####==================================#####\n",
    "\n",
    "\n",
    "       \n",
    "    ## We apply rotations around a CNOT between the S and A qubits\n",
    "    qc.u(A[0],A[1],A[2],qr[0])   \n",
    "    qc.cx(qr[1],qr[0])\n",
    "    qc.u(A[3],A[4],A[5],qr[0])\n",
    "    \n",
    "    \n",
    "    ## We change the basis of the S qubit\n",
    "    qc.h(qr[1])\n",
    "    \n",
    "    ## Now, we apply rotations around a CNOT between the S and B qubits\n",
    "    qc.u(B[0],B[1],B[2],qr[2])\n",
    "    qc.cx(qr[1],qr[2])\n",
    "    qc.u(B[3],B[4],B[5],qr[2])\n",
    "    \n",
    "    ## We revert the hadamard transformation over S\n",
    "    qc.h(qr[1])\n",
    "\n",
    "    U_gate=qc.to_gate()\n",
    "    U_gate.name=\"U Operator\"\n",
    "\n",
    "    return U_gate "
   ]
  },
  {
   "cell_type": "markdown",
   "id": "canadian-plane",
   "metadata": {},
   "source": [
    "### Qubit state estimation\n",
    "Now we have to do the estimation of the Bloch vector that describes the initial state of the qubit $S$. This follows the same procedure of the previous model, we are going to introduce the theoretical model briefly. First we have to change the basis where we are going to measure the meters $A$ and $B$.\n",
    "After measuring we will find a set of counts of the four possible states, whose probabilities are going to be saved in a vector $\\textbf{P} = (p_{00},p_{01},p_{10},p_{11})^T$. Then, whith this results, we now have to decompose the evolution operator in order to build the measurement matrix which will allows us to do the state estimation. We can use the completeness relation to decompose the evolution operator acting over the three qubits by \n",
    "$$\\begin{aligned} |\\Psi(T)\\rangle &= U |\\psi_0^S\\rangle\\otimes |+^A\\rangle \\otimes |+^B\\rangle \\\\\n",
    "&= \\frac{1}{2}\\sum_{ij=0,1}U_{ij} |\\psi_0^S\\rangle |i^A j^B\\rangle .\\end{aligned}$$\n",
    "\n",
    "Here $i$ and $j$ are related to the results obtained for the measurement of the meter $A$ and $B$ respectively.\n",
    "Now we have to define three operators that we called $A$, $B$, and $C$. This operators will be important for the definition of the measurement matrix. they have the form\n",
    "\n",
    "$$A = \\frac{1}{16}\\sum_{ij}U_{ij}^\\dagger U_{-ij}$$\n",
    "$$B = \\frac{1}{16}\\sum_{ij}U_{ij}^\\dagger U_{i -j}$$\n",
    "$$C = \\frac{1}{16}\\sum_{ij}U_{ij}^\\dagger U_{-i-j}$$\n",
    "\n",
    "The minus sign indicates a negation of the result, so, if $i = 0$ then $ -i = 1$.\n",
    "\n",
    "With this we can define some auxiliary vectors \n",
    "$$a_\\mu = \\frac{1}{2}Tr[A\\sigma_\\mu],$$\n",
    "$$b_\\mu = \\frac{1}{2}Tr[B\\sigma_\\mu],$$\n",
    "$$c_\\mu = \\frac{1}{2}Tr[C\\sigma_\\mu].$$\n",
    "Where $\\sigma_\\mu = (1,\\sigma_x,\\sigma_y,\\sigma_z).$ This vectors will be important for the definition of the measurement matrix which will be important later.\n",
    "\n",
    "The probability $p_{kl}$ that meters A and B are detected in states $|k^A\\rangle$ and $|{l^A}\\rangle$, respectively, $k,l=\\pm = \\{0,1\\},$ here $0$ represents the $-$ state and 1 represents the $+$ state, is\n",
    "$$p_{kl} =  \\frac{1}{4}s_0+\\sum_{\\mu = 1}^{3}\\left(a_\\mu k + b_\\mu l + c_\\mu kl\\right) s_\\mu.$$\n",
    "\n",
    "This relation can be written in the form $\\textbf{P}^T = \\mathbb{T}\\textbf{S}$. With $\\textbf{S} = (s_0,s_x,s_y,s_z)$, here $s_x, s_y, s_z$ are the components of the Bloch vector that represents the initial state od the qubit $S$.\n",
    "\n",
    "Inverting this relation we can estimate the initial state of the qubit $S$ by\n",
    "\n",
    "$$\\textbf{S} = \\mathbb{T}^{-1}\\textbf{P}. $$\n",
    "\n",
    "The matrix $\\mathbb{T}$ is an implicity defined matriz from the relation mentioned before. If the determinant of this matrix is different from $0$, then we can do the state tomography. So we have to be sure that this condition is satisfied befor doing the estimation. Now we are going to define this matrix and do the qubit state estimation.\n",
    "\n"
   ]
  },
  {
   "cell_type": "code",
   "execution_count": 43,
   "id": "opposed-point",
   "metadata": {},
   "outputs": [],
   "source": [
    "def U_matrix(angles_a,angles_b):\n",
    "    ## Definimos los qubits sobre los que actúa la compuerta\n",
    "    A = QuantumRegister(1,'a')\n",
    "    S = QuantumRegister(1,'s')\n",
    "    B = QuantumRegister(1,'b')\n",
    "    cr = ClassicalRegister(3)\n",
    "\n",
    "    ## Ejecutamos la compuerta sobre estos regitros\n",
    "    qc = QuantumCircuit(A,S,B, cr)\n",
    "    qc.append(U_operator(angles_a,angles_b),[A,S,B])\n",
    "\n",
    "    ## Usamos el simulador de IBM para obtener la matriz asociada al operador\n",
    "    backend = BasicAer.get_backend('unitary_simulator')\n",
    "    job = execute(qc, backend)\n",
    "    U = job.result().get_unitary(qc)\n",
    "    return U\n",
    "\n",
    "def T_matrix(U):\n",
    "    \n",
    "    ## we define the U_{ij} operators\n",
    "    U_00 = np.matrix(np.array([[U[0,0],U[0,2]],[U[2,0],U[2,2]]]) + np.array([[U[0,1],U[0,3]],[U[2,1],U[2,3]]]) + np.array([[U[0,4],U[0,6]],[U[2,4],U[2,6]]]) + np.array([[U[0,5],U[0,7]],[U[2,5],U[2,7]]]))\n",
    "    U_01 = np.matrix(np.array([[U[1,0],U[1,2]],[U[3,0],U[3,2]]]) + np.array([[U[1,1],U[1,3]],[U[3,1],U[3,3]]]) + np.array([[U[1,4],U[1,6]],[U[3,4],U[3,6]]]) + np.array([[U[1,5],U[1,7]],[U[3,5],U[3,7]]]))\n",
    "    U_10 = np.matrix(np.array([[U[4,0],U[4,2]],[U[6,0],U[6,2]]]) + np.array([[U[4,1],U[4,3]],[U[6,1],U[6,3]]]) + np.array([[U[4,4],U[4,6]],[U[6,4],U[6,6]]]) + np.array([[U[4,5],U[4,7]],[U[6,5],U[6,7]]]))\n",
    "    U_11 = np.matrix(np.array([[U[5,0],U[5,2]],[U[7,0],U[7,2]]]) + np.array([[U[5,1],U[5,3]],[U[7,1],U[7,3]]]) + np.array([[U[5,4],U[5,6]],[U[7,4],U[7,6]]]) + np.array([[U[5,5],U[5,7]],[U[7,5],U[7,7]]]))\n",
    "\n",
    "    ## and theyr adjoints\n",
    "    U_00d = U_00.getH()\n",
    "    U_01d = U_01.getH()\n",
    "    U_10d = U_10.getH()\n",
    "    U_11d = U_11.getH()\n",
    "        \n",
    "    ## The auxiliary operators A and B\n",
    "    A = 1/16*(np.matmul(U_00d,U_10) + np.matmul(U_01d,U_11) + np.matmul(U_10d,U_00) + np.matmul(U_11d,U_01))\n",
    "    B = 1/16*(np.matmul(U_00d,U_01) + np.matmul(U_01d,U_00) + np.matmul(U_10d,U_11) + np.matmul(U_11d,U_10))\n",
    "    C = 1/16*(np.matmul(U_00d,U_11) + np.matmul(U_01d,U_10) + np.matmul(U_10d,U_01) + np.matmul(U_11d,U_00))\n",
    "    \n",
    "    ## We define the Pauli matrices and the identiry\n",
    "    X = np.matrix([[0,1],[1,0]])\n",
    "    Y = np.matrix([[0,-j],[j,0]])\n",
    "    Z = np.matrix([[1,0],[0,-1]])\n",
    "    I = np.matrix([[1,0],[0,1]])\n",
    "\n",
    "    ## We evaluate the components of the a_\\mu, b_\\mu and c_\\mu vectors\n",
    "    a0 = 0.5*np.trace(np.matmul(A,I))\n",
    "    a1 = 0.5*np.trace(np.matmul(A,X))\n",
    "    a2 = 0.5*np.trace(np.matmul(A,Y))\n",
    "    a3 = 0.5*np.trace(np.matmul(A,Z))\n",
    "\n",
    "    b0 = 0.5*np.trace(np.matmul(B,I))\n",
    "    b1 = 0.5*np.trace(np.matmul(B,X))\n",
    "    b2 = 0.5*np.trace(np.matmul(B,Y))\n",
    "    b3 = 0.5*np.trace(np.matmul(B,Z))\n",
    "\n",
    "    c0 = 0.5*np.trace(np.matmul(C,I))\n",
    "    c1 = 0.5*np.trace(np.matmul(C,X))\n",
    "    c2 = 0.5*np.trace(np.matmul(C,Y))\n",
    "    c3 = 0.5*np.trace(np.matmul(C,Z))\n",
    "    \n",
    "    T = np.matrix([[0.25+a0+b0+c0, a1+b1+c1, a2+b2+c2, a3+b3+c3],[0.25+a0-b0-c0, a1-b1-c1, a2-b2-c2, a3-b3-c3],[0.25-a0+b0-c0, -a1+b1-c1, -a2+b2-c2, -a3+b3-c3],[0.25-a0-b0+c0, -a1-b1+c1, -a2-b2+c2, -a3-b3+c3]])\n",
    "    return T\n"
   ]
  },
  {
   "cell_type": "markdown",
   "id": "certified-combat",
   "metadata": {},
   "source": [
    "Now, given a set of rotation parameters, which are 12 angles, we can evaluate if it is possible or note to do the qubit state tomography."
   ]
  },
  {
   "cell_type": "code",
   "execution_count": 44,
   "id": "polish-operation",
   "metadata": {},
   "outputs": [
    {
     "name": "stdout",
     "output_type": "stream",
     "text": [
      "0.002527480876186471\n",
      "It is possible to do qubit state tomography!\n"
     ]
    }
   ],
   "source": [
    "## Definition of the evolution operator parameters\n",
    "\n",
    "th_a1,phi_a1,lam_a1,th_b1,phi_b1,lam_b1= np.random.rand(6)\n",
    "th_a2,phi_a2,lam_a2,th_b2,phi_b2,lam_b2= np.random.rand(6)\n",
    "\n",
    "angles_a=[th_a1,phi_a1,lam_a1,th_a2,phi_a2,lam_a2]\n",
    "angles_b=[th_b1,phi_b1,lam_b1,th_b2,phi_b2,lam_b2]\n",
    "\n",
    "\n",
    "\n",
    "U = U_matrix(angles_a,angles_b)\n",
    "T = T_matrix(U)\n",
    "T_det = np.abs(np.linalg.det(T))\n",
    "print(T_det)\n",
    "if (round(T_det,8) == 0):\n",
    "    print('It is not possible to do complete qubit state tomography')\n",
    "else:\n",
    "    print('It is possible to do qubit state tomography!')"
   ]
  },
  {
   "cell_type": "markdown",
   "id": "touched-coach",
   "metadata": {},
   "source": [
    "## Implementation of the model and performance in a quantum computer\n",
    "\n",
    "We have already set up all the necessary tools for implementing this model in a quantum circuit using qiskit and even test its performance in a real quantum device. We first define the circuit of this problem.\n"
   ]
  },
  {
   "cell_type": "code",
   "execution_count": 45,
   "id": "floral-aging",
   "metadata": {},
   "outputs": [
    {
     "name": "stdout",
     "output_type": "stream",
     "text": [
      "Circuit depth:  22\n",
      "CNOT gates:  2\n",
      "Single qubit gates:  40\n"
     ]
    }
   ],
   "source": [
    "## Initial angles of the rotation that defines the initial state of the qubit S\n",
    "angle_i=[pi/2,0,0]\n",
    "\n",
    "## Quantum registers of the A, B and S qubits\n",
    "A = QuantumRegister(1,'a')\n",
    "S = QuantumRegister(1,'s')\n",
    "B = QuantumRegister(1,'b')\n",
    "cr = ClassicalRegister(3)\n",
    "\n",
    "## Circuit initialization\n",
    "tomography_circuit = QuantumCircuit(A,S,B, cr)\n",
    "\n",
    "## We initialize our qubits\n",
    "tomography_circuit.append(Initialization(angle_i),[A,S,B])\n",
    "tomography_circuit.barrier()\n",
    "\n",
    "## Apply the evolution operator\n",
    "tomography_circuit.append(U_operator(angles_a,angles_b),[A,S,B])\n",
    "tomography_circuit.barrier()\n",
    "\n",
    "## Change the measurement basis\n",
    "tomography_circuit.h(A)                     #A\n",
    "tomography_circuit.h(B)                     #B\n",
    "tomography_circuit.barrier()\n",
    "\n",
    "## Measurement of the A and B meters\n",
    "tomography_circuit.measure(A,cr[0])         #A\n",
    "tomography_circuit.measure(B,cr[2])         #B\n",
    " \n",
    "\n",
    "base_tomography_circuit = transpile(tomography_circuit,basis_gates=['rz','cx','id','sx','x','h','u','cp'],optimization_level=0) #gates CX, ID, RZ, SX, X\n",
    "transpile_tomography_circuit = transpile(tomography_circuit,basis_gates=['cx','id','rz','sx','x'],optimization_level=3)\n",
    "circuit = base_tomography_circuit.draw(output='mpl')\n",
    "\n",
    "dag_circuit = circuit_to_dag(transpile_tomography_circuit)\n",
    "dag_circuit.count_ops()\n",
    "\n",
    "print('Circuit depth: ', transpile_tomography_circuit.depth())\n",
    "print('CNOT gates: ', dag_circuit.count_ops()['cx'])\n",
    "print('Single qubit gates: ', dag_circuit.count_ops()['rz'] +  dag_circuit.count_ops()['sx'])"
   ]
  },
  {
   "cell_type": "markdown",
   "id": "yellow-hierarchy",
   "metadata": {},
   "source": [
    "The circuit used for the quantum state tomography can be visualized as follows\n",
    "<center>\n",
    "<img src=\"figures/tomography_circuit_nm.png\" width = 800px>\n",
    "</center>\n",
    "As you can see each part is divided by a barrier, the four parts of the circuit are essentially\n",
    "\n",
    "1. Qubits initialization.\n",
    "2. Application of the evolution operator. Here depends on the parameters $\\vec{\\theta}_{A_1},$ $\\vec{\\theta}_{A_2},$ $\\vec{\\theta}_{B_1},$ and $\\vec{\\theta}_{B_2}$. Which are vectors of $3$ components.\n",
    "3. Change of the measurement basis of the qubits $A$ and $B$.\n",
    "4. Measurement of the meters.\n",
    "\n",
    "\n",
    "Now we execute the circuit in a local simulator to see if the model works for doing qubit state tomography."
   ]
  },
  {
   "cell_type": "code",
   "execution_count": 59,
   "id": "least-witch",
   "metadata": {},
   "outputs": [
    {
     "data": {
      "text/plain": [
       "8.000000000000004"
      ]
     },
     "execution_count": 59,
     "metadata": {},
     "output_type": "execute_result"
    }
   ],
   "source": [
    "np.power(10,0.9030899869919438)"
   ]
  },
  {
   "cell_type": "code",
   "execution_count": 46,
   "id": "funny-taste",
   "metadata": {},
   "outputs": [
    {
     "data": {
      "image/png": "[encoded data removed]",
      "text/plain": [
       "<Figure size 504x360 with 1 Axes>"
      ]
     },
     "execution_count": 46,
     "metadata": {},
     "output_type": "execute_result"
    }
   ],
   "source": [
    "## Simulation of the circuit\n",
    "simulator = Aer.get_backend('qasm_simulator')\n",
    "\n",
    "shots = 1024\n",
    "\n",
    "Sim_result_tomography_circuit=execute(tomography_circuit, backend=simulator,shots=shots).result()\n",
    "\n",
    "Sim_result_counts_tomography_circuit=Sim_result_tomography_circuit.get_counts(tomography_circuit)\n",
    "\n",
    "plot_histogram(Sim_result_counts_tomography_circuit).savefig('figures/test_circuit_nm.png',dpi=1200)\n",
    "\n",
    "plot_histogram(Sim_result_counts_tomography_circuit)"
   ]
  },
  {
   "cell_type": "code",
   "execution_count": 47,
   "id": "hybrid-capacity",
   "metadata": {},
   "outputs": [],
   "source": [
    "## We build the vector P\n",
    "p00_test = Sim_result_counts_tomography_circuit['000']/shots\n",
    "p01_test = Sim_result_counts_tomography_circuit['001']/shots\n",
    "p10_test = Sim_result_counts_tomography_circuit['100']/shots\n",
    "p11_test = Sim_result_counts_tomography_circuit['101']/shots\n",
    "\n",
    "p_test = [p00_test,p01_test,p10_test,p11_test]\n",
    "\n",
    "U = U_matrix(angles_a,angles_b)\n",
    "T = T_matrix(U)\n",
    "s = np.array(np.matmul(np.linalg.inv(T),p_test))\n",
    "\n",
    "s1=s[0,1].real\n",
    "s2=s[0,2].real\n",
    "s3=s[0,3].real\n",
    "\n",
    "s_test = [s1,s2,s3]\n"
   ]
  },
  {
   "cell_type": "markdown",
   "id": "threatened-associate",
   "metadata": {},
   "source": [
    "For comparing the estimation with the initial state of the qubit $S$ we will calculate the fidelity between this quantum states and we are going to graph them in the bloch sphere. The fidelity will be defined as $\\mathcal{F} (\\rho_0^S,\\rho_e^S) = Tr[\\sqrt{\\sqrt{\\rho_0^S} \\rho_e^S \\sqrt{\\rho_0^S}}]^2$, if the states are pure it can be reduced to $\\mathcal{F}(\\rho_0^S,\\rho_e^S) = |\\langle{\\psi_0^S|\\psi_e^S}\\rangle|^2.$\n",
    "First we have to transform the bloch vector into a qubit state of the form $|\\psi\\rangle = c_0|0\\rangle + c_1 |1\\rangle. $"
   ]
  },
  {
   "cell_type": "code",
   "execution_count": 48,
   "id": "biological-macedonia",
   "metadata": {},
   "outputs": [],
   "source": [
    "def bloch_vector_to_state(s):\n",
    "    ## We transform the bloch vector into a qubit state\n",
    "    s1 = s[0]\n",
    "    s2 = s[1]\n",
    "    s3 = s[2]\n",
    "    \n",
    "    if (s3>0):\n",
    "        th=np.arctan(np.sqrt(s1*s1 + s2*s2)/s3)\n",
    "    elif (s3 == 0):\n",
    "        th = pi/2\n",
    "    elif (s3 < 0):\n",
    "        th=np.arctan(np.sqrt(s1*s1 + s2*s2)/s3) + pi\n",
    "\n",
    "    if (s1>0 and s2>0):\n",
    "        phi = np.arctan(s2/s1)\n",
    "    elif (s1>0 and s2<0):\n",
    "        phi = np.arctan(s2/s1) + 2*pi\n",
    "    elif (s1 == 0):\n",
    "        phi = pi/2*np.sign(s2)\n",
    "    elif (s1<0):\n",
    "        phi = np.arctan(s2/s1) + pi\n",
    "\n",
    "    ## We write the alpha and beta amplitudes\n",
    "    c_0 = np.cos(th/2)\n",
    "    c_1 = (np.cos(phi) + complex(0,1)*np.sin(phi))*np.sin(th/2)\n",
    "    \n",
    "    state = np.array([c_0,c_1])\n",
    "    return state\n",
    "\n",
    "def init_ang_to_bloch_vector(angles):\n",
    "    \n",
    "    th, phi, lam = angles\n",
    "    \n",
    "    s = np.array([np.sin(th)*np.cos(phi), np.sin(th)*np.sin(phi), np.cos(th)])\n",
    "    \n",
    "    return s\n",
    "\n",
    "s_ideal = init_ang_to_bloch_vector(angle_i)\n"
   ]
  },
  {
   "cell_type": "markdown",
   "id": "suburban-height",
   "metadata": {},
   "source": [
    "Now we find the $c_0$ and $c_1$ component of the initial state of the qubit $S$ from its initialization"
   ]
  },
  {
   "cell_type": "code",
   "execution_count": 49,
   "id": "agreed-conflict",
   "metadata": {},
   "outputs": [
    {
     "name": "stdout",
     "output_type": "stream",
     "text": [
      "The fidelity between the initial state and its estimation is:  0.999493682880519\n"
     ]
    }
   ],
   "source": [
    "## Initialize a 1 qubit circuit\n",
    "qr = QuantumRegister(1)\n",
    "cr = ClassicalRegister(1)\n",
    "\n",
    "qc_i = QuantumCircuit(qr,cr)\n",
    "\n",
    "## Use the U rotation that we used for initializing the qubit S\n",
    "qc_i.u(angle_i[0],angle_i[1],angle_i[2],qr[0])\n",
    "\n",
    "backend = BasicAer.get_backend('statevector_simulator') \n",
    "result = execute(qc_i, backend).result()\n",
    "\n",
    "## Take the statevector\n",
    "initial_state  = result.get_statevector(qc_i)\n",
    "estim_state = bloch_vector_to_state(s_test)\n",
    "\n",
    "## Calculate the fidelity\n",
    "fidelity = quantum_info.state_fidelity(initial_state,estim_state)\n",
    "\n",
    "print('The fidelity between the initial state and its estimation is: ',fidelity)\n",
    "\n",
    "## Save the plots for visualzation\n",
    "plot_bloch_vector(s_test, title=\"Estimated state\").savefig(\"figures/estimation_test_nm.png\")\n",
    "plot_bloch_vector(s_ideal, title=\"Initial state\").savefig(\"figures/initial_test_nm.png\")"
   ]
  },
  {
   "cell_type": "markdown",
   "id": "national-times",
   "metadata": {},
   "source": [
    "We now print the bloch spheres of these states\n",
    "<table>\n",
    "     <tr>\n",
    "        <th style=\"text-align:center\" >\n",
    "            Initial state\n",
    "        </th>\n",
    "        <th style=\"text-align:center\">\n",
    "            Estimation\n",
    "        </th>\n",
    "     </tr> \n",
    "     <tr>\n",
    "         <td><img width=350px src='figures/initial_test_nm.png'></td>\n",
    "         <td><img width=350px src='figures/estimation_test_nm.png'></td>\n",
    "    </tr>\n",
    "</table>\n",
    "\n",
    "As you can see, the estimation model works even for random values of the parameters $\\vec{\\theta}_{A_1},$ $\\vec{\\theta}_{A_2},$ $\\vec{\\theta}_{B_1},$ and $\\vec{\\theta}_{B_2}$. However, we are interested in finding the best set of parameters for the estimation. Then, we are going to introduce the Fisher error parameter which will be the criteria for finding the best set up for doing qubit state estimation."
   ]
  },
  {
   "cell_type": "markdown",
   "id": "arabic-tuner",
   "metadata": {},
   "source": [
    "## Fisher error\n",
    "The Fisher information matrix can be defined in different ways. for the purposes of this model we define its components as \n",
    "$$F_{\\mu\\nu}(\\mathbf{s}) =  \\sum_{j=0}^{3}\\frac{1}{p_j} \\frac{\\partial p_j}{\\partial s_\\mu} \\frac{\\partial p_j}{\\partial s_\\nu}.$$\n",
    "The Fisher information matrix for this model can be written as\n",
    "$$\\mathbb{F} = \\mathbb{D}^T\\left(\\mathbb{V}\\mathbb{P}^{-1}\\mathbb{V}^T\\right)\\mathbb{D},$$\n",
    "\n",
    "this depends on the measurement matrix $\\mathbb{D}$, and the auxiliary matrices $\\mathbb{V}$ and  $\\mathbb{P}$\n",
    "$$\n",
    "\t\t\\mathbb{D} = \\begin{pmatrix}\n",
    "\t\t\ta_1&b_1&c_1\\\\\n",
    "\t\t\ta_2&b_2&c_2\\\\\n",
    "\t\t\ta_3&b_3&c_3\n",
    "\t\t\\end{pmatrix}, \\quad\n",
    "\t\t\\mathbb{V} = \\begin{pmatrix}\n",
    "\t\t\t1 & 1 & -1 & -1\\\\\n",
    "\t\t\t1 & -1 & 1 & -1\\\\\n",
    "\t\t\t1 & -1 & -1 & 1\n",
    "\t\t\\end{pmatrix}, \\quad \n",
    "\t\t\\mathbb{P} =  \\begin{pmatrix}\n",
    "\t\t\tp_{00} & 0 & 0 & 0 \\\\\n",
    "\t\t\t0 & p_{01} & 0 & 0 \\\\\n",
    "\t\t\t0 & 0 & p_{10} & 0 \\\\\n",
    "\t\t\t0 & 0 & 0 & p_{11}\n",
    "\t\t\\end{pmatrix}.\n",
    "$$\n",
    "\n",
    "To study the dependence of the error on the initial state of qubit $S$, we write $c_0= e^{i\\alpha_2}\\cos\\alpha_1$ and $c_1  = e^{- i\\alpha_2}\\sin\\alpha_1$, where $\\alpha_1\\in [0,\\pi/2],$ and $\\alpha_2\\in [0,\\pi]$.\n",
    "\n",
    "We define the error measure as the trace of the inverse of the Fisher information matrix\n",
    "$$\\Delta (\\alpha_1,\\alpha_2,\\vec{\\theta}_{A_1},\\vec{\\theta}_{A_2}, \\vec{\\theta}_{B_1}, \\vec{\\theta}_{B_2})=  \\operatorname{Tr}(\\mathbb{F}^{-1}).$$\n",
    "\n",
    "Now that we have parametrized the error of this model, we calculate the mean error over all the possible states, this is \n",
    "$$\\bar{\\Delta} = \\frac{1}{V}\\int^{\\frac{\\pi}{2}}_{0}\\int^{\\pi}_0 \\Delta (\\alpha_1,\\alpha_2,\\vec{\\theta}_{A_1},\\vec{\\theta}_{A_2}, \\vec{\\theta}_{B_1}, \\vec{\\theta}_{B_2})\\sin2\\alpha_1d\\alpha_1 d\\alpha_2.$$\n",
    "\n",
    "Here the integration Volume is $V = \\pi$. Now that we have the mean error in terms of the angles $\\vec{\\theta}_{A_1},$ $\\vec{\\theta}_{A_2},$ $\\vec{\\theta}_{B_1},$ and $\\vec{\\theta}_{B_2}$, we can optimize this in order to find the best set of parameters that minimize the mean error of the estimation model.\n",
    "To do so we define the objective function to ve optimized."
   ]
  },
  {
   "cell_type": "code",
   "execution_count": 50,
   "id": "negative-employer",
   "metadata": {},
   "outputs": [],
   "source": [
    "## We have to parametrized the tomography to find p_ij\n",
    "def tomography_parametrized(alpha_params, U):\n",
    "    \n",
    "    \n",
    "    c_0 = np.exp(( alpha_params[1])*j)*np.cos(alpha_params[0])\n",
    "    c_1 =  np.exp((-alpha_params[1])*j)*np.sin(alpha_params[0])\n",
    "    initial_state = c_0, c_1\n",
    "\n",
    "    ## Definition of U_{ij}\n",
    "    U_00 = np.matrix(np.array([[U[0,0],U[0,2]],[U[2,0],U[2,2]]]) + np.array([[U[0,1],U[0,3]],[U[2,1],U[2,3]]]) + np.array([[U[0,4],U[0,6]],[U[2,4],U[2,6]]]) + np.array([[U[0,5],U[0,7]],[U[2,5],U[2,7]]]))\n",
    "    U_01 = np.matrix(np.array([[U[1,0],U[1,2]],[U[3,0],U[3,2]]]) + np.array([[U[1,1],U[1,3]],[U[3,1],U[3,3]]]) + np.array([[U[1,4],U[1,6]],[U[3,4],U[3,6]]]) + np.array([[U[1,5],U[1,7]],[U[3,5],U[3,7]]]))\n",
    "    U_10 = np.matrix(np.array([[U[4,0],U[4,2]],[U[6,0],U[6,2]]]) + np.array([[U[4,1],U[4,3]],[U[6,1],U[6,3]]]) + np.array([[U[4,4],U[4,6]],[U[6,4],U[6,6]]]) + np.array([[U[4,5],U[4,7]],[U[6,5],U[6,7]]]))\n",
    "    U_11 = np.matrix(np.array([[U[5,0],U[5,2]],[U[7,0],U[7,2]]]) + np.array([[U[5,1],U[5,3]],[U[7,1],U[7,3]]]) + np.array([[U[5,4],U[5,6]],[U[7,4],U[7,6]]]) + np.array([[U[5,5],U[5,7]],[U[7,5],U[7,7]]]))\n",
    "\n",
    "    ## Their adjoints\n",
    "    \n",
    "    U_00d = U_00.getH()\n",
    "    U_01d = U_01.getH()\n",
    "    U_10d = U_10.getH()\n",
    "    U_11d = U_11.getH()\n",
    "    \n",
    "    ## We define the Kraus operators\n",
    "    E_00 = (U_00 + U_01 + U_10 + U_11)/4\n",
    "    E_01 = (U_00 - U_01 + U_10 - U_11)/4\n",
    "    E_10 = (U_00 + U_01 - U_10 - U_11)/4\n",
    "    E_11 = (U_00 - U_01 - U_10 + U_11)/4\n",
    "\n",
    "    ## And their adjoints\n",
    "    E_00d = (U_00d + U_01d + U_10d + U_11d)/4\n",
    "    E_01d = (U_00d - U_01d + U_10d - U_11d)/4\n",
    "    E_10d = (U_00d + U_01d - U_10d - U_11d)/4\n",
    "    E_11d = (U_00d - U_01d - U_10d + U_11d)/4\n",
    "\n",
    "\n",
    "    ## The final states of the system are\n",
    "    d_00 = np.matmul(E_00,initial_state)\n",
    "    d_01 = np.matmul(E_01,initial_state)\n",
    "    d_10 = np.matmul(E_10,initial_state)\n",
    "    d_11 = np.matmul(E_11,initial_state)\n",
    "\n",
    "    ## So the probabilities p_ij are\n",
    "    P_00_teo =  d_00[0,0]*d_00[0,0].conjugate() + d_00[0,1]*d_00[0,1].conjugate()\n",
    "    P_01_teo =  d_01[0,0]*d_01[0,0].conjugate() + d_01[0,1]*d_01[0,1].conjugate()\n",
    "    P_10_teo =  d_10[0,0]*d_10[0,0].conjugate() + d_10[0,1]*d_10[0,1].conjugate()\n",
    "    P_11_teo =  d_11[0,0]*d_11[0,0].conjugate() + d_11[0,1]*d_11[0,1].conjugate()\n",
    "\n",
    "    p_teo = [P_00_teo.real,P_01_teo.real,P_10_teo.real,P_11_teo.real]\n",
    "\n",
    "\n",
    "    return p_teo\n",
    "\n",
    "## Definition of the measurement matrix\n",
    "def D_matrix(U):\n",
    "    \n",
    "    ## Definition of U_{ij}\n",
    "    U_00 = np.matrix(np.array([[U[0,0],U[0,2]],[U[2,0],U[2,2]]]) + np.array([[U[0,1],U[0,3]],[U[2,1],U[2,3]]]) + np.array([[U[0,4],U[0,6]],[U[2,4],U[2,6]]]) + np.array([[U[0,5],U[0,7]],[U[2,5],U[2,7]]]))\n",
    "    U_01 = np.matrix(np.array([[U[1,0],U[1,2]],[U[3,0],U[3,2]]]) + np.array([[U[1,1],U[1,3]],[U[3,1],U[3,3]]]) + np.array([[U[1,4],U[1,6]],[U[3,4],U[3,6]]]) + np.array([[U[1,5],U[1,7]],[U[3,5],U[3,7]]]))\n",
    "    U_10 = np.matrix(np.array([[U[4,0],U[4,2]],[U[6,0],U[6,2]]]) + np.array([[U[4,1],U[4,3]],[U[6,1],U[6,3]]]) + np.array([[U[4,4],U[4,6]],[U[6,4],U[6,6]]]) + np.array([[U[4,5],U[4,7]],[U[6,5],U[6,7]]]))\n",
    "    U_11 = np.matrix(np.array([[U[5,0],U[5,2]],[U[7,0],U[7,2]]]) + np.array([[U[5,1],U[5,3]],[U[7,1],U[7,3]]]) + np.array([[U[5,4],U[5,6]],[U[7,4],U[7,6]]]) + np.array([[U[5,5],U[5,7]],[U[7,5],U[7,7]]]))\n",
    "\n",
    "    ## Their adjoints\n",
    "    U_00d = U_00.getH()\n",
    "    U_01d = U_01.getH()\n",
    "    U_10d = U_10.getH()\n",
    "    U_11d = U_11.getH()\n",
    "    \n",
    "    A = 1/16*(np.matmul(U_00d,U_10) + np.matmul(U_01d,U_11) + np.matmul(U_10d,U_00) + np.matmul(U_11d,U_01))\n",
    "    B = 1/16*(np.matmul(U_00d,U_01) + np.matmul(U_01d,U_00) + np.matmul(U_10d,U_11) + np.matmul(U_11d,U_10))\n",
    "    C = 1/16*(np.matmul(U_00d,U_11) + np.matmul(U_01d,U_10) + np.matmul(U_10d,U_01) + np.matmul(U_11d,U_00))\n",
    "    \n",
    "    ## Pauli Matricez\n",
    "    X = np.matrix([[0,1],[1,0]])\n",
    "    Y = np.matrix([[0,-complex(0,1)],[complex(0,1),0]])\n",
    "    Z = np.matrix([[1,0],[0,-1]])\n",
    "    I = np.matrix([[1,0],[0,1]])\n",
    "\n",
    "    ## D matrix components\n",
    "    a0 = 0.5*np.trace(np.matmul(A,I))\n",
    "    a1 = 0.5*np.trace(np.matmul(A,X))\n",
    "    a2 = 0.5*np.trace(np.matmul(A,Y))\n",
    "    a3 = 0.5*np.trace(np.matmul(A,Z))\n",
    "\n",
    "    b0 = 0.5*np.trace(np.matmul(B,I))\n",
    "    b1 = 0.5*np.trace(np.matmul(B,X))\n",
    "    b2 = 0.5*np.trace(np.matmul(B,Y))\n",
    "    b3 = 0.5*np.trace(np.matmul(B,Z))\n",
    "\n",
    "    c0 = 0.5*np.trace(np.matmul(C,I))\n",
    "    c1 = 0.5*np.trace(np.matmul(C,X))\n",
    "    c2 = 0.5*np.trace(np.matmul(C,Y))\n",
    "    c3 = 0.5*np.trace(np.matmul(C,Z))\n",
    "\n",
    "    ## Definition of the D matrix\n",
    "    D =np.matrix([[a1,a2,a3],[b1,b2,b3],[c1,c2,c3]])\n",
    "    \n",
    "    return D\n",
    "\n",
    "## We now define the fisher error parameter\n",
    "def error_parameter(D,p):\n",
    "    \n",
    "    ## Definition od the auxiliary matrix V\n",
    "    V = np.matrix([[1,1,-1,-1],[1,-1,1,-1],[1,-1,-1,1]])\n",
    "\n",
    "    ## Definition od the matrix P\n",
    "    P = np.matrix([[p[0],0,0,0],[0,p[1],0,0],[0,0,p[2],0],[0,0,0,p[3]]])\n",
    "    \n",
    "    ## The Fisher information Matrix\n",
    "    F = np.matmul(np.matmul(D.transpose(),(np.matmul(np.matmul(V,np.linalg.inv(P)),V.transpose()))),D)\n",
    "    \n",
    "    Error = np.abs(np.trace(np.linalg.inv(F)))\n",
    "    return Error\n",
    "\n",
    "## Definition of the integrand\n",
    "def error_integrand(alpha_1,alpha_2,args):\n",
    "    \n",
    "    alpha_params = [alpha_1,alpha_2]\n",
    "    th_a1,phi_a1,lam_a1,th_b1,phi_b1,lam_b1 = args[0],args[1],args[2],args[3],args[4],args[5]\n",
    "    th_a2,phi_a2,lam_a2,th_b2,phi_b2,lam_b2 = args[6],args[7],args[8],args[9],args[10],args[11]\n",
    "    \n",
    "    angles_a=[th_a1,phi_a1,lam_a1,th_a2,phi_a2,lam_a2]\n",
    "    \n",
    "    angles_b=[th_b1,phi_b1,lam_b1,th_b2,phi_b2,lam_b2]\n",
    "    \n",
    "\n",
    "    U = U_matrix(angles_a,angles_b)\n",
    "    D = D_matrix(U)\n",
    "    deter = np.linalg.det(D)\n",
    "    \n",
    "    p = tomography_parametrized(alpha_params, U)\n",
    "    error = error_parameter(D,p)*np.sin(2*alpha_1)\n",
    "    \n",
    "    return error.real\n",
    "\n",
    "## Definition of the objective function\n",
    "def obj_fn(params):\n",
    "    \n",
    "    bounds_1 = [0,pi/2]\n",
    "    bounds_2 = [0,pi]\n",
    "    \n",
    "    I = nquad(error_integrand,[bounds_1,bounds_2],args=[params])\n",
    "\n",
    "    return I[0]/pi"
   ]
  },
  {
   "cell_type": "code",
   "execution_count": 70,
   "id": "considerable-nightlife",
   "metadata": {},
   "outputs": [
    {
     "name": "stdout",
     "output_type": "stream",
     "text": [
      "[2.69556689, 0.77107387, 3.04573265, 0.42102989, 5.30878105, 2.58689213] [2.42321458, 6.15305411, 1.39869662, 3.25541735, 3.26725694, 1.69725869]\n"
     ]
    },
    {
     "data": {
      "text/plain": [
       "86.39796559285811"
      ]
     },
     "execution_count": 70,
     "metadata": {},
     "output_type": "execute_result"
    }
   ],
   "source": [
    "print(angles_a,angles_b)\n",
    "error_integrand(0.2,pi/2,[pi, 0.06253904957851153, 0.2517388779631262, 0.2031922784084761, 0.2709473938942437, 0.7228748161484193,0.48760923377377896, 0.22272204721041655, 0.9234731076621223, 0.8673837693614859, 0.7872751767424359, 0.38009498437348277])"
   ]
  },
  {
   "cell_type": "code",
   "execution_count": 53,
   "id": "closed-emission",
   "metadata": {},
   "outputs": [],
   "source": [
    "def optimization(obj_fn, rep):\n",
    "    \n",
    "    results=[]\n",
    "    params = []\n",
    "    \n",
    "    for i in range(rep):\n",
    "        th_a1 = np.random.uniform(0,pi)\n",
    "        phi_a1 = np.random.uniform(0,2*pi)\n",
    "        lam_a1 = np.random.uniform(0,2*pi)\n",
    "\n",
    "        th_b1 = np.random.uniform(0,pi)\n",
    "        phi_b1 = np.random.uniform(0,2*pi)\n",
    "        lam_b1 = np.random.uniform(0,2*pi)\n",
    "\n",
    "        th_a2 = np.random.uniform(0,pi)\n",
    "        phi_a2 = np.random.uniform(0,2*pi)\n",
    "        lam_a2 = np.random.uniform(0,2*pi)\n",
    "\n",
    "        th_b2 = np.random.uniform(0,pi)\n",
    "        phi_b2 = np.random.uniform(0,2*pi)\n",
    "        lam_b2 = np.random.uniform(0,2*pi)\n",
    "        \n",
    "        init = [th_a1,phi_a1,lam_a1,th_b1,phi_b1,lam_b1,th_a2,phi_a2,lam_a2,th_b2,phi_b2,lam_b2]\n",
    "        res = minimize(obj_fn,init,method='nelder-mead', options={'xatol':1e-4, 'disp': True})\n",
    "        \n",
    "        results.append(res.fun)\n",
    "        params.append(res.x)\n",
    "    best = min(results)\n",
    "    best_idx = results.index(best)\n",
    "    print('results: ',results)\n",
    "    print('parameters: ',params)\n",
    "    \n",
    "    print('best result: ', best)\n",
    "    print('parameters best result: ',params[best_idx])\n",
    "    return results, params"
   ]
  },
  {
   "cell_type": "code",
   "execution_count": 73,
   "id": "flexible-wednesday",
   "metadata": {},
   "outputs": [
    {
     "name": "stdout",
     "output_type": "stream",
     "text": [
      "Optimization terminated successfully.\n",
      "         Current function value: 8.000000\n",
      "         Iterations: 384\n",
      "         Function evaluations: 586\n",
      "Optimization terminated successfully.\n",
      "         Current function value: 8.000000\n",
      "         Iterations: 450\n",
      "         Function evaluations: 677\n",
      "Optimization terminated successfully.\n",
      "         Current function value: 8.000000\n",
      "         Iterations: 428\n",
      "         Function evaluations: 656\n",
      "Optimization terminated successfully.\n",
      "         Current function value: 8.000000\n",
      "         Iterations: 403\n",
      "         Function evaluations: 622\n",
      "Optimization terminated successfully.\n",
      "         Current function value: 8.000000\n",
      "         Iterations: 340\n",
      "         Function evaluations: 524\n",
      "results:  [8.000000028736899, 8.000000002374689, 8.000000014319012, 8.000000006612005, 8.000000022918982]\n",
      "parameters:  [array([2.3119275 , 3.29740455, 5.94407803, 1.50942699, 3.04676704,\n",
      "       5.71040858, 1.05123399, 1.84174077, 3.00453519, 1.13370085,\n",
      "       5.89563947, 2.33809697]), array([0.5871626 , 1.57737493, 2.52063619, 0.70004151, 4.30553732,\n",
      "       3.45993977, 2.55283129, 1.93819982, 0.30976956, 0.67288561,\n",
      "       6.47455126, 4.4695403 ]), array([0.20314671, 1.67305269, 3.65705772, 3.21719345, 1.12020446,\n",
      "       5.83373307, 1.13180353, 3.51565745, 0.82514173, 0.33980707,\n",
      "       4.91793247, 2.94746851]), array([0.91771471, 6.36317001, 6.48516248, 0.5079478 , 1.92315993,\n",
      "       2.8307082 , 2.6440524 , 6.00929022, 4.40294593, 1.2242232 ,\n",
      "       1.05601949, 6.4730176 ]), array([2.55725632, 2.50684312, 0.14725975, 2.1623159 , 0.92711311,\n",
      "       2.74531372, 2.87791288, 1.36426916, 6.08359193, 0.90499616,\n",
      "       3.37126466, 4.35061747])]\n",
      "best result:  8.000000002374689\n",
      "parameters best result:  [0.5871626  1.57737493 2.52063619 0.70004151 4.30553732 3.45993977\n",
      " 2.55283129 1.93819982 0.30976956 0.67288561 6.47455126 4.4695403 ]\n"
     ]
    },
    {
     "data": {
      "text/plain": [
       "([8.000000028736899,\n",
       "  8.000000002374689,\n",
       "  8.000000014319012,\n",
       "  8.000000006612005,\n",
       "  8.000000022918982],\n",
       " [array([2.3119275 , 3.29740455, 5.94407803, 1.50942699, 3.04676704,\n",
       "         5.71040858, 1.05123399, 1.84174077, 3.00453519, 1.13370085,\n",
       "         5.89563947, 2.33809697]),\n",
       "  array([0.5871626 , 1.57737493, 2.52063619, 0.70004151, 4.30553732,\n",
       "         3.45993977, 2.55283129, 1.93819982, 0.30976956, 0.67288561,\n",
       "         6.47455126, 4.4695403 ]),\n",
       "  array([0.20314671, 1.67305269, 3.65705772, 3.21719345, 1.12020446,\n",
       "         5.83373307, 1.13180353, 3.51565745, 0.82514173, 0.33980707,\n",
       "         4.91793247, 2.94746851]),\n",
       "  array([0.91771471, 6.36317001, 6.48516248, 0.5079478 , 1.92315993,\n",
       "         2.8307082 , 2.6440524 , 6.00929022, 4.40294593, 1.2242232 ,\n",
       "         1.05601949, 6.4730176 ]),\n",
       "  array([2.55725632, 2.50684312, 0.14725975, 2.1623159 , 0.92711311,\n",
       "         2.74531372, 2.87791288, 1.36426916, 6.08359193, 0.90499616,\n",
       "         3.37126466, 4.35061747])])"
      ]
     },
     "execution_count": 73,
     "metadata": {},
     "output_type": "execute_result"
    }
   ],
   "source": [
    "optimization(obj_fn, 5)"
   ]
  },
  {
   "cell_type": "markdown",
   "id": "bulgarian-hazard",
   "metadata": {},
   "source": [
    "The code above can be used to find the optimal parameters, In this case we found that the best set of values are:\n",
    "* $\\vec{\\theta}_{A_1} = (0.5871626,  1.57737493, 2.52063619)$.\n",
    "* $\\vec{\\theta}_{A_2} = (0.5871626,  1.57737493, 2.52063619)$.\n",
    "* $\\vec{\\theta}_{B_1} = (2.55283129, 1.93819982, 0.30976956)$.\n",
    "* $\\vec{\\theta}_{B_2} = (0.67288561, 6.47455126, 4.4695403)$."
   ]
  },
  {
   "cell_type": "code",
   "execution_count": 15,
   "id": "normal-rochester",
   "metadata": {},
   "outputs": [
    {
     "name": "stdout",
     "output_type": "stream",
     "text": [
      "Optimization terminated successfully.\n",
      "         Current function value: 16.993293\n",
      "         Iterations: 28\n",
      "         Function evaluations: 56\n"
     ]
    },
    {
     "data": {
      "text/plain": [
       " final_simplex: (array([[ 3.41968803, -8.41648194],\n",
       "       [ 3.41963129, -8.4164514 ],\n",
       "       [ 3.41975718, -8.41644286]]), array([16.99329319, 16.99329327, 16.99329332]))\n",
       "           fun: 16.99329319225016\n",
       "       message: 'Optimization terminated successfully.'\n",
       "          nfev: 56\n",
       "           nit: 28\n",
       "        status: 0\n",
       "       success: True\n",
       "             x: array([ 3.41968803, -8.41648194])"
      ]
     },
     "execution_count": 15,
     "metadata": {},
     "output_type": "execute_result"
    }
   ],
   "source": [
    "init = [3.45, -8.42]\n",
    "minimize(obj_fn,init,method='nelder-mead', options={'xatol':1e-4, 'disp': True})"
   ]
  },
  {
   "cell_type": "markdown",
   "id": "accomplished-clothing",
   "metadata": {},
   "source": [
    "With the optimal values of the system we are now interested in the variation of the error for different initial states with the evolution operator parameters fixed. The plot that shows this behaviour is shown bellow."
   ]
  },
  {
   "cell_type": "code",
   "execution_count": 74,
   "id": "large-recruitment",
   "metadata": {},
   "outputs": [
    {
     "name": "stdout",
     "output_type": "stream",
     "text": [
      "[0.39433824656653627, 0.10566175343443976, 0.3943382465649967, 0.1056617534340271] 8.00002274857037\n",
      "[0.3943382465665364, 0.10566175343443977, 0.39433824656499683, 0.10566175343402712] 8.000022748570373\n",
      "[0.39433824656653627, 0.10566175343443973, 0.39433824656499666, 0.10566175343402709] 8.00002274857037\n",
      "[0.39433824656653627, 0.10566175343443975, 0.3943382465649967, 0.1056617534340271] 8.00002274857037\n",
      "[0.39433824656653627, 0.10566175343443976, 0.3943382465649967, 0.10566175343402709] 8.00002274857037\n",
      "[0.39433824656653627, 0.10566175343443973, 0.3943382465649968, 0.1056617534340271] 8.00002274857037\n",
      "[0.39433824656653627, 0.10566175343443973, 0.39433824656499666, 0.10566175343402709] 8.00002274857037\n",
      "[0.3943382465665362, 0.10566175343443973, 0.39433824656499666, 0.10566175343402709] 8.00002274857037\n",
      "[0.3943382465665362, 0.10566175343443975, 0.3943382465649967, 0.1056617534340271] 8.00002274857037\n",
      "[0.39433824656653627, 0.10566175343443975, 0.3943382465649967, 0.1056617534340271] 8.00002274857037\n",
      "[0.39433824656653627, 0.10566175343443976, 0.3943382465649967, 0.1056617534340271] 8.00002274857037\n",
      "[0.3943382465665363, 0.10566175343443976, 0.3943382465649967, 0.10566175343402712] 8.000022748570368\n",
      "[0.3943382465665363, 0.10566175343443976, 0.3943382465649967, 0.10566175343402712] 8.000022748570368\n",
      "[0.39433824656653627, 0.10566175343443976, 0.3943382465649968, 0.10566175343402709] 8.00002274857037\n",
      "[0.39433824656653627, 0.10566175343443976, 0.3943382465649967, 0.1056617534340271] 8.00002274857037\n",
      "[0.39433824656653627, 0.10566175343443973, 0.3943382465649967, 0.1056617534340271] 8.00002274857037\n",
      "[0.3943382465665362, 0.10566175343443976, 0.3943382465649966, 0.1056617534340271] 8.000022748570368\n",
      "[0.39433824656653627, 0.10566175343443976, 0.3943382465649967, 0.1056617534340271] 8.00002274857037\n",
      "[0.39433824656653627, 0.10566175343443975, 0.3943382465649967, 0.10566175343402712] 8.00002274857037\n",
      "[0.39433824656653627, 0.10566175343443973, 0.39433824656499666, 0.10566175343402709] 8.00002274857037\n",
      "[0.39433824656653627, 0.10566175343443976, 0.39433824656499683, 0.10566175343402712] 8.000022748570368\n",
      "[0.39433824656653627, 0.10566175343443976, 0.3943382465649967, 0.10566175343402709] 8.00002274857037\n",
      "[0.39433824656653627, 0.10566175343443976, 0.39433824656499666, 0.10566175343402709] 8.00002274857037\n",
      "[0.39433824656653627, 0.10566175343443975, 0.3943382465649967, 0.1056617534340271] 8.00002274857037\n",
      "[0.3943382465665362, 0.10566175343443973, 0.3943382465649967, 0.10566175343402709] 8.00002274857037\n",
      "[0.39433824656653627, 0.10566175343443975, 0.39433824656499666, 0.1056617534340271] 8.00002274857037\n",
      "[0.3943382465665362, 0.10566175343443976, 0.39433824656499666, 0.10566175343402706] 8.000022748570368\n",
      "[0.3943382465665363, 0.10566175343443975, 0.3943382465649967, 0.10566175343402712] 8.00002274857037\n",
      "[0.39433824656653627, 0.10566175343443975, 0.3943382465649967, 0.1056617534340271] 8.00002274857037\n",
      "[0.39433824656653627, 0.10566175343443976, 0.3943382465649967, 0.10566175343402709] 8.00002274857037\n",
      "[0.39433824656653627, 0.10566175343443976, 0.3943382465649968, 0.10566175343402709] 8.00002274857037\n",
      "[0.39433824656653627, 0.10566175343443975, 0.3943382465649967, 0.1056617534340271] 8.00002274857037\n",
      "[0.39433824656653627, 0.10566175343443975, 0.3943382465649967, 0.10566175343402709] 8.00002274857037\n",
      "[0.39433824656653627, 0.10566175343443975, 0.3943382465649967, 0.10566175343402709] 8.00002274857037\n",
      "[0.39433824656653627, 0.10566175343443976, 0.3943382465649967, 0.10566175343402712] 8.000022748570368\n",
      "[0.39433824656653627, 0.10566175343443975, 0.3943382465649967, 0.10566175343402709] 8.00002274857037\n",
      "[0.39433824656653627, 0.10566175343443976, 0.39433824656499666, 0.10566175343402709] 8.00002274857037\n",
      "[0.3943382465665363, 0.10566175343443976, 0.3943382465649967, 0.10566175343402709] 8.00002274857037\n",
      "[0.39433824656653627, 0.10566175343443976, 0.3943382465649967, 0.10566175343402708] 8.000022748570368\n",
      "[0.39433824656653627, 0.10566175343443976, 0.3943382465649967, 0.10566175343402709] 8.00002274857037\n",
      "[0.38225598734160116, 0.09451547139381812, 0.4054844142123042, 0.11774412705227622] 8.000022674812552\n",
      "[0.3842694593888236, 0.09280280285528911, 0.40347094216508195, 0.1194567955908052] 8.000022674812541\n",
      "[0.3865315855949811, 0.0914352965223414, 0.4012088159589244, 0.12082430192375292] 8.000022674812495\n",
      "[0.3889837780795743, 0.09044837009068028, 0.39875662347433105, 0.12181122835541403] 8.000022674812424\n",
      "[0.39156252634532984, 0.0898675844364772, 0.3961778752085755, 0.12239201400961708] 8.000022674812334\n",
      "[0.3942010421667189, 0.08970798160310336, 0.39353935938718665, 0.12255161684299096] 8.000022674812215\n",
      "[0.3968309893699157, 0.0899736952201076, 0.39090941218398956, 0.1222859032259867] 8.000022674812081\n",
      "[0.3993842537038055, 0.09065784344438249, 0.3883561478500999, 0.12160175500171183] 8.00002267481193\n",
      "[0.4017947069633084, 0.09174270719628583, 0.38594569459059713, 0.1205168912498085] 8.000022674811765\n",
      "[0.403999919675156, 0.09320018907449595, 0.38374048187874943, 0.11905940937159834] 8.000022674811595\n",
      "[0.4059427779884566, 0.09499254106394735, 0.38179762356544883, 0.11726705738214699] 8.000022674811419\n",
      "[0.40757296289343214, 0.09707334218959227, 0.3801674386604733, 0.11518625625650207] 8.000022674811245\n",
      "[0.4088482534573405, 0.09938870079527108, 0.37889214809656496, 0.11287089765082323] 8.000022674811078\n",
      "[0.40973562032445565, 0.10187865030929866, 0.37800478122944975, 0.11038094813679565] 8.00002267481092\n",
      "[0.41021208115903174, 0.10447870234717191, 0.37752832039487366, 0.10778089609892239] 8.000022674810776\n",
      "[0.4102652958757265, 0.10712151692685441, 0.3774751056781787, 0.10513808151923987] 8.00002267481065\n",
      "[0.40989388624133033, 0.10973864653893906, 0.37784651531257507, 0.10252095190715527] 8.000022674810543\n",
      "[0.40910747157028116, 0.1122623089011877, 0.3786329299836243, 0.09999728954490661] 8.00002267481046\n",
      "[0.40792641958947473, 0.11462714248403692, 0.3798139819644308, 0.09763245596205741] 8.000022674810406\n",
      "[0.4063813189248357, 0.11677189933988091, 0.3813590826290696, 0.09548769910621341] 8.000022674810378\n",
      "[0.4045121868719745, 0.11864103139274221, 0.38322821468193097, 0.09361856705335214] 8.000022674810381\n",
      "[0.40236743296925004, 0.12018612910426155, 0.38537296858465536, 0.0920734693418328] 8.00002267481041\n",
      "[0.4000026052161557, 0.12136717525531307, 0.38773779633774963, 0.09089242319078122] 8.000022674810461\n",
      "[0.39747895140930983, 0.12215358137095961, 0.3902614501445957, 0.09010601707513471] 8.000022674810543\n",
      "[0.39486183285669507, 0.12252497994588593, 0.3928785686972103, 0.08973461850020835] 8.000022674810648\n",
      "[0.3922190315541154, 0.12247175195208825, 0.39552136999979004, 0.08978784649400609] 8.000022674810774\n",
      "[0.3896189946671078, 0.1219952759666464, 0.39812140688679754, 0.09026432247944786] 8.000022674810921\n",
      "[0.38712906178530937, 0.12110789246730214, 0.400611339768596, 0.09115170597879216] 8.00002267481108\n",
      "[0.384813720862457, 0.11983258422056733, 0.4029266806914483, 0.09242701422552695] 8.000022674811245\n",
      "[0.3827329380122601, 0.11820238104014386, 0.4050074635416454, 0.09405721740595047] 8.000022674811419\n",
      "[0.38094060441755373, 0.1162595043320983, 0.4067997971363517, 0.09600009411399602] 8.000022674811595\n",
      "[0.3794831405769713, 0.11405427358262293, 0.40825726097693427, 0.09820532486347142] 8.000022674811769\n",
      "[0.3783982940384133, 0.11164380310977469, 0.40934210751549216, 0.10061579533631965] 8.000022674811929\n",
      "[0.3777141617573848, 0.10909052283263851, 0.4100262397965206, 0.10316907561345579] 8.000022674812081\n",
      "[0.3774484624006064, 0.10646056136921586, 0.41029193915329915, 0.10579903707687849] 8.00002267481222\n",
      "[0.377608077441853, 0.10382203333995413, 0.41013232411205247, 0.10843756510614017] 8.000022674812335\n",
      "[0.37818887293539827, 0.10124327523485625, 0.4095515286185071, 0.11101632321123803] 8.000022674812424\n",
      "[0.3791758065830374, 0.09879107553428501, 0.40856459497086794, 0.11346852291180932] 8.000022674812495\n",
      "[0.38054331732170876, 0.09652894492240387, 0.4071970842321966, 0.11573065352369043] 8.000022674812536\n",
      "[0.3822559873416012, 0.09451547139381813, 0.40548441421230424, 0.1177441270522762] 8.000022674812552\n",
      "[0.3693159946264551, 0.08437756884703967, 0.41562220310765685, 0.13068423341884833] 8.00002245401527\n",
      "[0.37332988058204086, 0.08096333908265907, 0.4116083171520713, 0.134098463183229] 8.000022454015246\n",
      "[0.37783946223785947, 0.07823719522008812, 0.4070987354962525, 0.13682460704579985] 8.000022454015161\n",
      "[0.38272794379779984, 0.07626974295339009, 0.4022102539363122, 0.1387920593124979] 8.000022454015024\n",
      "[0.38786871615726026, 0.07511193826281723, 0.39706948157685157, 0.13994986400307077] 8.000022454014834\n",
      "[0.3931286360124547, 0.07479376768168859, 0.3918095617216573, 0.14026803458419945] 8.000022454014609\n"
     ]
    },
    {
     "name": "stdout",
     "output_type": "stream",
     "text": [
      "[0.398371474202042, 0.07532347166092813, 0.38656672353207, 0.1397383306049599] 8.000022454014337\n",
      "[0.40346144397084793, 0.07668733114571419, 0.3814767537632639, 0.13837447112017376] 8.00002245401403\n",
      "[0.4082667177754987, 0.07885002289179324, 0.3766714799586131, 0.13621177937409476] 8.000022454013706\n",
      "[0.4126628415485481, 0.08175553431895155, 0.37227535618556384, 0.1333062679469364] 8.000022454013363\n",
      "[0.41653595799345144, 0.0853286142074206, 0.36840223974066044, 0.1297331880584674] 8.000022454013015\n",
      "[0.4197857554287404, 0.08947672166494158, 0.3651524423053717, 0.12558508060094647] 8.000022454012669\n",
      "[0.42232806580788085, 0.09409242288726521, 0.36261013192623126, 0.12096937937862284] 8.000022454012335\n",
      "[0.42409704462746706, 0.09905617363724958, 0.3608411531066448, 0.11600562862863842] 8.000022454012015\n",
      "[0.4250468762652741, 0.10423941537780843, 0.3598913214688378, 0.1108223868880796] 8.000022454011729\n",
      "[0.42515296058080587, 0.1095079048704928, 0.359785237153306, 0.10555389739539518] 8.00002245401148\n",
      "[0.424412550046014, 0.11472519100485237, 0.36052564768809797, 0.10033661126103563] 8.000022454011269\n",
      "[0.42284482090482955, 0.11975614881052153, 0.36209337682928255, 0.09530565345536648] 8.000022454011107\n",
      "[0.420490376518519, 0.12447047912297393, 0.3644478212155928, 0.09059132314291411] 8.000022454010994\n",
      "[0.4174101957599552, 0.12874608326344078, 0.3675280019741567, 0.08631571900244724] 8.00002245401094\n",
      "[0.4136840536928405, 0.13247222533055555, 0.37125414404127144, 0.0825895769353325] 8.000022454010939\n",
      "[0.40940845543946064, 0.13555240020203224, 0.3755297422946512, 0.07950940206385576] 8.000022454010995\n",
      "[0.40469413674870997, 0.13790683296664108, 0.3802440609854021, 0.07715496929924692] 8.000022454011106\n",
      "[0.3996631959983611, 0.13947454505250534, 0.3852750017357509, 0.07558725721338275] 8.000022454011267\n",
      "[0.3944459319112166, 0.1402149335400822, 0.3904922658228954, 0.0748468687258058] 8.000022454011475\n",
      "[0.38917746888663085, 0.1401088227564518, 0.3957607288474813, 0.07495297950943622] 8.000022454011733\n",
      "[0.38399425734954395, 0.13915896091517266, 0.4009439403845677, 0.07590284135071534] 8.000022454012013\n",
      "[0.3790305397561515, 0.1373899489389945, 0.4059076579779606, 0.07767185332689355] 8.000022454012331\n",
      "[0.3744148737848009, 0.13484760330888101, 0.410523323949311, 0.08021419895700703] 8.000022454012665\n",
      "[0.3702668027596526, 0.13159776944121948, 0.4146713949744594, 0.08346403282466856] 8.000022454013013\n",
      "[0.36669375954137645, 0.1277246163261232, 0.41824443819273555, 0.0873371859397648] 8.000022454013363\n",
      "[0.36378828407249264, 0.12332845659479943, 0.42114991366161925, 0.09173334567108857] 8.000022454013703\n",
      "[0.36162562664146913, 0.11852314847509304, 0.42331257109264275, 0.09653865379079499] 8.000022454014031\n",
      "[0.36026179893977783, 0.1134331469231922, 0.4246763987943341, 0.10162865534269581] 8.000022454014331\n",
      "[0.3597321233885069, 0.10819028030563645, 0.4252060743456052, 0.10687152196025163] 8.000022454014605\n",
      "[0.36005031830620826, 0.10293033611386931, 0.42488787942790374, 0.1121314661520187] 8.000022454014834\n",
      "[0.3612081426116538, 0.09778954413953607, 0.42373005512245815, 0.11727225812635196] 8.000022454015024\n",
      "[0.36317560926350945, 0.09290104819443817, 0.42176258847060255, 0.12216075407144983] 8.00002245401516\n",
      "[0.36590176190895496, 0.08839145775574495, 0.4190364358251571, 0.12667034451014308] 8.000022454015244\n",
      "[0.3693159946264551, 0.08437756884703969, 0.41562220310765696, 0.13068423341884833] 8.000022454015273\n",
      "[0.3556021892393391, 0.07531379398235358, 0.4246858657998783, 0.14439815097842873] 8.000022087610478\n",
      "[0.36159045751261143, 0.07022014558229114, 0.4186975975266062, 0.14949179937849122] 8.000022087610436\n",
      "[0.36831824825058457, 0.06615304427915328, 0.41196980678863304, 0.15355890068162903] 8.000022087610311\n",
      "[0.3756113152070908, 0.06321782586034139, 0.40467673983212665, 0.15649411910044098] 8.00002208761011\n",
      "[0.3832807717788287, 0.061490510941103346, 0.3970072832603888, 0.15822143401967897] 8.000022087609832\n",
      "[0.39112798306917, 0.06101583607053067, 0.3891600719700474, 0.15869610889025165] 8.000022087609482\n",
      "[0.3989497104276456, 0.06180609507843596, 0.3813383446115719, 0.15790584988234635] 8.000022087609082\n",
      "[0.406543375224235, 0.06384082067161839, 0.3737446798149824, 0.15587112428916391] 8.00002208760863\n",
      "[0.41371230552947535, 0.06706731452600677, 0.36657574950974203, 0.1526446304347755] 8.00002208760814\n",
      "[0.42027082981412656, 0.07140201214557157, 0.36001722522509083, 0.1483099328152107] 8.000022087607633\n",
      "[0.4260490857442504, 0.07673264713887804, 0.35423896929496707, 0.14297929782190427] 8.00002208760711\n",
      "[0.4308974195264349, 0.08292115885965318, 0.3493906355127826, 0.13679078610112913] 8.000022087606594\n",
      "[0.43469026186243387, 0.0898072681050045, 0.34559779317678363, 0.12990467685577783] 8.000022087606094\n",
      "[0.4373293801280335, 0.09721262826258416, 0.3429586749111839, 0.12249931669819819] 8.000022087605625\n",
      "[0.4387464225464196, 0.1049454443941675, 0.3415416324927978, 0.11476650056661485] 8.000022087605196\n",
      "[0.4389046884632943, 0.11280544062380785, 0.34138336657592305, 0.10690650433697443] 8.000022087604819\n",
      "[0.43780007887454375, 0.12058904717782365, 0.34248797616467375, 0.09912289778295867] 8.000022087604506\n",
      "[0.4354612025882917, 0.12809467273500616, 0.3448268524509257, 0.09161727222577618] 8.000022087604261\n",
      "[0.4319486352717972, 0.135127925535948, 0.3483394197674203, 0.08458401942483434] 8.000022087604098\n",
      "[0.42735335057349044, 0.1415066480275025, 0.35293470446572706, 0.07820529693327984] 8.000022087604016\n",
      "[0.42179436395326586, 0.14706563464772715, 0.3584936910859517, 0.07264631031305524] 8.000022087604018\n",
      "[0.4154156502445859, 0.15166091056315928, 0.3648724047946316, 0.06805103439762303] 8.000022087604101\n",
      "[0.40838241478192117, 0.1551734605413767, 0.3719056402572963, 0.06453848441940563] 8.000022087604265\n",
      "[0.4008768146693663, 0.1575123113830011, 0.3794112403698512, 0.06219963357778122] 8.000022087604508\n",
      "[0.3930932410073259, 0.15861688807977625, 0.3871948140318915, 0.06109505688100607] 8.000022087604819\n",
      "[0.3852332842651241, 0.1584585826754631, 0.39505477077409346, 0.06125336228531927] 8.000022087605196\n",
      "[0.37750051319373834, 0.15704149519687932, 0.4027875418454791, 0.06267044976390304] 8.000022087605625\n",
      "[0.37009520250207995, 0.15440232746535842, 0.41019285253713755, 0.06530961749542391] 8.000022087606094\n",
      "[0.3632091458472321, 0.1506094325388559, 0.4170789091919852, 0.06910251242192647] 8.000022087606594\n",
      "[0.3570206884794765, 0.145761044403652, 0.423267366559741, 0.07395090055713036] 8.00002208760711\n",
      "[0.3516901081939906, 0.13998273376570763, 0.42859794684522684, 0.07972921119507476] 8.00002208760763\n",
      "[0.34735546422014385, 0.1334241558353384, 0.43293259081907376, 0.08628778912544396] 8.000022087608142\n",
      "[0.3441290215599748, 0.12625517433587857, 0.43615903347924256, 0.09345677062490375] 8.000022087608627\n",
      "[0.34209434338361006, 0.11866146212247153, 0.4381937116556075, 0.1010504828383108] 8.00002208760908\n",
      "[0.3413041267870498, 0.11083969235265097, 0.4389839282521678, 0.1088722526081314] 8.000022087609485\n",
      "[0.34177883796506325, 0.10299244475486877, 0.43850921707415424, 0.11671950020591357] 8.000022087609832\n",
      "[0.34350618214749434, 0.09532295891993789, 0.4367818728917232, 0.12438898604084445] 8.000022087610107\n",
      "[0.34644142202735023, 0.08802987050238763, 0.4338466330118674, 0.13168207445839475] 8.000022087610313\n",
      "[0.35050853643355306, 0.08130206666134948, 0.42977951860566443, 0.13840987829943285] 8.000022087610438\n",
      "[0.3556021892393392, 0.0753137939823536, 0.4246858657998783, 0.14439815097842873] 8.00002208761048\n",
      "[0.3412035104706094, 0.06738292885781402, 0.43261662095839604, 0.15879693971318032] 8.000021577974454\n",
      "[0.3491273248439283, 0.0606428960865379, 0.42469280658507713, 0.16553697248445653] 8.000021577974401\n",
      "[0.35802969235945425, 0.05526121405545918, 0.4157904390695511, 0.17091865451553523] 8.000021577974232\n",
      "[0.36768004637473356, 0.05137726550231543, 0.4061400850542718, 0.17480260306867898] 8.000021577973964\n",
      "[0.3778284477898681, 0.049091642654488746, 0.3959916836391371, 0.17708822591650564] 8.000021577973596\n",
      "[0.38821205833891603, 0.048463541943155414, 0.3856080730900894, 0.17771632662783898] 8.000021577973136\n",
      "[0.3985619479629164, 0.04950923084681286, 0.3752581834660889, 0.1766706377241815] 8.000021577972602\n",
      "[0.4086100599571544, 0.05220162657213144, 0.3652100714718508, 0.17397824199886286] 8.000021577972003\n",
      "[0.41809615349900975, 0.056470997484075795, 0.3557239779299955, 0.16970887108691857] 8.000021577971363\n",
      "[0.42677454374856416, 0.06220676911862395, 0.34704558768044136, 0.16397309945237043] 8.000021577970688\n",
      "[0.43442046495690223, 0.06926038800330317, 0.3393996664721032, 0.15691948056769117] 8.00002157797\n",
      "[0.44083589178094595, 0.07744916911409588, 0.3329842396480594, 0.14873069945689849] 8.000021577969314\n",
      "[0.44585466803582136, 0.08656102732160123, 0.3279654633931841, 0.13961884124939317] 8.000021577968653\n",
      "[0.44934681005276855, 0.09635997028448368, 0.3244733213762368, 0.1298198982865107] 8.00002157796803\n",
      "[0.4512218731878868, 0.10659221052715245, 0.3225982582411185, 0.11958765804384193] 8.000021577967463\n",
      "[0.4514312942909018, 0.11699273840207083, 0.32238883713810346, 0.10918713016892351] 8.000021577966965\n",
      "[0.4499696494652492, 0.1272921857004244, 0.32385048196375615, 0.09888768287057001] 8.00002157796655\n",
      "[0.4468747945441467, 0.13722380214723637, 0.3269453368848585, 0.08895606642375803] 8.00002157796623\n",
      "[0.44222688464439863, 0.1465303640933724, 0.3315932467846069, 0.07964950447762205] 8.000021577966017\n",
      "[0.4361462981909733, 0.15497083647293952, 0.337673833238032, 0.07120903209805488] 8.000021577965901\n",
      "[0.42879051917902977, 0.16232661548488314, 0.34502961224997575, 0.06385325308611131] 8.000021577965903\n",
      "[0.42035005842116424, 0.16840719031660667, 0.35347007300784117, 0.05777267825438773] 8.000021577966011\n"
     ]
    },
    {
     "name": "stdout",
     "output_type": "stream",
     "text": [
      "[0.41104351941743544, 0.1730550772739476, 0.36277661201156974, 0.05312479129704678] 8.000021577966228\n",
      "[0.4011119366395403, 0.17614989852613333, 0.37270819478946515, 0.05002997004486106] 8.000021577966551\n",
      "[0.3908125328646056, 0.1776114998283671, 0.3830075985643997, 0.04856836874262724] 8.000021577966963\n",
      "[0.3804120572403744, 0.17740202647466494, 0.393408074188631, 0.048777842096329446] 8.00002157796746\n",
      "[0.3701798766223958, 0.17552690371485632, 0.40364025480660937, 0.050652964856138044] 8.00002157796803\n",
      "[0.3603809991139588, 0.17203469624346374, 0.4134391323150467, 0.05414517232753069] 8.000021577968655\n",
      "[0.3512692104954178, 0.16701585039962397, 0.42255092093358754, 0.05916401817137038] 8.000021577969314\n",
      "[0.34308050130579115, 0.16060035165441428, 0.4307396301232143, 0.06557951691658018] 8.00002157797\n",
      "[0.33602695481175915, 0.15295435805542903, 0.4377931766172465, 0.07322551051556543] 8.00002157797069\n",
      "[0.33029125416245936, 0.1442758968206263, 0.443528877266546, 0.0819039717503681] 8.000021577971363\n",
      "[0.32602195099188425, 0.1347897355374017, 0.44779818043712116, 0.09139013303359268] 8.000021577972007\n",
      "[0.3233296180095898, 0.12474156080013951, 0.4504905134194157, 0.10143830777085489] 8.000021577972603\n",
      "[0.3222839852256, 0.11439161505647158, 0.45153614620340565, 0.11178825351452286] 8.00002157797314\n",
      "[0.32291213397977436, 0.10400795646458258, 0.450907997449231, 0.12217191210641179] 8.000021577973593\n",
      "[0.3251977955493314, 0.09385951632771755, 0.44862233587967393, 0.13232035224327682] 8.000021577973964\n",
      "[0.3290817725002224, 0.08420913391469106, 0.44473835892878305, 0.14197073465630333] 8.000021577974234\n",
      "[0.3344634718695782, 0.0753067490608879, 0.4393566595594271, 0.15087311951010646] 8.000021577974394\n",
      "[0.3412035104706094, 0.06738292885781405, 0.4326166209583961, 0.15879693971318037] 8.000021577974453\n",
      "[0.32621333927730856, 0.06063640817707707, 0.43936303459272585, 0.17378721795288832] 8.00002092841238\n",
      "[0.33602131077384556, 0.05229370273347238, 0.42955506309618907, 0.1821299233964931] 8.000020928412315\n",
      "[0.3470405197974665, 0.045632342247545706, 0.41853585407256777, 0.18879128388241964] 8.000020928412106\n",
      "[0.3589855746225842, 0.04082485245683096, 0.40659079924745023, 0.19359877367313444] 8.000020928411775\n",
      "[0.37154710460367624, 0.037995744821649434, 0.39402926926635795, 0.1964278813083159] 8.000020928411313\n",
      "[0.3843997727125007, 0.03721829174369054, 0.3811766011575337, 0.19720533438627483] 8.000020928410752\n",
      "[0.3972107015962347, 0.03851262884929607, 0.3683656722737996, 0.1959109972806693] 8.000020928410091\n",
      "[0.4096480949260609, 0.04184523348731481, 0.3559282789439734, 0.1925783926426505] 8.000020928409352\n",
      "[0.4213898307477987, 0.047129792948158784, 0.3441865431222356, 0.1872938331818066] 8.000020928408553\n",
      "[0.43213180427131515, 0.05422943991764343, 0.33344456959871926, 0.18019418621232192] 8.000020928407718\n",
      "[0.4415958040248501, 0.06296029726853203, 0.3239805698451842, 0.17146332886143328] 8.000020928406864\n",
      "[0.44953671738599754, 0.0730962403815449, 0.3160396564840369, 0.16132738574842048] 8.000020928406016\n",
      "[0.4557488788698733, 0.08437475365422084, 0.30982749500016116, 0.15004887247574455] 8.000020928405203\n",
      "[0.4600713967571433, 0.09650372951712792, 0.3055049771128911, 0.13791989661283746] 8.00002092840443\n",
      "[0.4623923201050414, 0.10916903386647472, 0.30318405376499297, 0.12525459226349064] 8.000020928403725\n",
      "[0.462651538217982, 0.12204264197239129, 0.3029248356520523, 0.11238098415757407] 8.00002092840311\n",
      "[0.4608423374830011, 0.13479113414712962, 0.3047340363870332, 0.09963249198283579] 8.0000209284026\n",
      "[0.457011575248805, 0.1470843311398386, 0.3085647986212293, 0.08733929499012677] 8.0000209284022\n",
      "[0.45125846624505284, 0.15860384560572632, 0.31431790762498146, 0.07581978052423907] 8.000020928401932\n",
      "[0.44373201297297266, 0.16905132817104881, 0.3218443608970617, 0.06537229795891655] 8.000020928401794\n",
      "[0.4346271466188474, 0.17815619452517426, 0.33094922725118714, 0.05626743160479118] 8.000020928401796\n",
      "[0.4241796784386823, 0.1856826334120969, 0.341396695431352, 0.0487409927178685] 8.00002092840193\n",
      "[0.41266019237054163, 0.19143571401810194, 0.35291618149949266, 0.04298791211186345] 8.000020928402197\n",
      "[0.4003670370526826, 0.19526643457744797, 0.36520933681735157, 0.039157191552517415] 8.000020928402598\n",
      "[0.3876185987505405, 0.19707558143983284, 0.3779577751194938, 0.037348044690132545] 8.000020928403112\n",
      "[0.37474505531969415, 0.19681629865182196, 0.39083131855034026, 0.03760732747814348] 8.000020928403725\n",
      "[0.3620798247728414, 0.19449530150142968, 0.4034965490971929, 0.039928324628535725] 8.000020928404426\n",
      "[0.3499509299284065, 0.19017270259568758, 0.4156254439416279, 0.04425092353427783] 8.000020928405199\n",
      "[0.33867250279184474, 0.18396045497569768, 0.4269038710781897, 0.05046317115426774] 8.000020928406022\n",
      "[0.328536648701708, 0.17601945259167412, 0.4370397251683264, 0.05840417353829125] 8.000020928406867\n",
      "[0.319805880954812, 0.16655536323414674, 0.4457704929152226, 0.06786826289581871] 8.00002092840772\n",
      "[0.3127063218497397, 0.15581330184621786, 0.4528700520202947, 0.07861032428374755] 8.000020928408555\n",
      "[0.3074218462380859, 0.1440714821752898, 0.45815452763194847, 0.09035214395467558] 8.000020928409349\n",
      "[0.3040893192623852, 0.13163401118314566, 0.46148705460764916, 0.10278961494681976] 8.000020928410091\n",
      "[0.3027950516208123, 0.11882301283537902, 0.4627813222492222, 0.1156006132945864] 8.000020928410754\n",
      "[0.30357256416543643, 0.10597028525988937, 0.462003809704598, 0.128453340870076] 8.00002092841132\n",
      "[0.3064017197297604, 0.09340870734965473, 0.4591746541402739, 0.14101491878031064] 8.000020928411772\n",
      "[0.3112092446707553, 0.08146361737425699, 0.45436712919927913, 0.15296000875570842] 8.000020928412106\n",
      "[0.3178706266177259, 0.07044438688959197, 0.4477057472523086, 0.16397923924037347] 8.000020928412308\n",
      "[0.32621333927730856, 0.0606364081770771, 0.4393630345927259, 0.17378721795288832] 8.000020928412383\n",
      "[0.31072889267182746, 0.055117985715610274, 0.4448813536216371, 0.189271767990925] 8.000020143136917\n",
      "[0.3223574128327989, 0.04522671324583838, 0.4332528334606658, 0.19916304046069694] 8.000020143136839\n",
      "[0.3354219995655783, 0.03732887578398936, 0.4201882467278861, 0.2070608779225459] 8.000020143136593\n",
      "[0.34958428693629856, 0.03162902317178204, 0.4060259593571658, 0.2127607305347532] 8.0000201431362\n",
      "[0.36447747914116513, 0.02827477859787781, 0.3911327671522994, 0.21611497510865743] 8.000020143135659\n",
      "[0.3797158503251058, 0.027353015234837186, 0.3758943959683586, 0.21703673847169808] 8.00002014313499\n",
      "[0.3949047346788045, 0.028887606269582908, 0.36070551161465997, 0.21550214743695234] 8.000020143134197\n",
      "[0.4096507480758541, 0.03283880660039866, 0.3459594982176102, 0.21155094710613653] 8.000020143133327\n",
      "[0.4235719765149955, 0.0391042822141863, 0.33203826977846873, 0.20528547149234894] 8.000020143132382\n",
      "[0.43630786749213984, 0.04752176058365162, 0.31930237880132467, 0.19686799312288367] 8.00002014313139\n",
      "[0.4475285681208344, 0.05787323344052338, 0.30808167817263005, 0.1865165202660119] 8.000020143130381\n",
      "[0.456943468148759, 0.06989060307518705, 0.29866677814470544, 0.17449915063134824] 8.000020143129374\n",
      "[0.46430872661060973, 0.08326262592653852, 0.2913015196828547, 0.16112712777999674] 8.000020143128406\n",
      "[0.4694335871810169, 0.09764297362672825, 0.28617665911244755, 0.14674678007980702] 8.000020143127491\n",
      "[0.4721853186631722, 0.11265920272397031, 0.28342492763029226, 0.13173055098256492] 8.000020143126658\n",
      "[0.47249265265710605, 0.1279224007723082, 0.2831175936363584, 0.11646735293422708] 8.000020143125928\n",
      "[0.47034762937381047, 0.14303725895967903, 0.28526261691965404, 0.10135249474685626] 8.00002014312532\n",
      "[0.46580580378959413, 0.15761231039849943, 0.2898044425038703, 0.08677744330803584] 8.000020143124848\n",
      "[0.45898480680137704, 0.17127006891242613, 0.29662543949208764, 0.07311968479410916] 8.00002014312453\n",
      "[0.45006129864824884, 0.1836568057300388, 0.3055489476452155, 0.06073294797649641] 8.000020143124367\n",
      "[0.4392663935040729, 0.1944517108742148, 0.31634385278939153, 0.049938042832320464] 8.000020143124365\n",
      "[0.4268796737417805, 0.20337520197202258, 0.32873057255168403, 0.04101455173451267] 8.00002014312453\n",
      "[0.41322194889677033, 0.21019616529132312, 0.3423882973966941, 0.03419358841521217] 8.000020143124852\n",
      "[0.3986469468684559, 0.21473794146503367, 0.3569632994250086, 0.02965181224150167] 8.000020143125319\n"
     ]
    },
    {
     "name": "stdout",
     "output_type": "stream",
     "text": [
      "[0.38353215255347395, 0.2168829008759402, 0.37207809373999046, 0.027506852830595042] 8.000020143125933\n",
      "[0.36826903118514676, 0.2165754902019959, 0.38734121510831776, 0.027814263504539458] 8.00002014312666\n",
      "[0.353252889589565, 0.21382367121818013, 0.40235735670389944, 0.03056608248835512] 8.000020143127488\n",
      "[0.3388726379464383, 0.20869871459071004, 0.41673760834702633, 0.035691039115825246] 8.000020143128408\n",
      "[0.32550071721972496, 0.20133335400422114, 0.4301095290737396, 0.043056399702314146] 8.000020143129374\n",
      "[0.3134834531323002, 0.19191834842905764, 0.44212679316116443, 0.052471405277477644] 8.000020143130381\n",
      "[0.30313208651165, 0.18069754156414158, 0.4524781597818147, 0.06369221214239376] 8.000020143131394\n",
      "[0.2947147123159265, 0.16796154641325545, 0.4608955339775379, 0.07642820729327984] 8.00002014313238\n",
      "[0.2884493361153559, 0.15404021856089697, 0.46716091017810857, 0.09034953514563834] 8.000020143133327\n",
      "[0.28449822786248224, 0.13929411308590522, 0.4711120184309824, 0.10509564062063007] 8.000020143134206\n",
      "[0.28296371918563323, 0.1241051463743098, 0.4726465271078314, 0.12028460733222551] 8.000020143134988\n",
      "[0.28388555305349905, 0.10886670468554403, 0.4717246932399655, 0.13552304902099122] 8.000020143135659\n",
      "[0.2872398544531189, 0.09397345565496176, 0.46837039184034557, 0.15041629805157353] 8.000020143136199\n",
      "[0.29293974874017625, 0.07981112660939148, 0.4626704975532884, 0.16457862709714383] 8.000020143136595\n",
      "[0.30083761164665285, 0.06674651443198436, 0.45477263464681167, 0.17764323927455095] 8.00002014313684\n",
      "[0.3107288926718274, 0.0551179857156103, 0.4448813536216372, 0.189271767990925] 8.000020143136918\n",
      "[0.2948505932322736, 0.05086345056066928, 0.4491357896286742, 0.20515016657838292] 8.00001922724088\n",
      "[0.30822424664220527, 0.03948775976229024, 0.43576213621874266, 0.21652585737676194] 8.000019227240788\n",
      "[0.3232494822258867, 0.030404665831108586, 0.4207369006350612, 0.22560895130794353] 8.000019227240513\n",
      "[0.3395371542740935, 0.02384941612881234, 0.4044492285868542, 0.23216420101023982] 8.000019227240053\n",
      "[0.3566654206362977, 0.019991788179376708, 0.38732096222464985, 0.23602182895967544] 8.00001922723943\n",
      "[0.3741906682107826, 0.018931692520373404, 0.36979571465016525, 0.23708192461867877] 8.000019227238656\n",
      "[0.3916590022909575, 0.020696585072527987, 0.35232738056999025, 0.23531703206652418] 8.00001922723776\n",
      "[0.4086180021998398, 0.02524075604579501, 0.3353683806611078, 0.23077286109325715] 8.000019227236752\n",
      "[0.4246284387479421, 0.032446513798910066, 0.31935794411300555, 0.22356710334014207] 8.000019227235665\n",
      "[0.4392756500385637, 0.04212723299107779, 0.3047107328223839, 0.2138863841479744] 8.000019227234521\n",
      "[0.45218028099310364, 0.05403218808026883, 0.29180610186784395, 0.20198142905878333] 8.000019227233363\n",
      "[0.4630081084483302, 0.0678530469830583, 0.28097827441261775, 0.1881605701559939] 8.000019227232212\n",
      "[0.47147869736074843, 0.0832318567136269, 0.27250768550019944, 0.17278176042542526] 8.00001922723109\n",
      "[0.47737266392692274, 0.09977031417807, 0.26661371893402513, 0.1562433029609822] 8.000019227230037\n",
      "[0.48053735750874715, 0.11704008201531035, 0.2634490253522005, 0.13897353512374183] 8.000019227229078\n",
      "[0.48089081420478963, 0.134593882309755, 0.263095568656158, 0.12141973482929719] 8.00001922722824\n",
      "[0.47842387967228495, 0.15197708085436484, 0.2655625031886628, 0.10403653628468736] 8.000019227227545\n",
      "[0.4732004462198036, 0.16873946193780837, 0.2707859366411439, 0.0872741552012438] 8.000019227227002\n",
      "[0.46535579803002214, 0.18444688869489795, 0.2786305848309256, 0.07156672844415421] 8.000019227226632\n",
      "[0.4550931073704511, 0.19869254702335665, 0.2888932754904966, 0.05732107011569554] 8.000019227226446\n",
      "[0.44267817253843067, 0.2111074818553772, 0.30130821032251714, 0.04490613528367501] 8.000019227226446\n",
      "[0.4284325338248446, 0.22137015290007547, 0.31555384903610306, 0.03464346423897674] 8.000019227226637\n",
      "[0.41272514578948527, 0.22921476236812674, 0.3312612370714624, 0.026798854770925418] 8.000019227227\n",
      "[0.39596282153175755, 0.23443813899489227, 0.34802356132919016, 0.021575478144159936] 8.000019227227547\n",
      "[0.3785796964450925, 0.23690500006945225, 0.36540668641585516, 0.01910861706959994] 8.00001922722824\n",
      "[0.36102598433829947, 0.23655145518575807, 0.3829603985226482, 0.01946216195329411] 8.000019227229082\n",
      "[0.3437563171344039, 0.23338666097058886, 0.40023006572654385, 0.02262695616846336] 8.000019227230045\n",
      "[0.32721797014264775, 0.2274925839317275, 0.41676841271830006, 0.028521033207324666] 8.00001922723109\n",
      "[0.31183927786292387, 0.21902187756846453, 0.432147104998024, 0.036991739570587705] 8.000019227232208\n",
      "[0.2980185403472216, 0.20819392872615095, 0.4459678425137262, 0.047819688412901275] 8.00001922723336\n",
      "[0.2861137074374987, 0.1952891755921431, 0.4578726754234492, 0.06072444154690912] 8.000019227234525\n",
      "[0.27643310805279553, 0.18064184449405674, 0.46755327480815223, 0.07537177264499545] 8.000019227235665\n",
      "[0.26922746463219144, 0.1646312936134435, 0.4747589182287564, 0.09138232352560868] 8.000019227236752\n",
      "[0.2646833995553297, 0.14767218780815589, 0.47930298330561816, 0.1083414293308963] 8.00001922723776\n",
      "[0.26291860172081344, 0.1302037590103426, 0.4810677811401345, 0.12580985812870968] 8.000019227238663\n",
      "[0.263978778465551, 0.11267843035012362, 0.4800076043953969, 0.1433351867889286] 8.000019227239434\n",
      "[0.2678364717687388, 0.09555009863416705, 0.47614991109220894, 0.16046351850488513] 8.000019227240053\n",
      "[0.2743917694001776, 0.07926237865681762, 0.46959461346077025, 0.17675123848223462] 8.000019227240509\n",
      "[0.2834748925945523, 0.06423711380994317, 0.4605114902663955, 0.19177650332910906] 8.000019227240792\n",
      "[0.29485059323227364, 0.0508634505606693, 0.44913578962867423, 0.20515016657838286] 8.00001922724088\n",
      "[0.2786814178235176, 0.047900395005333316, 0.4520987509637696, 0.22131943620737932] 8.000018186664203\n",
      "[0.2937134712081527, 0.03511406159838641, 0.4370666975791345, 0.23410576961432622] 8.000018186664096\n",
      "[0.3106019112243184, 0.02490461854748587, 0.42017825756296867, 0.24431521266522666] 8.000018186663784\n",
      "[0.3289093361466852, 0.017536485064876393, 0.4018708326406019, 0.25168334614783616] 8.000018186663263\n",
      "[0.3481615932862116, 0.013200491937455143, 0.3826185755010756, 0.2560193392752574] 8.000018186662581\n",
      "[0.36786005929572896, 0.01200893910962997, 0.3629201094915582, 0.25721089210308257] 8.000018186661707\n",
      "[0.3874945542527189, 0.013992687173747648, 0.3432856145345683, 0.25522714403896496] 8.000018186660691\n",
      "[0.4065565550513209, 0.01910035809696244, 0.32422361373596614, 0.2501194731157501] 8.00001818665956\n",
      "[0.4245523658836594, 0.027199665885299134, 0.30622780290362756, 0.24202016532741338] 8.000018186658336\n",
      "[0.44101590470194135, 0.0380808427214104, 0.2897642640853457, 0.23113898849130218] 8.00001818665706\n",
      "[0.455520774498672, 0.0514620718408601, 0.2752593942886151, 0.21775775937185243] 8.000018186655751\n",
      "[0.46769130676517356, 0.06699678643829071, 0.2630888620221136, 0.20222304477442185] 8.000018186654449\n",
      "[0.47721229110862995, 0.08428264556563873, 0.2535678776786572, 0.18493718564707384] 8.000018186653193\n",
      "[0.4838371390356887, 0.10287195455134981, 0.2469430297515984, 0.16634787666136275] 8.000018186652012\n",
      "[0.4873942704649114, 0.12228326005720869, 0.24338589832237578, 0.1469365711555039] 8.00001818665094\n",
      "[0.4877915575607562, 0.14201381946690306, 0.24298861122653082, 0.12720601174580948] 8.000018186649992\n",
      "[0.48501871079612635, 0.16155262165570794, 0.2457614579911608, 0.10766720955700466] 8.000018186649209\n",
      "[0.47914754544571597, 0.18039362191019348, 0.25163262334157105, 0.0888262093025191] 8.000018186648601\n",
      "[0.4703301216081198, 0.19804884822049054, 0.26045004717916737, 0.07117098299222205] 8.00001818664819\n",
      "[0.4587948059291518, 0.2140610394990261, 0.27198536285813524, 0.05515879171368645] 8.000018186647974\n",
      "[0.44484035702567504, 0.22801548840250305, 0.28593981176161215, 0.04120434281020956] 8.00001818664798\n",
      "[0.4288281877943544, 0.23955078203425595, 0.30195198099293263, 0.029669049178456655] 8.000018186648186\n",
      "[0.4111730050074761, 0.2483681623484333, 0.3196071637798109, 0.020851668864279263] 8.0000181866486\n",
      "[0.3923320686253795, 0.2542392638264547, 0.3384481001619076, 0.0149805673862579] 8.00001818664921\n",
      "[0.37279334900367234, 0.2570120280239869, 0.3579868197836147, 0.012207803188725592] 8.000018186649987\n",
      "[0.35306288871733993, 0.2566146418047802, 0.3777172800699472, 0.01260518940793244] 8.000018186650946\n",
      "[0.33365169632386427, 0.2530573972631742, 0.39712847246342275, 0.016162433949538355] 8.000018186652014\n",
      "[0.31506251151000647, 0.24643242516426223, 0.41571765727728066, 0.02278740604845035] 8.000018186653197\n",
      "[0.2977767843979958, 0.2369113088054684, 0.4330033843892913, 0.032308522407244245] 8.000018186654449\n",
      "[0.2822422062402591, 0.22474064009927305, 0.44853796254702816, 0.044479191113439544] 8.000018186655751\n",
      "[0.2688611144511431, 0.21023563297220887, 0.4619190543361442, 0.05898419824050378] 8.000018186657059\n",
      "[0.2579800722792218, 0.19377195948973686, 0.47280009650806537, 0.07544787172297572] 8.000018186658338\n"
     ]
    },
    {
     "name": "stdout",
     "output_type": "stream",
     "text": [
      "[0.2498808930011998, 0.17577602014708363, 0.4808992757860874, 0.09344381106562896] 8.00001818665956\n",
      "[0.24477334110607465, 0.1567139003203919, 0.4860068276812125, 0.1125059308923207] 8.000018186660693\n",
      "[0.24278969950505663, 0.13707929890030227, 0.4879904692822307, 0.13214053231241035] 8.000018186661705\n",
      "[0.24398134347365302, 0.11738074175001374, 0.48679882531363416, 0.1518390894626989] 8.000018186662572\n",
      "[0.24831741005901903, 0.09812841115254262, 0.48246275872826816, 0.17109142006016997] 8.000018186663272\n",
      "[0.2556855974142246, 0.07982093235757973, 0.47509457137306255, 0.18939889885513284] 8.000018186663786\n",
      "[0.2658950733571006, 0.06293245944943851, 0.4648850954301865, 0.20628737176327402] 8.000018186664095\n",
      "[0.2786814178235175, 0.04790039500533333, 0.4520987509637698, 0.22131943620737926] 8.0000181866642\n",
      "[0.26232622975270836, 0.046248035601896775, 0.45375102168568393, 0.23767471295971085] 8.000017028155424\n",
      "[0.2789191944775743, 0.03213398386504601, 0.4371580569608182, 0.25178876469656164] 8.000017028155309\n",
      "[0.29756131091209165, 0.020864403850297353, 0.4185159405263006, 0.2630583447113102] 8.00001702815496\n",
      "[0.3177697580328596, 0.012731171760394868, 0.3983074934055326, 0.2711915768012127] 8.000017028154385\n",
      "[0.3390211476744591, 0.007944934034276804, 0.37705610376393295, 0.27597781452733067] 8.000017028153604\n",
      "[0.36076508000801394, 0.006629651714954659, 0.3553121714303782, 0.27729309684665293] 8.000017028152662\n",
      "[0.38243839860764706, 0.008819389923612881, 0.3336388528307452, 0.2751033586379947] 8.00001702815156\n",
      "[0.4034797759060982, 0.014457435590863732, 0.312597475532294, 0.2694653129707438] 8.0000170281503\n",
      "[0.4233442512838643, 0.023397766295454543, 0.2927330001545278, 0.26052498226615295] 8.000017028148953\n",
      "[0.4415173452629901, 0.03540883216827598, 0.2745599061754021, 0.24851391639333154] 8.000017028147537\n",
      "[0.457528384255303, 0.050179552912344536, 0.2585488671830892, 0.233743195649263] 8.000017028146097\n",
      "[0.470962690761114, 0.06732737461909138, 0.24511456067727821, 0.2165953739425162] 8.000017028144663\n",
      "[0.4814723232986387, 0.08640817771364787, 0.23460492813975337, 0.19751457084795965] 8.000017028143276\n",
      "[0.48878508790561176, 0.10692777941854978, 0.22729216353278056, 0.1769949691430578] 8.00001702814197\n",
      "[0.4927115878199303, 0.12835473282809073, 0.22336566361846186, 0.15556801573351678] 8.000017028140782\n",
      "[0.49315012875630937, 0.15013409110402426, 0.2229271226820827, 0.13378865745758323] 8.000017028139741\n",
      "[0.4900893527348517, 0.17170178030717423, 0.2259878987035404, 0.11222096825443334] 8.000017028138876\n",
      "[0.48360853224676126, 0.19249920861616462, 0.23246871919163084, 0.09142353994544286] 8.000017028138203\n",
      "[0.4738755171384613, 0.2119877335621791, 0.2422017342999308, 0.07193501499942845] 8.000017028137744\n",
      "[0.4611423873887393, 0.22966261258596676, 0.2549348640496528, 0.05426013597564077] 8.000017028137513\n",
      "[0.4457389243697079, 0.24506607560499832, 0.2703383270686842, 0.038856672956609294] 8.000017028137517\n",
      "[0.4280640696824929, 0.25779918101814747, 0.2880131817558992, 0.02612356754346009] 8.000017028137744\n",
      "[0.4085755927793197, 0.26753214808360615, 0.3075016586590724, 0.016390600478001352] 8.000017028138199\n",
      "[0.38777823497515457, 0.27401289806687146, 0.3282990164632378, 0.009909850494736137] 8.000017028138872\n",
      "[0.3662106369127759, 0.27707358294755785, 0.3498666145256164, 0.006849165614049679] 8.000017028139734\n",
      "[0.3444313880530616, 0.27663493259495964, 0.3716458633853308, 0.007287815966648006] 8.00001702814078\n",
      "[0.3230045595013651, 0.2727083078227963, 0.393072691937027, 0.01121444073881124] 8.000017028141972\n",
      "[0.30248509486218056, 0.26539540615010615, 0.4135921565762116, 0.01852734241150144] 8.000017028143278\n",
      "[0.2834044374912841, 0.2548856278889212, 0.4326728139471082, 0.029037120672686375] 8.000017028144661\n",
      "[0.2662567663919737, 0.2414511707756738, 0.4498204850464185, 0.04247157778593381] 8.000017028146098\n",
      "[0.25148619723846466, 0.2254399801928015, 0.4645910541999275, 0.058482768368806115] 8.000017028147536\n",
      "[0.23947528001320983, 0.2072667375661092, 0.47660197142518257, 0.07665601099549843] 8.000017028148953\n",
      "[0.23053509116329873, 0.18740212033366327, 0.4855421602750936, 0.09652062822794433] 8.0000170281503\n",
      "[0.22489717688387906, 0.1663606116473809, 0.49118007455451324, 0.1175621369142267] 8.000017028151552\n",
      "[0.22270755619332777, 0.1446871755296409, 0.4933696952450646, 0.1392355730319667] 8.00001702815267\n",
      "[0.22402293911737525, 0.1229431425913608, 0.49205431232101693, 0.16097960597024677] 8.000017028153625\n",
      "[0.22880925792922763, 0.10169167186402697, 0.4872679935091647, 0.1822310766975806] 8.000017028154398\n",
      "[0.23694254948579532, 0.08148316527659367, 0.479134701952597, 0.20243958328501394] 8.000017028154964\n",
      "[0.24821216580798477, 0.06284101253463543, 0.4678650856304075, 0.22108173602697212] 8.000017028155309\n",
      "[0.26232622975270836, 0.0462480356018968, 0.453751021685684, 0.23767471295971077] 8.000017028155424\n",
      "[0.2458910986904873, 0.0459170885351534, 0.45408188618475676, 0.2541099265896024] 8.000015759227919\n",
      "[0.2639373630120985, 0.030566853509919625, 0.43603562186314565, 0.2694601616148363] 8.000015759227798\n",
      "[0.28421225458632093, 0.018310224082212244, 0.4157607302889231, 0.28171679104254355] 8.00001575922742\n",
      "[0.3061906643712926, 0.009464640516097769, 0.39378232050395134, 0.29056237460865797] 8.0000157592268\n",
      "[0.3293033630983102, 0.0042591987795673435, 0.37066962177693374, 0.29576781634518834] 8.00001575922595\n",
      "[0.35295174401088597, 0.002828717079304398, 0.34702124086435815, 0.2971982980454514] 8.000015759224892\n",
      "[0.3765233264653066, 0.005210244139948286, 0.32344965840993734, 0.29481677098480746] 8.000015759223707\n",
      "[0.39940761885758547, 0.011342099661586919, 0.30056536601765843, 0.28868491546316877] 8.000015759222352\n",
      "[0.4210119300353279, 0.021065471807125324, 0.27896105483991596, 0.2789615433176304] 8.000015759220878\n",
      "[0.4407767196872528, 0.034128530345446405, 0.2591962651879911, 0.26589848477930933] 8.000015759219337\n",
      "[0.45819009014334167, 0.05019294892211651, 0.2417828947319023, 0.24983406620263932] 8.00001575921777\n",
      "[0.4728010442556042, 0.06884266753425064, 0.22717194061963975, 0.23118434759050513] 8.000015759216215\n",
      "[0.48423116598731375, 0.08959466826604076, 0.2157418188879302, 0.21043234685871504] 8.000015759214707\n",
      "[0.4921844211895857, 0.11191148519905794, 0.2077885636856582, 0.18811552992569786] 8.00001575921329\n",
      "[0.49645482473033387, 0.13521512449722145, 0.20351816014490992, 0.16481189062753437] 8.000015759211998\n",
      "[0.49693177540099276, 0.15890203414354712, 0.20304120947425103, 0.14112498098120863] 8.000015759210862\n",
      "[0.493602920429723, 0.18235873562035637, 0.20637006444552092, 0.11766827950439944] 8.000015759209923\n",
      "[0.4865544754117132, 0.20497771268063786, 0.21341850946353072, 0.09504930244411791] 8.000015759209193\n",
      "[0.47596899137055226, 0.22617314569973218, 0.2240039935046918, 0.07385386942502356] 8.000015759208694\n",
      "[0.4621206267826072, 0.2453960840958935, 0.23785235809263688, 0.054630931028862253] 8.000015759208441\n",
      "[0.4453680470164948, 0.26214866386200597, 0.2546049378587494, 0.03787835126274981] 8.000015759208447\n",
      "[0.4261451350884319, 0.2759970019818525, 0.27382784978681207, 0.024030013142903275] 8.000015759208695\n",
      "[0.4049497543200247, 0.28658243377232634, 0.2950232305552193, 0.013444581352429492] 8.000015759209191\n",
      "[0.38233085393975397, 0.29363080211032555, 0.3176421309354901, 0.006396213014430334] 8.00001575920993\n",
      "[0.35887425158630665, 0.2969595579582333, 0.34109873328893725, 0.003067457166522427] 8.000015759210848\n",
      "[0.3351874609394514, 0.2964824882881042, 0.3647855239357929, 0.003544526836651633] 8.000015759212005\n",
      "[0.3118839574348426, 0.292211948953801, 0.3880890274404013, 0.007815066170954774] 8.000015759213303\n",
      "[0.28956728957248323, 0.2842585446808714, 0.41040569530276094, 0.015768470443884477] 8.000015759214705\n",
      "[0.26881544732760176, 0.272828264462253, 0.4311575375476422, 0.027198750662502845] 8.000015759216216\n",
      "[0.25016589251390003, 0.25821714655155836, 0.4498070923613442, 0.04180986857319755] 8.000015759217774\n",
      "[0.2341016388048922, 0.2408036112278073, 0.46587134607035197, 0.05922340389694855] 8.000015759219345\n",
      "[0.22103874193347764, 0.22103865990897587, 0.47893424294176656, 0.07898835521578002] 8.000015759220883\n",
      "[0.21131552406700183, 0.19943419445217062, 0.48865746080824224, 0.1005928206725852] 8.000015759222348\n",
      "[0.20518381144083547, 0.1765497591644195, 0.4947891734344084, 0.12347725596033633] 8.000015759223707\n"
     ]
    },
    {
     "name": "stdout",
     "output_type": "stream",
     "text": [
      "[0.20280241219115586, 0.15297804889903455, 0.4971705726840884, 0.1470489662257213] 8.000015759224926\n",
      "[0.20423300330763794, 0.12932955857023976, 0.4957399815676061, 0.170697456554516] 8.000015759225963\n",
      "[0.20943853323182, 0.10621677165557047, 0.490534451643424, 0.1938102434691853] 8.000015759226802\n",
      "[0.21828418147300477, 0.08423829719552846, 0.48168880340223935, 0.21578871792922738] 8.000015759227422\n",
      "[0.23054085038815064, 0.06396336613386748, 0.4694321344870934, 0.23606364899088833] 8.000015759227797\n",
      "[0.24589109869048728, 0.04591708853515343, 0.45408188618475687, 0.2541099265896024] 8.000015759227923\n",
      "[0.22948261276847165, 0.04690970012382589, 0.45308919867774866, 0.27051848842995374] 8.000014388111174\n",
      "[0.24886513973778113, 0.030422833974717664, 0.43370667170843935, 0.28700535457906207] 8.000014388111039\n",
      "[0.2706413159997335, 0.01725864407914602, 0.41193049544648674, 0.3001695444746336] 8.000014388110635\n",
      "[0.29424715002764357, 0.007758076040575573, 0.3883246614185768, 0.309670112513204] 8.000014388109978\n",
      "[0.3190712631197621, 0.002167189580786559, 0.3635005483264582, 0.315260998972993] 8.000014388109047\n",
      "[0.34447072378651, 0.0006307857223300144, 0.33810108765971036, 0.3167974028314495] 8.000014388107846\n",
      "[0.369787699338341, 0.0031886565181041605, 0.31278411210787926, 0.3142395320356755] 8.000014388106658\n",
      "[0.3943664934068578, 0.009774554458086138, 0.28820531803936233, 0.30765363409569346] 8.00001438810519\n",
      "[0.41757052813633244, 0.020217908245043395, 0.2650012833098878, 0.29721028030873625] 8.000014388103615\n",
      "[0.4387988312157899, 0.03424824050153501, 0.24377298023043034, 0.28317994805224456] 8.000014388101961\n",
      "[0.4575016007461867, 0.05150217299191223, 0.2250702107000336, 0.26592601556186735] 8.000014388100276\n",
      "[0.4731944448207983, 0.07153283792774798, 0.209377366625422, 0.24589535062603166] 8.000014388098604\n",
      "[0.4854709270211636, 0.09382145160882803, 0.1971008844250566, 0.22360673694495162] 8.000014388096982\n",
      "[0.4940130929068327, 0.11779075064848243, 0.18855871853938733, 0.19963743790529717] 8.000014388095458\n",
      "[0.49859970486836014, 0.14281994279207755, 0.18397210657785995, 0.17460824576170203] 8.00001438809407\n",
      "[0.49911197206517866, 0.16826078511032375, 0.1834598393810415, 0.14916740344345586] 8.000014388092856\n",
      "[0.49553662704597207, 0.19345437315063796, 0.18703518440024808, 0.12397381540314163] 8.000014388091842\n",
      "[0.48796626936869575, 0.21774820621635882, 0.19460554207752456, 0.09967998233742079] 8.000014388091058\n",
      "[0.47659696732066503, 0.2405130867920473, 0.20597484412555528, 0.07691510176173233] 8.000014388090527\n",
      "[0.46172317985290445, 0.2611594164286346, 0.2208486315933157, 0.056268772125145014] 8.000014388090253\n",
      "[0.4437301302479882, 0.27915246603355093, 0.23884168119823204, 0.03827572252022874] 8.000014388090253\n",
      "[0.42308382903936936, 0.29402622507334286, 0.2594879824068509, 0.02340196348043673] 8.000014388090525\n",
      "[0.40031900458334846, 0.30539547100170594, 0.2822528068628718, 0.012032717552073604] 8.000014388091058\n",
      "[0.37602525387552443, 0.31296574632108576, 0.30654655757069593, 0.004462442232693942] 8.000014388091833\n",
      "[0.35083177229830986, 0.3165409848771927, 0.3317400391479104, 0.0008872036765870106] 8.0000143880929\n",
      "[0.32539105779102795, 0.31602858986941007, 0.3571807536551924, 0.0013995986843696106] 8.000014388094051\n",
      "[0.3003620114960245, 0.31144183205929077, 0.3822097999501956, 0.0059863564944888925] 8.000014388095456\n",
      "[0.2763928725651878, 0.3028995060648039, 0.4061789388810326, 0.014528682488975774] 8.000014388096977\n",
      "[0.2541044291064169, 0.29062285364212925, 0.42846738233980347, 0.02680533491165036] 8.000014388098597\n",
      "[0.23407394009771343, 0.2749298336403856, 0.44849787134850705, 0.04249835491339413] 8.000014388100277\n",
      "[0.21682018468287131, 0.25622688703445384, 0.4657516267633491, 0.06120130151932586] 8.00001438810196\n",
      "[0.20279002606415414, 0.2349984103172218, 0.4797817853820662, 0.08242977823655781] 8.00001438810361\n",
      "[0.19234683798008365, 0.21179420988486033, 0.4902249734661366, 0.10563397866891928] 8.000014388105189\n",
      "[0.18576109351648307, 0.18721526233996205, 0.4968107179297373, 0.13021292621381758] 8.00001438810665\n",
      "[0.1832033599956272, 0.16189814951321282, 0.4993684514505933, 0.1555300390405669] 8.000014388107957\n",
      "[0.18473988137219063, 0.13649857132835816, 0.4978319300740297, 0.18092961722542153] 8.000014388109074\n",
      "[0.19033086254961795, 0.11167436351860122, 0.4922409488966024, 0.2057538250351784] 8.000014388109975\n",
      "[0.199831500052221, 0.0880684600266586, 0.4827403113939994, 0.2293597285271211] 8.000014388110637\n",
      "[0.21299573235913766, 0.06629224135336109, 0.46957607908708265, 0.25113594720041854] 8.000014388111039\n",
      "[0.22948261276847165, 0.04690970012382592, 0.4530891986777488, 0.27051848842995374] 8.000014388111175\n",
      "[0.21320718731432006, 0.049219432900865265, 0.4507793971240679, 0.2867939826607467] 8.000012923697398\n",
      "[0.23380027380624394, 0.03170285928139076, 0.43018631063214396, 0.3043105562802213] 8.000012923697252\n",
      "[0.2569365078966611, 0.01771648374094302, 0.40705007654172665, 0.31829693182066887] 8.000012923696827\n",
      "[0.2820166732755344, 0.0076225460593147155, 0.3819699111628534, 0.3283908695022972] 8.000012923696122\n",
      "[0.3083912068335555, 0.0016824739203585436, 0.3555953776048324, 0.3343309416412533] 8.00001292369524\n",
      "[0.33537702200547637, 5.011207229717412e-05, 0.3286095624329114, 0.33596330348931475] 8.000012923696346\n",
      "[0.36227520035334093, 0.0027677378295551816, 0.30171138408504683, 0.3332456777320567] 8.00001292369258\n",
      "[0.3883890931869021, 0.009764966112522696, 0.2755974912514857, 0.32624844944908915] 8.000012923691026\n",
      "[0.41304236439876735, 0.020860572384145716, 0.25094422003962047, 0.31515284317746617] 8.000012923689365\n",
      "[0.43559650721431664, 0.035767186270242946, 0.22839007722407106, 0.3002462292913689] 8.000012923687606\n",
      "[0.45546738118177355, 0.05409873430124841, 0.20851920325661422, 0.28191468126036356] 8.000012923685823\n",
      "[0.47214034110307046, 0.07538043901227814, 0.1918462433353174, 0.2606329765493338] 8.000012923684041\n",
      "[0.48518356607414836, 0.09906111543008136, 0.1788030183642394, 0.23695230013153057] 8.00001292368232\n",
      "[0.4942592434195474, 0.12452744647432389, 0.1697273410188403, 0.211485969087288] 8.0000129236807\n",
      "[0.49913231786325574, 0.15111986754780793, 0.16485426657513208, 0.18489354801380395] 8.000012923679225\n",
      "[0.49967657933688914, 0.17814964891308616, 0.1643100051014986, 0.15786376664852578] 8.000012923677934\n",
      "[0.49587793175416833, 0.20491673343088862, 0.16810865268421954, 0.13109668213072329] 8.00001292367686\n",
      "[0.4878347580921476, 0.23072786767230663, 0.17615182634624013, 0.10528554788930525] 8.000012923676026\n",
      "[0.47575537232378895, 0.2549145568184524, 0.1882312121145988, 0.08109885874315961] 8.000012923675458\n",
      "[0.45995262419548344, 0.2768503783251236, 0.20403396024290432, 0.05916303723648825] 8.000012923675175\n",
      "[0.4408357965829526, 0.2959672059376546, 0.2231507878554353, 0.04004620962395741] 8.000012923675172\n",
      "[0.41890000527975346, 0.3117699238624879, 0.24508657915863435, 0.024243491699124053] 8.000012923675456\n",
      "[0.394713375758298, 0.32384925000615616, 0.26927320868008975, 0.01216416555545572] 8.000012923676028\n",
      "[0.3689023290185405, 0.3318923361665165, 0.2950842554198474, 0.004121079395095444] 8.000012923676842\n",
      "[0.3421353576131212, 0.3356908706368542, 0.32185122682526657, 0.00032254492475777884] 8.00001292367784\n",
      "[0.3151057120413979, 0.33514647336966585, 0.34888087239699, 0.0008669421919461594] 8.00001292367914\n",
      "[0.2885134459256585, 0.3302732439682128, 0.3754731385127292, 0.005740171593399136] 8.0000129236807\n",
      "[0.2630472849900265, 0.3211973965142033, 0.40093929944836143, 0.014816019047408683] 8.00001292368232\n",
      "[0.23936678942597572, 0.3081539906893728, 0.42461979501241215, 0.027859424872239212] 8.000012923684046\n",
      "[0.21808527162982333, 0.2914808438531986, 0.4459013128085646, 0.04453257170841337] 8.00001292368582\n",
      "[0.19975391173382304, 0.2716097817507369, 0.46423267270456503, 0.06440363381087513] 8.000012923687612\n",
      "[0.1848474823302606, 0.24905545445265254, 0.47913910210812727, 0.08695796110895943] 8.000012923689363\n",
      "[0.17375205211070172, 0.2244020071887232, 0.49023453232768627, 0.11161140837288877] 8.000012923691042\n",
      "[0.1667549868896714, 0.1982879512932248, 0.4972315975487165, 0.13772546426838722] 8.00001292369259\n",
      "[0.16403750698100522, 0.17138962709676836, 0.4999490774573827, 0.16462378846484366] 8.000012923693978\n",
      "[0.16566999368691118, 0.1444036870670029, 0.4983165907514768, 0.19160972849460906] 8.000012923695166\n",
      "[0.171610166459212, 0.11802905287563709, 0.4923764179791758, 0.21798436268597482] 8.000012923696122\n",
      "[0.1817041779433345, 0.09294881369426974, 0.4822824064950534, 0.2430646018673422] 8.000012923696826\n",
      "[0.19569059854397974, 0.06981253454365487, 0.468295985894408, 0.266200881017957] 8.000012923697254\n",
      "[0.21320718731432003, 0.04921943290086529, 0.45077939712406795, 0.2867939826607466] 8.000012923697398\n"
     ]
    },
    {
     "name": "stdout",
     "output_type": "stream",
     "text": [
      "[0.19717037470749726, 0.052831307362895014, 0.447167461473134, 0.30283085645647356] 8.000011375483885\n",
      "[0.21884046665391788, 0.034398627974639, 0.42549736952671335, 0.32126353584472955] 8.000011375483732\n",
      "[0.24318671121661983, 0.01968077380170896, 0.4011511249640113, 0.33598139001765953] 8.000011375483279\n",
      "[0.26957855344992293, 0.00905892953625081, 0.37475928273070835, 0.3466032342831177] 8.000011375482543\n",
      "[0.2973324585029811, 0.002808195365341875, 0.34700537767765005, 0.3528539684540266] 8.000011375481547\n",
      "[0.3257296148133759, 0.001090462020649153, 0.3186082213672553, 0.35457170179871933] 8.000011375480334\n",
      "[0.3540345509490076, 0.003950217893516376, 0.29030328523162363, 0.3517119459258522] 8.000011375478831\n",
      "[0.3815141839318621, 0.011313396808996913, 0.2628236522487691, 0.34434876701037154] 8.000011375477186\n",
      "[0.40745680570207027, 0.022989296300879706, 0.23688103047856096, 0.3326728675184888] 8.00001137547543\n",
      "[0.4311905159828159, 0.03867551670539272, 0.2131473201978153, 0.31698664711397573] 8.00001137547358\n",
      "[0.45210062414457186, 0.05796579315365148, 0.19223721203605926, 0.2976963706657171] 8.000011375471702\n",
      "[0.4696455693695232, 0.08036051761836199, 0.174692266811108, 0.2753016462010065] 8.000011375469827\n",
      "[0.4833709467922791, 0.10527967849929554, 0.16096688938835216, 0.250382485320073] 8.000011375468016\n",
      "[0.492921276347199, 0.13207788261906883, 0.15141655983343216, 0.22358428120029966] 8.000011375466313\n",
      "[0.498049209515368, 0.1600610705674285, 0.1462886266652631, 0.19560109325193992] 8.00001137546476\n",
      "[0.49862193552130973, 0.18850449247540424, 0.1457159006593214, 0.1671576713439643] 8.000011375463405\n",
      "[0.49462462106230953, 0.21667147865622144, 0.14971321511832172, 0.13899068516314717] 8.000011375462272\n",
      "[0.48616079448316263, 0.24383251896323369, 0.15817704169746852, 0.11182964485613485] 8.000011375461394\n",
      "[0.47344966444642567, 0.2692841567195273, 0.17088817173420556, 0.08637800709984123] 8.000011375460797\n",
      "[0.4568204425432006, 0.29236720787634446, 0.18751739363743058, 0.06329495594302408] 8.000011375460492\n",
      "[0.4367038168858529, 0.31248383353369225, 0.20763401929477837, 0.04317833028567636] 8.000011375460499\n",
      "[0.4136207975121306, 0.32911302365382245, 0.23071703866850074, 0.026549140165546097] 8.000011375460803\n",
      "[0.38816922249886077, 0.3418240909475354, 0.2561686136817703, 0.013838072871833156] 8.000011375461387\n",
      "[0.36100827426979076, 0.35028782544874026, 0.2833295619108406, 0.005374338370628361] 8.000011375462282\n",
      "[0.3328414071170632, 0.3542850208796508, 0.311496429063568, 0.0013771429397177381] 8.000011375463412\n",
      "[0.3043981281045599, 0.3537121519782369, 0.3399397080760715, 0.001950011841131761] 8.000011375464753\n",
      "[0.27641510321813734, 0.3485840557481306, 0.36792273296249395, 0.007078108071237994] 8.000011375466329\n",
      "[0.24961707810354766, 0.3390335471880269, 0.3947207580770836, 0.01662861663134168] 8.000011375468015\n",
      "[0.22469810753490388, 0.3253079794529812, 0.4196397286457273, 0.030354184366387378] 8.000011375469827\n",
      "[0.2023035797606012, 0.30776283753762224, 0.44203425642003025, 0.04789932628174634] 8.000011375471699\n",
      "[0.18301350128668986, 0.286852531401519, 0.4613243348939416, 0.0688096324178496] 8.000011375473584\n",
      "[0.1673274750130321, 0.26311862698991806, 0.47701036116759926, 0.09254353682945055] 8.000011375475431\n",
      "[0.15565176078062537, 0.23717581996023365, 0.4886860754000058, 0.11848634385913495] 8.000011375477195\n",
      "[0.14828875345511872, 0.20969601538740534, 0.4960490827255126, 0.1459661484319632] 8.000011375478824\n",
      "[0.14542915105863286, 0.1813909257753923, 0.4989086851219985, 0.17427123804397637] 8.000011375480286\n",
      "[0.14714701579115674, 0.15299363807716646, 0.49719082038947454, 0.20266852574220212] 8.000011375481536\n",
      "[0.153397855858471, 0.1252396271277028, 0.4909399803221603, 0.23042253669166574] 8.000011375482543\n",
      "[0.16401977778624716, 0.09884770723208171, 0.4803180583943842, 0.25681445658728685] 8.00001137548328\n",
      "[0.1787376793759948, 0.07450141525256214, 0.4656001568046366, 0.28116074856680645] 8.000011375483735\n",
      "[0.19717037470749726, 0.05283130736289504, 0.44716746147313413, 0.3028308564564735] 8.000011375483888\n",
      "[0.18147617983158998, 0.057721899118038586, 0.4422768165136571, 0.318525104536714] 8.000009753511385\n",
      "[0.20408273837073626, 0.038492656960035086, 0.4196702579745109, 0.33775434669471754] 8.000009753511227\n",
      "[0.22948109866731095, 0.02313877508663965, 0.39427189767793613, 0.3531082285681129] 8.000009753510756\n",
      "[0.25701345653077756, 0.012057910973350225, 0.3667395398144696, 0.36418909268140237] 8.000009753509985\n",
      "[0.2859667383545541, 0.005537053180190985, 0.3377862579906929, 0.37070995047456157] 8.000009753508941\n",
      "[0.31559106934786396, 0.0037450884987557578, 0.30816192699738304, 0.37250191515599684] 8.000009753507662\n",
      "[0.34511919489892545, 0.0067284278730180185, 0.27863380144632166, 0.36951857578173464] 8.000009753506124\n",
      "[0.3737863520663762, 0.014409804380260412, 0.2499666442788706, 0.36183719927449215] 8.000009753504404\n",
      "[0.40085007653774446, 0.02659027440378675, 0.22290291980750257, 0.3496567292509658] 8.000009753502564\n",
      "[0.42560943206514157, 0.04295437016809414, 0.19814356428010552, 0.3332926334866585] 8.000009753500638\n",
      "[0.4474231643458989, 0.06307827018855097, 0.17632983199934804, 0.3131687334662016] 8.000009753498675\n",
      "[0.4657263091721713, 0.08644077602522562, 0.15802668717307566, 0.28980622762952696] 8.00000975349672\n",
      "[0.4800448247071576, 0.11243681104870765, 0.14370817163808935, 0.263810192606045] 8.000009753494833\n",
      "[0.49000786891967174, 0.14039309160697777, 0.13374512742557507, 0.2358539120477748] 8.000009753493057\n",
      "[0.49535740419795604, 0.16958556471833505, 0.12839559214729074, 0.20666143893641747] 8.000009753491437\n",
      "[0.49595488038828456, 0.19925816066329577, 0.1277981159569624, 0.17698884299145679] 8.000009753490016\n",
      "[0.49178482317116734, 0.22864237479318295, 0.13196817317407966, 0.1476046288615697] 8.00000975348884\n",
      "[0.4829552348380975, 0.25697717139684956, 0.1407977615071494, 0.11926983225790302] 8.000009753487923\n",
      "[0.46969479708893236, 0.2835286941258444, 0.15405819925631456, 0.09271830952890815] 8.000009753487301\n",
      "[0.4523469482959878, 0.3076092724883598, 0.17140604804925907, 0.06863773116639284] 8.000009753486987\n",
      "[0.4313609886305958, 0.32859523215375197, 0.1923920077146513, 0.04765177150100072] 8.000009753486989\n",
      "[0.40728044342467223, 0.34594304779010454, 0.21647255292057474, 0.030303955864647993] 8.000009753487305\n",
      "[0.3807289861501225, 0.35920342008482453, 0.24302401019512446, 0.017043583569928106] 8.000009753487923\n",
      "[0.3523942856035189, 0.36803291236083124, 0.2713587107417281, 0.008214091293921328] 8.000009753488838\n",
      "[0.32301019564548505, 0.3722028454060953, 0.3007428006997619, 0.004044158248657319] 8.000009753489994\n",
      "[0.2933377487711821, 0.3716052201451093, 0.33041524757406504, 0.0046417835096434195] 8.000009753491462\n",
      "[0.26414544576843524, 0.3662555147582145, 0.3596075505768118, 0.009991488896538208] 8.00000975349305\n",
      "[0.2361893519510046, 0.3562922838048606, 0.3875636443942425, 0.019954719849892007] 8.000009753494837\n",
      "[0.21019351546410148, 0.34197356973329535, 0.41355948088114547, 0.03427343392145733] 8.000009753496721\n",
      "[0.18683121481775222, 0.3236702197166976, 0.4369217815274949, 0.05257678393805498] 8.000009753498674\n",
      "[0.16670752132704547, 0.30185628090619043, 0.4570454750182017, 0.07439072274856229] 8.000009753500642\n",
      "[0.15034362808290064, 0.27709672285863063, 0.4734093682623465, 0.099150280796122] 8.000009753502566\n",
      "[0.13816335132478375, 0.250032805121853, 0.4855896450204634, 0.12621419853289956] 8.000009753504404\n",
      "[0.13048215382272502, 0.2213654689492185, 0.4932708425225222, 0.15488153470553417] 8.00000975350611\n",
      "[0.12749897455728038, 0.1918371832893394, 0.49625402178796685, 0.18440982036541326] 8.000009753507634\n",
      "[0.12929107630443293, 0.16221271523031228, 0.4944619200408142, 0.2140342884244404] 8.000009753508937\n",
      "[0.1358120445702792, 0.13325932293384862, 0.4879409517749679, 0.24298768072090401] 8.000009753509987\n",
      "[0.14689298970204068, 0.10572688405190997, 0.4768600066432065, 0.27052011960284267] 8.000009753510756\n",
      "[0.16224692104135735, 0.08032847428941398, 0.46150607530388976, 0.2959185293653386] 8.000009753511229\n",
      "[0.18147617983158995, 0.05772189911803862, 0.4422768165136572, 0.318525104536714] 8.000009753511387\n",
      "[0.16622638556272684, 0.06385949080208939, 0.43613917995489443, 0.33377494368028926] 8.000008068299024\n",
      "[0.1896227984876219, 0.043958394888600545, 0.4127427670299995, 0.3536760395937782] 8.000008068298861\n",
      "[0.21590855640539314, 0.028068061130457997, 0.38645700911222813, 0.36956637335192066] 8.000008068298367\n",
      "[0.24440287199324334, 0.01660004082518949, 0.3579626935243778, 0.38103439365718905] 8.000008068297578\n",
      "[0.2743677574448225, 0.00985134967482762, 0.32799780807279855, 0.38778308480755097] 8.00000806829648\n",
      "[0.3050271379667646, 0.007996775235242459, 0.2973384275508564, 0.38963765924713617] 8.000008068295145\n",
      "[0.33558695170818287, 0.011084350010256122, 0.26677861380943824, 0.38655008447212247] 8.00000806829357\n"
     ]
    },
    {
     "name": "stdout",
     "output_type": "stream",
     "text": [
      "[0.36525571554550584, 0.01903410743502416, 0.2371098499721152, 0.37860032704735436] 8.000008068291793\n",
      "[0.39326502407963126, 0.03164015296806048, 0.20910054143798978, 0.3659942815143181] 8.000008068289898\n",
      "[0.41888945093213803, 0.048575996651710376, 0.18347611458548307, 0.34905843783066826] 8.000008068287901\n",
      "[0.44146533690743817, 0.06940300903055668, 0.16090022861018288, 0.32823142545182193] 8.000008068285867\n",
      "[0.46040797841733866, 0.09358178142391335, 0.1419575871002825, 0.3040526530584653] 8.000008068283847\n",
      "[0.4752267709968444, 0.12048609632731702, 0.12713879452077664, 0.27714833815506157] 8.000008068281891\n",
      "[0.48553791570210003, 0.14941914611695584, 0.11682764981552103, 0.24821528836542275] 8.000008068280053\n",
      "[0.4910743593014344, 0.1796315800011098, 0.11129120621618668, 0.21800285448126883] 8.00000806827838\n",
      "[0.4916927108137845, 0.21034091181204034, 0.11067285470383635, 0.18729352267033825] 8.000008068276909\n",
      "[0.4873769552597861, 0.2407517859867141, 0.11498861025783494, 0.15688264849566447] 8.000008068275685\n",
      "[0.47823886844132524, 0.27007657685810416, 0.12412669707629582, 0.12755785762427446] 8.000008068274742\n",
      "[0.4645151220069841, 0.297555787746245, 0.13785044351063702, 0.10007864673613362] 8.000008068274097\n",
      "[0.4465611537806597, 0.3224777215232992, 0.1558044117369613, 0.07515671295907943] 8.000008068273772\n",
      "[0.4248419621086288, 0.3441969131953303, 0.17752360340899231, 0.05343752128704843] 8.000008068273772\n",
      "[0.39992006264663016, 0.36215084710659895, 0.20244550287099092, 0.035483587375779696] 8.000008068274099\n",
      "[0.37244091949985847, 0.3758745257995709, 0.22992464601776263, 0.021759908682807746] 8.00000806827474\n",
      "[0.3431162280416855, 0.3850125132048148, 0.2592493374759356, 0.01262192127756389] 8.000008068275685\n",
      "[0.3127054823773264, 0.3893281402484986, 0.2896600831402947, 0.00830629423388003] 8.000008068276916\n",
      "[0.2819963048454586, 0.3887096344570857, 0.32036926067216254, 0.008924800025293032] 8.000008068278362\n",
      "[0.2517840470133687, 0.3831730148056872, 0.35058151850425245, 0.014461419676691449] 8.00000806828005\n",
      "[0.22285119048913932, 0.3728616768350221, 0.37951437502848184, 0.024772757647356522] 8.000008068281893\n",
      "[0.19594708105901787, 0.35804267878223406, 0.40641848445860346, 0.039591755700144594] 8.000008068283844\n",
      "[0.1717685210251661, 0.33909982491282886, 0.43059704449245506, 0.05853460956954987] 8.000008068285865\n",
      "[0.15094172239204784, 0.31652372519180083, 0.4514238431255734, 0.08111070929057786] 8.000008068287901\n",
      "[0.13400608830444685, 0.2908990887432451, 0.4683594772131744, 0.1067353457391336] 8.000008068289896\n",
      "[0.12140024278935285, 0.26288958019117714, 0.48096532272826825, 0.13474485429120142] 8.000008068291795\n",
      "[0.11345067062406095, 0.2332206310943781, 0.48891489489356027, 0.16441380338800057] 8.00000806829356\n",
      "[0.11036326155193411, 0.20266065165007305, 0.4920023039656872, 0.19497378283230565] 8.000008068295141\n",
      "[0.11221797784619897, 0.17200112927345126, 0.4901475876714222, 0.22563330520892738] 8.000008068296488\n",
      "[0.11896678332907178, 0.14203612948936112, 0.48339878218854937, 0.2555983049930175] 8.000008068297575\n",
      "[0.13043488748353058, 0.1135417300523206, 0.47193067803409083, 0.28409270443005813] 8.000008068298373\n",
      "[0.14632527243589255, 0.08725592094032984, 0.45604029308172866, 0.3103785135420488] 8.000008068298861\n",
      "[0.16622638556272684, 0.06385949080208941, 0.43613917995489443, 0.33377494368028926] 8.000008068299024\n",
      "[0.1515198926685688, 0.0712042777777886, 0.42879435672513416, 0.34848147282850817] 8.000006330776037\n",
      "[0.17555442526345227, 0.05076039435249234, 0.4047598241302508, 0.3689253562538045] 8.000006330775873\n",
      "[0.20255710757564777, 0.034436663621647136, 0.3777571418180552, 0.38524908698464966] 8.000006330775365\n",
      "[0.23182858431712583, 0.022655861636720755, 0.34848566507657697, 0.3970298889695759] 8.000006330774546\n",
      "[0.2626107396158812, 0.015723104980952286, 0.31770350977782164, 0.40396264562534434] 8.000006330773427\n",
      "[0.2941063318187982, 0.013817948410116652, 0.28620791757490455, 0.40586780219618] 8.000006330772052\n",
      "[0.32549964163169465, 0.01698973447866585, 0.25481460776200826, 0.40269601612763084] 8.000006330770429\n",
      "[0.3559775988205629, 0.025156315593486925, 0.22433665057313998, 0.39452943501280974] 8.000006330768617\n",
      "[0.38475084030354567, 0.038106181593413696, 0.19556340909015718, 0.3815795690128831] 8.00000633076666\n",
      "[0.41107415424012184, 0.05550393775129961, 0.16924009515358104, 0.3641818128549971] 8.000006330764611\n",
      "[0.4342657806263345, 0.07689899132127617, 0.14604846876736843, 0.3427867592850205] 8.000006330762524\n",
      "[0.4537250685207814, 0.10173722165418539, 0.12658918087292143, 0.31794852895211134] 8.000006330760447\n",
      "[0.46894803258849005, 0.12937533163132683, 0.11136621680521291, 0.2903104189749699] 8.00000633075844\n",
      "[0.4795404060563615, 0.15909750872192369, 0.10077384333734134, 0.260588241884373] 8.000006330756548\n",
      "[0.4852278520154959, 0.19013396415167053, 0.09508639737820687, 0.22955178645462618] 8.000006330754829\n",
      "[0.48586306860302964, 0.22168087002763665, 0.09445118079067327, 0.19800488057866011] 8.000006330753322\n",
      "[0.48142960404300905, 0.2529211780584616, 0.09888464535069372, 0.16676457254783514] 8.000006330752065\n",
      "[0.47204228273874727, 0.2830457806759255, 0.10827196665495555, 0.13663996993037109] 8.00000633075109\n",
      "[0.45794423138109175, 0.3112744664959618, 0.12237001801261115, 0.10841128411033496] 8.000006330750432\n",
      "[0.4395005820948399, 0.33687612738367767, 0.14081366729886297, 0.08280962322261912] 8.000006330750097\n",
      "[0.41718901570850286, 0.3591876937700147, 0.1631252336852, 0.060498056836282066] 8.000006330750093\n",
      "[0.39158739007176, 0.37763130780529336, 0.18872685932194277, 0.042054442801003344] 8.000006330750432\n",
      "[0.36335877384068827, 0.3917292895739846, 0.2169554755530146, 0.027956461032312127] 8.000006330751095\n",
      "[0.3332342733478625, 0.40111650875360816, 0.24707997604584042, 0.018569241852688583] 8.000006330752063\n",
      "[0.30199409733237503, 0.40554984129829125, 0.2783201520613279, 0.01413590930800556] 8.000006330753317\n",
      "[0.2704473499433177, 0.40491446622384886, 0.30986689945038526, 0.014771284382447934] 8.000006330754834\n",
      "[0.23941107536732337, 0.39922683941096193, 0.3409031740263796, 0.020458911195334856] 8.000006330756545\n",
      "[0.20968909681330547, 0.3886342674065114, 0.3706251525803976, 0.031051483199785426] 8.00000633075844\n",
      "[0.18205119791357632, 0.3734110922613904, 0.39826305148012664, 0.04627465834490637] 8.000006330760446\n",
      "[0.1572131857321188, 0.35395158621549183, 0.4231010636615843, 0.06573416439080493] 8.000006330762524\n",
      "[0.13581835173762527, 0.3307597402537965, 0.44449589765607783, 0.08892601035250036] 8.000006330764615\n",
      "[0.11842081089236374, 0.3044362110045957, 0.4618934385013394, 0.11524953960170098] 8.000006330766663\n",
      "[0.10547115036571911, 0.2756627640483308, 0.4748430990279839, 0.14402298655796597] 8.000006330768617\n",
      "[0.0973047595631879, 0.2451846165471726, 0.48300948983051506, 0.17450113405912418] 8.000006330770425\n",
      "[0.09413314371694786, 0.21379113651196713, 0.4861811056767552, 0.2058946140943297] 8.000006330772047\n",
      "[0.09603844601144351, 0.18229539858539018, 0.4842758033822595, 0.2373903520209067] 8.000006330773433\n",
      "[0.10297132011805672, 0.15151312583578996, 0.47734292927564637, 0.26817262477050685] 8.00000633077455\n",
      "[0.11475220823909726, 0.12224156295819771, 0.46556204115460575, 0.2974441876480991] 8.00000633077537\n",
      "[0.13107599156044603, 0.09523882805549855, 0.4492382578332571, 0.3244469225507982] 8.00000633077587\n",
      "[0.1515198926685688, 0.07120427777778864, 0.4287943567251343, 0.34848147282850817] 8.000006330776039\n",
      "[0.1374520783988804, 0.0797086262831721, 0.4202899808214623, 0.3625493144964851] 8.000004552210939\n",
      "[0.16196885749706524, 0.058854541775045205, 0.39577320172327757, 0.38340339900461207] 8.000004552210768\n",
      "[0.18951334144710857, 0.04220327972921782, 0.36822871777323407, 0.4000546610504392] 8.000004552210255\n",
      "[0.2193721425831559, 0.03018609908617157, 0.33836991663718674, 0.41207184169348565] 8.000004552209425\n",
      "[0.25077193363989003, 0.02311423851222682, 0.30697012558045256, 0.41914370226743025] 8.000004552208281\n",
      "[0.2828994765224927, 0.021170855481571358, 0.2748425826978499, 0.4210870852980857] 8.000004552206862\n",
      "[0.31492268474612617, 0.02440628259388701, 0.24281937447421642, 0.4178516581857701] 8.000004552205219\n",
      "[0.34601217403881535, 0.032736723986456474, 0.21172988518152713, 0.4095212167932005] 8.000004552203364\n",
      "[0.37536274295843686, 0.045946425602991635, 0.18237931626190568, 0.3963115151766654] 8.000004552201368\n",
      "[0.40221422718711686, 0.0636932631103612, 0.15552783203322576, 0.3785646776692959] 8.000004552199286\n",
      "[0.42587118738776797, 0.08551760273910902, 0.13187087183257462, 0.35674033804054806] 8.000004552197153\n",
      "[0.4457209207176227, 0.11085420555664857, 0.11202113850271991, 0.3314037352230086] 8.000004552195037\n",
      "[0.46124932951002284, 0.13904686685871043, 0.09649272971031975, 0.3032110739209467] 8.000004552192985\n",
      "[0.47205423613394304, 0.1693654115264947, 0.08568782308639958, 0.2728925292531624] 8.00000455219106\n",
      "[0.47785579918337995, 0.20102460517870446, 0.07988626003696267, 0.24123333560095256] 8.000004552189306\n",
      "[0.47850376122277394, 0.23320449132955645, 0.07923829799756858, 0.2090534494501007] 8.000004552187768\n",
      "[0.47398134037566375, 0.2650716278310599, 0.08376071884467892, 0.1771863129485972] 8.000004552186484\n",
      "[0.46440566496647084, 0.2958006725868624, 0.0933363942538718, 0.14645726819279475] 8.000004552185494\n",
      "[0.4500247399584227, 0.3245957594790128, 0.10771731926191994, 0.11766218130064432] 8.00000455218482\n",
      "[0.4312110237552753, 0.3507111108823676, 0.12653103546506717, 0.0915468298972895] 8.000004552184476\n",
      "[0.4084517817243005, 0.37347035291334285, 0.14929027749604223, 0.06878758786631446] 8.00000455218448\n",
      "[0.3823364662792199, 0.3922840331582155, 0.17540559294112262, 0.04997390762144164] 8.000004552184818\n"
     ]
    },
    {
     "name": "stdout",
     "output_type": "stream",
     "text": [
      "[0.3535414503723181, 0.4066648871810153, 0.20420060884802463, 0.03559305359864201] 8.000004552185498\n",
      "[0.32281250979025755, 0.4162404584164662, 0.23492954943008518, 0.026017482363191055] 8.000004552186486\n",
      "[0.2909455079529441, 0.4207627445993864, 0.26679655126739854, 0.021495196180270786] 8.000004552187765\n",
      "[0.2587657834689987, 0.42011462089308593, 0.2989762757513441, 0.022143319886571297] 8.000004552189308\n",
      "[0.22710677429932377, 0.41431287336111405, 0.33063528492101885, 0.027945067418543145] 8.000004552191065\n",
      "[0.1967884321517021, 0.4035077642170313, 0.3609536270686407, 0.03875017656262598] 8.000004552192989\n",
      "[0.16859598616226462, 0.38797914011200657, 0.38914607305807813, 0.05427880066765062] 8.000004552195037\n",
      "[0.14325960587332764, 0.3681291842535494, 0.4144824533470152, 0.07412875652610786] 8.000004552197153\n",
      "[0.12143549022578645, 0.3444720000716919, 0.43630656899455644, 0.09778594070796542] 8.000004552199286\n",
      "[0.10368887235123184, 0.31762029621019683, 0.454053186869111, 0.12463764456946039] 8.000004552201375\n",
      "[0.09047938033074562, 0.2882695176945263, 0.46726267888959716, 0.1539884230851309] 8.000004552203368\n",
      "[0.08214913306903147, 0.2571798342709817, 0.47559292615131116, 0.18507810650867546] 8.000004552205215\n",
      "[0.07891387959449035, 0.22515645240957377, 0.47882817962585245, 0.2171014883700834] 8.000004552206867\n",
      "[0.08085741127271234, 0.19302876087940468, 0.4768846479476305, 0.24922917990025248] 8.000004552208281\n",
      "[0.08792939165412168, 0.1616288500152058, 0.46981266756622103, 0.2806290907644513] 8.00000455220942\n",
      "[0.09994666016158038, 0.13176996101474608, 0.4577953990587624, 0.31048797976491105] 8.000004552210257\n",
      "[0.11659797585312574, 0.10422542341898466, 0.441144083367217, 0.33803251736067247] 8.000004552210768\n",
      "[0.13745207839888035, 0.07970862628317214, 0.42028998082146235, 0.3625493144964851] 8.00000455221094\n",
      "[0.12411417792746521, 0.0893173823547953, 0.41068120638501165, 0.3758872333327277] 8.0000027441384\n",
      "[0.1489542028086373, 0.06818834350424373, 0.3858411815038395, 0.3970162721832793] 8.000002744138229\n",
      "[0.17686185184842407, 0.05131753996741652, 0.35793353246405274, 0.4138870757201065] 8.000002744137715\n",
      "[0.20711433159590847, 0.03914191669409227, 0.3276810527165684, 0.4260626989934307] 8.000002744136864\n",
      "[0.23892811871652697, 0.03197681593148953, 0.29586726559594967, 0.4332277997560334] 8.000002744135703\n",
      "[0.2714792528348688, 0.030007810025705423, 0.26331613147760796, 0.4351968056618175] 8.000002744134274\n",
      "[0.30392467667559275, 0.03328589519542863, 0.2308707076368839, 0.43191872049209434] 8.000002744132601\n",
      "[0.3354240708040209, 0.041726170756662184, 0.19937131350845574, 0.42347844493086073] 8.000002744130729\n",
      "[0.36516161745809717, 0.05511003800584287, 0.16963376685437936, 0.4100945776816801] 8.000002744128707\n",
      "[0.3923671297998955, 0.07309086181143876, 0.14242825451258112, 0.3921137538760842] 8.000002744126594\n",
      "[0.41633599935016113, 0.09520294828177707, 0.11845938496231545, 0.37000166740574586] 8.000002744124432\n",
      "[0.4364474449778101, 0.12087360599222058, 0.09834793933466654, 0.3443310096953025] 8.000002744122288\n",
      "[0.4521805908051423, 0.14943797839224449, 0.08261479350733439, 0.31576663729527854] 8.000002744120213\n",
      "[0.46312795661947104, 0.18015626324086276, 0.07166742769300563, 0.2850483524466603] 8.000002744118259\n",
      "[0.46900601139659176, 0.21223287309606836, 0.06578937291588478, 0.2529717425914546] 8.00000274411648\n",
      "[0.4696625166053773, 0.2448370406116793, 0.0651328677070992, 0.22036757507584362] 8.000002744114923\n",
      "[0.46508046910576645, 0.2771243349752225, 0.06971491520671017, 0.18808028071230054] 8.000002744113626\n",
      "[0.4553785415211602, 0.308258532222417, 0.07941684279131653, 0.15694608346510597] 8.00000274411262\n",
      "[0.4408080086798118, 0.3374332729986018, 0.09398737563266485, 0.12777134268892115] 8.000002744111935\n",
      "[0.4217462397287635, 0.3638929468424598, 0.11304914458371312, 0.10131166884506312] 8.000002744111589\n",
      "[0.3986869244711613, 0.3869522621000622, 0.13610845984131545, 0.07825235358746083] 8.000002744111589\n",
      "[0.3722272870596758, 0.40601399461873766, 0.16256809725280083, 0.05919062106878522] 8.000002744111939\n",
      "[0.34305261820465693, 0.42058445553892015, 0.19174276610781976, 0.04462016014860279] 8.00000274411262\n",
      "[0.31191852650470137, 0.4302862775762877, 0.22287685780777539, 0.03491833811123542] 8.000002744113631\n",
      "[0.2796313685808519, 0.4348681886362048, 0.2551640157316247, 0.030336427051318213] 8.000002744114926\n",
      "[0.24702736486367322, 0.4342115196289871, 0.2877680194488035, 0.030993096058536] 8.00000274411648\n",
      "[0.21495094192334496, 0.42833327793698883, 0.3198444423891319, 0.03687133775053418] 8.000002744118262\n",
      "[0.18423286226505198, 0.41738570693233484, 0.3505625220474249, 0.04781890875518824] 8.000002744120213\n",
      "[0.1556687080164796, 0.401652342953551, 0.37912667629599717, 0.06355227273397207] 8.000002744122288\n",
      "[0.12999827576860618, 0.38154067186333224, 0.40479710854387074, 0.08366394382419091] 8.000002744124437\n",
      "[0.10788641623259408, 0.3575715753787406, 0.4269089680798829, 0.10763304030878257] 8.000002744126595\n",
      "[0.08990581495560057, 0.3303658405083397, 0.4448895693568763, 0.13483877517918336] 8.000002744128711\n",
      "[0.07652216006592481, 0.3006280814947584, 0.45827322424655204, 0.16457653419276463] 8.000002744130729\n",
      "[0.0680820811950989, 0.2691284906759225, 0.46671330311737785, 0.19607612501160054] 8.000002744132601\n",
      "[0.06480417195250801, 0.2366828909080662, 0.46999121235996894, 0.22852172477945681] 8.000002744134276\n",
      "[0.06677332846572856, 0.20413160618228804, 0.4680220558467484, 0.26107300950523493] 8.000002744135708\n",
      "[0.07393855061541854, 0.17231769767458227, 0.4608568336970583, 0.29288691801294076] 8.000002744136863\n",
      "[0.08611426291161899, 0.14206512890422165, 0.44868112140085786, 0.3231394867833015] 8.00000274413771\n",
      "[0.10298512080146557, 0.11415742551141539, 0.4318102635110111, 0.35104719017610764] 8.000002744138225\n",
      "[0.1241141779274652, 0.08931738235479536, 0.41068120638501165, 0.3758872333327277] 8.0000027441384\n",
      "[0.1115926926570538, 0.09996822952235074, 0.4000303500051926, 0.38840872781540275] 8.00000091828447\n",
      "[0.13659486622795675, 0.07870126625419982, 0.3750281764342897, 0.40967569108355373] 8.000000918284293\n",
      "[0.16468468854441767, 0.06172033486116915, 0.3469383541178287, 0.4266566224765843] 8.000000918283774\n",
      "[0.19513464796334484, 0.049465232546665544, 0.31648839469890144, 0.43891172479108786] 8.000000918282918\n",
      "[0.22715610653041568, 0.042253360023325706, 0.2844669361318306, 0.44612359731442763] 8.000000918281753\n",
      "[0.2599197252888411, 0.04027150100128178, 0.25170331737340523, 0.44810545633647164] 8.000000918280312\n",
      "[0.29257694372271476, 0.0435709845881821, 0.2190460989395315, 0.4448059727495713] 8.00000091827863\n",
      "[0.32428195702864676, 0.052066355892264854, 0.1873410856335994, 0.43631060144548856] 8.000000918276744\n",
      "[0.3542136220158904, 0.06553758925916757, 0.1574094206463557, 0.4228393680785858] 8.000000918274711\n",
      "[0.3815967242836563, 0.08363578682080061, 0.1300263183785899, 0.4047411705169528] 8.000000918272582\n",
      "[0.40572205586689086, 0.10589221476686339, 0.10590098679535533, 0.38248474257089005] 8.000000918270407\n",
      "[0.42596478335004184, 0.13173044330431655, 0.08565825931220442, 0.356646514033437] 8.000000918268253\n",
      "[0.44180063072431086, 0.16048127588623667, 0.06982241193793537, 0.3278956814515168] 8.00000091826616\n",
      "[0.45281945786089217, 0.19140008105086947, 0.05880358480135394, 0.29697687628688396] 8.000000918264195\n",
      "[0.4587358829248721, 0.2236860779853518, 0.05288715973737406, 0.26469087935240154] 8.000000918262405\n",
      "[0.4593966736148485, 0.2565030763281344, 0.05222636904739773, 0.23187388100961906] 8.000000918260838\n",
      "[0.4547847157990482, 0.28900113306011505, 0.05683832686319798, 0.1993758242776384] 8.000000918259532\n",
      "[0.44501945676235066, 0.32033856558237894, 0.0666035858998956, 0.1680383917553744] 8.000000918258522\n",
      "[0.4303538115843517, 0.3497037508533952, 0.0812692310778945, 0.13867320648435816] 8.00000091825783\n",
      "[0.4111676127716527, 0.3763361459994665, 0.1004554298905935, 0.11204081133828671] 8.00000091825748\n",
      "[0.3879577727954563, 0.39954598597566326, 0.12366526986678998, 0.08883097136209024] 8.00000091825748\n",
      "[0.36132541431957776, 0.4187321481181693, 0.15029762834266847, 0.06964480921958419] 8.00000091825783\n",
      "[0.33196030143920846, 0.43339772090552103, 0.17966274122303777, 0.054979236432232355] 8.000000918258522\n",
      "[0.30062297515316616, 0.44316287370599705, 0.2110000675090801, 0.04521408363175636] 8.000000918259527\n"
     ]
    },
    {
     "name": "stdout",
     "output_type": "stream",
     "text": [
      "[0.26812505575151924, 0.44777469419146365, 0.243497986910727, 0.0406022631462898] 8.000000918260838\n",
      "[0.235308222276399, 0.44711373863382514, 0.27631482038584737, 0.04126321870392835] 8.000000918262405\n",
      "[0.20302241347692151, 0.44119712543484024, 0.3086006291853247, 0.04717983190291327] 8.000000918264195\n",
      "[0.17210381484203874, 0.43017809176850885, 0.3395192278202076, 0.05819886556924468] 8.00000091826616\n",
      "[0.1433532018356015, 0.41434202481875687, 0.36826984082664493, 0.07403493251899664] 8.000000918268253\n",
      "[0.11751520023247453, 0.3940990704012799, 0.3941078424297718, 0.09427788693647371] 8.000000918270409\n",
      "[0.09525900070210139, 0.36997351040235593, 0.41636404196014515, 0.11840344693539769] 8.000000918272585\n",
      "[0.07716102712167483, 0.3425901841533835, 0.4344620155405716, 0.14578677318437017] 8.000000918274715\n",
      "[0.06369000750050005, 0.31265830542041173, 0.4479330351617463, 0.17571865191734182] 8.000000918276749\n",
      "[0.055194834170764595, 0.2809530941401323, 0.45642820849148175, 0.20742386319762107] 8.000000918278632\n",
      "[0.051895527659399365, 0.2482956986307235, 0.4597275150028472, 0.24008125870702998] 8.000000918280314\n",
      "[0.05387753827200267, 0.21553192828173884, 0.45774550439024375, 0.2728450290560147] 8.000000918281756\n",
      "[0.06108953297481049, 0.18351034753519999, 0.4505335096874359, 0.30486660980255353] 8.000000918282922\n",
      "[0.07334472489330654, 0.1530602985122803, 0.43827831776893994, 0.33531665882547323] 8.00000091828377\n",
      "[0.09032571099415779, 0.12497042148799871, 0.42129733166808847, 0.3634065358497548] 8.000000918284291\n",
      "[0.11159269265705377, 0.09996822952235078, 0.40003035000519266, 0.3884087278154027] 8.000000918284469\n",
      "[0.09996882922451426, 0.11159209295489028, 0.38840648657269844, 0.4000325912478968] 7.999999086490503\n",
      "[0.12497100279541723, 0.0903251296867393, 0.36340431300179554, 0.42129955451604795] 7.99999908649033\n",
      "[0.15306082511187816, 0.07334419829370864, 0.33531449068533453, 0.4382804859090784] 7.999999086489808\n",
      "[0.1835107845308053, 0.0610890959792051, 0.3048645312664073, 0.450535588223582] 7.999999086488955\n",
      "[0.2155322430978761, 0.053877223455865195, 0.2728430726993365, 0.4577474607469218] 7.999999086487792\n",
      "[0.24829586185630162, 0.051895364433821305, 0.24007945394091107, 0.4597293197689658] 7.999999086486351\n",
      "[0.28095308029017524, 0.055194848020721596, 0.20742223550703737, 0.45642983618206545] 7.999999086484662\n",
      "[0.31265809359610724, 0.06369021932480438, 0.17571722220110533, 0.4479344648779826] 7.999999086482781\n",
      "[0.34258975858335095, 0.07716145269170707, 0.1457855572138616, 0.4344632315110799] 7.999999086480747\n",
      "[0.3699728608511168, 0.09525965025334011, 0.11840245494609578, 0.41636503394944696] 7.999999086478615\n",
      "[0.3940981924343514, 0.11751607819940295, 0.0942771233628612, 0.39410860600338415] 7.9999990864764445\n",
      "[0.4143409199175023, 0.14335430673685604, 0.07403439587971024, 0.36827037746593105] 7.999999086474283\n",
      "[0.43017676729177134, 0.1721051393187761, 0.05819854850544124, 0.3395195448840109] 7.9999990864721955\n",
      "[0.4411955944283527, 0.203023944483409, 0.04717972136885978, 0.3086007397193781] 7.999999086470233\n",
      "[0.4471120194923326, 0.23530994141789138, 0.041263296304879904, 0.27631474278489576] 7.999999086468444\n",
      "[0.4477728101823089, 0.2681269397606738, 0.040602505614903577, 0.24349774444211314] 7.999999086466869\n",
      "[0.4431608523665087, 0.30062499649265456, 0.045214463430703886, 0.2109996877101325] 7.999999086465566\n",
      "[0.43339559332981104, 0.33196242901491857, 0.054979722467401446, 0.1796622551878686] 7.999999086464558\n",
      "[0.4187299481518122, 0.36132761428593485, 0.06964536764540036, 0.15029706991685232] 7.999999086463866\n",
      "[0.3995437493391132, 0.38796000943200626, 0.08883156645809931, 0.12366467477078089] 7.999999086463518\n",
      "[0.3763339093629168, 0.4111698494082027, 0.11204140643429589, 0.1004548347945844] 7.999999086463522\n",
      "[0.34970155088703825, 0.43035601155070885, 0.1386737649101743, 0.08126867265207832] 7.999999086463866\n",
      "[0.32033643800666894, 0.4450215843380606, 0.1680388777905436, 0.06660309986472648] 7.999999086464554\n",
      "[0.28899911172062664, 0.4547867371385366, 0.19937620407658596, 0.056837947064250535] 7.99999908646557\n",
      "[0.2565011923189797, 0.4593985576240033, 0.23187412347823294, 0.05222612657878391] 7.999999086466872\n",
      "[0.22368435884385948, 0.45873760206636466, 0.2646909569533532, 0.052887082136422486] 7.999999086468437\n",
      "[0.19139855004438205, 0.4528209888673797, 0.2969767657528306, 0.058803695335407385] 7.99999908647023\n",
      "[0.16047995140949922, 0.44180195520104837, 0.3278953643877135, 0.06982272900173885] 7.999999086472198\n",
      "[0.1317293384030619, 0.42596588825129633, 0.3566459773941507, 0.08565879595149081] 7.999999086474286\n",
      "[0.10589133679993501, 0.40572293383381924, 0.38248397899727776, 0.10590175036896783] 7.9999990864764445\n",
      "[0.08363513726956186, 0.3815973738348954, 0.404740178527651, 0.1300273103678918] 7.999999086478619\n",
      "[0.06553716368913529, 0.35421404758592295, 0.4228381521080775, 0.15741063661686427] 7.999999086480752\n",
      "[0.052066144067960535, 0.3242821688529511, 0.43630917172925215, 0.1873425153498359] 7.999999086482781\n",
      "[0.043570970738225065, 0.2925769575726719, 0.44480434505898764, 0.21904772663011535] 7.999999086484666\n",
      "[0.0402716642268598, 0.25991956206326317, 0.44810365157035303, 0.2517051221395242] 7.999999086486351\n",
      "[0.04225367483946317, 0.22715579171427835, 0.44612164095774964, 0.2844688924885087] 7.999999086487792\n",
      "[0.049465669542270996, 0.19513421096773947, 0.4389096462549417, 0.3164904732350476] 7.999999086488961\n",
      "[0.061720861460767044, 0.16468416194481977, 0.4266544543364458, 0.34694052225796734] 7.999999086489808\n",
      "[0.0787018475616183, 0.1365942849205382, 0.4096734682355944, 0.3750303992822489] 7.9999990864903285\n",
      "[0.09996882922451424, 0.11159209295489031, 0.3884064865726986, 0.4000325912478968] 7.999999086490508\n",
      "[0.08931797284465004, 0.12411358743761049, 0.37588500130233227, 0.410683438415407] 7.999997260636395\n",
      "[0.11415799772582212, 0.10298454858705887, 0.3510449764211603, 0.4318124772659586] 7.999997260636221\n",
      "[0.14206564676560893, 0.08611374505023169, 0.32313732738137346, 0.44868328080278586] 7.999997260635706\n",
      "[0.1723181265130933, 0.07393812177690746, 0.292884847633889, 0.4608589040761101] 7.999997260634859\n",
      "[0.2041319136337118, 0.06677302101430463, 0.26107106051327045, 0.4680240048387127] 7.999997260633702\n",
      "[0.23668304775205365, 0.0648040151085206, 0.22851992639492866, 0.46999301074449695] 7.999997260632268\n",
      "[0.26912847159277753, 0.0680821002782438, 0.19607450255420464, 0.4667149255747737] 7.999997260630595\n",
      "[0.3006278657212057, 0.07652237583947734, 0.16457510842577644, 0.45827465001354006] 7.999997260628721\n",
      "[0.33036541237528205, 0.08990624308865802, 0.13483756177170012, 0.44489078276435945] 7.999997260626706\n",
      "[0.3575709247170804, 0.10788706689425392, 0.10763204942990182, 0.4269099589587636] 7.999997260624588\n",
      "[0.3815397942673461, 0.12999915336459228, 0.08366317987963612, 0.40479787248842525] 7.999997260622428\n",
      "[0.40165123989499507, 0.1556698110750357, 0.06355173425198722, 0.37912721477798184] 7.999997260620281\n",
      "[0.4173843857223271, 0.18423418347505965, 0.04781858842465507, 0.3505628423779579] 7.999997260618206\n",
      "[0.4283317515366559, 0.2149524683236779, 0.0368712226103263, 0.31984455752933966] 7.999997260616254\n",
      "[0.4342098063137767, 0.24702907817888356, 0.030993167833205448, 0.287767947674134] 7.999997260614474\n",
      "[0.43486631152256233, 0.27963324569449455, 0.030336662624419898, 0.255163780158523] 7.999997260612922\n",
      "[0.43028426402295133, 0.31192054005803765, 0.03491871012403085, 0.22287648579497987] 7.999997260611623\n",
      "[0.42058233643834503, 0.3430547373052323, 0.044620637708637154, 0.1917422885477853] 7.9999972606106144\n",
      "[0.4060118035969967, 0.37222947808141704, 0.05919117054998556, 0.1625675477716005] 7.999997260609934\n",
      "[0.3869500346459483, 0.3986891519252751, 0.07825293950103379, 0.13610787392774243] 7.999997260609581\n",
      "[0.36389071938834616, 0.42174846718287745, 0.10131225475863612, 0.11304855867014016] 7.999997260609587\n",
      "[0.33743108197686067, 0.440810199701553, 0.12777189217012153, 0.09398682615146456] 7.9999972606099305\n",
      "[0.3082564131218418, 0.4553806606217355, 0.15694656102514049, 0.07941636523128211] 7.999997260610616\n",
      "[0.2771223214218862, 0.4650824826591028, 0.1880806527250961, 0.06971454319391471] 7.999997260611617\n",
      "[0.24483516349803686, 0.4696643937190201, 0.22036781064894545, 0.0651326321339975] 7.99999726061292\n"
     ]
    },
    {
     "name": "stdout",
     "output_type": "stream",
     "text": [
      "[0.21223115978085816, 0.4690077247118023, 0.2529718143661242, 0.06578930114121528] 7.999997260614478\n",
      "[0.18015473684052974, 0.463129483019804, 0.2850482373064525, 0.07166754283321347] 7.999997260616253\n",
      "[0.14943665718223687, 0.45218191201515007, 0.31576631696474555, 0.08261511383786754] 7.999997260618212\n",
      "[0.12087250293366444, 0.4364485480363661, 0.34433047121331795, 0.09834847781665138] 7.999997260620284\n",
      "[0.09520207068579098, 0.4163368769461473, 0.37000090346119147, 0.11846014890687018] 7.999997260622427\n",
      "[0.0730902111497789, 0.39236778046155585, 0.39211276299720355, 0.14242924539146185] 7.999997260624591\n",
      "[0.05510960987278542, 0.36516204559115495, 0.41009336427419707, 0.1696349802618627] 7.999997260626706\n",
      "[0.04172595498310963, 0.33542428657757356, 0.4234770191638727, 0.199372739275444] 7.999997260628723\n",
      "[0.03328587611228376, 0.3039246957587377, 0.4319170980346987, 0.23087233009427993] 7.999997260630604\n",
      "[0.03000796686969282, 0.2714790959908815, 0.4351950072772897, 0.2633179298621362] 7.999997260632275\n",
      "[0.031977123382913364, 0.2389278112651032, 0.4332258507640691, 0.2958692145879144] 7.999997260633704\n",
      "[0.03914234553260336, 0.20711390275739744, 0.426060628614379, 0.3276831230956201] 7.999997260634858\n",
      "[0.05131805782880382, 0.17686133398703685, 0.41388491631817864, 0.35793569186598073] 7.999997260635709\n",
      "[0.0681889157186504, 0.14895363059423056, 0.3970140584283318, 0.38584339525878697] 7.999997260636223\n",
      "[0.08931797284465001, 0.12411358743761053, 0.3758850013023324, 0.410683438415407] 7.999997260636395\n",
      "[0.07970919840815449, 0.13745150627389802, 0.3625471008309618, 0.4202921944869855] 7.999995452563507\n",
      "[0.10422597750633929, 0.11659742176577112, 0.33803032173277714, 0.4411462789951125] 7.999995452563338\n",
      "[0.1317704614563826, 0.09994615971994375, 0.3104858377827336, 0.4577975410409398] 7.9999954525628265\n",
      "[0.16162926259243, 0.08792897907689748, 0.28062703664668626, 0.46981472168398597] 7.99999545256199\n",
      "[0.19302905364916406, 0.08085711850295274, 0.24922724558995213, 0.47688658225793074] 7.999995452560848\n",
      "[0.22515659653176676, 0.07891373547229732, 0.21709970270734938, 0.4788299652885862] 7.999995452559434\n",
      "[0.25717980475540025, 0.08214916258461293, 0.185076494483716, 0.4755945381762706] 7.999995452557784\n",
      "[0.28826929404808943, 0.09047960397718235, 0.1539870051910267, 0.46726409678370107] 7.999995452555934\n",
      "[0.31761986296771083, 0.10368930559371754, 0.12463643627140518, 0.4540543951671659] 7.999995452553941\n",
      "[0.34447134719639094, 0.12143614310108712, 0.0977849520427253, 0.4363075576597964] 7.999995452551852\n",
      "[0.36812830739704205, 0.14326048272983494, 0.07412799184207415, 0.41448321803104854] 7.999995452549721\n",
      "[0.38797804072689684, 0.16859708554737451, 0.05427825851221939, 0.3891466152135091] 7.999995452547607\n",
      "[0.4035064495192969, 0.19678974684943634, 0.038749849719819256, 0.3609539539114472] 7.999995452545555\n",
      "[0.414311356143217, 0.22710829151722073, 0.027944943095899052, 0.33063540924366297] 7.999995452543635\n",
      "[0.420112919192654, 0.2587674851694304, 0.02214338004646215, 0.2989762155914531] 7.999995452541873\n",
      "[0.4207608812320481, 0.29094737132028237, 0.02149541800706809, 0.2667963294406011] 7.999995452540334\n",
      "[0.41623846038493767, 0.32281450782178583, 0.026017838854178424, 0.23492919293909767] 7.999995452539055\n",
      "[0.4066627849757448, 0.35354355257758835, 0.03559351426337132, 0.20420014818329524] 7.9999954525380605\n",
      "[0.3922818599676966, 0.3823386394697387, 0.049974439271419424, 0.17540506129114478] 7.999995452537387\n",
      "[0.37346814376454945, 0.40845399087309364, 0.0687881554745667, 0.14928970988778995] 7.999995452537046\n",
      "[0.3507089017335745, 0.43121323290406877, 0.09154739750554178, 0.12653046785681493] 7.999995452537046\n",
      "[0.32459358628849394, 0.4500269131489414, 0.11766271295062214, 0.10771678761194209] 7.999995452537387\n",
      "[0.2957985703815921, 0.46440776717174104, 0.14645772885752417, 0.09333593358914248] 7.999995452538062\n",
      "[0.26506962979953164, 0.4739833384071921, 0.17718666943958472, 0.08376036235369153] 7.999995452539055\n",
      "[0.2332026279622182, 0.47850562459011226, 0.2090536712768981, 0.07923807617077122] 7.999995452540336\n",
      "[0.20102290347827273, 0.47785750088381185, 0.24123339576084354, 0.0798861998770718] 7.999995452541875\n",
      "[0.16936389430859794, 0.4720557533518399, 0.27289240493051836, 0.08568794740904362] 7.999995452543628\n",
      "[0.1390455521609762, 0.4612506442077572, 0.30321074707814016, 0.09649305655312641] 7.9999954525455585\n",
      "[0.1108531061715387, 0.44572202010273254, 0.3314031930675776, 0.11202168065815107] 7.999995452547604\n",
      "[0.0855167258826017, 0.42587206424427543, 0.35673957335651474, 0.13187163651660833] 7.999995452549728\n",
      "[0.06369261023506051, 0.40221488006241785, 0.378563689004056, 0.15552882069846588] 7.999995452551856\n",
      "[0.04594599236050595, 0.37536317620092274, 0.39631030687861046, 0.18238052455996084] 7.999995452553945\n",
      "[0.03273650034001969, 0.34601239768525227, 0.40951979889909673, 0.21173130307563137] 7.999995452555941\n",
      "[0.02440625307830556, 0.3149227142617076, 0.4178500461608108, 0.24282098649917586] 7.999995452557778\n",
      "[0.0211709996037644, 0.28289933240029974, 0.42108529963535196, 0.2748443683605839] 7.999995452559443\n",
      "[0.02311453128198638, 0.2507716408701306, 0.41914176795712993, 0.30697205989075294] 7.999995452560849\n",
      "[0.03018651166339579, 0.21937173000593174, 0.4120697875757205, 0.33837197075495173] 7.9999954525619845\n",
      "[0.042203780170854424, 0.189512841005472, 0.4000525190682619, 0.3682308597554116] 7.999995452562823\n",
      "[0.0588550958623998, 0.16196830340971058, 0.38340120337671657, 0.39577539735117295] 7.999995452563336\n",
      "[0.07970919840815446, 0.13745150627389807, 0.36254710083096187, 0.4202921944869855] 7.999995452563508\n",
      "[0.07120482250443855, 0.15151934794191885, 0.34847928656131755, 0.42879654299232495] 7.999993673997887\n",
      "[0.09523935509932197, 0.13107546451662255, 0.32444475396643413, 0.4492404264176212] 7.999993673997718\n",
      "[0.12224203741151751, 0.11475173378577738, 0.2974420716542385, 0.46556415714846633] 7.999993673997219\n",
      "[0.15151351415299555, 0.10297093180085098, 0.26817059491276046, 0.4773449591333927] 7.999993673996398\n",
      "[0.182295669451751, 0.0960381751450825, 0.23738843961400496, 0.4842777157891611] 7.999993673995279\n",
      "[0.21379126165466805, 0.0941330185742469, 0.20589284741108793, 0.4861828723599968] 7.999993673993895\n",
      "[0.24518457146756434, 0.09730480464279607, 0.17449953759819153, 0.4830110862914475] 7.999993673992272\n",
      "[0.27566252865643265, 0.10547138575761715, 0.14402158040932322, 0.4748445051766264] 7.999993673990461\n",
      "[0.3044357701394155, 0.11842125175754392, 0.11524833892634045, 0.4618946391766997] 7.999993673988508\n",
      "[0.33075908407599164, 0.13581900791542983, 0.08892502498976432, 0.4444968830188138] 7.999993673986459\n",
      "[0.3539507104622042, 0.1572140614854064, 0.0657333986035517, 0.42310182944883723] 7.9999936739843704\n",
      "[0.37340999835665123, 0.1820522918183157, 0.04627411070910474, 0.3982635991159281] 7.999993673982294\n",
      "[0.3886329624243597, 0.20969040179545712, 0.03105114664139617, 0.3706254891387866] 7.999993673980289\n",
      "[0.3992253358922313, 0.2394125788860539, 0.020458773173524583, 0.3409033120481897] 7.999993673978396\n",
      "[0.4049127818513658, 0.2704490343158008, 0.014771327214390135, 0.30986685661844293] 7.9999936739766655\n",
      "[0.4055479984388994, 0.3019959401917669, 0.01413611062685656, 0.27831995074247684] 7.999993673975162\n",
      "[0.4011145338788788, 0.3332362482225918, 0.018569575186877036, 0.24707964271165184] 7.999993673973916\n",
      "[0.39172721257461707, 0.36336085084005587, 0.02795689649113883, 0.2169550400941878] 7.999993673972942\n",
      "[0.3776291612169615, 0.3915895366600921, 0.04205494784879445, 0.18872635427415163] 7.999993673972279\n",
      "[0.35918551193070974, 0.417191197547808, 0.06049859713504624, 0.16312469338643582] 7.999993673971947\n",
      "[0.33687394554437267, 0.43950276393414495, 0.08281016352138328, 0.14081312700009874] 7.999993673971943\n",
      "[0.3112723199076298, 0.4579463779694237, 0.10841178915812608, 0.12236951296481999] 7.999993673972279\n",
      "[0.28304370367655796, 0.47204435973811487, 0.13664040538919792, 0.10827153119612877] 7.999993673972939\n",
      "[0.2529192031837323, 0.48143157891773847, 0.1667649058820237, 0.09888431201650523] 7.999993673973915\n",
      "[0.22167902716824472, 0.48586491146242144, 0.1980050818975112, 0.09445097947182217] 7.999993673975169\n",
      "[0.19013227977918754, 0.4852295363879793, 0.22955182928656853, 0.09508635454626461] 7.99999367397668\n"
     ]
    },
    {
     "name": "stdout",
     "output_type": "stream",
     "text": [
      "[0.1590960052031931, 0.4795419095750922, 0.2605881038625629, 0.1007739813591515] 7.999993673978398\n",
      "[0.12937402664917524, 0.4689493375706417, 0.2903100824165809, 0.11136655336360207] 7.999993673980289\n",
      "[0.1017361277494461, 0.4537261624255208, 0.31794798131630997, 0.12658972850872302] 7.9999936739822965\n",
      "[0.07689811556798848, 0.43426665637962225, 0.3427859934977676, 0.1460492345546216] 7.999993673984377\n",
      "[0.05550328157349495, 0.4110748104179267, 0.3641808274922612, 0.16924108051631703] 7.999993673986463\n",
      "[0.03810574072823345, 0.38475128116872614, 0.3815783683375227, 0.1955646097655177] 7.99999367398851\n",
      "[0.025156080201588868, 0.355977834212461, 0.39452802886416727, 0.2243380567217827] 7.999993673990468\n",
      "[0.016989689399057605, 0.3254996867113029, 0.40269441966669856, 0.2548162042229409] 7.999993673992274\n",
      "[0.013818073552817568, 0.29410620667609744, 0.4058660355129386, 0.2862096842581464] 7.999993673993902\n",
      "[0.015723375847313256, 0.26261046874952043, 0.4039607332184429, 0.3177054221847234] 7.999993673995286\n",
      "[0.02265624995392642, 0.23182819599992022, 0.3970278591118297, 0.3484876949343235] 7.999993673996395\n",
      "[0.034437138074967, 0.2025566331223279, 0.3852469709907891, 0.3777592578119158] 7.999993673997219\n",
      "[0.050760921396315724, 0.1755538982196288, 0.3689231876694404, 0.4047619927146149] 7.999993673997718\n",
      "[0.07120482250443852, 0.15151934794191887, 0.34847928656131755, 0.42879654299232495] 7.999993673997887\n",
      "[0.06385999927463532, 0.16622587709018083, 0.33377279366720264, 0.43614132996798105] 7.999991936474215\n",
      "[0.0872564121995304, 0.14632478117669195, 0.3103763807423076, 0.45604242588147004] 7.99999193647405\n",
      "[0.11354217011730158, 0.13043444741854943, 0.28409062282453634, 0.4719327596396125] 7.999991936473564\n",
      "[0.14203648570515187, 0.11896642711328093, 0.25559630723668597, 0.48340077994488095] 7.999991936472764\n",
      "[0.17200137115673106, 0.11221773596291902, 0.2256314217851068, 0.4901494710952428] 7.999991936471676\n",
      "[0.2026607516786732, 0.11036316152333386, 0.1949720412631646, 0.492004045534828] 7.999991936470327\n",
      "[0.23322056542009145, 0.11345073629834754, 0.16441222752174636, 0.48891647075981437] 7.999991936468751\n",
      "[0.2628893292574144, 0.12140049372311554, 0.13474346368442341, 0.4809667133350462] 7.999991936466986\n",
      "[0.2908986377915398, 0.13400653925615189, 0.10673415515029795, 0.46836066780200997] 7.999991936465084\n",
      "[0.3165230646440466, 0.15094238293980178, 0.08110972829779121, 0.4514248241183601] 7.999991936463089\n",
      "[0.33909895061934675, 0.1717693953186481, 0.058533842322491036, 0.4305978117395138] 7.999991936461055\n",
      "[0.35804159212924713, 0.1959481677120048, 0.03959120081259063, 0.4064190393461571] 7.999991936459041\n",
      "[0.372860384708753, 0.22285248261540844, 0.024772408233084797, 0.37951472444275347] 7.999991936457081\n",
      "[0.3831715294140086, 0.2517855324050473, 0.014461263527829156, 0.35058167465311457] 7.999991936455247\n",
      "[0.3887079730133429, 0.2819979662892012, 0.008924819928494802, 0.32036924076896056] 7.99999193645357\n",
      "[0.3893263245256932, 0.31270729810013176, 0.008306468416144531, 0.28965990895803] 7.999991936452091\n",
      "[0.38501056897169456, 0.34311817227480557, 0.01262222397014307, 0.25924903478335626] 7.999991936450876\n",
      "[0.3758724821532339, 0.37244296314619574, 0.021760310788603993, 0.22992424391196628] 7.999991936449932\n",
      "[0.3621487357188926, 0.3999221740343365, 0.03548405722294515, 0.20244503302382538] 7.9999919364492875\n",
      "[0.34419476749256833, 0.4248441078113907, 0.05343802544926945, 0.1775230992467712] 7.999991936448959\n",
      "[0.32247557582053743, 0.44656329948342177, 0.07515721712130052, 0.15580390757474016] 7.99999193644896\n",
      "[0.2975536763585387, 0.4645172333946904, 0.10007911658329911, 0.1378499736634715] 7.999991936449287\n",
      "[0.270074533211767, 0.4782409120876624, 0.12755825973007084, 0.12412629497049948] 7.9999919364499315\n",
      "[0.24074984175359412, 0.48737889949290636, 0.15688295118824375, 0.11498830756525562] 7.999991936450877\n",
      "[0.21033909608923496, 0.49169452653659007, 0.1872936968526029, 0.11067268052157181] 7.999991936452098\n",
      "[0.17962991855736718, 0.4910760207451772, 0.21800287438447077, 0.11129118631298479] 7.99999193645357\n",
      "[0.14941766072527723, 0.4855394010937787, 0.2482151322165606, 0.11682780596438322] 7.999991936455242\n",
      "[0.12048480420104785, 0.4752280631231136, 0.2771479887407901, 0.12713914393504827] 7.9999919364570795\n",
      "[0.09358069477092633, 0.46040906507032564, 0.3040520981709116, 0.14195814198783635] 7.99999193645904\n",
      "[0.06940213473707459, 0.4414662112009204, 0.3282306582047634, 0.16090099585724166] 7.999991936461058\n",
      "[0.048575336103956354, 0.4188901114798924, 0.3490574568378816, 0.1834770955782697] 7.9999919364630925\n",
      "[0.03163970201635535, 0.3932654750313366, 0.3659930909254827, 0.20910173202682544] 7.999991936465086\n",
      "[0.019033856501261395, 0.3652559664792686, 0.3785989364405765, 0.23711124057889316] 7.999991936466993\n",
      "[0.011084284335969481, 0.33558701738246954, 0.3865485086058684, 0.2667801896756923] 7.999991936468756\n",
      "[0.007996875263842598, 0.30502703793816444, 0.3896359176779953, 0.29734016911999744] 7.999991936470325\n",
      "[0.009851591558107477, 0.2743675155615427, 0.3877812013837305, 0.3279996914966191] 7.99999193647168\n",
      "[0.0166003970409803, 0.2444025157774525, 0.38103239590085763, 0.35796469128070935] 7.9999919364727665\n",
      "[0.02806850119543903, 0.21590811634041204, 0.36956429174639904, 0.38645909071775] 7.999991936473562\n",
      "[0.043958886147801045, 0.18962230722842133, 0.3536739067940369, 0.4127448998297406] 7.999991936474049\n",
      "[0.06385999927463529, 0.16622587709018088, 0.3337727936672027, 0.43614132996798105] 7.999991936474213\n",
      "[0.05772236271583078, 0.1814757162337978, 0.31852299939838113, 0.4422789216519901] 7.999990251260996\n",
      "[0.08032892125497702, 0.1622464740757943, 0.29591644085923485, 0.4615081638099937] 7.999990251260835\n",
      "[0.10572728155155173, 0.1468925922023988, 0.27051808056266013, 0.47686204568338897] 7.999990251260362\n",
      "[0.13325963941501828, 0.1358117280891094, 0.24298572269919358, 0.4879429097966784] 7.999990251259595\n",
      "[0.16221292123879488, 0.1292908702959501, 0.21403244087541687, 0.4944637675898377] 7.99999025125854\n",
      "[0.19183725223210485, 0.12749890561451493, 0.18440810988210699, 0.49625573227127295] 7.999990251257239\n",
      "[0.22136537778316623, 0.1304822449887772, 0.15487998433104555, 0.4932723928970108] 7.999990251255715\n",
      "[0.25003253495061717, 0.13816362149601957, 0.12621282716359464, 0.48559101638976826] 7.999990251254012\n",
      "[0.2770962594219853, 0.15034409151954597, 0.09914910269222652, 0.4734105463662419] 7.999990251252176\n",
      "[0.3018556149493824, 0.16670818728385337, 0.07438974716482943, 0.4570464506019346] 7.999990251250248\n",
      "[0.32366934723013974, 0.1868320873043101, 0.052576014884072, 0.4369225505814778] 7.999990251248281\n",
      "[0.3419724920564121, 0.21019459314098476, 0.034272870057799616, 0.413560044744803] 7.999990251246329\n",
      "[0.3562910075913984, 0.23619062816446684, 0.019954354522813307, 0.387564009721321] 7.999990251244439\n",
      "[0.3662540518039127, 0.264146908722737, 0.009991310310299033, 0.35960772916305095] 7.999990251242667\n",
      "[0.37160358708219704, 0.29333938183409436, 0.004641775032014702, 0.33041525605169364] 7.99999025124106\n",
      "[0.37220106327252545, 0.3230119777790551, 0.004044298841686309, 0.30074266010673284] 7.99999025123962\n",
      "[0.3680310060554082, 0.3523961919089421, 0.008214356058803565, 0.2713584459768458] 7.999990251238448\n",
      "[0.3592014177223385, 0.3807309885126089, 0.017043944391873365, 0.24302364937317908] 7.999990251237538\n",
      "[0.3459409799731733, 0.40728251124160375, 0.030304382141038484, 0.21647212664418414] 7.999990251236902\n",
      "[0.3285931311802288, 0.43136308960411907, 0.047652230933983006, 0.19239154828166888] 7.9999902512365955\n",
      "[0.30760717151483674, 0.4523490492695113, 0.06863819059937518, 0.17140558861627675] 7.999990251236597\n",
      "[0.2835266263089131, 0.46969686490586393, 0.09271873580529871, 0.154057772979924] 7.999990251236911\n",
      "[0.25697516903436346, 0.4829572372005838, 0.11927019307984847, 0.1407974006852041] 7.9999902512375325\n",
      "[0.22864046848775982, 0.49178672947659063, 0.14760489362645207, 0.13196790840919737] 7.999990251238448\n",
      "[0.19925637852972589, 0.49595666252185455, 0.17698898358448595, 0.12779797536393328] 7.999990251239627\n",
      "[0.16958393165542296, 0.49535903726086866, 0.20666143045878896, 0.12839560062491945] 7.999990251241049\n",
      "[0.14039162865267604, 0.4900093318739738, 0.23585373346153587, 0.13374530601181417] 7.999990251242664\n",
      "[0.11243553483524549, 0.48004610092061994, 0.26380982727896646, 0.143708536965168] 7.9999902512444425\n",
      "[0.08643969834834231, 0.46572738684905457, 0.2898056637658696, 0.15802725103673326] 7.999990251246331\n",
      "[0.06307739770199303, 0.447424036832457, 0.31316796441221895, 0.17633060105333104] 7.999990251248284\n"
     ]
    },
    {
     "name": "stdout",
     "output_type": "stream",
     "text": [
      "[0.04295370421128626, 0.4256100980219497, 0.3332916579029257, 0.19814453986383831] 7.999990251250251\n",
      "[0.026589810967141442, 0.4008505399743899, 0.34965555114707053, 0.2229040979113981] 7.999990251252177\n",
      "[0.014409534209024489, 0.3737866222376124, 0.3618358279051875, 0.24996801564817567] 7.99999025125401\n",
      "[0.006728336706965741, 0.34511928606497777, 0.3695170254072463, 0.27863535182081023] 7.999990251255713\n",
      "[0.003745157441521128, 0.3155910004050987, 0.37250020467269085, 0.3081636374806894] 7.999990251257246\n",
      "[0.005537259188673691, 0.2859665323460715, 0.3707081029255383, 0.3377881055397165] 7.99999025125855\n",
      "[0.012058227454519937, 0.25701314004960785, 0.36418713465969205, 0.36674149783618015] 7.999990251259595\n",
      "[0.023139172586281412, 0.22948070116766917, 0.3531061895279305, 0.3942739367181188] 7.999990251260367\n",
      "[0.038493103925598134, 0.20408229140517314, 0.3377522581886138, 0.4196723464806148] 7.9999902512608365\n",
      "[0.05772236271583076, 0.18147571623379782, 0.31852299939838125, 0.4422789216519901] 7.999990251260992\n",
      "[0.05283171775631371, 0.1971699643140785, 0.30282880452251404, 0.4471695134070935] 7.999988629287483\n",
      "[0.07450180970273435, 0.17873728492582244, 0.2811587125760935, 0.4656021927953496] 7.999988629287335\n",
      "[0.09884805426543633, 0.16401943075289244, 0.2568124680133913, 0.4803200469682795] 7.999988629286878\n",
      "[0.12523989649873937, 0.1533975864874342, 0.23042062578008832, 0.49094189123373777] 7.9999886292861415\n",
      "[0.1529938015517977, 0.14714685231652533, 0.20266672072702996, 0.4971926254046466] 7.999988629285134\n",
      "[0.18139095786219242, 0.1454291189718326, 0.17426956441663527, 0.49891035874933937] 7.999988629283884\n",
      "[0.20969589399782412, 0.14828887484469977, 0.14596462828100357, 0.4960506028764722] 7.999988629282424\n",
      "[0.23717552698067854, 0.15565205376018035, 0.1184849952981491, 0.48868742396099146] 7.999988629280791\n",
      "[0.2631181487508867, 0.16732795325206312, 0.0925423735279409, 0.47701152446910877] 7.999988629279025\n",
      "[0.28685185903163235, 0.18301417365657624, 0.06880866324719527, 0.46132530406459576] 7.999988629277182\n",
      "[0.3077619671933884, 0.20230445010483497, 0.04789855508543923, 0.44203502761633706] 7.999988629275298\n",
      "[0.32530691241833976, 0.22469917456954552, 0.03035360986048793, 0.4196403031516266] 7.99998862927343\n",
      "[0.3390322898410955, 0.249618335450479, 0.016628232437732107, 0.3947211422706929] 7.999988629271612\n",
      "[0.34858261939601554, 0.27641653957025236, 0.007077902882812077, 0.36792293815091964] 7.999988629269903\n",
      "[0.3537105525641845, 0.304399727518612, 0.0019499697146430728, 0.33993975020255995] 7.999988629268293\n",
      "[0.3542832785701263, 0.33284314942658777, 0.0013772437087013279, 0.3114963282945843] 7.999988629266964\n",
      "[0.350285964111126, 0.3610101356074049, 0.005374558167701618, 0.2833293421137671] 7.999988629265882\n",
      "[0.34182213753197915, 0.3881711759144171, 0.013838384746848498, 0.2561683018067548] 7.999988629264991\n",
      "[0.32911100749524214, 0.41362281367071096, 0.02654951478358551, 0.23071666405046126] 7.999988629264396\n",
      "[0.3124817855920171, 0.43670586482752793, 0.043178736686810555, 0.207633612893644] 7.9999886292640925\n",
      "[0.2923651599346694, 0.4568224904848758, 0.0632953623441583, 0.1875169872362963] 7.999988629264095\n",
      "[0.269282140560947, 0.473451680605006, 0.08637838171788068, 0.17088779711616603] 7.999988629264396\n",
      "[0.24383056554767735, 0.4861627478987189, 0.11182995673115033, 0.15817672982245307] 7.999988629264994\n",
      "[0.21666961731860723, 0.49462648239992374, 0.13899090496022054, 0.1497129953212483] 7.9999886292658715\n",
      "[0.18850275016587972, 0.4986236778308344, 0.16715777211294802, 0.14571579989033762] 7.999988629267003\n",
      "[0.16005947115337638, 0.49805080892942044, 0.19560105112545143, 0.14628866879175167] 7.9999886292683655\n",
      "[0.1320764462669538, 0.4929227126993141, 0.2235840760118739, 0.1514167650218579] 7.999988629269913\n",
      "[0.10527842115236413, 0.48337220413921045, 0.25038210112646364, 0.1609672735819616] 7.999988629271618\n",
      "[0.0803594505837204, 0.4696466364041648, 0.27530107169510737, 0.17469284131700735] 7.999988629273429\n",
      "[0.057964922809417604, 0.45210149448880577, 0.29769559946941015, 0.1922379832323663] 7.999988629275302\n",
      "[0.03867484433550626, 0.43119118835270265, 0.3169856779433216, 0.21314828936846955] 7.999988629277185\n",
      "[0.02298881806184852, 0.4074572839411015, 0.3326717042169793, 0.23688219378007047] 7.999988629279034\n",
      "[0.011313103829441843, 0.38151447691141716, 0.344347418449386, 0.2628250008097549] 7.999988629280795\n",
      "[0.003950096503935144, 0.3540346723385888, 0.3517104257748927, 0.29030480538258324] 7.99998862928244\n",
      "[0.0010904941074492906, 0.32572958272657576, 0.35457002817137856, 0.3186098949945963] 7.99998862928379\n",
      "[0.0028083588399732233, 0.2973322950283499, 0.35285216343885456, 0.34700718269282216] 7.999988629285127\n",
      "[0.00905919890728742, 0.2695782840788863, 0.3466013233715403, 0.37476119364228566] 7.999988629286135\n",
      "[0.01968112083506362, 0.24318636418326522, 0.3359794014437642, 0.40115311353790684] 7.999988629286886\n",
      "[0.03439902242481123, 0.2188400722037456, 0.3212614998540166, 0.42549940551742643] 7.999988629287336\n",
      "[0.052831717756313686, 0.19716996431407852, 0.30282880452251415, 0.4471695134070935] 7.999988629287486\n",
      "[0.04921978210534151, 0.2132068381098437, 0.2867919919157296, 0.450781387869085] 7.99998708107281\n",
      "[0.0698128685972654, 0.19569026449036925, 0.2661989054238058, 0.4682979614885595] 7.999987081072661\n",
      "[0.09294910268768264, 0.18170388894992145, 0.24306267133338846, 0.4822843370290072] 7.999987081072231\n",
      "[0.1180292680665559, 0.17160995126829315, 0.21798250595451518, 0.49237827471063544] 7.999987081071529\n",
      "[0.14440380162457697, 0.165669879129337, 0.19160797239649408, 0.49831834684959164] 7.999987081070574\n",
      "[0.17138961679649795, 0.1640375172812757, 0.16462215722457307, 0.499950708697653] 7.999987081069385\n",
      "[0.19828779514436248, 0.16675514303853362, 0.13772397887670862, 0.49723308294039503] 7.9999870810679985\n",
      "[0.22440168797792365, 0.17375237132150118, 0.11161008604314737, 0.4902358546574276] 7.999987081066448\n",
      "[0.24905495918978887, 0.18484797759312416, 0.08695681483128215, 0.47914024838580455] 7.99998708106477\n",
      "[0.27160910200533817, 0.19975459147922142, 0.06440267201573277, 0.46423363449970717] 7.999987081063014\n",
      "[0.29147997597279507, 0.21808613951022687, 0.04453179804827594, 0.4459020864687018] 7.999987081061227\n",
      "[0.30815293589409193, 0.23936784422125662, 0.027858838126979105, 0.424620381757672] 7.9999870810594516\n",
      "[0.3211961608651699, 0.26304852063905987, 0.014815613155901089, 0.4009397053398688] 7.99998708105773\n",
      "[0.33027183821056894, 0.2885148516833023, 0.005739935810502001, 0.3754733742956263] 7.999987081056112\n",
      "[0.33514491265427715, 0.31510727275678646, 0.0008668613667937844, 0.34888095322214224] 7.999987081054592\n",
      "[0.33568917412791066, 0.34213705412206463, 0.00032259989316028116, 0.321851171856864] 7.9999870810536065\n",
      "[0.3318905265451898, 0.3689041386398672, 0.004121247475881202, 0.29508408733906155] 7.9999870810522715\n",
      "[0.32384735288316924, 0.3947152728812852, 0.012164421137901837, 0.26927295309764343] 7.999987081051442\n",
      "[0.3117679671148106, 0.418901962027431, 0.02424380690626049, 0.24508626395149788] 7.99998708105087\n",
      "[0.29596521898650496, 0.4408377835341021, 0.040046555034566056, 0.22315044244482643] 7.999987081050577\n",
      "[0.2768483913739741, 0.4599546111466331, 0.05916338264709693, 0.2040336148322956] 7.999987081050579\n",
      "[0.254912600070775, 0.4757573290714665, 0.08109917395029609, 0.1882308969074623] 7.999987081050867\n",
      "[0.23072597054931956, 0.48783665521513475, 0.10528580347175148, 0.17615157076379395] 7.999987081051434\n",
      "[0.20491492380956194, 0.4958797413754951, 0.13109685021150919, 0.16810848460343367] 7.999987081052266\n",
      "[0.17814795240414275, 0.4996782758458328, 0.15786382161692836, 0.16430995013309596] 7.999987081053343\n",
      "[0.15111830683241945, 0.49913387857864444, 0.18489346718865174, 0.1648543474002844] 7.999987081054637\n",
      "[0.12452604071668008, 0.4942606491771913, 0.21148573330439102, 0.16972757680173728] 7.9999870810561085\n",
      "[0.09905987978104794, 0.48518480172318185, 0.23695189424002314, 0.1788034242557469] 7.999987081057727\n",
      "[0.07537938421699719, 0.47214139589835125, 0.26063238980407394, 0.1918468300805774] 7.999987081059447\n",
      "[0.05409786642084485, 0.45546824906217714, 0.2819139076002263, 0.20851997691675156] 7.999987081061227\n",
      "[0.035766506524844484, 0.43559718695971544, 0.3002452674962267, 0.22839103901921343] 7.999987081063022\n",
      "[0.020860077121282124, 0.413042859661631, 0.31515169689978906, 0.25094536631729764] 7.999987081064771\n",
      "[0.009764646901723144, 0.38838941239770175, 0.326247127119348, 0.275598813581227] 7.999987081066454\n",
      "[0.002767581680692853, 0.36227535650220327, 0.3332441923403783, 0.3017128694767255] 7.99998708106801\n",
      "[5.010177202671067e-05, 0.33537703230574695, 0.3359616722490444, 0.32861119367318187] 7.9999870810666085\n"
     ]
    },
    {
     "name": "stdout",
     "output_type": "stream",
     "text": [
      "[0.0016825884779326497, 0.30839109227598144, 0.3343291855431385, 0.3555971337029473] 7.999987081070545\n",
      "[0.007622761250233534, 0.28201645808461556, 0.32838901277083754, 0.38197176789431303] 7.999987081071532\n",
      "[0.017716772734355925, 0.25693621890324825, 0.31829500128671523, 0.40705200707568057] 7.9999870810722316\n",
      "[0.03170319333500126, 0.23379993975263333, 0.3043085806860699, 0.43018828622629535] 7.99998708107266\n",
      "[0.04921978210534148, 0.21320683810984375, 0.2867919919157297, 0.450781387869085] 7.99998708107281\n",
      "[0.0469099805516245, 0.229482332340673, 0.27051656646161426, 0.45309112064608803] 7.999985616657723\n",
      "[0.06629250752093388, 0.21299546619156476, 0.2511340394923049, 0.4695779867951963] 7.99998561665759\n",
      "[0.08806868378288638, 0.19983127629599307, 0.22935786323035234, 0.48274217669076774] 7.999985616657182\n",
      "[0.11167451781079632, 0.19033070825742263, 0.20575202920244232, 0.49224274472933827] 7.99998561665652\n",
      "[0.13649863090291492, 0.1847398217976337, 0.18092791611032372, 0.4978336311891274] 7.9999856166556205\n",
      "[0.16189809156966278, 0.1832034179391771, 0.1555284554435759, 0.4993700350475838] 7.999985616654503\n",
      "[0.18721506712149372, 0.1857612887349512, 0.13021147989174492, 0.49681216425180974] 7.999985616653198\n",
      "[0.21179386119001065, 0.19234718667493317, 0.10563268582322796, 0.49022626631182775] 7.999985616651735\n",
      "[0.23499789591948525, 0.20279054046189046, 0.08242865109375333, 0.4797829125248705] 7.999985616650159\n",
      "[0.25622619899894267, 0.21682087271838207, 0.06120034801429588, 0.46575258026837885] 7.999985616648505\n",
      "[0.27492896852933957, 0.2340748052087593, 0.04249757848389911, 0.44849864777800164] 7.999985616646825\n",
      "[0.29062181260395104, 0.25410547014459506, 0.02680473440928758, 0.4284679828421659] 7.999985616645146\n",
      "[0.30289829480431646, 0.2763940838256751, 0.014528252208922163, 0.4061793691610859] 7.999985616643523\n",
      "[0.31144046068998565, 0.30036338286532954, 0.005986086323252942, 0.3822100701214315] 7.99998561664198\n",
      "[0.316027072651513, 0.3253925750089246, 0.0013994743617255219, 0.35718087797783626] 7.999985616640634\n",
      "[0.3165393398483315, 0.3508334173271709, 0.0008872071649070893, 0.33174003565959015] 7.999985616639349\n",
      "[0.3129639948291249, 0.37602700536748507, 0.00446255218411366, 0.30654644761927596] 7.999985616638401\n",
      "[0.3053936371518485, 0.400320838433206, 0.012032909861390096, 0.28225261455355505] 7.999985616637608\n",
      "[0.2940243351038178, 0.42308571900889447, 0.02340221190942079, 0.2594877339778666] 7.99998561663707\n",
      "[0.2791505476360573, 0.44373204864548155, 0.03827599937718132, 0.23884140434127926] 7.999985616636803\n",
      "[0.2611574980311411, 0.461725098250398, 0.056269048982097614, 0.22084835473636297] 7.999985616636804\n",
      "[0.2405111968225222, 0.4765988572901899, 0.07691535019071641, 0.20597459569657098] 7.999985616637072\n",
      "[0.21774637236650124, 0.4879681032185531, 0.09968017464673735, 0.19460534976820792] 7.9999856166376055\n",
      "[0.19345262165867727, 0.4955383785379328, 0.12397392535456142, 0.18703507444882822] 7.99998561663839\n",
      "[0.16825914008146267, 0.4991136170940396, 0.149167406931776, 0.18345983589272125] 7.999985616639403\n",
      "[0.14281842557418067, 0.49860122208625723, 0.17460812143905804, 0.18397223090050385] 7.999985616640619\n",
      "[0.11778937927917739, 0.4940144642761377, 0.19963716773406126, 0.18855898871062313] 7.999985616642006\n",
      "[0.0938202403483406, 0.4854721382816509, 0.22360630666489817, 0.19710131470511] 7.9999856166435315\n",
      "[0.07153179688956965, 0.47319548585897636, 0.24589475012366907, 0.20937796712778461] 7.999985616645151\n",
      "[0.05150130788086622, 0.4575024658572327, 0.26592523913237254, 0.2250709871295284] 7.999985616646825\n",
      "[0.034247552466024116, 0.4387995192513009, 0.28317899454721474, 0.2437739337354602] 7.999985616648511\n",
      "[0.02021739384730697, 0.41757104253406896, 0.29720915316593177, 0.2650024104526921] 7.999985616650157\n",
      "[0.009774205763236486, 0.39436684210170736, 0.3076523412500022, 0.2882066108850535] 7.9999856166517285\n",
      "[0.003188461299635871, 0.36978789455680916, 0.3142380857136028, 0.3127855584299518] 7.999985616653225\n",
      "[0.0006307277787799988, 0.34447078173005985, 0.3167958192344588, 0.3381026712567011] 7.99998561665441\n",
      "[0.0021672491553434434, 0.31907120354520524, 0.3152592978578953, 0.36350224944155574] 7.99998561665568\n",
      "[0.007758230332770758, 0.29424699573544827, 0.309668316680468, 0.38832645725131265] 7.999985616656537\n",
      "[0.01725886783537383, 0.2706410922435057, 0.30016767917786497, 0.41193236074325534] 7.999985616657182\n",
      "[0.030423100142290452, 0.24886487357020814, 0.28700344687094825, 0.4337085794165529] 7.999985616657586\n",
      "[0.046909980551624486, 0.229482332340673, 0.27051656646161426, 0.45309112064608803] 7.999985616657721\n",
      "[0.045917293044582363, 0.24589089418105836, 0.2541080805396326, 0.45408373223472653] 7.999984245539531\n",
      "[0.06396355736619358, 0.23054065915582456, 0.23606181621802141, 0.4694339672599604] 7.999984245539404\n",
      "[0.08423844894041597, 0.21828402972811714, 0.2157869246437989, 0.48169059668766767] 7.9999842455390295\n",
      "[0.10621685872538775, 0.20943844616200263, 0.19380851485882716, 0.4905361802537822] 7.999984245538414\n",
      "[0.12932955745240535, 0.20423300442547226, 0.1706958161318095, 0.4957416219903125] 7.999984245537573\n",
      "[0.15297793836498097, 0.2028025227252093, 0.14704743521923389, 0.4971721036905755] 7.999984245536533\n",
      "[0.17654952081940173, 0.20518404978585325, 0.1234758527648131, 0.49479057662993164] 7.999984245535317\n",
      "[0.19943381321168058, 0.21131590530749184, 0.10059156037253425, 0.488658721108293] 7.999984245533957\n",
      "[0.22103812438942302, 0.22103927745303012, 0.07898724919479179, 0.4789353489627545] 7.999984245532488\n",
      "[0.24080291404134793, 0.23410233599135127, 0.059222459542866854, 0.46587229042443357] 7.9999842455309516\n",
      "[0.2582162844974368, 0.2501667545680214, 0.04180908908677803, 0.4498078718477635] 7.9999842455293795\n",
      "[0.27282723860969926, 0.26881647318015556, 0.027198134974515523, 0.4311581532356292] 7.999984245527817\n",
      "[0.2842573603414088, 0.2895684739119456, 0.01576801324280598, 0.41040615250383916] 7.999984245526324\n",
      "[0.2922106155436808, 0.31188529084496286, 0.00781475804053399, 0.38808933557082204] 7.9999842455248995\n",
      "[0.29648101908442903, 0.33518893014312634, 0.0035443544997857345, 0.3647856962726585] 7.999984245523596\n",
      "[0.2969579697550879, 0.3588758397894519, 0.0030674038291268312, 0.3410987866263327] 7.9999842455224925\n",
      "[0.29362911478381803, 0.3823325412662613, 0.006396258800396705, 0.31764208514952363] 7.999984245521546\n",
      "[0.2865806697658083, 0.4049515183265428, 0.013444703818406501, 0.29502310808924204] 7.999984245520805\n",
      "[0.2759951857246473, 0.4261469513456371, 0.024030187859567516, 0.2738276750701477] 7.999984245520304\n",
      "[0.26214682113670223, 0.44536988974179853, 0.03787855244751262, 0.2546047366739864] 7.999984245520054\n",
      "[0.24539424137058977, 0.46212246950791097, 0.054631132213625075, 0.23785215690787398] 7.9999842455200545\n",
      "[0.226171329442527, 0.4759708076277575, 0.07385404414168784, 0.2240038187880274] 7.999984245520302\n",
      "[0.20497594867411983, 0.4865562394182312, 0.095049424910095, 0.2134183869975536] 7.9999842455208\n",
      "[0.18235704829384902, 0.4936046077562305, 0.11766832529036586, 0.20637001865955446] 7.99998424552153\n",
      "[0.15890044594040176, 0.4969333636041382, 0.14112492764381313, 0.20304126281164647] 7.999984245522473\n",
      "[0.1352136552935464, 0.49645629393400925, 0.16481171829066854, 0.20351833248177575] 7.999984245523608\n",
      "[0.1119101517889377, 0.4921857545997058, 0.18811522179527715, 0.2077888718160789] 7.999984245524896\n",
      "[0.08959348392657826, 0.4842323503267763, 0.2104318896576367, 0.21574227608900862] 7.999984245526319\n",
      "[0.06884164168169687, 0.4728020701081579, 0.23118373190251804, 0.22717255630762692] 7.999984245527823\n",
      "[0.05019208686799504, 0.45819095219746325, 0.24983328671621996, 0.24178367421832178] 7.999984245529386\n",
      "[0.034127833158987264, 0.44077741687371225, 0.2658975404252277, 0.25919720954207265] 7.999984245530953\n",
      "[0.021064936287572625, 0.42101246555488075, 0.27896043729664244, 0.2789621608609042] 7.999984245532492\n",
      "[0.011341718421096922, 0.3994080000980755, 0.288683655163118, 0.30056662631770936] 7.999984245533962\n",
      "[0.005210005794930554, 0.3765235648103244, 0.2948153677892844, 0.32345106160546044] 7.999984245535313\n",
      "[0.0028286065452508336, 0.35295185454493944, 0.29719676703896414, 0.3470227718708454] 7.999984245536493\n",
      "[0.004259197661732994, 0.3293033642161447, 0.295766175922482, 0.3706712621996402] 7.999984245537572\n",
      "[0.009464727585915073, 0.30619057730147536, 0.29056064599829984, 0.3937840491143095] 7.9999842455384025\n"
     ]
    },
    {
     "name": "stdout",
     "output_type": "stream",
     "text": [
      "[0.018310375827099816, 0.2842121028414334, 0.2817149977571151, 0.41576252357435156] 7.999984245539025\n",
      "[0.03056704474224569, 0.2639371717797724, 0.2694583288419693, 0.4360374546360125] 7.999984245539405\n",
      "[0.04591729304458234, 0.2458908941810584, 0.25410808053963263, 0.45408373223472653] 7.999984245539535\n",
      "[0.046248157543623755, 0.2623261078109812, 0.23767294947744294, 0.45375278516795176] 7.999982976610456\n",
      "[0.06284112226848965, 0.24821205607413055, 0.22107998475257712, 0.4678668369048025] 7.999982976610342\n",
      "[0.08148323870300701, 0.2369424760593818, 0.20243786831805965, 0.4791364169195511] 7.999982976609991\n",
      "[0.10169168582377505, 0.22880924396947933, 0.18222942119729163, 0.4872696490094536] 7.9999829766094255\n",
      "[0.12294307546537456, 0.2240230062433612, 0.16097803155569207, 0.49205588673557155] 7.999982976608653\n",
      "[0.14468700779892935, 0.22270772392403906, 0.13923409922213725, 0.49337116905489375] 7.999982976607695\n",
      "[0.16636032639856252, 0.22489746213269735, 0.11756078062250418, 0.4911814308462356] 7.9999829766065815\n",
      "[0.18740170369701364, 0.23053550779994816, 0.09651940332405302, 0.4855433851789847] 7.999982976605331\n",
      "[0.2072661790747798, 0.23947583850453896, 0.07665492794628685, 0.476603054474394] 7.999982976603983\n",
      "[0.2254392730539055, 0.25148690437736043, 0.05848183396716108, 0.4645919886015724] 7.999982976602563\n",
      "[0.24145031204621853, 0.266257625121429, 0.04247079497484812, 0.4498212678575039] 7.999982976601126\n",
      "[0.2548846185520295, 0.28340544682817587, 0.029036488469037162, 0.4326734461507571] 7.999982976599695\n",
      "[0.2653942510895543, 0.3024862499227324, 0.0185268559315123, 0.4135926430562006] 7.999982976598302\n",
      "[0.2727070156965272, 0.32300585162763423, 0.01121409132453947, 0.39307304135129867] 7.999982976597\n",
      "[0.2766335156108458, 0.34443280503717527, 0.007287591410220813, 0.3716460879417577] 7.999982976595795\n",
      "[0.2770720565472249, 0.3662121633131088, 0.006849050473841708, 0.34986672966582405] 7.999982976594757\n",
      "[0.2740112805257672, 0.3877798525162587, 0.00990982649529942, 0.3282990404626742] 7.9999829765939\n",
      "[0.2675304600376767, 0.40857728082524924, 0.016390646983389844, 0.3075016121536837] 7.999982976593234\n",
      "[0.25779744492937684, 0.4280658057712636, 0.026123662091689738, 0.2880130872076692] 7.999982976592775\n",
      "[0.24506431517965485, 0.44574068479505125, 0.03885679184141175, 0.27033820818388155] 7.999982976592541\n",
      "[0.22966085216062343, 0.4611441478140828, 0.054260254860443266, 0.2549347451648501] 7.999982976592545\n",
      "[0.21198599747340846, 0.47387725322723195, 0.07193510954765817, 0.24220163975170086] 7.999982976592775\n",
      "[0.19249752057023517, 0.4836102202926908, 0.09142358645083146, 0.23246867268624216] 7.999982976593234\n",
      "[0.17170016276606997, 0.49009097027595605, 0.11222094425499671, 0.22598792270297688] 7.999982976593904\n",
      "[0.15013256470369127, 0.4931516551566425, 0.13378854231737541, 0.22292723782229046] 7.99998297659477\n",
      "[0.12835331584397697, 0.4927130048040442, 0.15556779117708974, 0.22336588817488884] 7.999982976595817\n",
      "[0.10692648729228055, 0.4887863800318809, 0.17699461972878616, 0.22729251294705197] 7.999982976597001\n",
      "[0.086407022653096, 0.48147347835919074, 0.1975140843679707, 0.23460541461974227] 7.999982976598305\n",
      "[0.0673263652821995, 0.47096370009800576, 0.21659474173886725, 0.24511519288092715] 7.999982976599693\n",
      "[0.05017869418288917, 0.45752924298475844, 0.2337424128381776, 0.2585496499941746] 7.999982976601126\n",
      "[0.03540812502938012, 0.441518052401886, 0.24851298199168664, 0.274560840577047] 7.999982976602567\n",
      "[0.023397207804125186, 0.42334480977519373, 0.2605238992169416, 0.2927340832037393] 7.999982976603976\n",
      "[0.014457018954214067, 0.4034801925427478, 0.2694640880668527, 0.3125987004361852] 7.999982976605326\n",
      "[0.008819104674794423, 0.3824386838564654, 0.27510200234627236, 0.3336402091224675] 7.999982976606575\n",
      "[0.006629483984243125, 0.3607652477387254, 0.27729162303682364, 0.35531364524020753] 7.999982976607712\n",
      "[0.007944866908290622, 0.3390212148004453, 0.2759762401127761, 0.3770576781784876] 7.999982976608656\n",
      "[0.01273118572014294, 0.3177697440731115, 0.2711899213009238, 0.3983091489058215] 7.999982976609422\n",
      "[0.02086447727671068, 0.2975612374856782, 0.26305662974435606, 0.4185176554932547] 7.999982976609994\n",
      "[0.032134093598900175, 0.27891908474371996, 0.25178701342216653, 0.43715980823521305] 7.9999829766103385\n",
      "[0.04624815754362373, 0.26232610781098126, 0.237672949477443, 0.45375278516795176] 7.999982976610454\n",
      "[0.0479004282655093, 0.27868138456334146, 0.22131776140666246, 0.4521004257644865] 7.999981818099993\n",
      "[0.06293248165014449, 0.2658950511563946, 0.20628570802202728, 0.46488675917143346] 7.999981818099886\n",
      "[0.07982092166631019, 0.255685608105494, 0.18939726800586149, 0.4750962022223338] 7.999981818099569\n",
      "[0.09812834658867699, 0.2483174746228845, 0.1710898430834947, 0.4824643357049434] 7.999981818099057\n",
      "[0.11738060372820333, 0.24398148149546334, 0.15183758594396837, 0.4868003288323647] 7.99998181809836\n",
      "[0.13707906973772074, 0.2427899286676381, 0.13213911993445096, 0.4879918816601898] 7.999981818097492\n",
      "[0.1567135646947107, 0.24477367673175582, 0.11250462497746097, 0.4860081335960722] 7.999981818096478\n",
      "[0.17577556549331275, 0.24988134765497058, 0.0934426241788589, 0.48090046267285724] 7.999981818095345\n",
      "[0.19377137632565128, 0.2579806554433073, 0.07544681334652037, 0.47280115488452057] 7.999981818094124\n",
      "[0.21023491514393317, 0.26886183227941857, 0.05898327452823848, 0.46191997804840945] 7.999981818092842\n",
      "[0.22473978494066377, 0.28224306139886823, 0.04447840473150785, 0.4485387489289597] 7.999981818091532\n",
      "[0.23691031720716538, 0.29777777599629895, 0.032307872465006285, 0.4330040343315291] 7.999981818090237\n",
      "[0.24643130155062182, 0.3150636351236469, 0.022786888121549848, 0.4157181752041811] 7.99998181808898\n",
      "[0.2530561494776805, 0.33365294410935803, 0.016162040194491106, 0.3971288662184699] 7.999981818087801\n",
      "[0.25661328090690316, 0.35306424961521693, 0.012604908765268433, 0.3777175607126111] 7.9999818180867255\n",
      "[0.257010568002748, 0.37279480902491124, 0.012207621669423534, 0.3579870013029166] 7.999981818085771\n",
      "[0.25423772123811816, 0.3923336112137161, 0.01498046843405351, 0.3384481991141119] 7.99998181808499\n",
      "[0.24836655588770787, 0.4111746114682017, 0.020851633784463804, 0.3196071988596262] 7.999981818084386\n",
      "[0.23954913205011164, 0.4288298377784988, 0.029669057622060017, 0.3019519725493292] 7.999981818083972\n",
      "[0.22801381637114362, 0.4448420290570344, 0.04120437330102798, 0.28593978127079356] 7.999981818083767\n",
      "[0.2140593674676668, 0.4587964779605113, 0.05515882220450491, 0.2719853323673167] 7.999981818083768\n",
      "[0.19804719823634626, 0.47033177159226425, 0.0711709914358254, 0.2604500387355638] 7.999981818083973\n",
      "[0.18039201544946792, 0.4791491519064416, 0.08882617422270374, 0.2516326584213863] 7.999981818084387\n",
      "[0.1615510790673713, 0.4850202533844629, 0.10766711060480039, 0.24576155694336504] 7.999981818084994\n",
      "[0.14201235944566415, 0.4877930175819952, 0.12720583022650753, 0.24298879274583265] 7.99998181808578\n",
      "[0.12228189915933174, 0.4873956313627884, 0.14693629051284, 0.24338617896503956] 7.999981818086727\n",
      "[0.1028707067658561, 0.4838383868211824, 0.16634748290631562, 0.24694342350664544] 7.999981818087801\n",
      "[0.08428152195199821, 0.4772134147222705, 0.18493666772017353, 0.25356839560555755] 7.999981818088986\n",
      "[0.0669957948399876, 0.4676922983634766, 0.20222239483218413, 0.2630895119643514] 7.999981818090239\n",
      "[0.051461216682250774, 0.45552162965728127, 0.21775697298992097, 0.2752601806705467] 7.999981818091536\n",
      "[0.038080124893134795, 0.4410166225302171, 0.231138064779037, 0.28976518779761096] 7.999981818092843\n",
      "[0.027199082721213547, 0.4245529490477451, 0.2420191069509582, 0.30622886128008286] 7.999981818094122\n",
      "[0.01909990344319152, 0.4065570097050919, 0.25011828622898025, 0.3242248006227362] 7.9999818180953515\n",
      "[0.013992351548066394, 0.38749488987840014, 0.2552258381241054, 0.34328692044942793] 7.999981818096481\n",
      "[0.012008709947048356, 0.36786028845831065, 0.2572094797251234, 0.3629215218695176] 7.999981818097499\n",
      "[0.013200353915644763, 0.34816173130802197, 0.25601783575652703, 0.38262007901980605] 7.999981818098362\n",
      "[0.01753642050101077, 0.3289094007105508, 0.251681769171161, 0.4018724096172772] 7.999981818099059\n",
      "[0.02490460785621635, 0.3106019219155879, 0.24431358181595542, 0.4201798884122401] 7.999981818099567\n",
      "[0.03511408379909238, 0.29371344900744667, 0.23410410587307934, 0.4370683613203813] 7.999981818099888\n"
     ]
    },
    {
     "name": "stdout",
     "output_type": "stream",
     "text": [
      "[0.04790042826550929, 0.27868138456334157, 0.22131776140666246, 0.4521004257644865] 7.999981818099997\n",
      "[0.05086338960057908, 0.2948506541923637, 0.20514858599793218, 0.44913737020912475] 7.999980777521518\n",
      "[0.06423704301051066, 0.2834749633939847, 0.19177493258800063, 0.46051306100750383] 7.999980777521429\n",
      "[0.07926227859419205, 0.2743918694628029, 0.1767496970043192, 0.46959615493868534] 7.999980777521147\n",
      "[0.09554995064239896, 0.26783661976050677, 0.16046202495611223, 0.47615140464098166] 7.99998077752069\n",
      "[0.11267821700460322, 0.2639789918110711, 0.14333375859390796, 0.4800090325904173] 7.9999807775200695\n",
      "[0.130203464579088, 0.26291889615206787, 0.12580851101942322, 0.4810691282494207] 7.999980777519302\n",
      "[0.147671798659263, 0.2646837887042225, 0.10834017693924819, 0.47930423569726605] 7.999980777518397\n",
      "[0.1646307985681453, 0.26922795967748936, 0.09138117703036583, 0.4747600647239989] 7.999980777517387\n",
      "[0.18064123511624758, 0.2764337174306045, 0.07537074048226357, 0.46755430697088396] 7.999980777516301\n",
      "[0.19528844640686924, 0.28611443662277225, 0.06072352919164192, 0.45787358777871623] 7.999980777515161\n",
      "[0.20819307736140918, 0.29801939171196323, 0.04781889823710197, 0.4459686326895252] 7.999980777513999\n",
      "[0.21902090481663553, 0.31184025061475273, 0.03699107078187565, 0.43214777378673574] 7.999980777512842\n",
      "[0.2274914937290538, 0.3272190603453213, 0.028520481869457312, 0.41676896405616704] 7.999980777511725\n",
      "[0.23338546029522814, 0.3437575178097645, 0.022626515303283013, 0.40023050659172404] 7.999980777510677\n",
      "[0.23655015387705264, 0.36102728564700476, 0.019461821721458494, 0.38296073875448366] 7.999980777509716\n",
      "[0.23690361057309517, 0.37858108594144946, 0.019108365025415984, 0.36540693846003897] 7.999980777508874\n",
      "[0.23443667604059043, 0.39596428448605925, 0.021575299557920723, 0.3480237399154292] 7.999980777508174\n",
      "[0.22921324258810924, 0.41272666556950277, 0.02679873301040191, 0.3312613588319856] 7.999980777507638\n",
      "[0.22136859439832754, 0.42843409232659246, 0.034643381200183614, 0.315553932074896] 7.9999807775072735\n",
      "[0.2111059037387566, 0.44267975065505105, 0.04490607185975454, 0.3013082737464373] 7.99998077750708\n",
      "[0.19869096890673615, 0.45509468548707166, 0.05732100669177509, 0.2888933389144168] 7.9999807775070835\n",
      "[0.18444533019315007, 0.4653573565317699, 0.0715666454053611, 0.2786306678697186] 7.99998077750727\n",
      "[0.16873794215779087, 0.4732019659998211, 0.08727403344072035, 0.27078605840166714] 7.999980777507638\n",
      "[0.151975617900063, 0.47842534262658676, 0.10403635769844821, 0.2655626817749018] 7.999980777508178\n",
      "[0.13459249281339794, 0.4808922037011467, 0.12141948278511328, 0.2630958207003417] 7.999980777508879\n",
      "[0.11703878070660498, 0.4805386588174526, 0.1389731948919063, 0.263449365584036] 7.99998077750972\n",
      "[0.09976911350270928, 0.4773738646022833, 0.15624286209580193, 0.26661415979920516] 7.999980777510675\n",
      "[0.08323076651095318, 0.47147978756342196, 0.17278120908755806, 0.27250823683806646] 7.999980777511727\n",
      "[0.06785207423122924, 0.46300908120015893, 0.188159901367282, 0.28097894320132955] 7.999980777512841\n",
      "[0.05403133671552707, 0.45218113235784535, 0.20198063888298418, 0.29180689204364313] 7.999980777514002\n",
      "[0.042126503805804065, 0.43927637922383755, 0.2138854717927072, 0.3047116451776509] 7.999980777515157\n",
      "[0.03244590442110096, 0.4246290481257512, 0.22356607117741029, 0.3193589762757373] 7.999980777516297\n",
      "[0.025240261000496856, 0.40861849724513793, 0.23077171459801438, 0.33536952715635054] 7.99998077751739\n",
      "[0.020696195923635082, 0.3916593914398503, 0.23531577967487616, 0.35232863296163813] 7.999980777518397\n",
      "[0.018931398089118805, 0.37419096264203705, 0.23708057750939254, 0.3697970617594516] 7.999980777519296\n",
      "[0.019991574833856374, 0.35666563398181805, 0.23602040076465491, 0.3873223904196704] 7.999980777520072\n",
      "[0.023849268137044292, 0.3395373022658615, 0.23216270746146697, 0.40445072213562694] 7.999980777520694\n",
      "[0.03040456576848303, 0.323249582288512, 0.22560740983002822, 0.4207384421129764] 7.999980777521147\n",
      "[0.03948768896285772, 0.30822431744163753, 0.2165242866356535, 0.4357637069598508] 7.999980777521426\n",
      "[0.050863389600579054, 0.2948506541923638, 0.2051485859979322, 0.44913737020912475] 7.999980777521518\n",
      "[0.055117825607593346, 0.31072905277984425, 0.18927028655840103, 0.44488283505416115] 7.9999798616235935\n",
      "[0.06674634576856474, 0.3008377803100724, 0.17764176639742968, 0.4547741075239331] 7.999979861623516\n",
      "[0.07981093250134427, 0.2929399428482233, 0.16457717966465005, 0.46267194498578196] 7.99997986162327\n",
      "[0.09397321987206456, 0.287240090236016, 0.15041489229392976, 0.4683717975979893] 7.999979861622874\n",
      "[0.10886641207693111, 0.28388584566211184, 0.13552170008906317, 0.4717260421718935] 7.999979861622332\n",
      "[0.12410478326087179, 0.28296408229907116, 0.12028332890512253, 0.47264780553493413] 7.999979861621663\n",
      "[0.13929366761457046, 0.2844986733338169, 0.10509444455142386, 0.4711132145001884] 7.9999798616208775\n",
      "[0.1540396810116201, 0.28844987366463265, 0.09034843115437416, 0.46716201416937264] 7.999979861620002\n",
      "[0.16796090945076153, 0.29471534927842025, 0.0764272027152327, 0.460896538555585] 7.999979861619055\n",
      "[0.18069680042790578, 0.3031328276478856, 0.0636913117380885, 0.4524790601861197] 7.999979861618064\n",
      "[0.19191750105660038, 0.3134843005047574, 0.05247061110939387, 0.442127587329248] 7.999979861617055\n",
      "[0.20133240108452505, 0.3255016701394211, 0.04305571108146928, 0.4301102176945843] 7.999979861616049\n",
      "[0.2086976595463757, 0.3388736929907726, 0.035690452619618576, 0.4167381948432328] 7.999979861615081\n",
      "[0.21382252011678288, 0.35325404069096233, 0.030565592049211426, 0.4023578471430431] 7.999979861614165\n",
      "[0.2165742515989382, 0.3682702697882043, 0.027813860567056065, 0.38734161804580103] 7.999979861613335\n",
      "[0.21688158559287207, 0.3835334678365422, 0.027506526573122258, 0.3720784199974631] 7.999979861612598\n",
      "[0.2147365623095765, 0.39864832602391304, 0.02965154985641779, 0.35696356181009226] 7.999979861611992\n",
      "[0.2101947367253601, 0.41322337746273347, 0.03419337544063418, 0.3423885103712718] 7.999979861611524\n",
      "[0.20337373973714287, 0.4268811359766602, 0.0410143724288514, 0.32873075185734524] 7.999979861611205\n",
      "[0.1944502315840148, 0.4392678727942728, 0.04993788058197944, 0.3163440150397323] 7.999979861611042\n",
      "[0.1836553264398389, 0.45006277793844895, 0.060732785726155425, 0.3055491098955565] 7.999979861611047\n",
      "[0.1712686066775464, 0.45898626903625667, 0.0731195054884479, 0.2966256187977487] 7.9999798616112034\n",
      "[0.15761088183253635, 0.46580723235555715, 0.08677723033345797, 0.28980465547844814] 7.999979861611522\n",
      "[0.1430358798042219, 0.47034900852926764, 0.10135223236177246, 0.2852628793047377] 7.999979861611997\n",
      "[0.12792108548923997, 0.4724939679401744, 0.11646702667675436, 0.28311791989383095] 7.999979861612601\n",
      "[0.11265796412091272, 0.47218655726622993, 0.13173014804508165, 0.28342533056777547] 7.999979861613335\n",
      "[0.09764182252533096, 0.4694347382824142, 0.14674628964066339, 0.2861771495515911] 7.9999798616141655\n",
      "[0.0832615708822042, 0.4643097816549441, 0.16112654128379014, 0.29130210617906127] 7.999979861615081\n",
      "[0.06988965015549084, 0.4569444210684551, 0.1744984620105035, 0.2986674667655501] 7.999979861616049\n",
      "[0.0578723860680661, 0.4475294154932917, 0.18651572609792832, 0.3080824723407136] 7.9999798616170565\n",
      "[0.04752101944741595, 0.4363086086283756, 0.1968670927185785, 0.31930327920562984] 7.99997986161807\n",
      "[0.03910364525169247, 0.4235726134774894, 0.2052844669143019, 0.3320392743565158] 7.999979861619055\n",
      "[0.03283826905112183, 0.409651285625131, 0.21154984311487252, 0.34596060220887437] 7.999979861620003\n",
      "[0.02888716079824813, 0.3949051801501392, 0.21550095136774627, 0.36070670768386603] 7.999979861620878\n",
      "[0.02735265212139914, 0.37971621343854384, 0.21703546004459529, 0.37589567439546157] 7.999979861621663\n",
      "[0.028274485989264936, 0.364477771749778, 0.21611362617672944, 0.3911341160842273] 7.999979861622338\n",
      "[0.03162878738888483, 0.3495845227191957, 0.21275932477710952, 0.4060273651148096] 7.999979861622875\n",
      "[0.03732868167594214, 0.3354221936736254, 0.20705943049005227, 0.4201896941603798] 7.9999798616232685\n",
      "[0.04522654458241873, 0.3223575814962183, 0.19916156758357562, 0.43325430633778694] 7.999979861623514\n",
      "[0.055117825607593325, 0.3107290527798443, 0.18927028655840106, 0.44488283505416104] 7.9999798616235935\n",
      "[0.06063614463648515, 0.32621360281790035, 0.1737858399529393, 0.4393644125926749] 7.999979076346164\n",
      "[0.07044411613302204, 0.31787089737429575, 0.16397786845640244, 0.4477071180362796] 7.999979076346095\n",
      "[0.08146332515664312, 0.311209536888369, 0.1529586594327813, 0.4543684785222061] 7.999979076345891\n",
      "[0.09340837998176071, 0.3064020470976543, 0.14101360460766368, 0.45917596831292085] 7.999979076345554\n",
      "[0.10596990996285291, 0.3035729394624727, 0.1284520746265715, 0.46200507594810225] 7.999979076345097\n",
      "[0.11882257807167734, 0.3027954863845138, 0.11559940651774706, 0.46278252902606126] 7.999979076344532\n"
     ]
    },
    {
     "name": "stdout",
     "output_type": "stream",
     "text": [
      "[0.13163350695541137, 0.3040898234901195, 0.10278847763401303, 0.46148819192045576] 7.999979076343875\n",
      "[0.14407090028523745, 0.3074224281281382, 0.09035108430418691, 0.458155587282437] 7.999979076343134\n",
      "[0.15581263610697527, 0.3127069875889821, 0.07860934848244909, 0.45287102782159294] 7.999979076342335\n",
      "[0.1665546096304917, 0.3198066345584668, 0.06786737495893266, 0.4457713808521084] 7.999979076341502\n",
      "[0.17601860938402675, 0.32853749190935533, 0.05840337520539762, 0.4370405235012198] 7.9999790763406455\n",
      "[0.18395952274517413, 0.33867343502236835, 0.0504624618442503, 0.426904580388207] 7.999979076339803\n",
      "[0.19017168422904987, 0.3499519482950443, 0.044250300360374584, 0.4156260671155311] 7.999979076338986\n",
      "[0.19449420211631982, 0.36208092415795123, 0.03992778247310454, 0.40349709125262395] 7.999979076338215\n",
      "[0.19681512546421803, 0.3747462285072981, 0.037606859125206366, 0.39083178690327713] 7.999979076337509\n",
      "[0.19707434357715864, 0.3876198366132146, 0.037347641012265696, 0.3779581787973605] 7.999979076336894\n",
      "[0.19526514284217772, 0.40036832878795287, 0.039156841747246665, 0.3652096866226222] 7.999979076336379\n",
      "[0.19143438060798162, 0.41266152578066195, 0.0429876039814427, 0.35291648962991323] 7.999979076335987\n",
      "[0.1856812716042295, 0.4241810402465497, 0.04874071298519489, 0.3413969751640255] 7.999979076335715\n",
      "[0.1781548183321492, 0.43462852281187214, 0.05626716625727517, 0.330949492598703] 7.999979076335576\n",
      "[0.16904995197802386, 0.4437333891659977, 0.06537203261140057, 0.32184462624457766] 7.999979076335578\n",
      "[0.1586024837978589, 0.4512598280529202, 0.07581950079156548, 0.31431818735765493] 7.999979076335714\n",
      "[0.14708299772971828, 0.4570129086589252, 0.08733898685970609, 0.3085651067516499] 7.999979076335983\n",
      "[0.13478984241185932, 0.46084362921827127, 0.09963214217756508, 0.30473438619230386] 7.999979076336379\n",
      "[0.12204140410971712, 0.4626527760806561, 0.11238058047970728, 0.302925239329919] 7.999979076336892\n",
      "[0.10916786067887088, 0.46239349329264534, 0.12525412391055363, 0.3031845221179299] 7.99997907633751\n",
      "[0.0965026301320181, 0.46007249614225293, 0.13791935445740633, 0.30550551926832215] 7.99997907633821\n",
      "[0.08437373528758306, 0.455749897236511, 0.1500482493018414, 0.30982811817406425] 7.999979076338982\n",
      "[0.07309530815102129, 0.44953764961652115, 0.16132667643840318, 0.31604036579405426] 7.999979076339802\n",
      "[0.06295945406088463, 0.4415966472324974, 0.17146253052853982, 0.3239813681780777] 7.999979076340647\n",
      "[0.05422868631398853, 0.4321325578749701, 0.18019329827543595, 0.33344545753560517] 7.999979076341501\n",
      "[0.047129127208916245, 0.42139049648704113, 0.18729285738050822, 0.344187518923534] 7.9999790763423375\n",
      "[0.04184465159726249, 0.40964867681611317, 0.19257733299216195, 0.3559293385944621] 7.999979076343132\n",
      "[0.03851212462156177, 0.397211205823969, 0.1959098599678627, 0.36836680958660617] 7.999979076343872\n",
      "[0.037217856979988875, 0.38440020747620235, 0.19720412760943562, 0.38117780793437284] 7.9999790763445375\n",
      "[0.03799536952461299, 0.3715474799007127, 0.19642661506481146, 0.39403053550986245] 7.999979076345099\n",
      "[0.04082452508893698, 0.35898590199047803, 0.19359745950048746, 0.40659211342009705] 7.99997907634555\n",
      "[0.04563205002993184, 0.3470408120150803, 0.1887899345594926, 0.41853720339549483] 7.999979076345889\n",
      "[0.05229343197690244, 0.33602158153041534, 0.182128552612522, 0.42955643388015996] 7.999979076346093\n",
      "[0.06063614463648513, 0.32621360281790046, 0.17378583995293934, 0.4393644125926749] 7.999979076346163\n",
      "[0.06738255827079881, 0.34120388105762445, 0.15879566875965467, 0.4326178919119218] 7.999978426782052\n",
      "[0.07530637264411777, 0.33446384828634823, 0.15087185438633574, 0.439357924683198] 7.999978426781999\n",
      "[0.08420874015964376, 0.32908216625526954, 0.14196948687080968, 0.4447396067142766] 7.999978426781834\n",
      "[0.09385909417492308, 0.32519821770212576, 0.13231913285553037, 0.44862355526742037] 7.999978426781562\n",
      "[0.10400749559005769, 0.322912594854299, 0.12217073144039575, 0.450909178115247] 7.99997842678119\n",
      "[0.11439110613910558, 0.3222844941429658, 0.1117871208913479, 0.45153727882658046] 7.999978426780739\n",
      "[0.12474099576310592, 0.3233301830466232, 0.1014372312673475, 0.45049158992292293] 7.999978426780201\n",
      "[0.134789107757344, 0.32602257877194174, 0.09138911927310939, 0.4477991941976043] 7.999978426779604\n",
      "[0.14427520129919938, 0.3302919496838862, 0.08190302573125405, 0.44352982328566004] 7.9999784267789575\n",
      "[0.1529535915487536, 0.3360277213184344, 0.07322463548169986, 0.43779405165111207] 7.999978426778286\n",
      "[0.16059951275709178, 0.34308134020311365, 0.06557871427336168, 0.43074043276643265] 7.9999784267775995\n",
      "[0.16701493958113556, 0.35127012131390634, 0.05916328744931787, 0.4225516516556399] 7.999978426776913\n",
      "[0.17203371583601088, 0.36038197952141166, 0.054144511194442586, 0.4134397934481347] 7.999978426776252\n",
      "[0.1755258578529582, 0.37018092248429413, 0.05065236917749521, 0.40364085048525217] 7.99997842677563\n",
      "[0.17740092098807647, 0.3804131627269628, 0.048777306042376935, 0.3934086102425832] 7.99997842677506\n",
      "[0.17761034209109142, 0.39081369060188126, 0.048567884939362, 0.3830080823676649] 7.999978426774563\n",
      "[0.1761486972654388, 0.40111313790023473, 0.05002952976501462, 0.3727086350693113] 7.999978426774145\n",
      "[0.17305384234433635, 0.4110447543470469, 0.053124384686117083, 0.36277701862249934] 7.9999784267738265\n",
      "[0.16840593244458812, 0.4203513162931829, 0.05777229458586533, 0.35347045667636345] 7.999978426773613\n",
      "[0.16232534599116286, 0.42879178867275003, 0.06385288103929054, 0.34502998429679615] 7.999978426773503\n",
      "[0.15496956697921932, 0.43614756768469365, 0.07120866005123415, 0.33767420528485265] 7.999978426773502\n",
      "[0.1465291062213538, 0.4422281425164173, 0.07964912080909968, 0.33159363045312906] 7.999978426773614\n",
      "[0.13722256721762505, 0.44687602947375815, 0.08895565981282837, 0.326945743495788] 7.999978426773829\n",
      "[0.1272909844397298, 0.4499708507259439, 0.09888724259072368, 0.32385092224360235] 7.999978426774151\n",
      "[0.11699158066479505, 0.4514324520281776, 0.10918664636565838, 0.3223893209413685] 7.999978426774565\n",
      "[0.10659110504056393, 0.4512229786744755, 0.11958712198988952, 0.32259879429507077] 7.999978426775063\n",
      "[0.09635892442258545, 0.44934785591466675, 0.12981930260786798, 0.32447391705487927] 7.999978426775629\n",
      "[0.08656004691414827, 0.4458556484432743, 0.13961818011630525, 0.32796612452627205] 7.999978426776251\n",
      "[0.07744825829560731, 0.4408368025994345, 0.14872996873484612, 0.3329849703701117] 7.999978426776914\n",
      "[0.06925954910598062, 0.4344213038542247, 0.1569186779244729, 0.3394004691153215] 7.9999784267776\n",
      "[0.06220600261194849, 0.42677531025523957, 0.16397222441850504, 0.34704646271430684] 7.999978426778291\n",
      "[0.05647030196264882, 0.41809684902043676, 0.16970792506780466, 0.35572492394910943] 7.999978426778963\n",
      "[0.052200998792073676, 0.40861068773721215, 0.1739772282383798, 0.365211085232334] 7.999978426779608\n",
      "[0.04950866580977918, 0.39856251299995005, 0.17666956122067431, 0.37525925996959625] 7.999978426780207\n",
      "[0.048463033025789345, 0.388212567256282, 0.17771519400466418, 0.3856092057132643] 7.9999784267807375\n",
      "[0.04909118177996383, 0.37782890866439295, 0.17708704525048968, 0.3959928643051532] 7.999978426781196\n",
      "[0.051376843349520904, 0.3676804685275279, 0.17480138368093256, 0.40614130444201824] 7.9999784267815635\n",
      "[0.05526082030041183, 0.3580300861145015, 0.1709174067300417, 0.41579168685504475] 7.999978426781837\n",
      "[0.060642519669767705, 0.34912770126069825, 0.1655357073606858, 0.4246940717088479] 7.999978426781995\n",
      "[0.0673825582707988, 0.34120388105762445, 0.15879566875965467, 0.4326178919119218] 7.999978426782052\n",
      "[0.07531331342930392, 0.35560266979238864, 0.14439698999093747, 0.4246870267873696] 7.999977917143934\n",
      "[0.08130158170257618, 0.35050902139232626, 0.13840872171766525, 0.4297806751874321] 7.9999779171438945\n",
      "[0.08802937244054929, 0.3464419200891884, 0.13168093097969213, 0.43384777649056994] 7.999977917143768\n",
      "[0.09532243939705559, 0.34350670167037645, 0.12438786402318577, 0.4367829949093819] 7.999977917143568\n",
      "[0.10299189596879342, 0.3417793867511384, 0.11671840745144796, 0.4385103098286198] 7.999977917143285\n",
      "[0.11083910725913484, 0.34130471188056577, 0.10887119616110652, 0.43898498469919256] 7.999977917142941\n",
      "[0.11866083461761043, 0.3420949708884712, 0.10104946880263097, 0.4381947256912873] 7.999977917142541\n",
      "[0.12625449941419992, 0.3441296964816534, 0.09345580400604142, 0.43616000009810474] 7.999977917142084\n",
      "[0.13342342971944027, 0.3473561903360418, 0.0862868737008011, 0.4329335062437164] 7.9999779171415994\n",
      "[0.1399819540040914, 0.35169088795560666, 0.07972834941614994, 0.4285988086241516] 7.99997791714109\n"
     ]
    },
    {
     "name": "stdout",
     "output_type": "stream",
     "text": [
      "[0.1457602099342153, 0.35702152294891315, 0.0739500934860261, 0.4232681736308451] 7.999977917140566\n",
      "[0.15060854371639976, 0.3632100346696882, 0.06910175970384161, 0.41707966191007] 7.999977917140052\n",
      "[0.15440138605239875, 0.37009614391503964, 0.0653089173678426, 0.4101935526647187] 7.999977917139551\n",
      "[0.15704050431799838, 0.37750150407261934, 0.062669799102243, 0.4027881925071391] 7.999977917139079\n",
      "[0.15845754673638454, 0.38523432020420256, 0.06125275668385681, 0.3950553763755557] 7.999977917138649\n",
      "[0.1586158126532592, 0.39309431643384296, 0.06109449076698212, 0.3871953801459152] 7.999977917138276\n",
      "[0.1575112030645086, 0.4008779229878588, 0.06219910035573274, 0.3794117735918995] 7.999977917137965\n",
      "[0.15517232677825665, 0.40838354854504133, 0.06453797664198471, 0.371906148034717] 7.999977917137718\n",
      "[0.15165975946176205, 0.41541680134598313, 0.06805054395847934, 0.36487289523377514] 7.9999779171375565\n",
      "[0.1470644747634553, 0.4217955238375377, 0.07264582865678604, 0.35849417274222056] 7.999977917137473\n",
      "[0.14150548814323077, 0.4273545104577624, 0.07820481527701065, 0.35293518612199615] 7.9999779171374765\n",
      "[0.1351267744345507, 0.4319497863731944, 0.08458352898569065, 0.34833991020656385] 7.999977917137558\n",
      "[0.128093538971886, 0.43546233635141185, 0.09161676444835537, 0.34482736022834637] 7.99997791713772\n",
      "[0.12058793885933111, 0.4378011871930364, 0.0991223645609103, 0.34248850938672204] 7.999977917137963\n",
      "[0.11280436519729078, 0.4389057638898114, 0.10690593822295058, 0.3413839326899467] 7.999977917138274\n",
      "[0.10494440845508893, 0.43874745848549834, 0.11476589496515249, 0.3415422380942601] 7.9999779171386525\n",
      "[0.09721163738370314, 0.43733037100691446, 0.12249866603653824, 0.3429593255728437] 7.999977917139081\n",
      "[0.08980632669204475, 0.4346912032753937, 0.12990397672819665, 0.34559849330436465] 7.9999779171395495\n",
      "[0.08292027003719693, 0.43089830834889103, 0.13679003338304446, 0.34939138823086713] 7.9999779171400505\n",
      "[0.07673181266944121, 0.4260499202136872, 0.1429784907508002, 0.3542397763660711] 7.999977917140567\n",
      "[0.07140123238395542, 0.42027160957574283, 0.14830907103628604, 0.36001808700401555] 7.99997791714109\n",
      "[0.06706658841010857, 0.41371303164537354, 0.15264371501013285, 0.3665766649343848] 7.9999779171415994\n",
      "[0.06384014574993965, 0.40654405014591377, 0.1558701576703017, 0.37374564643384445] 7.999977917142084\n",
      "[0.061805467573574795, 0.3989503379325068, 0.15790483584666662, 0.38133935864725166] 7.999977917142537\n",
      "[0.06101525097701449, 0.39112856816268615, 0.15869505244322696, 0.38916112841707223] 7.999977917142946\n",
      "[0.06148996215502797, 0.38328132056490394, 0.15822034126521342, 0.3970083760148544] 7.999977917143283\n",
      "[0.06321730633745906, 0.375611834729973, 0.15649299708278233, 0.40467786184978527] 7.999977917143564\n",
      "[0.06615254621731491, 0.3683187463124228, 0.15355775720292653, 0.41197095026733566] 7.999977917143771\n",
      "[0.07021966062351778, 0.36159094247138457, 0.1494906427967236, 0.41869875410837376] 7.9999779171438945\n",
      "[0.0753133134293039, 0.3556026697923887, 0.14439698999093747, 0.4246870267873696] 7.9999779171439345\n",
      "[0.08437697612151634, 0.36931658735197814, 0.13068318460383066, 0.4156232519226744] 7.9999775507370074\n",
      "[0.08839086207710203, 0.3659023575875976, 0.12666929864824505, 0.41903748168705507] 7.999977550736986\n",
      "[0.09290044373292075, 0.3631762137250265, 0.12215971699242627, 0.421763625549626] 7.999977550736896\n",
      "[0.09778892529286105, 0.3612087614583286, 0.11727123543248595, 0.423731077816324] 7.999977550736759\n",
      "[0.10292969765232163, 0.36005095676775556, 0.11213046307302534, 0.4248888825068968] 7.999977550736571\n",
      "[0.10818961750751599, 0.35973278618662713, 0.10687054321783102, 0.42520705308802553] 7.999977550736345\n",
      "[0.11343245569710325, 0.36026249016586653, 0.10162770502824374, 0.42467734910878596] 7.999977550736075\n",
      "[0.11852242546590927, 0.3616263496506526, 0.0965377352594377, 0.4233134896239998] 7.9999775507357676\n",
      "[0.12332769927056011, 0.36378904139673174, 0.09173246145478686, 0.42115079787792087] 7.999977550735441\n",
      "[0.12772382304360944, 0.36669455282388996, 0.08733633768173754, 0.4182452864507624] 7.9999775507351\n",
      "[0.1315969394885128, 0.3702676327123591, 0.08346322123683417, 0.4146722065622935] 7.9999775507347515\n",
      "[0.13484673692380172, 0.3744157401698801, 0.08021342380154531, 0.41052409910477256] 7.999977550734407\n",
      "[0.1373890473029421, 0.3790314413922037, 0.07767111342240487, 0.4059083978824489] 7.999977550734073\n",
      "[0.13915802612252853, 0.38399519214218814, 0.07590213460281847, 0.4009446471324646] 7.999977550733757\n",
      "[0.14010785776033546, 0.389178433882747, 0.07495230296501151, 0.3957614053919057] 7.999977550733467\n",
      "[0.1402139420758673, 0.3944469233754313, 0.07484621864947966, 0.39049291589922125] 7.9999775507332185\n",
      "[0.13947353154107534, 0.3996642095097909, 0.07558662918427167, 0.3852756297648617] 7.999977550733004\n",
      "[0.13790580239989084, 0.40469516731546, 0.07715435832545614, 0.3802446719591925] 7.99997755073284\n",
      "[0.13555135801358043, 0.4094094976279125, 0.07950880271176661, 0.37553034164674015] 7.999977550732734\n",
      "[0.13247117725501661, 0.4136851017683793, 0.08258898347033039, 0.37125473750627325] 7.9999775507326785\n",
      "[0.12874503518790187, 0.41741124383549416, 0.08631512553744515, 0.36752859543915856] 7.9999775507326785\n",
      "[0.12446943693452203, 0.4204914187069709, 0.09059072379082496, 0.3644484205676817] 7.999977550732731\n",
      "[0.11975511824377125, 0.42284585147157966, 0.09530504248157573, 0.36209398780307295] 7.999977550732847\n",
      "[0.11472417749342241, 0.4244135635574439, 0.10033598323192462, 0.36052627571720874] 7.999977550733007\n",
      "[0.10950691340627786, 0.4251539520450207, 0.10555324731906915, 0.35978588722963173] 7.999977550733215\n",
      "[0.10423845038169205, 0.42504784126139045, 0.11082171034365501, 0.3598919980132622] 7.999977550733467\n",
      "[0.09905523884460538, 0.42409797942011124, 0.11600492188074163, 0.3608418598545414] 7.999977550733754\n",
      "[0.09409152125121278, 0.422328967443933, 0.12096863947413425, 0.3626108718307196] 7.99997755073407\n",
      "[0.0894758552798622, 0.41978662181381954, 0.12558430544548482, 0.365153217460833] 7.999977550734409\n",
      "[0.08532778425471388, 0.416536787946158, 0.12973237647063313, 0.3684030513284946] 7.999977550734755\n",
      "[0.08175474103643776, 0.4126636348310617, 0.13330541968890927, 0.3722762044435909] 7.999977550735102\n",
      "[0.0788492655675539, 0.408267475099738, 0.1362108951577931, 0.37667236417491456] 7.999977550735443\n",
      "[0.07668660813653039, 0.40346216698003157, 0.13837355258881662, 0.38147767229462093] 7.999977550735768\n",
      "[0.0753227804348391, 0.3983721654281307, 0.13973738029050792, 0.38656767384652185] 7.999977550736073\n",
      "[0.0747931048835681, 0.39312929881057507, 0.14026705584177893, 0.3918105404640777] 7.999977550736341\n",
      "[0.07511129980126952, 0.3878693546188078, 0.1399488609240775, 0.3970704846558447] 7.999977550736571\n",
      "[0.07626912410671505, 0.3827285626444745, 0.13879103661863196, 0.40221127663017797] 7.9999775507367605\n",
      "[0.0782365907585707, 0.37784006669937664, 0.1368235699667763, 0.40709977257527596] 7.999977550736896\n",
      "[0.0809627434040161, 0.3733304762606835, 0.1340974173213309, 0.4116093630139691] 7.999977550736984\n",
      "[0.08437697612151632, 0.3693165873519782, 0.13068318460383066, 0.4156232519226744] 7.999977550737009\n",
      "[0.09451476501686344, 0.38225669371855575, 0.1177431918886899, 0.40548534937589054] 7.9999773299375665\n",
      "[0.09652823706408581, 0.38054402518002683, 0.11572971984146754, 0.40719801791441956] 7.9999773299375505\n",
      "[0.09879036327024329, 0.37917651884707904, 0.11346759363531006, 0.40856552424736714] 7.999977329937508\n",
      "[0.10124255575483655, 0.37818959241541783, 0.11101540115071676, 0.40955245067902823] 7.999977329937437\n",
      "[0.10382130402059214, 0.3776088067612148, 0.10843665288496117, 0.4101332363332314] 7.999977329937346\n",
      "[0.10645981984198111, 0.37744920392784104, 0.10579813706357225, 0.4102928391666053] 7.9999773299372325\n",
      "[0.10908976704517798, 0.3777149175448452, 0.10316818986037532, 0.41002712554960097] 7.999977329937094\n",
      "[0.11164303137906774, 0.37839906576912014, 0.1006149255264856, 0.4093429773253261] 7.999977329936942\n",
      "[0.11405348463857065, 0.3794839295210235, 0.09820447226698273, 0.4082581135734228] 7.999977329936781\n",
      "[0.11625869735041833, 0.3809414113992336, 0.09599925955513502, 0.40680063169521263] 7.999977329936607\n",
      "[0.11820155566371893, 0.382733763388685, 0.0940564012418344, 0.40500827970576125] 7.99997732993643\n",
      "[0.11983174056869447, 0.38481456451432994, 0.09242621633685888, 0.4029274785801163] 7.999977329936258\n",
      "[0.1211070311326028, 0.38712992312000877, 0.09115092577295053, 0.4006121199744376] 7.999977329936092\n",
      "[0.12199439799971794, 0.38961987263403625, 0.09026355890583537, 0.3981221704604099] 7.999977329935932\n",
      "[0.12247085883429407, 0.3922199246719095, 0.08978709807125924, 0.3955221184225366] 7.999977329935788\n",
      "[0.12252407355098896, 0.394862739251592, 0.08973388335456435, 0.3928793038428541] 7.999977329935659\n",
      "[0.12215266391659263, 0.3974798688636767, 0.09010529298896071, 0.39026217423076953] 7.999977329935557\n"
     ]
    },
    {
     "name": "stdout",
     "output_type": "stream",
     "text": [
      "[0.12136624924554344, 0.40000353122592536, 0.09089170766000987, 0.3877385118685208] 7.999977329935476\n",
      "[0.12018519726473698, 0.4023683648087746, 0.09207275964081635, 0.3853736782856717] 7.999977329935422\n",
      "[0.11864009660009801, 0.4045131216646186, 0.0936178603054553, 0.3832289214298276] 7.999977329935392\n",
      "[0.11677096454723676, 0.40638225371747994, 0.09548699235831658, 0.38135978937696635] 7.999977329935392\n",
      "[0.11462621064451237, 0.40792735142899916, 0.09763174626104099, 0.379814691665447] 7.999977329935421\n",
      "[0.11226138289141802, 0.4091083975800508, 0.09999657401413528, 0.3786336455143955] 7.999977329935476\n",
      "[0.10973772908457205, 0.4098948036956972, 0.10252022782098127, 0.37784723939874887] 7.999977329935554\n",
      "[0.1071206105319574, 0.4102662022706236, 0.1051373463735959, 0.3774758408238225] 7.999977329935659\n",
      "[0.10447780922937773, 0.4102129742768259, 0.10778014767617561, 0.3775290688176203] 7.999977329935788\n",
      "[0.10187777234237014, 0.4097364982913841, 0.11038018456318319, 0.37800554480306203] 7.999977329935934\n",
      "[0.09938783946057166, 0.4088491147920398, 0.11287011744498165, 0.37889292830240634] 7.999977329936089\n",
      "[0.09707249853771929, 0.40757380654530495, 0.11518545836783403, 0.3801682365491411] 7.999977329936257\n",
      "[0.09499171568752234, 0.40594360336488156, 0.117266241218031, 0.3817984397295647] 7.999977329936433\n",
      "[0.09319938209281595, 0.40400072665683606, 0.11905857481273739, 0.3837413164376102] 7.999977329936609\n",
      "[0.09174191825223349, 0.40179549590736063, 0.12051603865331988, 0.38594654718708565] 7.9999773299367805\n",
      "[0.09065707171367551, 0.3993850254345124, 0.12160088519187784, 0.3883570176599339] 7.999977329936945\n",
      "[0.08997293943264703, 0.39683174515737607, 0.12228501747290628, 0.39091029793707] 7.999977329937092\n",
      "[0.0897072400758686, 0.39420178369395364, 0.1225507168296848, 0.39354025940049275] 7.9999773299372325\n",
      "[0.0898668551171152, 0.39156325566469175, 0.12239110178843812, 0.39617878742975443] 7.999977329937343\n",
      "[0.09044765061066054, 0.3889844975595939, 0.12181030629489276, 0.3987575455348522] 7.999977329937437\n",
      "[0.09143458425829967, 0.38653229785902266, 0.12082337264725368, 0.4012097452354236] 7.99997732993751\n",
      "[0.09280209499697104, 0.3842701672471416, 0.1194558619085823, 0.4034718758473047] 7.999977329937547\n",
      "[0.09451476501686343, 0.38225669371855575, 0.11774319188868991, 0.40548534937589054] 7.9999773299375665\n",
      "[0.10566093266416918, 0.39433906733680674, 0.10566093266375667, 0.394339067335267] 7.999977256177572\n",
      "[0.10566093266416919, 0.3943390673368068, 0.10566093266375667, 0.394339067335267] 7.999977256177572\n",
      "[0.10566093266416918, 0.3943390673368068, 0.10566093266375666, 0.394339067335267] 7.999977256177572\n",
      "[0.10566093266416918, 0.39433906733680674, 0.10566093266375666, 0.394339067335267] 7.999977256177572\n",
      "[0.10566093266416918, 0.3943390673368068, 0.10566093266375665, 0.394339067335267] 7.999977256177574\n",
      "[0.1056609326641692, 0.3943390673368068, 0.10566093266375665, 0.394339067335267] 7.999977256177572\n",
      "[0.10566093266416918, 0.3943390673368068, 0.10566093266375667, 0.3943390673352671] 7.999977256177572\n",
      "[0.10566093266416919, 0.3943390673368067, 0.10566093266375663, 0.39433906733526697] 7.999977256177572\n",
      "[0.10566093266416918, 0.3943390673368068, 0.10566093266375666, 0.3943390673352669] 7.999977256177569\n",
      "[0.10566093266416919, 0.39433906733680674, 0.10566093266375665, 0.394339067335267] 7.999977256177572\n",
      "[0.10566093266416923, 0.3943390673368068, 0.10566093266375667, 0.3943390673352671] 7.999977256177573\n",
      "[0.10566093266416922, 0.39433906733680685, 0.10566093266375665, 0.39433906733526713] 7.999977256177573\n",
      "[0.10566093266416925, 0.3943390673368068, 0.10566093266375662, 0.394339067335267] 7.999977256177572\n",
      "[0.10566093266416923, 0.39433906733680685, 0.10566093266375665, 0.394339067335267] 7.999977256177572\n",
      "[0.10566093266416923, 0.3943390673368068, 0.10566093266375662, 0.3943390673352671] 7.999977256177572\n",
      "[0.10566093266416922, 0.3943390673368067, 0.10566093266375662, 0.3943390673352669] 7.999977256177569\n",
      "[0.1056609326641692, 0.3943390673368068, 0.10566093266375662, 0.394339067335267] 7.999977256177574\n",
      "[0.10566093266416922, 0.39433906733680674, 0.10566093266375663, 0.394339067335267] 7.999977256177572\n",
      "[0.1056609326641692, 0.39433906733680674, 0.10566093266375665, 0.394339067335267] 7.999977256177572\n",
      "[0.1056609326641692, 0.39433906733680674, 0.10566093266375665, 0.394339067335267] 7.999977256177572\n",
      "[0.1056609326641692, 0.3943390673368069, 0.10566093266375666, 0.3943390673352671] 7.999977256177573\n",
      "[0.1056609326641692, 0.39433906733680674, 0.10566093266375665, 0.394339067335267] 7.999977256177572\n",
      "[0.1056609326641692, 0.3943390673368067, 0.10566093266375665, 0.3943390673352671] 7.999977256177572\n",
      "[0.1056609326641692, 0.3943390673368068, 0.10566093266375667, 0.394339067335267] 7.999977256177572\n",
      "[0.10566093266416919, 0.3943390673368067, 0.10566093266375665, 0.394339067335267] 7.999977256177572\n",
      "[0.1056609326641692, 0.3943390673368069, 0.10566093266375667, 0.394339067335267] 7.999977256177575\n",
      "[0.10566093266416918, 0.3943390673368067, 0.10566093266375665, 0.394339067335267] 7.999977256177574\n",
      "[0.10566093266416919, 0.39433906733680674, 0.10566093266375667, 0.394339067335267] 7.999977256177572\n",
      "[0.10566093266416919, 0.39433906733680674, 0.10566093266375666, 0.394339067335267] 7.999977256177572\n",
      "[0.10566093266416919, 0.3943390673368068, 0.10566093266375667, 0.394339067335267] 7.999977256177572\n",
      "[0.10566093266416918, 0.3943390673368068, 0.10566093266375667, 0.39433906733526713] 7.999977256177572\n",
      "[0.10566093266416915, 0.39433906733680674, 0.10566093266375669, 0.394339067335267] 7.999977256177572\n",
      "[0.10566093266416915, 0.3943390673368067, 0.1056609326637567, 0.394339067335267] 7.999977256177572\n",
      "[0.10566093266416915, 0.3943390673368068, 0.10566093266375669, 0.394339067335267] 7.999977256177572\n",
      "[0.10566093266416918, 0.3943390673368068, 0.1056609326637567, 0.39433906733526713] 7.999977256177573\n",
      "[0.10566093266416916, 0.3943390673368067, 0.1056609326637567, 0.394339067335267] 7.999977256177572\n",
      "[0.10566093266416918, 0.39433906733680674, 0.10566093266375669, 0.394339067335267] 7.999977256177572\n",
      "[0.10566093266416919, 0.39433906733680685, 0.1056609326637567, 0.394339067335267] 7.999977256177575\n",
      "[0.10566093266416918, 0.3943390673368067, 0.10566093266375666, 0.394339067335267] 7.999977256177572\n",
      "[0.10566093266416918, 0.3943390673368068, 0.10566093266375669, 0.394339067335267] 7.999977256177572\n"
     ]
    }
   ],
   "source": [
    "def error_graph(alpha_1,alpha_2,args):\n",
    "    \n",
    "    alpha_params = [alpha_1,alpha_2]\n",
    "    \n",
    "    th_a1,phi_a1,lam_a1,th_b1,phi_b1,lam_b1 = args[0],args[1],args[2],args[3],args[4],args[5]\n",
    "    th_a2,phi_a2,lam_a2,th_b2,phi_b2,lam_b2 = args[6],args[7],args[8],args[9],args[10],args[11]\n",
    "    \n",
    "    angles_a=[th_a1,phi_a1,lam_a1,th_a2,phi_a2,lam_a2]\n",
    "    \n",
    "    angles_b=[th_b1,phi_b1,lam_b1,th_b2,phi_b2,lam_b2]\n",
    "\n",
    "    U = U_matrix(angles_a, angles_b)\n",
    "    D = D_matrix(U)\n",
    "    deter = np.linalg.det(D)\n",
    "    \n",
    "    p = tomography_parametrized(alpha_params, U)\n",
    "    error = error_parameter(D,p)\n",
    "    print(p,error.real)\n",
    "    return error.real\n",
    "\n",
    "alpha_1_range = np.linspace(0, pi/2, 40)\n",
    "alpha_2_range = np.linspace(0, pi, 40)\n",
    "\n",
    "\n",
    "th_a1,phi_a1,lam_a1,th_b1,phi_b1,lam_b1 = 0.5871626,  1.57737493, 2.52063619, 0.70004151, 4.30553732, 3.45993977\n",
    "th_a2,phi_a2,lam_a2,th_b2,phi_b2,lam_b2 = 2.55283129, 1.93819982, 0.30976956, 0.67288561, 6.47455126, 4.4695403\n",
    "\n",
    "\n",
    "params = [th_a1,phi_a1,lam_a1,th_b1,phi_b1,lam_b1, th_a2,phi_a2,lam_a2,th_b2,phi_b2,lam_b2]\n",
    "\n",
    "Error = np.zeros((alpha_1_range.size, alpha_2_range.size))\n",
    "\n",
    "x_i=-1\n",
    "y_i=-1\n",
    "\n",
    "for alpha_1 in alpha_1_range:\n",
    "    x_i +=1\n",
    "    y_i =-1\n",
    "    for alpha_2 in alpha_2_range:\n",
    "        y_i+=1\n",
    "        error = error_graph(alpha_1,alpha_2, params)\n",
    "\n",
    "        Error[y_i][x_i] = error"
   ]
  },
  {
   "cell_type": "code",
   "execution_count": 75,
   "id": "physical-magnitude",
   "metadata": {},
   "outputs": [
    {
     "data": {
      "text/plain": [
       "7.999999086490503"
      ]
     },
     "execution_count": 75,
     "metadata": {},
     "output_type": "execute_result"
    }
   ],
   "source": [
    "Error[0,20]"
   ]
  },
  {
   "cell_type": "code",
   "execution_count": 76,
   "id": "applicable-transport",
   "metadata": {},
   "outputs": [
    {
     "data": {
      "image/png": "[encoded data removed]",
      "text/plain": [
       "<Figure size 432x288 with 2 Axes>"
      ]
     },
     "metadata": {
      "needs_background": "light"
     },
     "output_type": "display_data"
    }
   ],
   "source": [
    "X, Y = np.meshgrid(alpha_1_range, alpha_2_range)\n",
    "\n",
    "cmap = matplotlib.colors.LinearSegmentedColormap.from_list(\"\", [\"#10002b\",\"cyan\"])\n",
    "\n",
    "plt.contourf(X, Y, Error, 10,linestyles='solid', cmap=cmap)\n",
    "plt.xlabel(r'$\\alpha_1$')\n",
    "plt.ylabel(r'$\\alpha_2$')\n",
    "#plt.plot(th_a,th_b,'bo',color='white') \n",
    "\n",
    "plt.colorbar()\n",
    "\n",
    "plt.savefig('figures/error_v_init_nm.png')"
   ]
  },
  {
   "cell_type": "markdown",
   "id": "unusual-provision",
   "metadata": {},
   "source": [
    "As you can see, the variation of the error is lower than for the Saavedra model; here, the variation is of $\\pm2.5\\times10^{-5}$ around the mean value which is approximatelly $\\bar{\\Delta}\\approx 8$. The Saavedra model has a mean value of the QTTF error of $\\bar{\\Delta} \\approx 17$. But this error has a variation of $\\pm 6$ around this mean value for different initial states."
   ]
  },
  {
   "cell_type": "markdown",
   "id": "close-newcastle",
   "metadata": {},
   "source": [
    "### Simulation in a quantum device\n",
    "Now that we have found the best set of parameters $\\vec{\\theta}_{A_1},$ $\\vec{\\theta}_{A_2},$ $\\vec{\\theta}_{B_1},$ and $\\vec{\\theta}_{B_2}$. For this set of values, the mean error takes an approximate value of $\\bar{\\Delta} \\approx 8.$ We are going to execute the model in a local simulator for the six eigenstates of the Pauli matrices, this is,  $X= \\left\\{|{\\psi_{z_0}}\\rangle,|{\\psi_{z_1}}\\rangle,|{\\psi_{x_0}}\\rangle,|{\\psi_{x_1}}\\rangle,|{\\psi_{y_0}}\\rangle,|{\\psi_{y_1}}\\rangle\\right\\} = \\left\\{|0\\rangle, |1\\rangle, \\frac{|0\\rangle+|1\\rangle}{\\sqrt{2}}, \\frac{|0\\rangle-|1\\rangle}{\\sqrt{2}}, \\frac{|0\\rangle+i|1\\rangle}{\\sqrt{2}}, \\frac{|0\\rangle-i|1\\rangle}{\\sqrt{2}}\\right\\}.$ \n",
    "\n",
    "After this, we are going to compare the performance of the model in a real quantum computer, in this case we are going to use the `ibmq_lima` Quantum procesing unit (QPU)."
   ]
  },
  {
   "cell_type": "code",
   "execution_count": 77,
   "id": "animated-gospel",
   "metadata": {},
   "outputs": [],
   "source": [
    "def tg_circuit(angles_i):\n",
    "    ## We define the tomography circuit as a function\n",
    "    A = QuantumRegister(1,'a')\n",
    "    S = QuantumRegister(1,'s')\n",
    "    B = QuantumRegister(1,'b')\n",
    "    cr = ClassicalRegister(3)\n",
    "    \n",
    "    ## We use the best values of the angles for A and B\n",
    "    th_a1,phi_a1,lam_a1,th_b1,phi_b1,lam_b1 = 0.5871626,  1.57737493, 2.52063619, 0.70004151, 4.30553732, 3.45993977\n",
    "    th_a2,phi_a2,lam_a2,th_b2,phi_b2,lam_b2 = 2.55283129, 1.93819982, 0.30976956, 0.67288561, 6.47455126, 4.4695403\n",
    "    \n",
    "    angles_a=[th_a1,phi_a1,lam_a1,th_a2,phi_a2,lam_a2]\n",
    "    \n",
    "    angles_b=[th_b1,phi_b1,lam_b1,th_b2,phi_b2,lam_b2]\n",
    "    \n",
    "    tomography_circuit = QuantumCircuit(A,S,B, cr)\n",
    "\n",
    "    tomography_circuit.append(Initialization(angles_i),[A,S,B])\n",
    "    tomography_circuit.barrier()\n",
    "\n",
    "    tomography_circuit.append(U_operator(angles_a,angles_b),[A,S,B])\n",
    "    tomography_circuit.barrier()\n",
    "\n",
    "    tomography_circuit.h(A)                     #A\n",
    "    tomography_circuit.h(B)                     #B\n",
    "    tomography_circuit.barrier()\n",
    "\n",
    "    tomography_circuit.measure(A,cr[0])         #A\n",
    "    tomography_circuit.measure(B,cr[2])         #B\n",
    "    \n",
    "    tomography_circuit=transpile(tomography_circuit, basis_gates=['cx','id','rz','sx','x'], optimization_level=3)\n",
    "    \n",
    "    return tomography_circuit\n",
    "\n",
    "def IBM_sim_probs(angles_i, device=0):\n",
    "    circuit = tg_circuit(angles_i)\n",
    "    \n",
    "    shots = 1024\n",
    "    ## Local simulator\n",
    "    simulator = Aer.get_backend('qasm_simulator')\n",
    "    \n",
    "    ## Quantum simulator\n",
    "    qcom = provider.get_backend('ibmq_lima') #ibmqx2\n",
    "\n",
    "    %qiskit_job_watcher\n",
    "    if device == 0:\n",
    "        job=execute(circuit, backend=simulator,shots = shots)\n",
    "    else:\n",
    "        job=execute(circuit, backend=qcom)\n",
    "\n",
    "    job_monitor(job)\n",
    "    sim_result=job.result()\n",
    "    \n",
    "    sim_result_counts = sim_result.get_counts(circuit)\n",
    "    \n",
    "    if '000' in sim_result_counts:\n",
    "        p00 = sim_result_counts['000']/shots\n",
    "    else:\n",
    "        p00 = 0\n",
    "\n",
    "    if '001' in sim_result_counts:\n",
    "        p01 = sim_result_counts['001']/shots\n",
    "    else:\n",
    "        p01 = 0\n",
    "    if '100' in sim_result_counts:\n",
    "        p10 = sim_result_counts['100']/shots\n",
    "    else:\n",
    "        p10 = 0\n",
    "    if '101' in sim_result_counts:\n",
    "        p11 = sim_result_counts['101']/shots\n",
    "    else:\n",
    "        p11 = 0\n",
    "\n",
    "\n",
    "    p = [p00,p01,p10,p11]\n",
    "\n",
    "    return p\n",
    "\n",
    "def ideal_prob(angles_i):\n",
    "    \n",
    "    ## Here we calculate the ideal probabilities of the experiment\n",
    "    qr = QuantumRegister(1)\n",
    "    cr = ClassicalRegister(1)\n",
    "\n",
    "    qc_i = QuantumCircuit(qr,cr)\n",
    "    \n",
    "    qc_i.u(angles_i[0],angles_i[1],angles_i[2],qr[0])\n",
    "    \n",
    "    backend = BasicAer.get_backend('statevector_simulator') \n",
    "    result = execute(qc_i, backend).result()\n",
    "    \n",
    "    th_a1,phi_a1,lam_a1,th_b1,phi_b1,lam_b1 = 0.5871626,  1.57737493, 2.52063619, 0.70004151, 4.30553732, 3.45993977\n",
    "    th_a2,phi_a2,lam_a2,th_b2,phi_b2,lam_b2 = 2.55283129, 1.93819982, 0.30976956, 0.67288561, 6.47455126, 4.4695403\n",
    "    \n",
    "    angles_a=[th_a1,phi_a1,lam_a1,th_a2,phi_a2,lam_a2]\n",
    "    \n",
    "    angles_b=[th_b1,phi_b1,lam_b1,th_b2,phi_b2,lam_b2]\n",
    "    \n",
    "    U = U_matrix(angles_a, angles_b)\n",
    "    \n",
    "    ## Tomamos el estado asociado\n",
    "    initial_state  = result.get_statevector(qc_i)\n",
    "    alpha,beta = initial_state[0],initial_state[1]\n",
    "\n",
    "    ## Se definen los operadores U_{ij}\n",
    "    U_00 = np.matrix(np.array([[U[0,0],U[0,2]],[U[2,0],U[2,2]]]) + np.array([[U[0,1],U[0,3]],[U[2,1],U[2,3]]]) + np.array([[U[0,4],U[0,6]],[U[2,4],U[2,6]]]) + np.array([[U[0,5],U[0,7]],[U[2,5],U[2,7]]]))\n",
    "    U_01 = np.matrix(np.array([[U[1,0],U[1,2]],[U[3,0],U[3,2]]]) + np.array([[U[1,1],U[1,3]],[U[3,1],U[3,3]]]) + np.array([[U[1,4],U[1,6]],[U[3,4],U[3,6]]]) + np.array([[U[1,5],U[1,7]],[U[3,5],U[3,7]]]))\n",
    "    U_10 = np.matrix(np.array([[U[4,0],U[4,2]],[U[6,0],U[6,2]]]) + np.array([[U[4,1],U[4,3]],[U[6,1],U[6,3]]]) + np.array([[U[4,4],U[4,6]],[U[6,4],U[6,6]]]) + np.array([[U[4,5],U[4,7]],[U[6,5],U[6,7]]]))\n",
    "    U_11 = np.matrix(np.array([[U[5,0],U[5,2]],[U[7,0],U[7,2]]]) + np.array([[U[5,1],U[5,3]],[U[7,1],U[7,3]]]) + np.array([[U[5,4],U[5,6]],[U[7,4],U[7,6]]]) + np.array([[U[5,5],U[5,7]],[U[7,5],U[7,7]]]))\n",
    "\n",
    "    ## Y sus adjuntos dado que los necesitaremos luego\n",
    "    U_00d = U_00.getH()\n",
    "    U_01d = U_01.getH()\n",
    "    U_10d = U_10.getH()\n",
    "    U_11d = U_11.getH()\n",
    "    \n",
    "    ## Definimos los operadores de Kraus\n",
    "    E_00 = (U_00 + U_01 + U_10 + U_11)/4\n",
    "    E_01 = (U_00 - U_01 + U_10 - U_11)/4\n",
    "    E_10 = (U_00 + U_01 - U_10 - U_11)/4\n",
    "    E_11 = (U_00 - U_01 - U_10 + U_11)/4\n",
    "\n",
    "    ## Y sus conjugados\n",
    "    E_00d = (U_00d + U_01d + U_10d + U_11d)/4\n",
    "    E_01d = (U_00d - U_01d + U_10d - U_11d)/4\n",
    "    E_10d = (U_00d + U_01d - U_10d - U_11d)/4\n",
    "    E_11d = (U_00d - U_01d - U_10d + U_11d)/4\n",
    "\n",
    "\n",
    "    ## Los estados finales del sistema son\n",
    "    d_00 = np.matmul(E_00,initial_state)\n",
    "    d_01 = np.matmul(E_01,initial_state)\n",
    "    d_10 = np.matmul(E_10,initial_state)\n",
    "    d_11 = np.matmul(E_11,initial_state)\n",
    "\n",
    "\n",
    "    P_00_teo =  d_00[0,0]*d_00[0,0].conjugate() + d_00[0,1]*d_00[0,1].conjugate()\n",
    "    P_01_teo =  d_01[0,0]*d_01[0,0].conjugate() + d_01[0,1]*d_01[0,1].conjugate()\n",
    "    P_10_teo =  d_10[0,0]*d_10[0,0].conjugate() + d_10[0,1]*d_10[0,1].conjugate()\n",
    "    P_11_teo =  d_11[0,0]*d_11[0,0].conjugate() + d_11[0,1]*d_11[0,1].conjugate()\n",
    "\n",
    "    p_teo = [P_00_teo.real,P_01_teo.real,P_10_teo.real,P_11_teo.real]\n",
    "\n",
    "\n",
    "    return p_teo \n",
    "\n",
    "def bloch_vector_from_prob(p):\n",
    "    ## best angles\n",
    "    th_a1,phi_a1,lam_a1,th_b1,phi_b1,lam_b1 = 0.5871626,  1.57737493, 2.52063619, 0.70004151, 4.30553732, 3.45993977\n",
    "    th_a2,phi_a2,lam_a2,th_b2,phi_b2,lam_b2 = 2.55283129, 1.93819982, 0.30976956, 0.67288561, 6.47455126, 4.4695403\n",
    "    \n",
    "    angles_a=[th_a1,phi_a1,lam_a1,th_a2,phi_a2,lam_a2]\n",
    "    \n",
    "    angles_b=[th_b1,phi_b1,lam_b1,th_b2,phi_b2,lam_b2]\n",
    "    \n",
    "    U = U_matrix(angles_a, angles_b)\n",
    "    T = T_matrix(U)\n",
    "    s = np.array(np.matmul(np.linalg.inv(T),p))\n",
    "    \n",
    "    s1=s[0,1].real\n",
    "    s2=s[0,2].real\n",
    "    s3=s[0,3].real\n",
    "\n",
    "    s = [s1,s2,s3]\n",
    "    \n",
    "    return s"
   ]
  },
  {
   "cell_type": "code",
   "execution_count": 78,
   "id": "single-roller",
   "metadata": {},
   "outputs": [],
   "source": [
    "## Initial angles for Pauli matrices eigenstates \n",
    "ang_z0 = [0,0,0]\n",
    "ang_z1 = [pi,0,0]\n",
    "ang_x0 = [pi/2,0,0]\n",
    "ang_x1 = [-pi/2,0,0]\n",
    "ang_y0 = [-pi/2,-pi/2,pi/2]\n",
    "ang_y1 = [pi/2,-pi/2,pi/2]\n",
    "\n",
    "## We recalculate the T matrix\n",
    "th_a1,phi_a1,lam_a1,th_b1,phi_b1,lam_b1 = 0.5871626,  1.57737493, 2.52063619, 0.70004151, 4.30553732, 3.45993977\n",
    "th_a2,phi_a2,lam_a2,th_b2,phi_b2,lam_b2 = 2.55283129, 1.93819982, 0.30976956, 0.67288561, 6.47455126, 4.4695403\n",
    "\n",
    "angles_a=[th_a1,phi_a1,lam_a1,th_a2,phi_a2,lam_a2]\n",
    "\n",
    "angles_b=[th_b1,phi_b1,lam_b1,th_b2,phi_b2,lam_b2]\n",
    "\n",
    "U = U_matrix(angles_a, angles_b)\n",
    "T = np.array(T_matrix(U))"
   ]
  },
  {
   "cell_type": "code",
   "execution_count": 89,
   "id": "nasty-neighbor",
   "metadata": {},
   "outputs": [
    {
     "data": {
      "application/vnd.jupyter.widget-view+json": {
       "model_id": "",
       "version_major": 2,
       "version_minor": 0
      },
      "text/plain": [
       "Accordion(children=(VBox(layout=Layout(max_width='710px', min_width='710px')),), layout=Layout(max_height='500…"
      ]
     },
     "metadata": {},
     "output_type": "display_data"
    },
    {
     "data": {
      "application/javascript": [
       "\n",
       "        const isLab = window['Jupyter'] === undefined;\n",
       "        const notebook = document.querySelector( isLab ? 'div.jp-Notebook' : '#site');\n",
       "        const jobWidget = document.querySelector('div.job_widget');\n",
       "        notebook.prepend(jobWidget);\n",
       "        jobWidget.style.zIndex = '999';\n",
       "        jobWidget.style.position = isLab ? 'sticky' : 'fixed';\n",
       "        jobWidget.style.boxShadow = '5px 5px 5px -3px black';\n",
       "        jobWidget.style.opacity = '0.95';\n",
       "        if (isLab) {\n",
       "            jobWidget.style.top = '0';\n",
       "            jobWidget.style.left = '0';\n",
       "        }\n",
       "        "
      ],
      "text/plain": [
       "<IPython.core.display.Javascript object>"
      ]
     },
     "metadata": {},
     "output_type": "display_data"
    },
    {
     "name": "stdout",
     "output_type": "stream",
     "text": [
      "Job Status: job has successfully run\n",
      "s ideal:  [1.7174568604417033e-16, 1.8804018555025551e-16, 0.9999999999999998]\n",
      "s simulation:  [0.05412695192107052, -0.006765562465313374, 0.9066163434626417]\n",
      "Local simulation fidelity:  0.9990974408539745\n",
      "State:  z0 run:  1  Finished.\n"
     ]
    },
    {
     "data": {
      "application/vnd.jupyter.widget-view+json": {
       "model_id": "",
       "version_major": 2,
       "version_minor": 0
      },
      "text/plain": [
       "Accordion(children=(VBox(layout=Layout(max_width='710px', min_width='710px')),), layout=Layout(max_height='500…"
      ]
     },
     "metadata": {},
     "output_type": "display_data"
    },
    {
     "data": {
      "application/javascript": [
       "\n",
       "        const isLab = window['Jupyter'] === undefined;\n",
       "        const notebook = document.querySelector( isLab ? 'div.jp-Notebook' : '#site');\n",
       "        const jobWidget = document.querySelector('div.job_widget');\n",
       "        notebook.prepend(jobWidget);\n",
       "        jobWidget.style.zIndex = '999';\n",
       "        jobWidget.style.position = isLab ? 'sticky' : 'fixed';\n",
       "        jobWidget.style.boxShadow = '5px 5px 5px -3px black';\n",
       "        jobWidget.style.opacity = '0.95';\n",
       "        if (isLab) {\n",
       "            jobWidget.style.top = '0';\n",
       "            jobWidget.style.left = '0';\n",
       "        }\n",
       "        "
      ],
      "text/plain": [
       "<IPython.core.display.Javascript object>"
      ]
     },
     "metadata": {},
     "output_type": "display_data"
    },
    {
     "name": "stdout",
     "output_type": "stream",
     "text": [
      "Job Status: job has successfully run\n",
      "s ideal:  [1.7174568604417033e-16, 1.8804018555025551e-16, 0.9999999999999998]\n",
      "s simulation:  [0.0913392313644818, 0.013532107864217394, 1.004720043116829]\n",
      "Local simulation fidelity:  0.997901768643001\n",
      "State:  z0 run:  2  Finished.\n"
     ]
    },
    {
     "data": {
      "application/vnd.jupyter.widget-view+json": {
       "model_id": "",
       "version_major": 2,
       "version_minor": 0
      },
      "text/plain": [
       "Accordion(children=(VBox(layout=Layout(max_width='710px', min_width='710px')),), layout=Layout(max_height='500…"
      ]
     },
     "metadata": {},
     "output_type": "display_data"
    },
    {
     "data": {
      "application/javascript": [
       "\n",
       "        const isLab = window['Jupyter'] === undefined;\n",
       "        const notebook = document.querySelector( isLab ? 'div.jp-Notebook' : '#site');\n",
       "        const jobWidget = document.querySelector('div.job_widget');\n",
       "        notebook.prepend(jobWidget);\n",
       "        jobWidget.style.zIndex = '999';\n",
       "        jobWidget.style.position = isLab ? 'sticky' : 'fixed';\n",
       "        jobWidget.style.boxShadow = '5px 5px 5px -3px black';\n",
       "        jobWidget.style.opacity = '0.95';\n",
       "        if (isLab) {\n",
       "            jobWidget.style.top = '0';\n",
       "            jobWidget.style.left = '0';\n",
       "        }\n",
       "        "
      ],
      "text/plain": [
       "<IPython.core.display.Javascript object>"
      ]
     },
     "metadata": {},
     "output_type": "display_data"
    },
    {
     "name": "stdout",
     "output_type": "stream",
     "text": [
      "Job Status: job has successfully run\n",
      "s ideal:  [1.7174568604417033e-16, 1.8804018555025551e-16, 0.9999999999999998]\n",
      "s simulation:  [-0.010148803481185215, -0.016914622537099223, 0.9878056121419692]\n",
      "Local simulation fidelity:  0.9999003375922969\n",
      "State:  z0 run:  3  Finished.\n"
     ]
    },
    {
     "data": {
      "application/vnd.jupyter.widget-view+json": {
       "model_id": "",
       "version_major": 2,
       "version_minor": 0
      },
      "text/plain": [
       "Accordion(children=(VBox(layout=Layout(max_width='710px', min_width='710px')),), layout=Layout(max_height='500…"
      ]
     },
     "metadata": {},
     "output_type": "display_data"
    },
    {
     "data": {
      "application/javascript": [
       "\n",
       "        const isLab = window['Jupyter'] === undefined;\n",
       "        const notebook = document.querySelector( isLab ? 'div.jp-Notebook' : '#site');\n",
       "        const jobWidget = document.querySelector('div.job_widget');\n",
       "        notebook.prepend(jobWidget);\n",
       "        jobWidget.style.zIndex = '999';\n",
       "        jobWidget.style.position = isLab ? 'sticky' : 'fixed';\n",
       "        jobWidget.style.boxShadow = '5px 5px 5px -3px black';\n",
       "        jobWidget.style.opacity = '0.95';\n",
       "        if (isLab) {\n",
       "            jobWidget.style.top = '0';\n",
       "            jobWidget.style.left = '0';\n",
       "        }\n",
       "        "
      ],
      "text/plain": [
       "<IPython.core.display.Javascript object>"
      ]
     },
     "metadata": {},
     "output_type": "display_data"
    },
    {
     "name": "stdout",
     "output_type": "stream",
     "text": [
      "Job Status: job has successfully run\n",
      "s ideal:  [1.7174568604417033e-16, 1.8804018555025551e-16, 0.9999999999999998]\n",
      "s simulation:  [-0.10148803484228548, -0.047361302958948824, 1.008102929311801]\n",
      "Local simulation fidelity:  0.9969427482972879\n",
      "State:  z0 run:  4  Finished.\n"
     ]
    },
    {
     "data": {
      "application/vnd.jupyter.widget-view+json": {
       "model_id": "",
       "version_major": 2,
       "version_minor": 0
      },
      "text/plain": [
       "Accordion(children=(VBox(layout=Layout(max_width='710px', min_width='710px')),), layout=Layout(max_height='500…"
      ]
     },
     "metadata": {},
     "output_type": "display_data"
    },
    {
     "data": {
      "application/javascript": [
       "\n",
       "        const isLab = window['Jupyter'] === undefined;\n",
       "        const notebook = document.querySelector( isLab ? 'div.jp-Notebook' : '#site');\n",
       "        const jobWidget = document.querySelector('div.job_widget');\n",
       "        notebook.prepend(jobWidget);\n",
       "        jobWidget.style.zIndex = '999';\n",
       "        jobWidget.style.position = isLab ? 'sticky' : 'fixed';\n",
       "        jobWidget.style.boxShadow = '5px 5px 5px -3px black';\n",
       "        jobWidget.style.opacity = '0.95';\n",
       "        if (isLab) {\n",
       "            jobWidget.style.top = '0';\n",
       "            jobWidget.style.left = '0';\n",
       "        }\n",
       "        "
      ],
      "text/plain": [
       "<IPython.core.display.Javascript object>"
      ]
     },
     "metadata": {},
     "output_type": "display_data"
    },
    {
     "name": "stdout",
     "output_type": "stream",
     "text": [
      "Job Status: job has successfully run\n",
      "s ideal:  [1.7174568604417033e-16, 1.8804018555025551e-16, 0.9999999999999998]\n",
      "s simulation:  [-0.0033829344914740513, -0.02368041824117132, 1.0825264256011842]\n",
      "Local simulation fidelity:  0.9998779727744399\n",
      "State:  z0 run:  5  Finished.\n"
     ]
    },
    {
     "data": {
      "application/vnd.jupyter.widget-view+json": {
       "model_id": "",
       "version_major": 2,
       "version_minor": 0
      },
      "text/plain": [
       "Accordion(children=(VBox(layout=Layout(max_width='710px', min_width='710px')),), layout=Layout(max_height='500…"
      ]
     },
     "metadata": {},
     "output_type": "display_data"
    },
    {
     "data": {
      "application/javascript": [
       "\n",
       "        const isLab = window['Jupyter'] === undefined;\n",
       "        const notebook = document.querySelector( isLab ? 'div.jp-Notebook' : '#site');\n",
       "        const jobWidget = document.querySelector('div.job_widget');\n",
       "        notebook.prepend(jobWidget);\n",
       "        jobWidget.style.zIndex = '999';\n",
       "        jobWidget.style.position = isLab ? 'sticky' : 'fixed';\n",
       "        jobWidget.style.boxShadow = '5px 5px 5px -3px black';\n",
       "        jobWidget.style.opacity = '0.95';\n",
       "        if (isLab) {\n",
       "            jobWidget.style.top = '0';\n",
       "            jobWidget.style.left = '0';\n",
       "        }\n",
       "        "
      ],
      "text/plain": [
       "<IPython.core.display.Javascript object>"
      ]
     },
     "metadata": {},
     "output_type": "display_data"
    },
    {
     "name": "stdout",
     "output_type": "stream",
     "text": [
      "Job Status: job has successfully run\n",
      "s ideal:  [-3.604798013527443e-16, -1.568856821800491e-16, -1.0]\n",
      "s simulation:  [-0.003382934491474421, -0.09472162299558634, -0.9438224051870236]\n",
      "Local simulation fidelity:  0.997497687578115\n",
      "State:  z1 run:  1  Finished.\n"
     ]
    },
    {
     "data": {
      "application/vnd.jupyter.widget-view+json": {
       "model_id": "",
       "version_major": 2,
       "version_minor": 0
      },
      "text/plain": [
       "Accordion(children=(VBox(layout=Layout(max_width='710px', min_width='710px')),), layout=Layout(max_height='500…"
      ]
     },
     "metadata": {},
     "output_type": "display_data"
    },
    {
     "data": {
      "application/javascript": [
       "\n",
       "        const isLab = window['Jupyter'] === undefined;\n",
       "        const notebook = document.querySelector( isLab ? 'div.jp-Notebook' : '#site');\n",
       "        const jobWidget = document.querySelector('div.job_widget');\n",
       "        notebook.prepend(jobWidget);\n",
       "        jobWidget.style.zIndex = '999';\n",
       "        jobWidget.style.position = isLab ? 'sticky' : 'fixed';\n",
       "        jobWidget.style.boxShadow = '5px 5px 5px -3px black';\n",
       "        jobWidget.style.opacity = '0.95';\n",
       "        if (isLab) {\n",
       "            jobWidget.style.top = '0';\n",
       "            jobWidget.style.left = '0';\n",
       "        }\n",
       "        "
      ],
      "text/plain": [
       "<IPython.core.display.Javascript object>"
      ]
     },
     "metadata": {},
     "output_type": "display_data"
    },
    {
     "name": "stdout",
     "output_type": "stream",
     "text": [
      "Job Status: job has successfully run\n",
      "s ideal:  [-3.604798013527443e-16, -1.568856821800491e-16, -1.0]\n",
      "s simulation:  [0.00338293449823672, 0.043977905312915525, -0.9877999257216592]\n",
      "Local simulation fidelity:  0.9995022806697882\n",
      "State:  z1 run:  2  Finished.\n"
     ]
    },
    {
     "data": {
      "application/vnd.jupyter.widget-view+json": {
       "model_id": "",
       "version_major": 2,
       "version_minor": 0
      },
      "text/plain": [
       "Accordion(children=(VBox(layout=Layout(max_width='710px', min_width='710px')),), layout=Layout(max_height='500…"
      ]
     },
     "metadata": {},
     "output_type": "display_data"
    },
    {
     "data": {
      "application/javascript": [
       "\n",
       "        const isLab = window['Jupyter'] === undefined;\n",
       "        const notebook = document.querySelector( isLab ? 'div.jp-Notebook' : '#site');\n",
       "        const jobWidget = document.querySelector('div.job_widget');\n",
       "        notebook.prepend(jobWidget);\n",
       "        jobWidget.style.zIndex = '999';\n",
       "        jobWidget.style.position = isLab ? 'sticky' : 'fixed';\n",
       "        jobWidget.style.boxShadow = '5px 5px 5px -3px black';\n",
       "        jobWidget.style.opacity = '0.95';\n",
       "        if (isLab) {\n",
       "            jobWidget.style.top = '0';\n",
       "            jobWidget.style.left = '0';\n",
       "        }\n",
       "        "
      ],
      "text/plain": [
       "<IPython.core.display.Javascript object>"
      ]
     },
     "metadata": {},
     "output_type": "display_data"
    },
    {
     "name": "stdout",
     "output_type": "stream",
     "text": [
      "Job Status: job has successfully run\n",
      "s ideal:  [-3.604798013527443e-16, -1.568856821800491e-16, -1.0]\n",
      "s simulation:  [0.0981051003541925, -0.027062832963321265, -1.0520747634261265]\n",
      "Local simulation fidelity:  0.9976770156096754\n",
      "State:  z1 run:  3  Finished.\n"
     ]
    },
    {
     "data": {
      "application/vnd.jupyter.widget-view+json": {
       "model_id": "",
       "version_major": 2,
       "version_minor": 0
      },
      "text/plain": [
       "Accordion(children=(VBox(layout=Layout(max_width='710px', min_width='710px')),), layout=Layout(max_height='500…"
      ]
     },
     "metadata": {},
     "output_type": "display_data"
    },
    {
     "data": {
      "application/javascript": [
       "\n",
       "        const isLab = window['Jupyter'] === undefined;\n",
       "        const notebook = document.querySelector( isLab ? 'div.jp-Notebook' : '#site');\n",
       "        const jobWidget = document.querySelector('div.job_widget');\n",
       "        notebook.prepend(jobWidget);\n",
       "        jobWidget.style.zIndex = '999';\n",
       "        jobWidget.style.position = isLab ? 'sticky' : 'fixed';\n",
       "        jobWidget.style.boxShadow = '5px 5px 5px -3px black';\n",
       "        jobWidget.style.opacity = '0.95';\n",
       "        if (isLab) {\n",
       "            jobWidget.style.top = '0';\n",
       "            jobWidget.style.left = '0';\n",
       "        }\n",
       "        "
      ],
      "text/plain": [
       "<IPython.core.display.Javascript object>"
      ]
     },
     "metadata": {},
     "output_type": "display_data"
    },
    {
     "name": "stdout",
     "output_type": "stream",
     "text": [
      "Job Status: job has successfully run\n",
      "s ideal:  [-3.604798013527443e-16, -1.568856821800491e-16, -1.0]\n",
      "s simulation:  [-0.027063475955463406, -0.05412676547106039, -0.9472052913819956]\n",
      "Local simulation fidelity:  0.9989826754883601\n",
      "State:  z1 run:  4  Finished.\n"
     ]
    },
    {
     "data": {
      "application/vnd.jupyter.widget-view+json": {
       "model_id": "",
       "version_major": 2,
       "version_minor": 0
      },
      "text/plain": [
       "Accordion(children=(VBox(layout=Layout(max_width='710px', min_width='710px')),), layout=Layout(max_height='500…"
      ]
     },
     "metadata": {},
     "output_type": "display_data"
    },
    {
     "data": {
      "application/javascript": [
       "\n",
       "        const isLab = window['Jupyter'] === undefined;\n",
       "        const notebook = document.querySelector( isLab ? 'div.jp-Notebook' : '#site');\n",
       "        const jobWidget = document.querySelector('div.job_widget');\n",
       "        notebook.prepend(jobWidget);\n",
       "        jobWidget.style.zIndex = '999';\n",
       "        jobWidget.style.position = isLab ? 'sticky' : 'fixed';\n",
       "        jobWidget.style.boxShadow = '5px 5px 5px -3px black';\n",
       "        jobWidget.style.opacity = '0.95';\n",
       "        if (isLab) {\n",
       "            jobWidget.style.top = '0';\n",
       "            jobWidget.style.left = '0';\n",
       "        }\n",
       "        "
      ],
      "text/plain": [
       "<IPython.core.display.Javascript object>"
      ]
     },
     "metadata": {},
     "output_type": "display_data"
    },
    {
     "name": "stdout",
     "output_type": "stream",
     "text": [
      "Job Status: job has successfully run\n",
      "s ideal:  [-3.604798013527443e-16, -1.568856821800491e-16, -1.0]\n",
      "s simulation:  [-0.016914672470896758, -0.027063399396418185, -1.031777446256295]\n",
      "Local simulation fidelity:  0.9997609813087386\n",
      "State:  z1 run:  5  Finished.\n"
     ]
    },
    {
     "data": {
      "application/vnd.jupyter.widget-view+json": {
       "model_id": "",
       "version_major": 2,
       "version_minor": 0
      },
      "text/plain": [
       "Accordion(children=(VBox(layout=Layout(max_width='710px', min_width='710px')),), layout=Layout(max_height='500…"
      ]
     },
     "metadata": {},
     "output_type": "display_data"
    },
    {
     "data": {
      "application/javascript": [
       "\n",
       "        const isLab = window['Jupyter'] === undefined;\n",
       "        const notebook = document.querySelector( isLab ? 'div.jp-Notebook' : '#site');\n",
       "        const jobWidget = document.querySelector('div.job_widget');\n",
       "        notebook.prepend(jobWidget);\n",
       "        jobWidget.style.zIndex = '999';\n",
       "        jobWidget.style.position = isLab ? 'sticky' : 'fixed';\n",
       "        jobWidget.style.boxShadow = '5px 5px 5px -3px black';\n",
       "        jobWidget.style.opacity = '0.95';\n",
       "        if (isLab) {\n",
       "            jobWidget.style.top = '0';\n",
       "            jobWidget.style.left = '0';\n",
       "        }\n",
       "        "
      ],
      "text/plain": [
       "<IPython.core.display.Javascript object>"
      ]
     },
     "metadata": {},
     "output_type": "display_data"
    },
    {
     "name": "stdout",
     "output_type": "stream",
     "text": [
      "Job Status: job has successfully run\n",
      "s ideal:  [0.9999999999999996, -2.220446049250313e-16, 0.0]\n",
      "s simulation:  [0.899860575634962, 0.020301918577942446, 0.04059747754981857]\n",
      "Local simulation fidelity:  0.9993651120445096\n",
      "State:  x0 run:  1  Finished.\n"
     ]
    },
    {
     "data": {
      "application/vnd.jupyter.widget-view+json": {
       "model_id": "",
       "version_major": 2,
       "version_minor": 0
      },
      "text/plain": [
       "Accordion(children=(VBox(layout=Layout(max_width='710px', min_width='710px')),), layout=Layout(max_height='500…"
      ]
     },
     "metadata": {},
     "output_type": "display_data"
    },
    {
     "data": {
      "application/javascript": [
       "\n",
       "        const isLab = window['Jupyter'] === undefined;\n",
       "        const notebook = document.querySelector( isLab ? 'div.jp-Notebook' : '#site');\n",
       "        const jobWidget = document.querySelector('div.job_widget');\n",
       "        notebook.prepend(jobWidget);\n",
       "        jobWidget.style.zIndex = '999';\n",
       "        jobWidget.style.position = isLab ? 'sticky' : 'fixed';\n",
       "        jobWidget.style.boxShadow = '5px 5px 5px -3px black';\n",
       "        jobWidget.style.opacity = '0.95';\n",
       "        if (isLab) {\n",
       "            jobWidget.style.top = '0';\n",
       "            jobWidget.style.left = '0';\n",
       "        }\n",
       "        "
      ],
      "text/plain": [
       "<IPython.core.display.Javascript object>"
      ]
     },
     "metadata": {},
     "output_type": "display_data"
    },
    {
     "name": "stdout",
     "output_type": "stream",
     "text": [
      "Job Status: job has successfully run\n",
      "s ideal:  [0.9999999999999996, -2.220446049250313e-16, 0.0]\n",
      "s simulation:  [0.9911998069960624, 0.03045111192824551, 0.027065932769930745]\n",
      "Local simulation fidelity:  0.9995781746921647\n",
      "State:  x0 run:  2  Finished.\n"
     ]
    },
    {
     "data": {
      "application/vnd.jupyter.widget-view+json": {
       "model_id": "",
       "version_major": 2,
       "version_minor": 0
      },
      "text/plain": [
       "Accordion(children=(VBox(layout=Layout(max_width='710px', min_width='710px')),), layout=Layout(max_height='500…"
      ]
     },
     "metadata": {},
     "output_type": "display_data"
    },
    {
     "data": {
      "application/javascript": [
       "\n",
       "        const isLab = window['Jupyter'] === undefined;\n",
       "        const notebook = document.querySelector( isLab ? 'div.jp-Notebook' : '#site');\n",
       "        const jobWidget = document.querySelector('div.job_widget');\n",
       "        notebook.prepend(jobWidget);\n",
       "        jobWidget.style.zIndex = '999';\n",
       "        jobWidget.style.position = isLab ? 'sticky' : 'fixed';\n",
       "        jobWidget.style.boxShadow = '5px 5px 5px -3px black';\n",
       "        jobWidget.style.opacity = '0.95';\n",
       "        if (isLab) {\n",
       "            jobWidget.style.top = '0';\n",
       "            jobWidget.style.left = '0';\n",
       "        }\n",
       "        "
      ],
      "text/plain": [
       "<IPython.core.display.Javascript object>"
      ]
     },
     "metadata": {},
     "output_type": "display_data"
    },
    {
     "name": "stdout",
     "output_type": "stream",
     "text": [
      "Job Status: job has successfully run\n",
      "s ideal:  [0.9999999999999996, -2.220446049250313e-16, 0.0]\n",
      "s simulation:  [0.8930947066452508, 0.0338335433059998, 0.013534387990042807]\n",
      "Local simulation fidelity:  0.9995843146933484\n",
      "State:  x0 run:  3  Finished.\n"
     ]
    },
    {
     "data": {
      "application/vnd.jupyter.widget-view+json": {
       "model_id": "",
       "version_major": 2,
       "version_minor": 0
      },
      "text/plain": [
       "Accordion(children=(VBox(layout=Layout(max_width='710px', min_width='710px')),), layout=Layout(max_height='500…"
      ]
     },
     "metadata": {},
     "output_type": "display_data"
    },
    {
     "data": {
      "application/javascript": [
       "\n",
       "        const isLab = window['Jupyter'] === undefined;\n",
       "        const notebook = document.querySelector( isLab ? 'div.jp-Notebook' : '#site');\n",
       "        const jobWidget = document.querySelector('div.job_widget');\n",
       "        notebook.prepend(jobWidget);\n",
       "        jobWidget.style.zIndex = '999';\n",
       "        jobWidget.style.position = isLab ? 'sticky' : 'fixed';\n",
       "        jobWidget.style.boxShadow = '5px 5px 5px -3px black';\n",
       "        jobWidget.style.opacity = '0.95';\n",
       "        if (isLab) {\n",
       "            jobWidget.style.top = '0';\n",
       "            jobWidget.style.left = '0';\n",
       "        }\n",
       "        "
      ],
      "text/plain": [
       "<IPython.core.display.Javascript object>"
      ]
     },
     "metadata": {},
     "output_type": "display_data"
    },
    {
     "name": "stdout",
     "output_type": "stream",
     "text": [
      "Job Status: job has successfully run\n",
      "s ideal:  [0.9999999999999996, -2.220446049250313e-16, 0.0]\n",
      "s simulation:  [0.9878168725012066, 0.01015360819689426, 0.030448818964902702]\n",
      "Local simulation fidelity:  0.9997362599718621\n",
      "State:  x0 run:  4  Finished.\n"
     ]
    },
    {
     "data": {
      "application/vnd.jupyter.widget-view+json": {
       "model_id": "",
       "version_major": 2,
       "version_minor": 0
      },
      "text/plain": [
       "Accordion(children=(VBox(layout=Layout(max_width='710px', min_width='710px')),), layout=Layout(max_height='500…"
      ]
     },
     "metadata": {},
     "output_type": "display_data"
    },
    {
     "data": {
      "application/javascript": [
       "\n",
       "        const isLab = window['Jupyter'] === undefined;\n",
       "        const notebook = document.querySelector( isLab ? 'div.jp-Notebook' : '#site');\n",
       "        const jobWidget = document.querySelector('div.job_widget');\n",
       "        notebook.prepend(jobWidget);\n",
       "        jobWidget.style.zIndex = '999';\n",
       "        jobWidget.style.position = isLab ? 'sticky' : 'fixed';\n",
       "        jobWidget.style.boxShadow = '5px 5px 5px -3px black';\n",
       "        jobWidget.style.opacity = '0.95';\n",
       "        if (isLab) {\n",
       "            jobWidget.style.top = '0';\n",
       "            jobWidget.style.left = '0';\n",
       "        }\n",
       "        "
      ],
      "text/plain": [
       "<IPython.core.display.Javascript object>"
      ]
     },
     "metadata": {},
     "output_type": "display_data"
    },
    {
     "name": "stdout",
     "output_type": "stream",
     "text": [
      "Job Status: job has successfully run\n",
      "s ideal:  [0.9999999999999996, -2.220446049250313e-16, 0.0]\n",
      "s simulation:  [0.9506045930577955, 0.0067705104272277605, 0.05074613613473444]\n",
      "Local simulation fidelity:  0.9992764552399596\n",
      "State:  x0 run:  5  Finished.\n"
     ]
    },
    {
     "data": {
      "application/vnd.jupyter.widget-view+json": {
       "model_id": "",
       "version_major": 2,
       "version_minor": 0
      },
      "text/plain": [
       "Accordion(children=(VBox(layout=Layout(max_width='710px', min_width='710px')),), layout=Layout(max_height='500…"
      ]
     },
     "metadata": {},
     "output_type": "display_data"
    },
    {
     "data": {
      "application/javascript": [
       "\n",
       "        const isLab = window['Jupyter'] === undefined;\n",
       "        const notebook = document.querySelector( isLab ? 'div.jp-Notebook' : '#site');\n",
       "        const jobWidget = document.querySelector('div.job_widget');\n",
       "        notebook.prepend(jobWidget);\n",
       "        jobWidget.style.zIndex = '999';\n",
       "        jobWidget.style.position = isLab ? 'sticky' : 'fixed';\n",
       "        jobWidget.style.boxShadow = '5px 5px 5px -3px black';\n",
       "        jobWidget.style.opacity = '0.95';\n",
       "        if (isLab) {\n",
       "            jobWidget.style.top = '0';\n",
       "            jobWidget.style.left = '0';\n",
       "        }\n",
       "        "
      ],
      "text/plain": [
       "<IPython.core.display.Javascript object>"
      ]
     },
     "metadata": {},
     "output_type": "display_data"
    },
    {
     "name": "stdout",
     "output_type": "stream",
     "text": [
      "Job Status: job has successfully run\n",
      "s ideal:  [-0.9999999999999998, 5.551115123125783e-17, -2.220446049250313e-16]\n",
      "s simulation:  [-1.004731544968722, 0.016909624599587003, 2.8432101548681032e-06]\n",
      "Local simulation fidelity:  0.9999292028736956\n",
      "State:  x1 run:  1  Finished.\n"
     ]
    },
    {
     "data": {
      "application/vnd.jupyter.widget-view+json": {
       "model_id": "",
       "version_major": 2,
       "version_minor": 0
      },
      "text/plain": [
       "Accordion(children=(VBox(layout=Layout(max_width='710px', min_width='710px')),), layout=Layout(max_height='500…"
      ]
     },
     "metadata": {},
     "output_type": "display_data"
    },
    {
     "data": {
      "application/javascript": [
       "\n",
       "        const isLab = window['Jupyter'] === undefined;\n",
       "        const notebook = document.querySelector( isLab ? 'div.jp-Notebook' : '#site');\n",
       "        const jobWidget = document.querySelector('div.job_widget');\n",
       "        notebook.prepend(jobWidget);\n",
       "        jobWidget.style.zIndex = '999';\n",
       "        jobWidget.style.position = isLab ? 'sticky' : 'fixed';\n",
       "        jobWidget.style.boxShadow = '5px 5px 5px -3px black';\n",
       "        jobWidget.style.opacity = '0.95';\n",
       "        if (isLab) {\n",
       "            jobWidget.style.top = '0';\n",
       "            jobWidget.style.left = '0';\n",
       "        }\n",
       "        "
      ],
      "text/plain": [
       "<IPython.core.display.Javascript object>"
      ]
     },
     "metadata": {},
     "output_type": "display_data"
    },
    {
     "name": "stdout",
     "output_type": "stream",
     "text": [
      "Job Status: job has successfully run\n",
      "s ideal:  [-0.9999999999999998, 5.551115123125783e-17, -2.220446049250313e-16]\n",
      "s simulation:  [-0.987816872494444, 0.010143878874717904, -0.0033800429848169777]\n",
      "Local simulation fidelity:  0.9999707124889932\n",
      "State:  x1 run:  2  Finished.\n"
     ]
    },
    {
     "data": {
      "application/vnd.jupyter.widget-view+json": {
       "model_id": "",
       "version_major": 2,
       "version_minor": 0
      },
      "text/plain": [
       "Accordion(children=(VBox(layout=Layout(max_width='710px', min_width='710px')),), layout=Layout(max_height='500…"
      ]
     },
     "metadata": {},
     "output_type": "display_data"
    },
    {
     "data": {
      "application/javascript": [
       "\n",
       "        const isLab = window['Jupyter'] === undefined;\n",
       "        const notebook = document.querySelector( isLab ? 'div.jp-Notebook' : '#site');\n",
       "        const jobWidget = document.querySelector('div.job_widget');\n",
       "        notebook.prepend(jobWidget);\n",
       "        jobWidget.style.zIndex = '999';\n",
       "        jobWidget.style.position = isLab ? 'sticky' : 'fixed';\n",
       "        jobWidget.style.boxShadow = '5px 5px 5px -3px black';\n",
       "        jobWidget.style.opacity = '0.95';\n",
       "        if (isLab) {\n",
       "            jobWidget.style.top = '0';\n",
       "            jobWidget.style.left = '0';\n",
       "        }\n",
       "        "
      ],
      "text/plain": [
       "<IPython.core.display.Javascript object>"
      ]
     },
     "metadata": {},
     "output_type": "display_data"
    },
    {
     "name": "stdout",
     "output_type": "stream",
     "text": [
      "Job Status: job has successfully run\n",
      "s ideal:  [-0.9999999999999998, 5.551115123125783e-17, -2.220446049250313e-16]\n",
      "s simulation:  [-1.0250291519378556, 0.016909524640665974, -0.06765488068928438]\n",
      "Local simulation fidelity:  0.9988468715441884\n",
      "State:  x1 run:  3  Finished.\n"
     ]
    },
    {
     "data": {
      "application/vnd.jupyter.widget-view+json": {
       "model_id": "",
       "version_major": 2,
       "version_minor": 0
      },
      "text/plain": [
       "Accordion(children=(VBox(layout=Layout(max_width='710px', min_width='710px')),), layout=Layout(max_height='500…"
      ]
     },
     "metadata": {},
     "output_type": "display_data"
    },
    {
     "data": {
      "application/javascript": [
       "\n",
       "        const isLab = window['Jupyter'] === undefined;\n",
       "        const notebook = document.querySelector( isLab ? 'div.jp-Notebook' : '#site');\n",
       "        const jobWidget = document.querySelector('div.job_widget');\n",
       "        notebook.prepend(jobWidget);\n",
       "        jobWidget.style.zIndex = '999';\n",
       "        jobWidget.style.position = isLab ? 'sticky' : 'fixed';\n",
       "        jobWidget.style.boxShadow = '5px 5px 5px -3px black';\n",
       "        jobWidget.style.opacity = '0.95';\n",
       "        if (isLab) {\n",
       "            jobWidget.style.top = '0';\n",
       "            jobWidget.style.left = '0';\n",
       "        }\n",
       "        "
      ],
      "text/plain": [
       "<IPython.core.display.Javascript object>"
      ]
     },
     "metadata": {},
     "output_type": "display_data"
    },
    {
     "name": "stdout",
     "output_type": "stream",
     "text": [
      "Job Status: job has successfully run\n",
      "s ideal:  [-0.9999999999999998, 5.551115123125783e-17, -2.220446049250313e-16]\n",
      "s simulation:  [-1.0148803484532887, -0.050748715618240736, 0.05074613613473444]\n",
      "Local simulation fidelity:  0.9987545013751796\n",
      "State:  x1 run:  4  Finished.\n"
     ]
    },
    {
     "data": {
      "application/vnd.jupyter.widget-view+json": {
       "model_id": "",
       "version_major": 2,
       "version_minor": 0
      },
      "text/plain": [
       "Accordion(children=(VBox(layout=Layout(max_width='710px', min_width='710px')),), layout=Layout(max_height='500…"
      ]
     },
     "metadata": {},
     "output_type": "display_data"
    },
    {
     "data": {
      "application/javascript": [
       "\n",
       "        const isLab = window['Jupyter'] === undefined;\n",
       "        const notebook = document.querySelector( isLab ? 'div.jp-Notebook' : '#site');\n",
       "        const jobWidget = document.querySelector('div.job_widget');\n",
       "        notebook.prepend(jobWidget);\n",
       "        jobWidget.style.zIndex = '999';\n",
       "        jobWidget.style.position = isLab ? 'sticky' : 'fixed';\n",
       "        jobWidget.style.boxShadow = '5px 5px 5px -3px black';\n",
       "        jobWidget.style.opacity = '0.95';\n",
       "        if (isLab) {\n",
       "            jobWidget.style.top = '0';\n",
       "            jobWidget.style.left = '0';\n",
       "        }\n",
       "        "
      ],
      "text/plain": [
       "<IPython.core.display.Javascript object>"
      ]
     },
     "metadata": {},
     "output_type": "display_data"
    },
    {
     "name": "stdout",
     "output_type": "stream",
     "text": [
      "Job Status: job has successfully run\n",
      "s ideal:  [-0.9999999999999998, 5.551115123125783e-17, -2.220446049250313e-16]\n",
      "s simulation:  [-1.0453267589069888, -0.08796092518762993, 0.04398036374479053]\n",
      "Local simulation fidelity:  0.9978018678652264\n",
      "State:  x1 run:  5  Finished.\n"
     ]
    },
    {
     "data": {
      "application/vnd.jupyter.widget-view+json": {
       "model_id": "",
       "version_major": 2,
       "version_minor": 0
      },
      "text/plain": [
       "Accordion(children=(VBox(layout=Layout(max_width='710px', min_width='710px')),), layout=Layout(max_height='500…"
      ]
     },
     "metadata": {},
     "output_type": "display_data"
    },
    {
     "data": {
      "application/javascript": [
       "\n",
       "        const isLab = window['Jupyter'] === undefined;\n",
       "        const notebook = document.querySelector( isLab ? 'div.jp-Notebook' : '#site');\n",
       "        const jobWidget = document.querySelector('div.job_widget');\n",
       "        notebook.prepend(jobWidget);\n",
       "        jobWidget.style.zIndex = '999';\n",
       "        jobWidget.style.position = isLab ? 'sticky' : 'fixed';\n",
       "        jobWidget.style.boxShadow = '5px 5px 5px -3px black';\n",
       "        jobWidget.style.opacity = '0.95';\n",
       "        if (isLab) {\n",
       "            jobWidget.style.top = '0';\n",
       "            jobWidget.style.left = '0';\n",
       "        }\n",
       "        "
      ],
      "text/plain": [
       "<IPython.core.display.Javascript object>"
      ]
     },
     "metadata": {},
     "output_type": "display_data"
    },
    {
     "name": "stdout",
     "output_type": "stream",
     "text": [
      "Job Status: job has successfully run\n",
      "s ideal:  [0.0, 0.9999999999999998, 0.0]\n",
      "s simulation:  [-0.027063475955463545, 1.0081083912757605, 0.006768615600099004]\n",
      "Local simulation fidelity:  0.9998086656075058\n",
      "State:  y0 run:  1  Finished.\n"
     ]
    },
    {
     "data": {
      "application/vnd.jupyter.widget-view+json": {
       "model_id": "",
       "version_major": 2,
       "version_minor": 0
      },
      "text/plain": [
       "Accordion(children=(VBox(layout=Layout(max_width='710px', min_width='710px')),), layout=Layout(max_height='500…"
      ]
     },
     "metadata": {},
     "output_type": "display_data"
    },
    {
     "data": {
      "application/javascript": [
       "\n",
       "        const isLab = window['Jupyter'] === undefined;\n",
       "        const notebook = document.querySelector( isLab ? 'div.jp-Notebook' : '#site');\n",
       "        const jobWidget = document.querySelector('div.job_widget');\n",
       "        notebook.prepend(jobWidget);\n",
       "        jobWidget.style.zIndex = '999';\n",
       "        jobWidget.style.position = isLab ? 'sticky' : 'fixed';\n",
       "        jobWidget.style.boxShadow = '5px 5px 5px -3px black';\n",
       "        jobWidget.style.opacity = '0.95';\n",
       "        if (isLab) {\n",
       "            jobWidget.style.top = '0';\n",
       "            jobWidget.style.left = '0';\n",
       "        }\n",
       "        "
      ],
      "text/plain": [
       "<IPython.core.display.Javascript object>"
      ]
     },
     "metadata": {},
     "output_type": "display_data"
    },
    {
     "name": "stdout",
     "output_type": "stream",
     "text": [
      "Job Status: job has successfully run\n",
      "s ideal:  [0.0, 0.9999999999999998, 0.0]\n",
      "s simulation:  [-0.10148803484228613, 1.0453200843911632, -0.11163240122391982]\n",
      "Local simulation fidelity:  0.9948722905645938\n",
      "State:  y0 run:  2  Finished.\n"
     ]
    },
    {
     "data": {
      "application/vnd.jupyter.widget-view+json": {
       "model_id": "",
       "version_major": 2,
       "version_minor": 0
      },
      "text/plain": [
       "Accordion(children=(VBox(layout=Layout(max_width='710px', min_width='710px')),), layout=Layout(max_height='500…"
      ]
     },
     "metadata": {},
     "output_type": "display_data"
    },
    {
     "data": {
      "application/javascript": [
       "\n",
       "        const isLab = window['Jupyter'] === undefined;\n",
       "        const notebook = document.querySelector( isLab ? 'div.jp-Notebook' : '#site');\n",
       "        const jobWidget = document.querySelector('div.job_widget');\n",
       "        notebook.prepend(jobWidget);\n",
       "        jobWidget.style.zIndex = '999';\n",
       "        jobWidget.style.position = isLab ? 'sticky' : 'fixed';\n",
       "        jobWidget.style.boxShadow = '5px 5px 5px -3px black';\n",
       "        jobWidget.style.opacity = '0.95';\n",
       "        if (isLab) {\n",
       "            jobWidget.style.top = '0';\n",
       "            jobWidget.style.left = '0';\n",
       "        }\n",
       "        "
      ],
      "text/plain": [
       "<IPython.core.display.Javascript object>"
      ]
     },
     "metadata": {},
     "output_type": "display_data"
    },
    {
     "name": "stdout",
     "output_type": "stream",
     "text": [
      "Job Status: job has successfully run\n",
      "s ideal:  [0.0, 0.9999999999999998, 0.0]\n",
      "s simulation:  [-0.06427575539887487, 1.0351715241131099, -0.13869549078369559]\n",
      "Local simulation fidelity:  0.994635855204601\n",
      "State:  y0 run:  3  Finished.\n"
     ]
    },
    {
     "data": {
      "application/vnd.jupyter.widget-view+json": {
       "model_id": "",
       "version_major": 2,
       "version_minor": 0
      },
      "text/plain": [
       "Accordion(children=(VBox(layout=Layout(max_width='710px', min_width='710px')),), layout=Layout(max_height='500…"
      ]
     },
     "metadata": {},
     "output_type": "display_data"
    },
    {
     "data": {
      "application/javascript": [
       "\n",
       "        const isLab = window['Jupyter'] === undefined;\n",
       "        const notebook = document.querySelector( isLab ? 'div.jp-Notebook' : '#site');\n",
       "        const jobWidget = document.querySelector('div.job_widget');\n",
       "        notebook.prepend(jobWidget);\n",
       "        jobWidget.style.zIndex = '999';\n",
       "        jobWidget.style.position = isLab ? 'sticky' : 'fixed';\n",
       "        jobWidget.style.boxShadow = '5px 5px 5px -3px black';\n",
       "        jobWidget.style.opacity = '0.95';\n",
       "        if (isLab) {\n",
       "            jobWidget.style.top = '0';\n",
       "            jobWidget.style.left = '0';\n",
       "        }\n",
       "        "
      ],
      "text/plain": [
       "<IPython.core.display.Javascript object>"
      ]
     },
     "metadata": {},
     "output_type": "display_data"
    },
    {
     "name": "stdout",
     "output_type": "stream",
     "text": [
      "Job Status: job has successfully run\n",
      "s ideal:  [0.0, 0.9999999999999998, 0.0]\n",
      "s simulation:  [-0.020297606965752446, 1.0487033987384364, -0.013528701569732737]\n",
      "Local simulation fidelity:  0.9998647961596565\n",
      "State:  y0 run:  4  Finished.\n"
     ]
    },
    {
     "data": {
      "application/vnd.jupyter.widget-view+json": {
       "model_id": "",
       "version_major": 2,
       "version_minor": 0
      },
      "text/plain": [
       "Accordion(children=(VBox(layout=Layout(max_width='710px', min_width='710px')),), layout=Layout(max_height='500…"
      ]
     },
     "metadata": {},
     "output_type": "display_data"
    },
    {
     "data": {
      "application/javascript": [
       "\n",
       "        const isLab = window['Jupyter'] === undefined;\n",
       "        const notebook = document.querySelector( isLab ? 'div.jp-Notebook' : '#site');\n",
       "        const jobWidget = document.querySelector('div.job_widget');\n",
       "        notebook.prepend(jobWidget);\n",
       "        jobWidget.style.zIndex = '999';\n",
       "        jobWidget.style.position = isLab ? 'sticky' : 'fixed';\n",
       "        jobWidget.style.boxShadow = '5px 5px 5px -3px black';\n",
       "        jobWidget.style.opacity = '0.95';\n",
       "        if (isLab) {\n",
       "            jobWidget.style.top = '0';\n",
       "            jobWidget.style.left = '0';\n",
       "        }\n",
       "        "
      ],
      "text/plain": [
       "<IPython.core.display.Javascript object>"
      ]
     },
     "metadata": {},
     "output_type": "display_data"
    },
    {
     "name": "stdout",
     "output_type": "stream",
     "text": [
      "Job Status: job has successfully run\n",
      "s ideal:  [0.0, 0.9999999999999998, 0.0]\n",
      "s simulation:  [-0.01691467247089684, 0.9878109541835753, -0.0033800429848169777]\n",
      "Local simulation fidelity:  0.9999237877102466\n",
      "State:  y0 run:  5  Finished.\n"
     ]
    },
    {
     "data": {
      "application/vnd.jupyter.widget-view+json": {
       "model_id": "",
       "version_major": 2,
       "version_minor": 0
      },
      "text/plain": [
       "Accordion(children=(VBox(layout=Layout(max_width='710px', min_width='710px')),), layout=Layout(max_height='500…"
      ]
     },
     "metadata": {},
     "output_type": "display_data"
    },
    {
     "data": {
      "application/javascript": [
       "\n",
       "        const isLab = window['Jupyter'] === undefined;\n",
       "        const notebook = document.querySelector( isLab ? 'div.jp-Notebook' : '#site');\n",
       "        const jobWidget = document.querySelector('div.job_widget');\n",
       "        notebook.prepend(jobWidget);\n",
       "        jobWidget.style.zIndex = '999';\n",
       "        jobWidget.style.position = isLab ? 'sticky' : 'fixed';\n",
       "        jobWidget.style.boxShadow = '5px 5px 5px -3px black';\n",
       "        jobWidget.style.opacity = '0.95';\n",
       "        if (isLab) {\n",
       "            jobWidget.style.top = '0';\n",
       "            jobWidget.style.left = '0';\n",
       "        }\n",
       "        "
      ],
      "text/plain": [
       "<IPython.core.display.Javascript object>"
      ]
     },
     "metadata": {},
     "output_type": "display_data"
    },
    {
     "name": "stdout",
     "output_type": "stream",
     "text": [
      "Job Status: job has successfully run\n",
      "s ideal:  [-1.1102230246251565e-16, -0.9999999999999999, -1.1102230246251565e-16]\n",
      "s simulation:  [0.0033829344982372334, -1.055469311061327, -0.010145815374761002]\n",
      "Local simulation fidelity:  0.999974333164241\n",
      "State:  y1 run:  1  Finished.\n"
     ]
    },
    {
     "data": {
      "application/vnd.jupyter.widget-view+json": {
       "model_id": "",
       "version_major": 2,
       "version_minor": 0
      },
      "text/plain": [
       "Accordion(children=(VBox(layout=Layout(max_width='710px', min_width='710px')),), layout=Layout(max_height='500…"
      ]
     },
     "metadata": {},
     "output_type": "display_data"
    },
    {
     "data": {
      "application/javascript": [
       "\n",
       "        const isLab = window['Jupyter'] === undefined;\n",
       "        const notebook = document.querySelector( isLab ? 'div.jp-Notebook' : '#site');\n",
       "        const jobWidget = document.querySelector('div.job_widget');\n",
       "        notebook.prepend(jobWidget);\n",
       "        jobWidget.style.zIndex = '999';\n",
       "        jobWidget.style.position = isLab ? 'sticky' : 'fixed';\n",
       "        jobWidget.style.boxShadow = '5px 5px 5px -3px black';\n",
       "        jobWidget.style.opacity = '0.95';\n",
       "        if (isLab) {\n",
       "            jobWidget.style.top = '0';\n",
       "            jobWidget.style.left = '0';\n",
       "        }\n",
       "        "
      ],
      "text/plain": [
       "<IPython.core.display.Javascript object>"
      ]
     },
     "metadata": {},
     "output_type": "display_data"
    },
    {
     "name": "stdout",
     "output_type": "stream",
     "text": [
      "Job Status: job has successfully run\n",
      "s ideal:  [-1.1102230246251565e-16, -0.9999999999999999, -1.1102230246251565e-16]\n",
      "s simulation:  [-0.006765868986329526, -0.8964723789801308, 0.01015150179507085]\n",
      "Local simulation fidelity:  0.9999537090315255\n",
      "State:  y1 run:  2  Finished.\n"
     ]
    },
    {
     "data": {
      "application/vnd.jupyter.widget-view+json": {
       "model_id": "",
       "version_major": 2,
       "version_minor": 0
      },
      "text/plain": [
       "Accordion(children=(VBox(layout=Layout(max_width='710px', min_width='710px')),), layout=Layout(max_height='500…"
      ]
     },
     "metadata": {},
     "output_type": "display_data"
    },
    {
     "data": {
      "application/javascript": [
       "\n",
       "        const isLab = window['Jupyter'] === undefined;\n",
       "        const notebook = document.querySelector( isLab ? 'div.jp-Notebook' : '#site');\n",
       "        const jobWidget = document.querySelector('div.job_widget');\n",
       "        notebook.prepend(jobWidget);\n",
       "        jobWidget.style.zIndex = '999';\n",
       "        jobWidget.style.position = isLab ? 'sticky' : 'fixed';\n",
       "        jobWidget.style.boxShadow = '5px 5px 5px -3px black';\n",
       "        jobWidget.style.opacity = '0.95';\n",
       "        if (isLab) {\n",
       "            jobWidget.style.top = '0';\n",
       "            jobWidget.style.left = '0';\n",
       "        }\n",
       "        "
      ],
      "text/plain": [
       "<IPython.core.display.Javascript object>"
      ]
     },
     "metadata": {},
     "output_type": "display_data"
    },
    {
     "name": "stdout",
     "output_type": "stream",
     "text": [
      "Job Status: job has successfully run\n",
      "s ideal:  [-1.1102230246251565e-16, -0.9999999999999999, -1.1102230246251565e-16]\n",
      "s simulation:  [0.06089282091078185, -1.0757665149161666, 0.06766056710959434]\n",
      "Local simulation fidelity:  0.9982195961160871\n",
      "State:  y1 run:  3  Finished.\n"
     ]
    },
    {
     "data": {
      "application/vnd.jupyter.widget-view+json": {
       "model_id": "",
       "version_major": 2,
       "version_minor": 0
      },
      "text/plain": [
       "Accordion(children=(VBox(layout=Layout(max_width='710px', min_width='710px')),), layout=Layout(max_height='500…"
      ]
     },
     "metadata": {},
     "output_type": "display_data"
    },
    {
     "data": {
      "application/javascript": [
       "\n",
       "        const isLab = window['Jupyter'] === undefined;\n",
       "        const notebook = document.querySelector( isLab ? 'div.jp-Notebook' : '#site');\n",
       "        const jobWidget = document.querySelector('div.job_widget');\n",
       "        notebook.prepend(jobWidget);\n",
       "        jobWidget.style.zIndex = '999';\n",
       "        jobWidget.style.position = isLab ? 'sticky' : 'fixed';\n",
       "        jobWidget.style.boxShadow = '5px 5px 5px -3px black';\n",
       "        jobWidget.style.opacity = '0.95';\n",
       "        if (isLab) {\n",
       "            jobWidget.style.top = '0';\n",
       "            jobWidget.style.left = '0';\n",
       "        }\n",
       "        "
      ],
      "text/plain": [
       "<IPython.core.display.Javascript object>"
      ]
     },
     "metadata": {},
     "output_type": "display_data"
    },
    {
     "name": "stdout",
     "output_type": "stream",
     "text": [
      "Job Status: job has successfully run\n",
      "s ideal:  [-1.1102230246251565e-16, -0.9999999999999999, -1.1102230246251565e-16]\n",
      "s simulation:  [0.010148803487948332, -1.035171790670224, -0.03720890493453677]\n",
      "Local simulation fidelity:  0.9996533266101384\n",
      "State:  y1 run:  4  Finished.\n"
     ]
    },
    {
     "data": {
      "application/vnd.jupyter.widget-view+json": {
       "model_id": "f9bb0d38b3be4d95b47302faca4cfc92",
       "version_major": 2,
       "version_minor": 0
      },
      "text/plain": [
       "Accordion(children=(VBox(layout=Layout(max_width='710px', min_width='710px')),), layout=Layout(max_height='500…"
      ]
     },
     "metadata": {},
     "output_type": "display_data"
    },
    {
     "data": {
      "application/javascript": [
       "\n",
       "        const isLab = window['Jupyter'] === undefined;\n",
       "        const notebook = document.querySelector( isLab ? 'div.jp-Notebook' : '#site');\n",
       "        const jobWidget = document.querySelector('div.job_widget');\n",
       "        notebook.prepend(jobWidget);\n",
       "        jobWidget.style.zIndex = '999';\n",
       "        jobWidget.style.position = isLab ? 'sticky' : 'fixed';\n",
       "        jobWidget.style.boxShadow = '5px 5px 5px -3px black';\n",
       "        jobWidget.style.opacity = '0.95';\n",
       "        if (isLab) {\n",
       "            jobWidget.style.top = '0';\n",
       "            jobWidget.style.left = '0';\n",
       "        }\n",
       "        "
      ],
      "text/plain": [
       "<IPython.core.display.Javascript object>"
      ]
     },
     "metadata": {},
     "output_type": "display_data"
    },
    {
     "name": "stdout",
     "output_type": "stream",
     "text": [
      "Job Status: job has successfully run\n",
      "s ideal:  [-1.1102230246251565e-16, -0.9999999999999999, -1.1102230246251565e-16]\n",
      "s simulation:  [-0.08457336236800755, -0.9979601975131609, 0.07442633949953825]\n",
      "Local simulation fidelity:  0.9968441637048244\n",
      "State:  y1 run:  5  Finished.\n"
     ]
    }
   ],
   "source": [
    "## File where the results will be stored\n",
    "file = open(\"NM_data_s_sim.txt\",\"a\")\n",
    "\n",
    "## IBMQ provider\n",
    "provider=IBMQ.get_provider('ibm-q')\n",
    "\n",
    "angles = [ang_z0,ang_z1,ang_x0,ang_x1,ang_y0,ang_y1]\n",
    "states=['z0','z1','x0','x1','y0','y1']\n",
    "\n",
    "state = 0\n",
    "for a_i in angles:\n",
    "    \n",
    "    for n in range(5):\n",
    "        \n",
    "        p_ideal = ideal_prob(a_i)\n",
    "        p_IBM = IBM_sim_probs(a_i,0)\n",
    "\n",
    "        s_real = bloch_vector_from_prob(p_ideal)\n",
    "        s_IBM = bloch_vector_from_prob(p_IBM)\n",
    "        \n",
    "        ideal_state = bloch_vector_to_state(s_real)\n",
    "        rec_IBM_state = bloch_vector_to_state(s_IBM)\n",
    "        \n",
    "        fidelity_ibm = quantum_info.state_fidelity(ideal_state,rec_IBM_state)\n",
    "        \n",
    "        file.write(\"%s, %s, %s, %s, %s, %s, %s, %s, %s, %s, %s, %s, %s, %s, %s, %s  \\n\" % \n",
    "                   (states[state], p_ideal[0], p_ideal[1],p_ideal[2], p_ideal[3],  p_IBM[0], p_IBM[1],p_IBM[2], p_IBM[3], s_real[0],s_real[1],s_real[2], s_IBM[0],s_IBM[1],s_IBM[2], fidelity_ibm))\n",
    "        \n",
    "        print('s ideal: ', s_real)\n",
    "        print('s simulation: ', s_IBM)\n",
    "        print('Local simulation fidelity: ',fidelity_ibm)\n",
    "        \n",
    "        print('State: ', states[state], 'run: ',n+1,' Finished.')\n",
    "    state += 1\n",
    "file.close()    "
   ]
  },
  {
   "cell_type": "code",
   "execution_count": 80,
   "id": "dimensional-antenna",
   "metadata": {},
   "outputs": [
    {
     "data": {
      "application/vnd.jupyter.widget-view+json": {
       "model_id": "",
       "version_major": 2,
       "version_minor": 0
      },
      "text/plain": [
       "Accordion(children=(VBox(layout=Layout(max_width='710px', min_width='710px')),), layout=Layout(max_height='500…"
      ]
     },
     "metadata": {},
     "output_type": "display_data"
    },
    {
     "data": {
      "application/javascript": [
       "\n",
       "        const isLab = window['Jupyter'] === undefined;\n",
       "        const notebook = document.querySelector( isLab ? 'div.jp-Notebook' : '#site');\n",
       "        const jobWidget = document.querySelector('div.job_widget');\n",
       "        notebook.prepend(jobWidget);\n",
       "        jobWidget.style.zIndex = '999';\n",
       "        jobWidget.style.position = isLab ? 'sticky' : 'fixed';\n",
       "        jobWidget.style.boxShadow = '5px 5px 5px -3px black';\n",
       "        jobWidget.style.opacity = '0.95';\n",
       "        if (isLab) {\n",
       "            jobWidget.style.top = '0';\n",
       "            jobWidget.style.left = '0';\n",
       "        }\n",
       "        "
      ],
      "text/plain": [
       "<IPython.core.display.Javascript object>"
      ]
     },
     "metadata": {},
     "output_type": "display_data"
    },
    {
     "name": "stdout",
     "output_type": "stream",
     "text": [
      "Job Status: job has successfully run\n",
      "s ideal:  [1.7174568604417033e-16, 1.8804018555025551e-16, 0.9999999999999998]\n",
      "s simulation:  [0.08795629686962615, 0.037212492787799936, 0.9505938639972775]\n",
      "QPU simulation fidelity:  0.9974954852705459\n",
      "State:  z0 run:  1  Finished.\n"
     ]
    },
    {
     "data": {
      "application/vnd.jupyter.widget-view+json": {
       "model_id": "",
       "version_major": 2,
       "version_minor": 0
      },
      "text/plain": [
       "Accordion(children=(VBox(layout=Layout(max_width='710px', min_width='710px')),), layout=Layout(max_height='500…"
      ]
     },
     "metadata": {},
     "output_type": "display_data"
    },
    {
     "data": {
      "application/javascript": [
       "\n",
       "        const isLab = window['Jupyter'] === undefined;\n",
       "        const notebook = document.querySelector( isLab ? 'div.jp-Notebook' : '#site');\n",
       "        const jobWidget = document.querySelector('div.job_widget');\n",
       "        notebook.prepend(jobWidget);\n",
       "        jobWidget.style.zIndex = '999';\n",
       "        jobWidget.style.position = isLab ? 'sticky' : 'fixed';\n",
       "        jobWidget.style.boxShadow = '5px 5px 5px -3px black';\n",
       "        jobWidget.style.opacity = '0.95';\n",
       "        if (isLab) {\n",
       "            jobWidget.style.top = '0';\n",
       "            jobWidget.style.left = '0';\n",
       "        }\n",
       "        "
      ],
      "text/plain": [
       "<IPython.core.display.Javascript object>"
      ]
     },
     "metadata": {},
     "output_type": "display_data"
    },
    {
     "name": "stdout",
     "output_type": "stream",
     "text": [
      "Job Status: job has successfully run\n",
      "s ideal:  [1.7174568604417033e-16, 1.8804018555025551e-16, 0.9999999999999998]\n",
      "s simulation:  [0.17929552823072642, 0.06089334418584907, 0.9573596363872214]\n",
      "QPU simulation fidelity:  0.9904979155933953\n",
      "State:  z0 run:  2  Finished.\n"
     ]
    },
    {
     "data": {
      "application/vnd.jupyter.widget-view+json": {
       "model_id": "",
       "version_major": 2,
       "version_minor": 0
      },
      "text/plain": [
       "Accordion(children=(VBox(layout=Layout(max_width='710px', min_width='710px')),), layout=Layout(max_height='500…"
      ]
     },
     "metadata": {},
     "output_type": "display_data"
    },
    {
     "data": {
      "application/javascript": [
       "\n",
       "        const isLab = window['Jupyter'] === undefined;\n",
       "        const notebook = document.querySelector( isLab ? 'div.jp-Notebook' : '#site');\n",
       "        const jobWidget = document.querySelector('div.job_widget');\n",
       "        notebook.prepend(jobWidget);\n",
       "        jobWidget.style.zIndex = '999';\n",
       "        jobWidget.style.position = isLab ? 'sticky' : 'fixed';\n",
       "        jobWidget.style.boxShadow = '5px 5px 5px -3px black';\n",
       "        jobWidget.style.opacity = '0.95';\n",
       "        if (isLab) {\n",
       "            jobWidget.style.top = '0';\n",
       "            jobWidget.style.left = '0';\n",
       "        }\n",
       "        "
      ],
      "text/plain": [
       "<IPython.core.display.Javascript object>"
      ]
     },
     "metadata": {},
     "output_type": "display_data"
    },
    {
     "name": "stdout",
     "output_type": "stream",
     "text": [
      "Job Status: job has successfully run\n",
      "s ideal:  [1.7174568604417033e-16, 1.8804018555025551e-16, 0.9999999999999998]\n",
      "s simulation:  [0.06089282091078173, 0.010149043414252878, 1.0791435394062123]\n",
      "QPU simulation fidelity:  0.9991838889974448\n",
      "State:  z0 run:  3  Finished.\n"
     ]
    },
    {
     "data": {
      "application/vnd.jupyter.widget-view+json": {
       "model_id": "",
       "version_major": 2,
       "version_minor": 0
      },
      "text/plain": [
       "Accordion(children=(VBox(layout=Layout(max_width='710px', min_width='710px')),), layout=Layout(max_height='500…"
      ]
     },
     "metadata": {},
     "output_type": "display_data"
    },
    {
     "data": {
      "application/javascript": [
       "\n",
       "        const isLab = window['Jupyter'] === undefined;\n",
       "        const notebook = document.querySelector( isLab ? 'div.jp-Notebook' : '#site');\n",
       "        const jobWidget = document.querySelector('div.job_widget');\n",
       "        notebook.prepend(jobWidget);\n",
       "        jobWidget.style.zIndex = '999';\n",
       "        jobWidget.style.position = isLab ? 'sticky' : 'fixed';\n",
       "        jobWidget.style.boxShadow = '5px 5px 5px -3px black';\n",
       "        jobWidget.style.opacity = '0.95';\n",
       "        if (isLab) {\n",
       "            jobWidget.style.top = '0';\n",
       "            jobWidget.style.left = '0';\n",
       "        }\n",
       "        "
      ],
      "text/plain": [
       "<IPython.core.display.Javascript object>"
      ]
     },
     "metadata": {},
     "output_type": "display_data"
    },
    {
     "name": "stdout",
     "output_type": "stream",
     "text": [
      "Job Status: job has successfully run\n",
      "s ideal:  [1.7174568604417033e-16, 1.8804018555025551e-16, 0.9999999999999998]\n",
      "s simulation:  [0.18944433171529323, 0.08795671026076862, 1.014868701701745]\n",
      "QPU simulation fidelity:  0.9897357909745095\n",
      "State:  z0 run:  4  Finished.\n"
     ]
    },
    {
     "data": {
      "application/vnd.jupyter.widget-view+json": {
       "model_id": "",
       "version_major": 2,
       "version_minor": 0
      },
      "text/plain": [
       "Accordion(children=(VBox(layout=Layout(max_width='710px', min_width='710px')),), layout=Layout(max_height='500…"
      ]
     },
     "metadata": {},
     "output_type": "display_data"
    },
    {
     "data": {
      "application/javascript": [
       "\n",
       "        const isLab = window['Jupyter'] === undefined;\n",
       "        const notebook = document.querySelector( isLab ? 'div.jp-Notebook' : '#site');\n",
       "        const jobWidget = document.querySelector('div.job_widget');\n",
       "        notebook.prepend(jobWidget);\n",
       "        jobWidget.style.zIndex = '999';\n",
       "        jobWidget.style.position = isLab ? 'sticky' : 'fixed';\n",
       "        jobWidget.style.boxShadow = '5px 5px 5px -3px black';\n",
       "        jobWidget.style.opacity = '0.95';\n",
       "        if (isLab) {\n",
       "            jobWidget.style.top = '0';\n",
       "            jobWidget.style.left = '0';\n",
       "        }\n",
       "        "
      ],
      "text/plain": [
       "<IPython.core.display.Javascript object>"
      ]
     },
     "metadata": {},
     "output_type": "display_data"
    },
    {
     "name": "stdout",
     "output_type": "stream",
     "text": [
      "Job Status: job has successfully run\n",
      "s ideal:  [1.7174568604417033e-16, 1.8804018555025551e-16, 0.9999999999999998]\n",
      "s simulation:  [0.10825390383875962, 0.05412716530618879, 0.9336794330224177]\n",
      "QPU simulation fidelity:  0.9958513128949874\n",
      "State:  z0 run:  5  Finished.\n"
     ]
    },
    {
     "data": {
      "application/vnd.jupyter.widget-view+json": {
       "model_id": "",
       "version_major": 2,
       "version_minor": 0
      },
      "text/plain": [
       "Accordion(children=(VBox(layout=Layout(max_width='710px', min_width='710px')),), layout=Layout(max_height='500…"
      ]
     },
     "metadata": {},
     "output_type": "display_data"
    },
    {
     "data": {
      "application/javascript": [
       "\n",
       "        const isLab = window['Jupyter'] === undefined;\n",
       "        const notebook = document.querySelector( isLab ? 'div.jp-Notebook' : '#site');\n",
       "        const jobWidget = document.querySelector('div.job_widget');\n",
       "        notebook.prepend(jobWidget);\n",
       "        jobWidget.style.zIndex = '999';\n",
       "        jobWidget.style.position = isLab ? 'sticky' : 'fixed';\n",
       "        jobWidget.style.boxShadow = '5px 5px 5px -3px black';\n",
       "        jobWidget.style.opacity = '0.95';\n",
       "        if (isLab) {\n",
       "            jobWidget.style.top = '0';\n",
       "            jobWidget.style.left = '0';\n",
       "        }\n",
       "        "
      ],
      "text/plain": [
       "<IPython.core.display.Javascript object>"
      ]
     },
     "metadata": {},
     "output_type": "display_data"
    },
    {
     "name": "stdout",
     "output_type": "stream",
     "text": [
      "Job Status: job has successfully run\n",
      "s ideal:  [-3.604798013527443e-16, -1.568856821800491e-16, -1.0]\n",
      "s simulation:  [-0.12178564181141932, 0.027062716340936377, -0.8930791122624442]\n",
      "QPU simulation fidelity:  0.9951917710841534\n",
      "State:  z1 run:  1  Finished.\n"
     ]
    },
    {
     "data": {
      "application/vnd.jupyter.widget-view+json": {
       "model_id": "",
       "version_major": 2,
       "version_minor": 0
      },
      "text/plain": [
       "Accordion(children=(VBox(layout=Layout(max_width='710px', min_width='710px')),), layout=Layout(max_height='500…"
      ]
     },
     "metadata": {},
     "output_type": "display_data"
    },
    {
     "data": {
      "application/javascript": [
       "\n",
       "        const isLab = window['Jupyter'] === undefined;\n",
       "        const notebook = document.querySelector( isLab ? 'div.jp-Notebook' : '#site');\n",
       "        const jobWidget = document.querySelector('div.job_widget');\n",
       "        notebook.prepend(jobWidget);\n",
       "        jobWidget.style.zIndex = '999';\n",
       "        jobWidget.style.position = isLab ? 'sticky' : 'fixed';\n",
       "        jobWidget.style.boxShadow = '5px 5px 5px -3px black';\n",
       "        jobWidget.style.opacity = '0.95';\n",
       "        if (isLab) {\n",
       "            jobWidget.style.top = '0';\n",
       "            jobWidget.style.left = '0';\n",
       "        }\n",
       "        "
      ],
      "text/plain": [
       "<IPython.core.display.Javascript object>"
      ]
     },
     "metadata": {},
     "output_type": "display_data"
    },
    {
     "name": "stdout",
     "output_type": "stream",
     "text": [
      "Job Status: job has successfully run\n",
      "s ideal:  [-3.604798013527443e-16, -1.568856821800491e-16, -1.0]\n",
      "s simulation:  [-0.17252965923425279, 0.010147893884595471, -0.7577636644635655]\n",
      "QPU simulation fidelity:  0.9874816421282449\n",
      "State:  z1 run:  2  Finished.\n"
     ]
    },
    {
     "data": {
      "application/vnd.jupyter.widget-view+json": {
       "model_id": "",
       "version_major": 2,
       "version_minor": 0
      },
      "text/plain": [
       "Accordion(children=(VBox(layout=Layout(max_width='710px', min_width='710px')),), layout=Layout(max_height='500…"
      ]
     },
     "metadata": {},
     "output_type": "display_data"
    },
    {
     "data": {
      "application/javascript": [
       "\n",
       "        const isLab = window['Jupyter'] === undefined;\n",
       "        const notebook = document.querySelector( isLab ? 'div.jp-Notebook' : '#site');\n",
       "        const jobWidget = document.querySelector('div.job_widget');\n",
       "        notebook.prepend(jobWidget);\n",
       "        jobWidget.style.zIndex = '999';\n",
       "        jobWidget.style.position = isLab ? 'sticky' : 'fixed';\n",
       "        jobWidget.style.boxShadow = '5px 5px 5px -3px black';\n",
       "        jobWidget.style.opacity = '0.95';\n",
       "        if (isLab) {\n",
       "            jobWidget.style.top = '0';\n",
       "            jobWidget.style.left = '0';\n",
       "        }\n",
       "        "
      ],
      "text/plain": [
       "<IPython.core.display.Javascript object>"
      ]
     },
     "metadata": {},
     "output_type": "display_data"
    },
    {
     "name": "stdout",
     "output_type": "stream",
     "text": [
      "Job Status: job has successfully run\n",
      "s ideal:  [-3.604798013527443e-16, -1.568856821800491e-16, -1.0]\n",
      "s simulation:  [-0.11501977282170815, -0.06427594216132097, -0.8085069573881452]\n",
      "QPU simulation fidelity:  0.9934897345435473\n",
      "State:  z1 run:  3  Finished.\n"
     ]
    },
    {
     "data": {
      "application/vnd.jupyter.widget-view+json": {
       "model_id": "",
       "version_major": 2,
       "version_minor": 0
      },
      "text/plain": [
       "Accordion(children=(VBox(layout=Layout(max_width='710px', min_width='710px')),), layout=Layout(max_height='500…"
      ]
     },
     "metadata": {},
     "output_type": "display_data"
    },
    {
     "data": {
      "application/javascript": [
       "\n",
       "        const isLab = window['Jupyter'] === undefined;\n",
       "        const notebook = document.querySelector( isLab ? 'div.jp-Notebook' : '#site');\n",
       "        const jobWidget = document.querySelector('div.job_widget');\n",
       "        notebook.prepend(jobWidget);\n",
       "        jobWidget.style.zIndex = '999';\n",
       "        jobWidget.style.position = isLab ? 'sticky' : 'fixed';\n",
       "        jobWidget.style.boxShadow = '5px 5px 5px -3px black';\n",
       "        jobWidget.style.opacity = '0.95';\n",
       "        if (isLab) {\n",
       "            jobWidget.style.top = '0';\n",
       "            jobWidget.style.left = '0';\n",
       "        }\n",
       "        "
      ],
      "text/plain": [
       "<IPython.core.display.Javascript object>"
      ]
     },
     "metadata": {},
     "output_type": "display_data"
    },
    {
     "name": "stdout",
     "output_type": "stream",
     "text": [
      "Job Status: job has successfully run\n",
      "s ideal:  [-3.604798013527443e-16, -1.568856821800491e-16, -1.0]\n",
      "s simulation:  [-0.15561498675997495, 0.043977122302792826, -0.7882096402183132]\n",
      "QPU simulation fidelity:  0.9897982158845166\n",
      "State:  z1 run:  4  Finished.\n"
     ]
    },
    {
     "data": {
      "application/vnd.jupyter.widget-view+json": {
       "model_id": "",
       "version_major": 2,
       "version_minor": 0
      },
      "text/plain": [
       "Accordion(children=(VBox(layout=Layout(max_width='710px', min_width='710px')),), layout=Layout(max_height='500…"
      ]
     },
     "metadata": {},
     "output_type": "display_data"
    },
    {
     "data": {
      "application/javascript": [
       "\n",
       "        const isLab = window['Jupyter'] === undefined;\n",
       "        const notebook = document.querySelector( isLab ? 'div.jp-Notebook' : '#site');\n",
       "        const jobWidget = document.querySelector('div.job_widget');\n",
       "        notebook.prepend(jobWidget);\n",
       "        jobWidget.style.zIndex = '999';\n",
       "        jobWidget.style.position = isLab ? 'sticky' : 'fixed';\n",
       "        jobWidget.style.boxShadow = '5px 5px 5px -3px black';\n",
       "        jobWidget.style.opacity = '0.95';\n",
       "        if (isLab) {\n",
       "            jobWidget.style.top = '0';\n",
       "            jobWidget.style.left = '0';\n",
       "        }\n",
       "        "
      ],
      "text/plain": [
       "<IPython.core.display.Javascript object>"
      ]
     },
     "metadata": {},
     "output_type": "display_data"
    },
    {
     "name": "stdout",
     "output_type": "stream",
     "text": [
      "Job Status: job has successfully run\n",
      "s ideal:  [-3.604798013527443e-16, -1.568856821800491e-16, -1.0]\n",
      "s simulation:  [-0.1150197728217081, 0.027062749660730773, -0.7915925264132853]\n",
      "QPU simulation fidelity:  0.9945210417780798\n",
      "State:  z1 run:  5  Finished.\n"
     ]
    },
    {
     "data": {
      "application/vnd.jupyter.widget-view+json": {
       "model_id": "",
       "version_major": 2,
       "version_minor": 0
      },
      "text/plain": [
       "Accordion(children=(VBox(layout=Layout(max_width='710px', min_width='710px')),), layout=Layout(max_height='500…"
      ]
     },
     "metadata": {},
     "output_type": "display_data"
    },
    {
     "data": {
      "application/javascript": [
       "\n",
       "        const isLab = window['Jupyter'] === undefined;\n",
       "        const notebook = document.querySelector( isLab ? 'div.jp-Notebook' : '#site');\n",
       "        const jobWidget = document.querySelector('div.job_widget');\n",
       "        notebook.prepend(jobWidget);\n",
       "        jobWidget.style.zIndex = '999';\n",
       "        jobWidget.style.position = isLab ? 'sticky' : 'fixed';\n",
       "        jobWidget.style.boxShadow = '5px 5px 5px -3px black';\n",
       "        jobWidget.style.opacity = '0.95';\n",
       "        if (isLab) {\n",
       "            jobWidget.style.top = '0';\n",
       "            jobWidget.style.left = '0';\n",
       "        }\n",
       "        "
      ],
      "text/plain": [
       "<IPython.core.display.Javascript object>"
      ]
     },
     "metadata": {},
     "output_type": "display_data"
    },
    {
     "name": "stdout",
     "output_type": "stream",
     "text": [
      "Job Status: job has successfully run\n",
      "s ideal:  [0.9999999999999996, -2.220446049250313e-16, 0.0]\n",
      "s simulation:  [0.8558824272018395, 0.18944742759700994, 0.09810654286434206]\n",
      "QPU simulation fidelity:  0.9851548465140862\n",
      "State:  x0 run:  1  Finished.\n"
     ]
    },
    {
     "data": {
      "application/vnd.jupyter.widget-view+json": {
       "model_id": "",
       "version_major": 2,
       "version_minor": 0
      },
      "text/plain": [
       "Accordion(children=(VBox(layout=Layout(max_width='710px', min_width='710px')),), layout=Layout(max_height='500…"
      ]
     },
     "metadata": {},
     "output_type": "display_data"
    },
    {
     "data": {
      "application/javascript": [
       "\n",
       "        const isLab = window['Jupyter'] === undefined;\n",
       "        const notebook = document.querySelector( isLab ? 'div.jp-Notebook' : '#site');\n",
       "        const jobWidget = document.querySelector('div.job_widget');\n",
       "        notebook.prepend(jobWidget);\n",
       "        jobWidget.style.zIndex = '999';\n",
       "        jobWidget.style.position = isLab ? 'sticky' : 'fixed';\n",
       "        jobWidget.style.boxShadow = '5px 5px 5px -3px black';\n",
       "        jobWidget.style.opacity = '0.95';\n",
       "        if (isLab) {\n",
       "            jobWidget.style.top = '0';\n",
       "            jobWidget.style.left = '0';\n",
       "        }\n",
       "        "
      ],
      "text/plain": [
       "<IPython.core.display.Javascript object>"
      ]
     },
     "metadata": {},
     "output_type": "display_data"
    },
    {
     "name": "stdout",
     "output_type": "stream",
     "text": [
      "Job Status: job has successfully run\n",
      "s ideal:  [0.9999999999999996, -2.220446049250313e-16, 0.0]\n",
      "s simulation:  [0.9404557895732287, 0.10487498129359957, -0.0033800429848169777]\n",
      "QPU simulation fidelity:  0.996916626611577\n",
      "State:  x0 run:  2  Finished.\n"
     ]
    },
    {
     "data": {
      "application/vnd.jupyter.widget-view+json": {
       "model_id": "",
       "version_major": 2,
       "version_minor": 0
      },
      "text/plain": [
       "Accordion(children=(VBox(layout=Layout(max_width='710px', min_width='710px')),), layout=Layout(max_height='500…"
      ]
     },
     "metadata": {},
     "output_type": "display_data"
    },
    {
     "data": {
      "application/javascript": [
       "\n",
       "        const isLab = window['Jupyter'] === undefined;\n",
       "        const notebook = document.querySelector( isLab ? 'div.jp-Notebook' : '#site');\n",
       "        const jobWidget = document.querySelector('div.job_widget');\n",
       "        notebook.prepend(jobWidget);\n",
       "        jobWidget.style.zIndex = '999';\n",
       "        jobWidget.style.position = isLab ? 'sticky' : 'fixed';\n",
       "        jobWidget.style.boxShadow = '5px 5px 5px -3px black';\n",
       "        jobWidget.style.opacity = '0.95';\n",
       "        if (isLab) {\n",
       "            jobWidget.style.top = '0';\n",
       "            jobWidget.style.left = '0';\n",
       "        }\n",
       "        "
      ],
      "text/plain": [
       "<IPython.core.display.Javascript object>"
      ]
     },
     "metadata": {},
     "output_type": "display_data"
    },
    {
     "name": "stdout",
     "output_type": "stream",
     "text": [
      "Job Status: job has successfully run\n",
      "s ideal:  [0.9999999999999996, -2.220446049250313e-16, 0.0]\n",
      "s simulation:  [0.9945827414909179, 0.10825816236228986, -0.006762929179788935]\n",
      "QPU simulation fidelity:  0.997052744142822\n",
      "State:  x0 run:  3  Finished.\n"
     ]
    },
    {
     "data": {
      "application/vnd.jupyter.widget-view+json": {
       "model_id": "",
       "version_major": 2,
       "version_minor": 0
      },
      "text/plain": [
       "Accordion(children=(VBox(layout=Layout(max_width='710px', min_width='710px')),), layout=Layout(max_height='500…"
      ]
     },
     "metadata": {},
     "output_type": "display_data"
    },
    {
     "data": {
      "application/javascript": [
       "\n",
       "        const isLab = window['Jupyter'] === undefined;\n",
       "        const notebook = document.querySelector( isLab ? 'div.jp-Notebook' : '#site');\n",
       "        const jobWidget = document.querySelector('div.job_widget');\n",
       "        notebook.prepend(jobWidget);\n",
       "        jobWidget.style.zIndex = '999';\n",
       "        jobWidget.style.position = isLab ? 'sticky' : 'fixed';\n",
       "        jobWidget.style.boxShadow = '5px 5px 5px -3px black';\n",
       "        jobWidget.style.opacity = '0.95';\n",
       "        if (isLab) {\n",
       "            jobWidget.style.top = '0';\n",
       "            jobWidget.style.left = '0';\n",
       "        }\n",
       "        "
      ],
      "text/plain": [
       "<IPython.core.display.Javascript object>"
      ]
     },
     "metadata": {},
     "output_type": "display_data"
    },
    {
     "name": "stdout",
     "output_type": "stream",
     "text": [
      "Job Status: job has successfully run\n",
      "s ideal:  [0.9999999999999996, -2.220446049250313e-16, 0.0]\n",
      "s simulation:  [0.9370728550783732, 0.16238451133672577, 0.08457499808445423]\n",
      "QPU simulation fidelity:  0.9907210925832968\n",
      "State:  x0 run:  4  Finished.\n"
     ]
    },
    {
     "data": {
      "application/vnd.jupyter.widget-view+json": {
       "model_id": "",
       "version_major": 2,
       "version_minor": 0
      },
      "text/plain": [
       "Accordion(children=(VBox(layout=Layout(max_width='710px', min_width='710px')),), layout=Layout(max_height='500…"
      ]
     },
     "metadata": {},
     "output_type": "display_data"
    },
    {
     "data": {
      "application/javascript": [
       "\n",
       "        const isLab = window['Jupyter'] === undefined;\n",
       "        const notebook = document.querySelector( isLab ? 'div.jp-Notebook' : '#site');\n",
       "        const jobWidget = document.querySelector('div.job_widget');\n",
       "        notebook.prepend(jobWidget);\n",
       "        jobWidget.style.zIndex = '999';\n",
       "        jobWidget.style.position = isLab ? 'sticky' : 'fixed';\n",
       "        jobWidget.style.boxShadow = '5px 5px 5px -3px black';\n",
       "        jobWidget.style.opacity = '0.95';\n",
       "        if (isLab) {\n",
       "            jobWidget.style.top = '0';\n",
       "            jobWidget.style.left = '0';\n",
       "        }\n",
       "        "
      ],
      "text/plain": [
       "<IPython.core.display.Javascript object>"
      ]
     },
     "metadata": {},
     "output_type": "display_data"
    },
    {
     "name": "stdout",
     "output_type": "stream",
     "text": [
      "Job Status: job has successfully run\n",
      "s ideal:  [0.9999999999999996, -2.220446049250313e-16, 0.0]\n",
      "s simulation:  [0.9100093791195286, 0.16238437805823502, 0.030448818964902702]\n",
      "QPU simulation fidelity:  0.9919579447063348\n",
      "State:  x0 run:  5  Finished.\n"
     ]
    },
    {
     "data": {
      "application/vnd.jupyter.widget-view+json": {
       "model_id": "",
       "version_major": 2,
       "version_minor": 0
      },
      "text/plain": [
       "Accordion(children=(VBox(layout=Layout(max_width='710px', min_width='710px')),), layout=Layout(max_height='500…"
      ]
     },
     "metadata": {},
     "output_type": "display_data"
    },
    {
     "data": {
      "application/javascript": [
       "\n",
       "        const isLab = window['Jupyter'] === undefined;\n",
       "        const notebook = document.querySelector( isLab ? 'div.jp-Notebook' : '#site');\n",
       "        const jobWidget = document.querySelector('div.job_widget');\n",
       "        notebook.prepend(jobWidget);\n",
       "        jobWidget.style.zIndex = '999';\n",
       "        jobWidget.style.position = isLab ? 'sticky' : 'fixed';\n",
       "        jobWidget.style.boxShadow = '5px 5px 5px -3px black';\n",
       "        jobWidget.style.opacity = '0.95';\n",
       "        if (isLab) {\n",
       "            jobWidget.style.top = '0';\n",
       "            jobWidget.style.left = '0';\n",
       "        }\n",
       "        "
      ],
      "text/plain": [
       "<IPython.core.display.Javascript object>"
      ]
     },
     "metadata": {},
     "output_type": "display_data"
    },
    {
     "name": "stdout",
     "output_type": "stream",
     "text": [
      "Job Status: job has successfully run\n",
      "s ideal:  [-0.9999999999999998, 5.551115123125783e-17, -2.220446049250313e-16]\n",
      "s simulation:  [-0.8186701477516658, -0.05751357837373611, 0.08457499808445412]\n",
      "QPU simulation fidelity:  0.9961431141867134\n",
      "State:  x1 run:  1  Finished.\n"
     ]
    },
    {
     "data": {
      "application/vnd.jupyter.widget-view+json": {
       "model_id": "",
       "version_major": 2,
       "version_minor": 0
      },
      "text/plain": [
       "Accordion(children=(VBox(layout=Layout(max_width='710px', min_width='710px')),), layout=Layout(max_height='500…"
      ]
     },
     "metadata": {},
     "output_type": "display_data"
    },
    {
     "data": {
      "application/javascript": [
       "\n",
       "        const isLab = window['Jupyter'] === undefined;\n",
       "        const notebook = document.querySelector( isLab ? 'div.jp-Notebook' : '#site');\n",
       "        const jobWidget = document.querySelector('div.job_widget');\n",
       "        notebook.prepend(jobWidget);\n",
       "        jobWidget.style.zIndex = '999';\n",
       "        jobWidget.style.position = isLab ? 'sticky' : 'fixed';\n",
       "        jobWidget.style.boxShadow = '5px 5px 5px -3px black';\n",
       "        jobWidget.style.opacity = '0.95';\n",
       "        if (isLab) {\n",
       "            jobWidget.style.top = '0';\n",
       "            jobWidget.style.left = '0';\n",
       "        }\n",
       "        "
      ],
      "text/plain": [
       "<IPython.core.display.Javascript object>"
      ]
     },
     "metadata": {},
     "output_type": "display_data"
    },
    {
     "name": "stdout",
     "output_type": "stream",
     "text": [
      "Job Status: job has successfully run\n",
      "s ideal:  [-0.9999999999999998, 5.551115123125783e-17, -2.220446049250313e-16]\n",
      "s simulation:  [-0.9100093791127659, -0.16576729256966677, 0.2232733320783047]\n",
      "QPU simulation fidelity:  0.9781722761158961\n",
      "State:  x1 run:  2  Finished.\n"
     ]
    },
    {
     "data": {
      "application/vnd.jupyter.widget-view+json": {
       "model_id": "",
       "version_major": 2,
       "version_minor": 0
      },
      "text/plain": [
       "Accordion(children=(VBox(layout=Layout(max_width='710px', min_width='710px')),), layout=Layout(max_height='500…"
      ]
     },
     "metadata": {},
     "output_type": "display_data"
    },
    {
     "data": {
      "application/javascript": [
       "\n",
       "        const isLab = window['Jupyter'] === undefined;\n",
       "        const notebook = document.querySelector( isLab ? 'div.jp-Notebook' : '#site');\n",
       "        const jobWidget = document.querySelector('div.job_widget');\n",
       "        notebook.prepend(jobWidget);\n",
       "        jobWidget.style.zIndex = '999';\n",
       "        jobWidget.style.position = isLab ? 'sticky' : 'fixed';\n",
       "        jobWidget.style.boxShadow = '5px 5px 5px -3px black';\n",
       "        jobWidget.style.opacity = '0.95';\n",
       "        if (isLab) {\n",
       "            jobWidget.style.top = '0';\n",
       "            jobWidget.style.left = '0';\n",
       "        }\n",
       "        "
      ],
      "text/plain": [
       "<IPython.core.display.Javascript object>"
      ]
     },
     "metadata": {},
     "output_type": "display_data"
    },
    {
     "name": "stdout",
     "output_type": "stream",
     "text": [
      "Job Status: job has successfully run\n",
      "s ideal:  [-0.9999999999999998, 5.551115123125783e-17, -2.220446049250313e-16]\n",
      "s simulation:  [-0.933689920576755, -0.14546992211677984, 0.17929581154366925]\n",
      "QPU simulation fidelity:  0.9853798825136156\n",
      "State:  x1 run:  3  Finished.\n"
     ]
    },
    {
     "data": {
      "application/vnd.jupyter.widget-view+json": {
       "model_id": "",
       "version_major": 2,
       "version_minor": 0
      },
      "text/plain": [
       "Accordion(children=(VBox(layout=Layout(max_width='710px', min_width='710px')),), layout=Layout(max_height='500…"
      ]
     },
     "metadata": {},
     "output_type": "display_data"
    },
    {
     "data": {
      "application/javascript": [
       "\n",
       "        const isLab = window['Jupyter'] === undefined;\n",
       "        const notebook = document.querySelector( isLab ? 'div.jp-Notebook' : '#site');\n",
       "        const jobWidget = document.querySelector('div.job_widget');\n",
       "        notebook.prepend(jobWidget);\n",
       "        jobWidget.style.zIndex = '999';\n",
       "        jobWidget.style.position = isLab ? 'sticky' : 'fixed';\n",
       "        jobWidget.style.boxShadow = '5px 5px 5px -3px black';\n",
       "        jobWidget.style.opacity = '0.95';\n",
       "        if (isLab) {\n",
       "            jobWidget.style.top = '0';\n",
       "            jobWidget.style.left = '0';\n",
       "        }\n",
       "        "
      ],
      "text/plain": [
       "<IPython.core.display.Javascript object>"
      ]
     },
     "metadata": {},
     "output_type": "display_data"
    },
    {
     "name": "stdout",
     "output_type": "stream",
     "text": [
      "Job Status: job has successfully run\n",
      "s ideal:  [-0.9999999999999998, 5.551115123125783e-17, -2.220446049250313e-16]\n",
      "s simulation:  [-0.910009379112766, -0.06427985721203988, 0.1353182910090336]\n",
      "QPU simulation fidelity:  0.9933593835486789\n",
      "State:  x1 run:  4  Finished.\n"
     ]
    },
    {
     "data": {
      "application/vnd.jupyter.widget-view+json": {
       "model_id": "",
       "version_major": 2,
       "version_minor": 0
      },
      "text/plain": [
       "Accordion(children=(VBox(layout=Layout(max_width='710px', min_width='710px')),), layout=Layout(max_height='500…"
      ]
     },
     "metadata": {},
     "output_type": "display_data"
    },
    {
     "data": {
      "application/javascript": [
       "\n",
       "        const isLab = window['Jupyter'] === undefined;\n",
       "        const notebook = document.querySelector( isLab ? 'div.jp-Notebook' : '#site');\n",
       "        const jobWidget = document.querySelector('div.job_widget');\n",
       "        notebook.prepend(jobWidget);\n",
       "        jobWidget.style.zIndex = '999';\n",
       "        jobWidget.style.position = isLab ? 'sticky' : 'fixed';\n",
       "        jobWidget.style.boxShadow = '5px 5px 5px -3px black';\n",
       "        jobWidget.style.opacity = '0.95';\n",
       "        if (isLab) {\n",
       "            jobWidget.style.top = '0';\n",
       "            jobWidget.style.left = '0';\n",
       "        }\n",
       "        "
      ],
      "text/plain": [
       "<IPython.core.display.Javascript object>"
      ]
     },
     "metadata": {},
     "output_type": "display_data"
    },
    {
     "name": "stdout",
     "output_type": "stream",
     "text": [
      "Job Status: job has successfully run\n",
      "s ideal:  [-0.9999999999999998, 5.551115123125783e-17, -2.220446049250313e-16]\n",
      "s simulation:  [-0.8660312306796436, -0.060896726122790346, 0.10825520144925793]\n",
      "QPU simulation fidelity:  0.9949355348242948\n",
      "State:  x1 run:  5  Finished.\n"
     ]
    },
    {
     "data": {
      "application/vnd.jupyter.widget-view+json": {
       "model_id": "",
       "version_major": 2,
       "version_minor": 0
      },
      "text/plain": [
       "Accordion(children=(VBox(layout=Layout(max_width='710px', min_width='710px')),), layout=Layout(max_height='500…"
      ]
     },
     "metadata": {},
     "output_type": "display_data"
    },
    {
     "data": {
      "application/javascript": [
       "\n",
       "        const isLab = window['Jupyter'] === undefined;\n",
       "        const notebook = document.querySelector( isLab ? 'div.jp-Notebook' : '#site');\n",
       "        const jobWidget = document.querySelector('div.job_widget');\n",
       "        notebook.prepend(jobWidget);\n",
       "        jobWidget.style.zIndex = '999';\n",
       "        jobWidget.style.position = isLab ? 'sticky' : 'fixed';\n",
       "        jobWidget.style.boxShadow = '5px 5px 5px -3px black';\n",
       "        jobWidget.style.opacity = '0.95';\n",
       "        if (isLab) {\n",
       "            jobWidget.style.top = '0';\n",
       "            jobWidget.style.left = '0';\n",
       "        }\n",
       "        "
      ],
      "text/plain": [
       "<IPython.core.display.Javascript object>"
      ]
     },
     "metadata": {},
     "output_type": "display_data"
    },
    {
     "name": "stdout",
     "output_type": "stream",
     "text": [
      "Job Status: job has successfully run\n",
      "s ideal:  [0.0, 0.9999999999999998, 0.0]\n",
      "s simulation:  [-0.12516857630627498, 0.8220476099859146, 0.14208406339897772]\n",
      "QPU simulation fidelity:  0.9872408794644287\n",
      "State:  y0 run:  1  Finished.\n"
     ]
    },
    {
     "data": {
      "application/vnd.jupyter.widget-view+json": {
       "model_id": "",
       "version_major": 2,
       "version_minor": 0
      },
      "text/plain": [
       "Accordion(children=(VBox(layout=Layout(max_width='710px', min_width='710px')),), layout=Layout(max_height='500…"
      ]
     },
     "metadata": {},
     "output_type": "display_data"
    },
    {
     "data": {
      "application/javascript": [
       "\n",
       "        const isLab = window['Jupyter'] === undefined;\n",
       "        const notebook = document.querySelector( isLab ? 'div.jp-Notebook' : '#site');\n",
       "        const jobWidget = document.querySelector('div.job_widget');\n",
       "        notebook.prepend(jobWidget);\n",
       "        jobWidget.style.zIndex = '999';\n",
       "        jobWidget.style.position = isLab ? 'sticky' : 'fixed';\n",
       "        jobWidget.style.boxShadow = '5px 5px 5px -3px black';\n",
       "        jobWidget.style.opacity = '0.95';\n",
       "        if (isLab) {\n",
       "            jobWidget.style.top = '0';\n",
       "            jobWidget.style.left = '0';\n",
       "        }\n",
       "        "
      ],
      "text/plain": [
       "<IPython.core.display.Javascript object>"
      ]
     },
     "metadata": {},
     "output_type": "display_data"
    },
    {
     "name": "stdout",
     "output_type": "stream",
     "text": [
      "Job Status: job has successfully run\n",
      "s ideal:  [0.0, 0.9999999999999998, 0.0]\n",
      "s simulation:  [0.06427575540563685, 0.9133872347566487, 0.15223272198389348]\n",
      "QPU simulation fidelity:  0.9920129444971671\n",
      "State:  y0 run:  2  Finished.\n"
     ]
    },
    {
     "data": {
      "application/vnd.jupyter.widget-view+json": {
       "model_id": "",
       "version_major": 2,
       "version_minor": 0
      },
      "text/plain": [
       "Accordion(children=(VBox(layout=Layout(max_width='710px', min_width='710px')),), layout=Layout(max_height='500…"
      ]
     },
     "metadata": {},
     "output_type": "display_data"
    },
    {
     "data": {
      "application/javascript": [
       "\n",
       "        const isLab = window['Jupyter'] === undefined;\n",
       "        const notebook = document.querySelector( isLab ? 'div.jp-Notebook' : '#site');\n",
       "        const jobWidget = document.querySelector('div.job_widget');\n",
       "        notebook.prepend(jobWidget);\n",
       "        jobWidget.style.zIndex = '999';\n",
       "        jobWidget.style.position = isLab ? 'sticky' : 'fixed';\n",
       "        jobWidget.style.boxShadow = '5px 5px 5px -3px black';\n",
       "        jobWidget.style.opacity = '0.95';\n",
       "        if (isLab) {\n",
       "            jobWidget.style.top = '0';\n",
       "            jobWidget.style.left = '0';\n",
       "        }\n",
       "        "
      ],
      "text/plain": [
       "<IPython.core.display.Javascript object>"
      ]
     },
     "metadata": {},
     "output_type": "display_data"
    },
    {
     "name": "stdout",
     "output_type": "stream",
     "text": [
      "Job Status: job has successfully run\n",
      "s ideal:  [0.0, 0.9999999999999998, 0.0]\n",
      "s simulation:  [-0.006765868986330081, 0.8389627656386276, 0.216507559688361]\n",
      "QPU simulation fidelity:  0.9841237569013679\n",
      "State:  y0 run:  3  Finished.\n"
     ]
    },
    {
     "data": {
      "application/vnd.jupyter.widget-view+json": {
       "model_id": "",
       "version_major": 2,
       "version_minor": 0
      },
      "text/plain": [
       "Accordion(children=(VBox(layout=Layout(max_width='710px', min_width='710px')),), layout=Layout(max_height='500…"
      ]
     },
     "metadata": {},
     "output_type": "display_data"
    },
    {
     "data": {
      "application/javascript": [
       "\n",
       "        const isLab = window['Jupyter'] === undefined;\n",
       "        const notebook = document.querySelector( isLab ? 'div.jp-Notebook' : '#site');\n",
       "        const jobWidget = document.querySelector('div.job_widget');\n",
       "        notebook.prepend(jobWidget);\n",
       "        jobWidget.style.zIndex = '999';\n",
       "        jobWidget.style.position = isLab ? 'sticky' : 'fixed';\n",
       "        jobWidget.style.boxShadow = '5px 5px 5px -3px black';\n",
       "        jobWidget.style.opacity = '0.95';\n",
       "        if (isLab) {\n",
       "            jobWidget.style.top = '0';\n",
       "            jobWidget.style.left = '0';\n",
       "        }\n",
       "        "
      ],
      "text/plain": [
       "<IPython.core.display.Javascript object>"
      ]
     },
     "metadata": {},
     "output_type": "display_data"
    },
    {
     "name": "stdout",
     "output_type": "stream",
     "text": [
      "Job Status: job has successfully run\n",
      "s ideal:  [0.0, 0.9999999999999998, 0.0]\n",
      "s simulation:  [0.02029760697251437, 0.8964724456196003, 0.13193540481406163]\n",
      "QPU simulation fidelity:  0.9945474643476377\n",
      "State:  y0 run:  4  Finished.\n"
     ]
    },
    {
     "data": {
      "application/vnd.jupyter.widget-view+json": {
       "model_id": "",
       "version_major": 2,
       "version_minor": 0
      },
      "text/plain": [
       "Accordion(children=(VBox(layout=Layout(max_width='710px', min_width='710px')),), layout=Layout(max_height='500…"
      ]
     },
     "metadata": {},
     "output_type": "display_data"
    },
    {
     "data": {
      "application/javascript": [
       "\n",
       "        const isLab = window['Jupyter'] === undefined;\n",
       "        const notebook = document.querySelector( isLab ? 'div.jp-Notebook' : '#site');\n",
       "        const jobWidget = document.querySelector('div.job_widget');\n",
       "        notebook.prepend(jobWidget);\n",
       "        jobWidget.style.zIndex = '999';\n",
       "        jobWidget.style.position = isLab ? 'sticky' : 'fixed';\n",
       "        jobWidget.style.boxShadow = '5px 5px 5px -3px black';\n",
       "        jobWidget.style.opacity = '0.95';\n",
       "        if (isLab) {\n",
       "            jobWidget.style.top = '0';\n",
       "            jobWidget.style.left = '0';\n",
       "        }\n",
       "        "
      ],
      "text/plain": [
       "<IPython.core.display.Javascript object>"
      ]
     },
     "metadata": {},
     "output_type": "display_data"
    },
    {
     "name": "stdout",
     "output_type": "stream",
     "text": [
      "Job Status: job has successfully run\n",
      "s ideal:  [0.0, 0.9999999999999998, 0.0]\n",
      "s simulation:  [0.023680541467369975, 0.8660262316719664, 0.08457499808445423]\n",
      "QPU simulation fidelity:  0.997448437298896\n",
      "State:  y0 run:  5  Finished.\n"
     ]
    },
    {
     "data": {
      "application/vnd.jupyter.widget-view+json": {
       "model_id": "",
       "version_major": 2,
       "version_minor": 0
      },
      "text/plain": [
       "Accordion(children=(VBox(layout=Layout(max_width='710px', min_width='710px')),), layout=Layout(max_height='500…"
      ]
     },
     "metadata": {},
     "output_type": "display_data"
    },
    {
     "data": {
      "application/javascript": [
       "\n",
       "        const isLab = window['Jupyter'] === undefined;\n",
       "        const notebook = document.querySelector( isLab ? 'div.jp-Notebook' : '#site');\n",
       "        const jobWidget = document.querySelector('div.job_widget');\n",
       "        notebook.prepend(jobWidget);\n",
       "        jobWidget.style.zIndex = '999';\n",
       "        jobWidget.style.position = isLab ? 'sticky' : 'fixed';\n",
       "        jobWidget.style.boxShadow = '5px 5px 5px -3px black';\n",
       "        jobWidget.style.opacity = '0.95';\n",
       "        if (isLab) {\n",
       "            jobWidget.style.top = '0';\n",
       "            jobWidget.style.left = '0';\n",
       "        }\n",
       "        "
      ],
      "text/plain": [
       "<IPython.core.display.Javascript object>"
      ]
     },
     "metadata": {},
     "output_type": "display_data"
    },
    {
     "name": "stdout",
     "output_type": "stream",
     "text": [
      "Job Status: job has successfully run\n",
      "s ideal:  [-1.1102230246251565e-16, -0.9999999999999999, -1.1102230246251565e-16]\n",
      "s simulation:  [0.07104162439534845, -0.7713041588633962, 0.057511908524678246]\n",
      "QPU simulation fidelity:  0.9965257124565674\n",
      "State:  y1 run:  1  Finished.\n"
     ]
    },
    {
     "data": {
      "application/vnd.jupyter.widget-view+json": {
       "model_id": "",
       "version_major": 2,
       "version_minor": 0
      },
      "text/plain": [
       "Accordion(children=(VBox(layout=Layout(max_width='710px', min_width='710px')),), layout=Layout(max_height='500…"
      ]
     },
     "metadata": {},
     "output_type": "display_data"
    },
    {
     "data": {
      "application/javascript": [
       "\n",
       "        const isLab = window['Jupyter'] === undefined;\n",
       "        const notebook = document.querySelector( isLab ? 'div.jp-Notebook' : '#site');\n",
       "        const jobWidget = document.querySelector('div.job_widget');\n",
       "        notebook.prepend(jobWidget);\n",
       "        jobWidget.style.zIndex = '999';\n",
       "        jobWidget.style.position = isLab ? 'sticky' : 'fixed';\n",
       "        jobWidget.style.boxShadow = '5px 5px 5px -3px black';\n",
       "        jobWidget.style.opacity = '0.95';\n",
       "        if (isLab) {\n",
       "            jobWidget.style.top = '0';\n",
       "            jobWidget.style.left = '0';\n",
       "        }\n",
       "        "
      ],
      "text/plain": [
       "<IPython.core.display.Javascript object>"
      ]
     },
     "metadata": {},
     "output_type": "display_data"
    },
    {
     "name": "stdout",
     "output_type": "stream",
     "text": [
      "Job Status: job has successfully run\n",
      "s ideal:  [-1.1102230246251565e-16, -0.9999999999999999, -1.1102230246251565e-16]\n",
      "s simulation:  [0.18944433171529323, -0.805132720890025, -0.09471797024906015]\n",
      "QPU simulation fidelity:  0.983548161503184\n",
      "State:  y1 run:  2  Finished.\n"
     ]
    },
    {
     "data": {
      "application/vnd.jupyter.widget-view+json": {
       "model_id": "",
       "version_major": 2,
       "version_minor": 0
      },
      "text/plain": [
       "Accordion(children=(VBox(layout=Layout(max_width='710px', min_width='710px')),), layout=Layout(max_height='500…"
      ]
     },
     "metadata": {},
     "output_type": "display_data"
    },
    {
     "data": {
      "application/javascript": [
       "\n",
       "        const isLab = window['Jupyter'] === undefined;\n",
       "        const notebook = document.querySelector( isLab ? 'div.jp-Notebook' : '#site');\n",
       "        const jobWidget = document.querySelector('div.job_widget');\n",
       "        notebook.prepend(jobWidget);\n",
       "        jobWidget.style.zIndex = '999';\n",
       "        jobWidget.style.position = isLab ? 'sticky' : 'fixed';\n",
       "        jobWidget.style.boxShadow = '5px 5px 5px -3px black';\n",
       "        jobWidget.style.opacity = '0.95';\n",
       "        if (isLab) {\n",
       "            jobWidget.style.top = '0';\n",
       "            jobWidget.style.left = '0';\n",
       "        }\n",
       "        "
      ],
      "text/plain": [
       "<IPython.core.display.Javascript object>"
      ]
     },
     "metadata": {},
     "output_type": "display_data"
    },
    {
     "name": "stdout",
     "output_type": "stream",
     "text": [
      "Job Status: job has successfully run\n",
      "s ideal:  [-1.1102230246251565e-16, -0.9999999999999999, -1.1102230246251565e-16]\n",
      "s simulation:  [0.128551510807893, -0.7340918160158465, -0.050740449714424596]\n",
      "QPU simulation fidelity:  0.9913679626636143\n",
      "State:  y1 run:  3  Finished.\n"
     ]
    },
    {
     "data": {
      "application/vnd.jupyter.widget-view+json": {
       "model_id": "",
       "version_major": 2,
       "version_minor": 0
      },
      "text/plain": [
       "Accordion(children=(VBox(layout=Layout(max_width='710px', min_width='710px')),), layout=Layout(max_height='500…"
      ]
     },
     "metadata": {},
     "output_type": "display_data"
    },
    {
     "data": {
      "application/javascript": [
       "\n",
       "        const isLab = window['Jupyter'] === undefined;\n",
       "        const notebook = document.querySelector( isLab ? 'div.jp-Notebook' : '#site');\n",
       "        const jobWidget = document.querySelector('div.job_widget');\n",
       "        notebook.prepend(jobWidget);\n",
       "        jobWidget.style.zIndex = '999';\n",
       "        jobWidget.style.position = isLab ? 'sticky' : 'fixed';\n",
       "        jobWidget.style.boxShadow = '5px 5px 5px -3px black';\n",
       "        jobWidget.style.opacity = '0.95';\n",
       "        if (isLab) {\n",
       "            jobWidget.style.top = '0';\n",
       "            jobWidget.style.left = '0';\n",
       "        }\n",
       "        "
      ],
      "text/plain": [
       "<IPython.core.display.Javascript object>"
      ]
     },
     "metadata": {},
     "output_type": "display_data"
    },
    {
     "name": "stdout",
     "output_type": "stream",
     "text": [
      "Job Status: job has successfully run\n",
      "s ideal:  [-1.1102230246251565e-16, -0.9999999999999999, -1.1102230246251565e-16]\n",
      "s simulation:  [0.09472216585933735, -0.6934970084706028, 0.003385729405126936]\n",
      "QPU simulation fidelity:  0.9953945114827473\n",
      "State:  y1 run:  4  Finished.\n"
     ]
    },
    {
     "data": {
      "application/vnd.jupyter.widget-view+json": {
       "model_id": "",
       "version_major": 2,
       "version_minor": 0
      },
      "text/plain": [
       "Accordion(children=(VBox(layout=Layout(max_width='710px', min_width='710px')),), layout=Layout(max_height='500…"
      ]
     },
     "metadata": {},
     "output_type": "display_data"
    },
    {
     "data": {
      "application/javascript": [
       "\n",
       "        const isLab = window['Jupyter'] === undefined;\n",
       "        const notebook = document.querySelector( isLab ? 'div.jp-Notebook' : '#site');\n",
       "        const jobWidget = document.querySelector('div.job_widget');\n",
       "        notebook.prepend(jobWidget);\n",
       "        jobWidget.style.zIndex = '999';\n",
       "        jobWidget.style.position = isLab ? 'sticky' : 'fixed';\n",
       "        jobWidget.style.boxShadow = '5px 5px 5px -3px black';\n",
       "        jobWidget.style.opacity = '0.95';\n",
       "        if (isLab) {\n",
       "            jobWidget.style.top = '0';\n",
       "            jobWidget.style.left = '0';\n",
       "        }\n",
       "        "
      ],
      "text/plain": [
       "<IPython.core.display.Javascript object>"
      ]
     },
     "metadata": {},
     "output_type": "display_data"
    },
    {
     "name": "stdout",
     "output_type": "stream",
     "text": [
      "Job Status: job has successfully run\n",
      "s ideal:  [-1.1102230246251565e-16, -0.9999999999999999, -1.1102230246251565e-16]\n",
      "s simulation:  [0.01691467247765943, -0.7442411093245289, 0.17253003915372522]\n",
      "QPU simulation fidelity:  0.9869638692633925\n",
      "State:  y1 run:  5  Finished.\n"
     ]
    }
   ],
   "source": [
    "## File where the results will be stored\n",
    "file = open(\"NM_data_s_qpu.txt\",\"a\")\n",
    "\n",
    "## IBMQ provider\n",
    "provider=IBMQ.get_provider('ibm-q')\n",
    "\n",
    "angles = [ang_z0,ang_z1,ang_x0,ang_x1,ang_y0,ang_y1]\n",
    "states=['z0','z1','x0','x1','y0','y1']\n",
    "\n",
    "state = 0\n",
    "for a_i in angles:\n",
    "    \n",
    "    for n in range(5):\n",
    "        \n",
    "        p_ideal = ideal_prob(a_i)\n",
    "        p_IBM = IBM_sim_probs(a_i, 1)\n",
    "\n",
    "        s_real = bloch_vector_from_prob(p_ideal)\n",
    "        s_IBM = bloch_vector_from_prob(p_IBM)\n",
    "        \n",
    "        ideal_state = bloch_vector_to_state(s_real)\n",
    "        rec_IBM_state = bloch_vector_to_state(s_IBM)\n",
    "        \n",
    "        fidelity_ibm = quantum_info.state_fidelity(ideal_state,rec_IBM_state)\n",
    "        \n",
    "        file.write(\"%s, %s, %s, %s, %s, %s, %s, %s, %s, %s, %s, %s, %s, %s, %s, %s  \\n\" % \n",
    "                   (states[state], p_ideal[0], p_ideal[1],p_ideal[2], p_ideal[3],  p_IBM[0], p_IBM[1],p_IBM[2], p_IBM[3], s_real[0],s_real[1],s_real[2], s_IBM[0],s_IBM[1],s_IBM[2], fidelity_ibm))\n",
    "        \n",
    "        print('s ideal: ', s_real)\n",
    "        print('s simulation: ', s_IBM)\n",
    "        print('QPU simulation fidelity: ',fidelity_ibm)\n",
    "        \n",
    "        print('State: ', states[state], 'run: ',n+1,' Finished.')\n",
    "    state += 1\n",
    "file.close() "
   ]
  },
  {
   "cell_type": "markdown",
   "id": "informative-aging",
   "metadata": {},
   "source": [
    "As you can see, the estimated states have really good fidelities compared to the Saavedra model when the algorithm is executed un a QPU. However, some of then are not properly normalized, then, we are gooing to use agar the Maximuum Likelihood estimation algorithm (see Rehacek 2007, or Martínez-Cifuentes 2021)."
   ]
  },
  {
   "cell_type": "code",
   "execution_count": 90,
   "id": "latin-genome",
   "metadata": {},
   "outputs": [],
   "source": [
    "## Function for maximun-likeihood estimation\n",
    "def disc_ML_est(mm,freq):\n",
    "    ## mm = measurement matrix\n",
    "    ## freq = probabilities from the experiment\n",
    "    se = np.array([1.0,0.0,0.0,0.0])\n",
    "    nint = 10000\n",
    "    for k in range(1,nint):\n",
    "        pe = np.dot(mm,se)\n",
    "        \n",
    "        re = np.dot(np.transpose(mm),(freq/pe))\n",
    "\n",
    "        ge = re[1]**2 + re[2]**2 + re[3]**2 - re[0]**2 \n",
    "        se[1] = (2*re[1]-se[1]*ge)/(2*re[0]+ge)\n",
    "        se[2] = (2*re[2]-se[2]*ge)/(2*re[0]+ge)\n",
    "        se[3] = (2*re[3]-se[3]*ge)/(2*re[0]+ge)\n",
    "    return se\n",
    "\n",
    "## dataframes for local and qpu simulations respectively\n",
    "df_sim = pd.read_csv('NM_data_s_sim.txt', delimiter = \",\",names=['state','p_00_ideal','p_01_ideal','p_10_ideal','p_11_ideal','p_00_qpu','p_01_qpu','p_10_qpu','p_11_qpu','s1_ideal','s2_ideal','s3_ideal','s1_qpu_le','s2_qpu_le','s3_qpu_le','fidelity_le'])\n",
    "df = pd.read_csv('NM_data_s_qpu.txt', delimiter = \",\",names=['state','p_00_ideal','p_01_ideal','p_10_ideal','p_11_ideal','p_00_qpu','p_01_qpu','p_10_qpu','p_11_qpu','s1_ideal','s2_ideal','s3_ideal','s1_qpu_le','s2_qpu_le','s3_qpu_le','fidelity_le'])"
   ]
  },
  {
   "cell_type": "code",
   "execution_count": 91,
   "id": "light-roman",
   "metadata": {},
   "outputs": [
    {
     "name": "stderr",
     "output_type": "stream",
     "text": [
      "<ipython-input-90-006b9b762584>:13: ComplexWarning: Casting complex values to real discards the imaginary part\n",
      "  se[1] = (2*re[1]-se[1]*ge)/(2*re[0]+ge)\n",
      "<ipython-input-90-006b9b762584>:14: ComplexWarning: Casting complex values to real discards the imaginary part\n",
      "  se[2] = (2*re[2]-se[2]*ge)/(2*re[0]+ge)\n",
      "<ipython-input-90-006b9b762584>:15: ComplexWarning: Casting complex values to real discards the imaginary part\n",
      "  se[3] = (2*re[3]-se[3]*ge)/(2*re[0]+ge)\n"
     ]
    }
   ],
   "source": [
    "## Implementation of maximum-likelihood estimation algorithm\n",
    "def s_from_df_qpu(row,i):\n",
    "    freq = np.array([row['p_00_qpu'],row['p_01_qpu'],row['p_10_qpu'],row['p_11_qpu']])\n",
    "    return disc_ML_est(np.array(T),freq)[i]\n",
    "\n",
    "df['s0_qpu_ml'] = df.apply(lambda x: s_from_df_qpu(x,0),axis=1)\n",
    "df['s1_qpu_ml'] = df.apply(lambda x: s_from_df_qpu(x,1),axis=1)\n",
    "df['s2_qpu_ml'] = df.apply(lambda x: s_from_df_qpu(x,2),axis=1)\n",
    "df['s3_qpu_ml'] = df.apply(lambda x: s_from_df_qpu(x,3),axis=1)\n",
    "\n",
    "\n",
    "df_sim['s0_sim_ml'] = df_sim.apply(lambda x: s_from_df_qpu(x,0),axis=1)\n",
    "df_sim['s1_sim_ml'] = df_sim.apply(lambda x: s_from_df_qpu(x,1),axis=1)\n",
    "df_sim['s2_sim_ml'] = df_sim.apply(lambda x: s_from_df_qpu(x,2),axis=1)\n",
    "df_sim['s3_sim_ml'] = df_sim.apply(lambda x: s_from_df_qpu(x,3),axis=1)\n"
   ]
  },
  {
   "cell_type": "code",
   "execution_count": 92,
   "id": "fluid-acceptance",
   "metadata": {},
   "outputs": [],
   "source": [
    "## Fidelities of the new estimated states\n",
    "def fidelity_qpu_ml(row):\n",
    "    s_ideal = [row['s1_ideal'],row['s2_ideal'],row['s3_ideal']]\n",
    "    s_IBM = [row['s1_qpu_ml'],row['s2_qpu_ml'],row['s3_qpu_ml']]\n",
    "    ideal_state = bloch_vector_to_state(s_ideal)\n",
    "    rec_IBM_state = bloch_vector_to_state(s_IBM)\n",
    "    return quantum_info.state_fidelity(ideal_state,rec_IBM_state)\n",
    "\n",
    "def fidelity_sim_ml(row):\n",
    "    s_ideal = [row['s1_ideal'],row['s2_ideal'],row['s3_ideal']]\n",
    "    s_IBM = [row['s1_sim_ml'],row['s2_sim_ml'],row['s3_sim_ml']]\n",
    "    ideal_state = bloch_vector_to_state(s_ideal)\n",
    "    rec_IBM_state = bloch_vector_to_state(s_IBM)\n",
    "\n",
    "    return quantum_info.state_fidelity(ideal_state,rec_IBM_state)\n",
    "\n",
    "df['fidelity_qpu_ml'] = df.apply(fidelity_qpu_ml, axis=1)\n",
    "df_sim['fidelity_sim_ml'] = df_sim.apply(fidelity_sim_ml, axis=1)\n",
    "\n",
    "grouped_df = df.groupby(['state'],sort=False).mean()\n",
    "grouped_df_sim = df_sim.groupby(['state'],sort=False).mean()"
   ]
  },
  {
   "cell_type": "code",
   "execution_count": 93,
   "id": "placed-replacement",
   "metadata": {},
   "outputs": [
    {
     "data": {
      "text/html": [
       "<div>\n",
       "<style scoped>\n",
       "    .dataframe tbody tr th:only-of-type {\n",
       "        vertical-align: middle;\n",
       "    }\n",
       "\n",
       "    .dataframe tbody tr th {\n",
       "        vertical-align: top;\n",
       "    }\n",
       "\n",
       "    .dataframe thead th {\n",
       "        text-align: right;\n",
       "    }\n",
       "</style>\n",
       "<table border=\"1\" class=\"dataframe\">\n",
       "  <thead>\n",
       "    <tr style=\"text-align: right;\">\n",
       "      <th></th>\n",
       "      <th>s1_ideal</th>\n",
       "      <th>s1_sim_ml</th>\n",
       "      <th>s2_ideal</th>\n",
       "      <th>s2_sim_ml</th>\n",
       "      <th>s3_ideal</th>\n",
       "      <th>s3_sim_ml</th>\n",
       "      <th>fidelity_sim_ml</th>\n",
       "    </tr>\n",
       "    <tr>\n",
       "      <th>state</th>\n",
       "      <th></th>\n",
       "      <th></th>\n",
       "      <th></th>\n",
       "      <th></th>\n",
       "      <th></th>\n",
       "      <th></th>\n",
       "      <th></th>\n",
       "    </tr>\n",
       "  </thead>\n",
       "  <tbody>\n",
       "    <tr>\n",
       "      <th>z0</th>\n",
       "      <td>0.0</td>\n",
       "      <td>0.007</td>\n",
       "      <td>0.0</td>\n",
       "      <td>-0.016</td>\n",
       "      <td>1.0</td>\n",
       "      <td>0.977</td>\n",
       "      <td>0.999</td>\n",
       "    </tr>\n",
       "    <tr>\n",
       "      <th>z1</th>\n",
       "      <td>-0.0</td>\n",
       "      <td>0.009</td>\n",
       "      <td>-0.0</td>\n",
       "      <td>-0.030</td>\n",
       "      <td>-1.0</td>\n",
       "      <td>-0.975</td>\n",
       "      <td>0.999</td>\n",
       "    </tr>\n",
       "    <tr>\n",
       "      <th>x0</th>\n",
       "      <td>1.0</td>\n",
       "      <td>0.945</td>\n",
       "      <td>-0.0</td>\n",
       "      <td>0.020</td>\n",
       "      <td>0.0</td>\n",
       "      <td>0.032</td>\n",
       "      <td>1.000</td>\n",
       "    </tr>\n",
       "    <tr>\n",
       "      <th>x1</th>\n",
       "      <td>-1.0</td>\n",
       "      <td>-0.996</td>\n",
       "      <td>0.0</td>\n",
       "      <td>-0.018</td>\n",
       "      <td>-0.0</td>\n",
       "      <td>0.003</td>\n",
       "      <td>0.999</td>\n",
       "    </tr>\n",
       "    <tr>\n",
       "      <th>y0</th>\n",
       "      <td>0.0</td>\n",
       "      <td>-0.040</td>\n",
       "      <td>1.0</td>\n",
       "      <td>0.994</td>\n",
       "      <td>0.0</td>\n",
       "      <td>-0.047</td>\n",
       "      <td>0.998</td>\n",
       "    </tr>\n",
       "    <tr>\n",
       "      <th>y1</th>\n",
       "      <td>-0.0</td>\n",
       "      <td>-0.003</td>\n",
       "      <td>-1.0</td>\n",
       "      <td>-0.977</td>\n",
       "      <td>-0.0</td>\n",
       "      <td>0.022</td>\n",
       "      <td>0.999</td>\n",
       "    </tr>\n",
       "  </tbody>\n",
       "</table>\n",
       "</div>"
      ],
      "text/plain": [
       "       s1_ideal  s1_sim_ml  s2_ideal  s2_sim_ml  s3_ideal  s3_sim_ml  \\\n",
       "state                                                                  \n",
       "z0          0.0      0.007       0.0     -0.016       1.0      0.977   \n",
       "z1         -0.0      0.009      -0.0     -0.030      -1.0     -0.975   \n",
       "x0          1.0      0.945      -0.0      0.020       0.0      0.032   \n",
       "x1         -1.0     -0.996       0.0     -0.018      -0.0      0.003   \n",
       "y0          0.0     -0.040       1.0      0.994       0.0     -0.047   \n",
       "y1         -0.0     -0.003      -1.0     -0.977      -0.0      0.022   \n",
       "\n",
       "       fidelity_sim_ml  \n",
       "state                   \n",
       "z0               0.999  \n",
       "z1               0.999  \n",
       "x0               1.000  \n",
       "x1               0.999  \n",
       "y0               0.998  \n",
       "y1               0.999  "
      ]
     },
     "execution_count": 93,
     "metadata": {},
     "output_type": "execute_result"
    }
   ],
   "source": [
    "grouped_df_sim = grouped_df_sim.round(3)\n",
    "grouped_df_sim[['s1_ideal','s1_sim_ml','s2_ideal', 's2_sim_ml','s3_ideal', 's3_sim_ml','fidelity_sim_ml']]"
   ]
  },
  {
   "cell_type": "code",
   "execution_count": 94,
   "id": "disturbed-sociology",
   "metadata": {},
   "outputs": [
    {
     "data": {
      "text/html": [
       "<div>\n",
       "<style scoped>\n",
       "    .dataframe tbody tr th:only-of-type {\n",
       "        vertical-align: middle;\n",
       "    }\n",
       "\n",
       "    .dataframe tbody tr th {\n",
       "        vertical-align: top;\n",
       "    }\n",
       "\n",
       "    .dataframe thead th {\n",
       "        text-align: right;\n",
       "    }\n",
       "</style>\n",
       "<table border=\"1\" class=\"dataframe\">\n",
       "  <thead>\n",
       "    <tr style=\"text-align: right;\">\n",
       "      <th></th>\n",
       "      <th>s1_ideal</th>\n",
       "      <th>s1_qpu_ml</th>\n",
       "      <th>s2_ideal</th>\n",
       "      <th>s2_qpu_ml</th>\n",
       "      <th>s3_ideal</th>\n",
       "      <th>s3_qpu_ml</th>\n",
       "      <th>fidelity_qpu_ml</th>\n",
       "    </tr>\n",
       "    <tr>\n",
       "      <th>state</th>\n",
       "      <th></th>\n",
       "      <th></th>\n",
       "      <th></th>\n",
       "      <th></th>\n",
       "      <th></th>\n",
       "      <th></th>\n",
       "      <th></th>\n",
       "    </tr>\n",
       "  </thead>\n",
       "  <tbody>\n",
       "    <tr>\n",
       "      <th>z0</th>\n",
       "      <td>0.0</td>\n",
       "      <td>0.122</td>\n",
       "      <td>0.0</td>\n",
       "      <td>0.046</td>\n",
       "      <td>1.0</td>\n",
       "      <td>0.964</td>\n",
       "      <td>0.995</td>\n",
       "    </tr>\n",
       "    <tr>\n",
       "      <th>z1</th>\n",
       "      <td>-0.0</td>\n",
       "      <td>-0.136</td>\n",
       "      <td>-0.0</td>\n",
       "      <td>0.009</td>\n",
       "      <td>-1.0</td>\n",
       "      <td>-0.808</td>\n",
       "      <td>0.992</td>\n",
       "    </tr>\n",
       "    <tr>\n",
       "      <th>x0</th>\n",
       "      <td>1.0</td>\n",
       "      <td>0.928</td>\n",
       "      <td>-0.0</td>\n",
       "      <td>0.145</td>\n",
       "      <td>0.0</td>\n",
       "      <td>0.041</td>\n",
       "      <td>0.992</td>\n",
       "    </tr>\n",
       "    <tr>\n",
       "      <th>x1</th>\n",
       "      <td>-1.0</td>\n",
       "      <td>-0.888</td>\n",
       "      <td>0.0</td>\n",
       "      <td>-0.099</td>\n",
       "      <td>-0.0</td>\n",
       "      <td>0.146</td>\n",
       "      <td>0.990</td>\n",
       "    </tr>\n",
       "    <tr>\n",
       "      <th>y0</th>\n",
       "      <td>0.0</td>\n",
       "      <td>-0.005</td>\n",
       "      <td>1.0</td>\n",
       "      <td>0.867</td>\n",
       "      <td>0.0</td>\n",
       "      <td>0.145</td>\n",
       "      <td>0.991</td>\n",
       "    </tr>\n",
       "    <tr>\n",
       "      <th>y1</th>\n",
       "      <td>-0.0</td>\n",
       "      <td>0.100</td>\n",
       "      <td>-1.0</td>\n",
       "      <td>-0.750</td>\n",
       "      <td>-0.0</td>\n",
       "      <td>0.018</td>\n",
       "      <td>0.991</td>\n",
       "    </tr>\n",
       "  </tbody>\n",
       "</table>\n",
       "</div>"
      ],
      "text/plain": [
       "       s1_ideal  s1_qpu_ml  s2_ideal  s2_qpu_ml  s3_ideal  s3_qpu_ml  \\\n",
       "state                                                                  \n",
       "z0          0.0      0.122       0.0      0.046       1.0      0.964   \n",
       "z1         -0.0     -0.136      -0.0      0.009      -1.0     -0.808   \n",
       "x0          1.0      0.928      -0.0      0.145       0.0      0.041   \n",
       "x1         -1.0     -0.888       0.0     -0.099      -0.0      0.146   \n",
       "y0          0.0     -0.005       1.0      0.867       0.0      0.145   \n",
       "y1         -0.0      0.100      -1.0     -0.750      -0.0      0.018   \n",
       "\n",
       "       fidelity_qpu_ml  \n",
       "state                   \n",
       "z0               0.995  \n",
       "z1               0.992  \n",
       "x0               0.992  \n",
       "x1               0.990  \n",
       "y0               0.991  \n",
       "y1               0.991  "
      ]
     },
     "execution_count": 94,
     "metadata": {},
     "output_type": "execute_result"
    }
   ],
   "source": [
    "grouped_df = grouped_df.round(3)\n",
    "grouped_df[['s1_ideal','s1_qpu_ml','s2_ideal', 's2_qpu_ml','s3_ideal', 's3_qpu_ml','fidelity_qpu_ml']]"
   ]
  },
  {
   "cell_type": "code",
   "execution_count": 95,
   "id": "looking-centre",
   "metadata": {},
   "outputs": [],
   "source": [
    "## qttf error from data\n",
    "def qttf_s(df):\n",
    "    \n",
    "    df_mean = df.groupby(['state'],sort=False).mean()\n",
    "    \n",
    "    v_x = []\n",
    "    v_y = []\n",
    "    v_z = []\n",
    "    for i in range(6):\n",
    "        p_00 = df_mean['p_00_qpu'][i]\n",
    "        p_01 = df_mean['p_01_qpu'][i]\n",
    "        p_10 = df_mean['p_10_qpu'][i]\n",
    "        p_11 = df_mean['p_11_qpu'][i]\n",
    "        \n",
    "        if 's1_qpu_ml' in df_mean:\n",
    "            se_x = df_mean['s1_qpu_ml'][i]\n",
    "            se_y = df_mean['s2_qpu_ml'][i]\n",
    "            se_z = df_mean['s3_qpu_ml'][i]\n",
    "        else: \n",
    "            se_x = df_mean['s1_sim_ml'][i]\n",
    "            se_y = df_mean['s2_sim_ml'][i]\n",
    "            se_z = df_mean['s3_sim_ml'][i]\n",
    " \n",
    "        \n",
    "        s_t00,s_x00,s_y00,s_z00 = np.array(np.matmul(np.linalg.inv(T),[1,0,0,0]))\n",
    "        s_t01,s_x01,s_y01,s_z01 = np.array(np.matmul(np.linalg.inv(T),[0,1,0,0]))\n",
    "        s_t10,s_x10,s_y10,s_z10 = np.array(np.matmul(np.linalg.inv(T),[0,0,1,0]))\n",
    "        s_t11,s_x11,s_y11,s_z11 = np.array(np.matmul(np.linalg.inv(T),[0,0,0,1]))\n",
    "        \n",
    "        ## Covariance matrix diagonal elements\n",
    "        v_x.append((p_00*(s_x00-se_x)*(s_x00-se_x)) + (p_01*(s_x01-se_x)*(s_x01-se_x))\n",
    "                  +(p_10*(s_x10-se_x)*(s_x10-se_x)) + (p_11*(s_x11-se_x)*(s_x11-se_x)))\n",
    "        \n",
    "        v_y.append((p_00*(s_y00-se_y)*(s_y00-se_y)) + (p_01*(s_y01-se_y)*(s_y01-se_y))\n",
    "                  +(p_10*(s_y10-se_y)*(s_y10-se_y)) + (p_11*(s_y11-se_y)*(s_y11-se_y)))\n",
    "        \n",
    "        v_z.append((p_00*(s_z00-se_z)*(s_z00-se_z)) + (p_01*(s_z01-se_z)*(s_z01-se_z))\n",
    "                  +(p_10*(s_z10-se_z)*(s_z10-se_z)) + (p_11*(s_z11-se_z)*(s_z11-se_z)))\n",
    "                   \n",
    "    \n",
    "    v_x=np.array(v_x)\n",
    "    v_y=np.array(v_y)\n",
    "    v_z=np.array(v_z)\n",
    "    \n",
    "    print('var_x: ', v_x.mean())\n",
    "    print('var_y: ', v_y.mean())\n",
    "    print('var_z: ', v_z.mean())\n",
    "    \n",
    "    print('QTTF error: ', v_x.mean() + v_y.mean() + v_z.mean())\n",
    "    return None"
   ]
  },
  {
   "cell_type": "code",
   "execution_count": 96,
   "id": "apparent-radical",
   "metadata": {},
   "outputs": [
    {
     "name": "stdout",
     "output_type": "stream",
     "text": [
      "var_x:  (2.717936367864316-2.4618682581016027e-17j)\n",
      "var_y:  (2.7753708006478703-2.628306208473498e-21j)\n",
      "var_z:  (2.7214611499960757+6.226973219634336e-35j)\n",
      "QTTF error:  (8.214768318508263-2.46213108872245e-17j)\n"
     ]
    }
   ],
   "source": [
    "qttf_s(df)"
   ]
  },
  {
   "cell_type": "code",
   "execution_count": 97,
   "id": "minus-turning",
   "metadata": {},
   "outputs": [
    {
     "name": "stdout",
     "output_type": "stream",
     "text": [
      "var_x:  (2.6791530583568197-6.658403986890703e-19j)\n",
      "var_y:  (2.6541749667783883-2.523849341309649e-21j)\n",
      "var_z:  (2.6692080132443103-1.108690846632567e-34j)\n",
      "QTTF error:  (8.002536038379517-6.683642480303801e-19j)\n"
     ]
    }
   ],
   "source": [
    "qttf_s(df_sim)"
   ]
  },
  {
   "cell_type": "markdown",
   "id": "binding-willow",
   "metadata": {},
   "source": [
    "As we were expecting, the QTTF error in the `qasm_simulator` is lower respect to the one in the `ibmq_lima` QPU. The error in the local simulation rounds near de mean value of $\\bar{\\Delta}_{sim} \\approx 8$ while the QTTF error for the simulation in a QPU is around $\\bar{\\Delta}_{QPU} \\approx8.2$. The algorithm works for doing qubit state estimation even when it is performed in a quantum computer with fidelities higher in average than 99\\%. Moreover, the algorithm QTTF error is lower compared to the Saavedra model that we have already implemented."
   ]
  },
  {
   "cell_type": "markdown",
   "id": "large-american",
   "metadata": {},
   "source": [
    "### Some references\n",
    "\n",
    "* Daniel Saavedra and K. M. Fonseca-Romero, **Complete and incomplete state estimation via the simultaneous unsharp measurement of two incompatible qubit operators**, Phys. Rev. A 99, 042130, 2019.\n",
    "* Javier Martínez-Cifuentes and K. M. Fonseca-Romero, **Spin-state estimation using the Stern-Gerlach experiment**, Phys. Rev. A 103, 042202, 2021.\n",
    "* Yong Siah Teo. **Introduction to Quantum-State Estimation**. WORLD SCIENTIFIC, 2015.\n",
    "* Jaroslav Rehacek, Zdenek Hradil, E. Knill, and A. I. Lvovsky. **Diluted maximum-likelihood algorithm for quantum tomography**. Phys. Rev. A, 75:042108, 2007."
   ]
  }
 ],
 "metadata": {
  "kernelspec": {
   "display_name": "Python 3",
   "language": "python",
   "name": "python3"
  },
  "language_info": {
   "codemirror_mode": {
    "name": "ipython",
    "version": 3
   },
   "file_extension": ".py",
   "mimetype": "text/x-python",
   "name": "python",
   "nbconvert_exporter": "python",
   "pygments_lexer": "ipython3",
   "version": "3.8.10"
  }
 },
 "nbformat": 4,
 "nbformat_minor": 5
}
